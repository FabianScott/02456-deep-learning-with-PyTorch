{
 "cells": [
  {
   "cell_type": "markdown",
   "metadata": {
    "id": "IWy7prGN2szz"
   },
   "source": [
    "# Solve cartpole with REINFORCE\n",
    "\n",
    "> By Jonas Busk ([jbusk@dtu.dk](mailto:jbusk@dtu.dk))\n",
    "\n",
    "**2019 update:** Changes have been made to the display of environments due to the previous `viewer` being incompatible with newer versions of Gym.\n",
    "\n",
    "**2022 update:** Rendering was disabled, and the notebook now uses the `colabgymrender` package to render a video.\n",
    "\n",
    "In this part, we will create an agent that can learn to solve the [cartpole problem](https://gym.openai.com/envs/CartPole-v0/) from OpenAI Gym by applying a simple policy gradient method called REINFORCE.\n",
    "In the cartpole problem, we need to balance a pole on a cart that moves along a track by applying left and right forces to the cart.\n",
    "\n",
    "We will implement a probabilistic policy, that given a state of the environment, $s$, outputs a probability distribution over available actions, $a$:\n",
    "\n",
    "$$\n",
    "p_\\theta(a|s)\n",
    "$$\n",
    "\n",
    "The policy is a neural network with parameters $\\theta$ that can be trained with gradient descent.\n",
    "When the set of available actions is discrete, we can use a network with softmax output do describe the distribution.\n",
    "The core idea of training the policy network is quite simple: *we want to maximize the expected total reward by increasing the probability of good actions and decreasing the probability of bad actions*. \n",
    "\n",
    "To achieve this, we apply the gradient of the expected discounted total reward (return):\n",
    "\n",
    "$$\n",
    "\\begin{align}\n",
    "\\nabla_\\theta \\mathbb{E}[R|\\theta] &= \\nabla_\\theta \\int p_\\theta(a|s) R({a}) \\, da \\\\\n",
    "&= \\int \\nabla_\\theta p_\\theta(a|s) R(a)  \\, da \\\\\n",
    "&= \\int p_\\theta(a|s) \\nabla_\\theta \\log p_\\theta(a|s) R(a) \\, da \\\\\n",
    "&= \\mathbb{E}[\\nabla_\\theta \\log p_\\theta(a|s) R(a)]\n",
    "\\end{align}\n",
    "$$\n",
    "\n",
    "by definition of expectation and using the identity \n",
    "\n",
    "$$\n",
    "\\nabla_\\theta p_\\theta(a|s) = p_\\theta(a|s) \\nabla_\\theta \\log p_\\theta(a|s) \\ .\n",
    "$$\n",
    "\n",
    "The expectation cannot be evaluated analytically, but we have an environment simulator that when supplied with our current policy $p_\\theta(a|s)$ can return a sequence of *actions*, *states* and *rewards*. This allows us to replace the integral with a Monte Carlo average:\n",
    "\n",
    "$$\n",
    "\\nabla_\\theta \\mathbb{E}[R|\\theta] \\approx \\frac{1}{T} \\sum_{t=0}^T \\nabla_\\theta \\log p_\\theta(a_t|s_t) R_t \\ ,\n",
    "$$\n",
    "\n",
    "which is our final gradient estimator, also known as REINFORCE. In the Monte Carlo estimator we run the environment simulator for a predefined number of steps with actions chosen stochastically according to the current stochastic action network $p_\\theta(a|s)$."
   ]
  },
  {
   "cell_type": "markdown",
   "metadata": {
    "id": "irztTYN82sz3"
   },
   "source": [
    "*Note: For simple reinforcement learning problems (like the one we will address in this exercise) there are simpler methods that work just fine. However, the Policy Gradient method (with some extensions) has been shown to also work well for complex problems with high dimensional inputs and many parameters, where simple methods become inadequate.*"
   ]
  },
  {
   "cell_type": "markdown",
   "metadata": {
    "id": "AMAe5Yg_2sz4"
   },
   "source": [
    "## Policy gradient"
   ]
  },
  {
   "cell_type": "code",
   "execution_count": 53,
   "metadata": {
    "id": "wyxFQenM2zIa"
   },
   "outputs": [
    {
     "name": "stderr",
     "output_type": "stream",
     "text": [
      "The system cannot find the path specified.\n",
      "The system cannot find the path specified.\n",
      "The system cannot find the path specified.\n",
      "The system cannot find the path specified.\n"
     ]
    }
   ],
   "source": [
    "# Install colabgymrender to display gym environments in Colab\n",
    "!pip install gym[classic_control] > /dev/null 2>&1\n",
    "!apt-get install -y xvfb python-opengl ffmpeg > /dev/null 2>&1\n",
    "!pip install colabgymrender > /dev/null 2>&1\n",
    "!pip install imageio==2.4.1 > /dev/null 2>&1"
   ]
  },
  {
   "cell_type": "code",
   "execution_count": 54,
   "metadata": {
    "id": "FMWbaH112sz4"
   },
   "outputs": [],
   "source": [
    "%matplotlib inline\n",
    "import matplotlib.pyplot as plt\n",
    "import numpy as np\n",
    "import torch\n",
    "import torch.nn as nn\n",
    "import torch.optim as optim\n",
    "import torch.nn.functional as F\n",
    "import gym\n",
    "from gym import wrappers\n",
    "# from colabgymrender.recorder import Recorder"
   ]
  },
  {
   "cell_type": "markdown",
   "metadata": {
    "id": "Mz4PCIhG2sz5"
   },
   "source": [
    "First we create the environment:"
   ]
  },
  {
   "cell_type": "code",
   "execution_count": 55,
   "metadata": {
    "id": "uYHIc0nj2sz6"
   },
   "outputs": [],
   "source": [
    "env = gym.make('CartPole-v0') # Create environment"
   ]
  },
  {
   "cell_type": "markdown",
   "metadata": {
    "id": "j8Yb5-mS2sz6"
   },
   "source": [
    "A state in this environment is four numbers describing the position and speed of the cart along with the angle and angular speed of the pole.\n",
    "\n",
    "There are two available actions: push the cart *left* or *right* encoded as 0 and 1."
   ]
  },
  {
   "cell_type": "code",
   "execution_count": 56,
   "metadata": {
    "id": "EZWKLzt_2sz7"
   },
   "outputs": [
    {
     "ename": "TypeError",
     "evalue": "'tuple' object is not callable",
     "output_type": "error",
     "traceback": [
      "\u001B[1;31m---------------------------------------------------------------------------\u001B[0m",
      "\u001B[1;31mTypeError\u001B[0m                                 Traceback (most recent call last)",
      "Cell \u001B[1;32mIn[56], line 1\u001B[0m\n\u001B[1;32m----> 1\u001B[0m s, _ \u001B[38;5;241m=\u001B[39m \u001B[43menv\u001B[49m\u001B[38;5;241;43m.\u001B[39;49m\u001B[43mreset\u001B[49m\u001B[43m(\u001B[49m\u001B[43m)\u001B[49m\u001B[43m(\u001B[49m\u001B[43m)\u001B[49m\n\u001B[0;32m      2\u001B[0m a \u001B[38;5;241m=\u001B[39m env\u001B[38;5;241m.\u001B[39maction_space\u001B[38;5;241m.\u001B[39msample()\n\u001B[0;32m      3\u001B[0m \u001B[38;5;28mprint\u001B[39m(\u001B[38;5;124m'\u001B[39m\u001B[38;5;124msample state:\u001B[39m\u001B[38;5;124m'\u001B[39m, s)\n",
      "\u001B[1;31mTypeError\u001B[0m: 'tuple' object is not callable"
     ]
    }
   ],
   "source": [
    "s, _ = env.reset()()\n",
    "a = env.action_space.sample()\n",
    "print('sample state:', s)\n",
    "print('sample action:', a )"
   ]
  },
  {
   "cell_type": "markdown",
   "metadata": {
    "id": "fPd8OvGO2sz8"
   },
   "source": [
    "Let us see how the environment looks when we just take random actions. Note that the episode ends when the pole either 1) is more than 15 degrees from vertical, 2) more outside of the frame or 3) the pole is successfully balanced for some fixed duration."
   ]
  },
  {
   "cell_type": "code",
   "execution_count": null,
   "metadata": {
    "id": "kWRlBLeU2sz9"
   },
   "outputs": [],
   "source": [
    "import pygame\n",
    "env = gym.make('CartPole-v0', render_mode='human') # Create environment\n",
    "# env = Recorder(env, \"./video\") # To display environment in Colab\n",
    "env.reset() # Reset environment\n",
    "\n",
    "# Run environment\n",
    "while True:\n",
    "    action = env.action_space.sample() # Get a random action\n",
    "    _, _, done, _, _ = env.step(action) # Take a step\n",
    "    if done: break # Break if environment is done\n",
    "\n",
    "env.close() # Close environment\n",
    "# env.play()"
   ]
  },
  {
   "cell_type": "markdown",
   "metadata": {
    "id": "iqrRget72sz9"
   },
   "source": [
    "Taking random actions does not do a very good job at balancing the pole. Let us now apply the Policy Gradient method described above to solve this task!\n",
    "\n",
    "Let's first define our network and helper functions."
   ]
  },
  {
   "cell_type": "code",
   "execution_count": null,
   "metadata": {
    "id": "wvTfsDke2sz-"
   },
   "outputs": [],
   "source": [
    "class PolicyNet(nn.Module):\n",
    "    \"\"\"Policy network\"\"\"\n",
    "\n",
    "    def __init__(self, n_inputs, n_hidden, n_outputs, learning_rate):\n",
    "        super(PolicyNet, self).__init__()\n",
    "        # network\n",
    "        self.hidden = nn.Linear(n_inputs, n_hidden)\n",
    "        self.out = nn.Linear(n_hidden, n_outputs)\n",
    "        # training\n",
    "        self.optimizer = optim.Adam(self.parameters(), lr=learning_rate)\n",
    "\n",
    "    def forward(self, x):\n",
    "        x = self.hidden(x)\n",
    "        x = F.relu(x)\n",
    "        x = self.out(x)\n",
    "        return F.softmax(x, dim=1)\n",
    "    \n",
    "    def loss(self, action_probabilities, returns):\n",
    "        return -torch.mean(torch.mul(torch.log(action_probabilities), returns))"
   ]
  },
  {
   "cell_type": "code",
   "execution_count": null,
   "metadata": {
    "id": "QlTn_jfz2sz-"
   },
   "outputs": [],
   "source": [
    "def compute_returns(rewards, discount_factor):\n",
    "    \"\"\"Compute discounted returns.\"\"\"\n",
    "    returns = np.zeros(len(rewards))\n",
    "    returns[-1] = rewards[-1]\n",
    "    for t in reversed(range(len(rewards)-1)):\n",
    "        returns[t] = rewards[t] + discount_factor * returns[t+1]\n",
    "    return returns"
   ]
  },
  {
   "cell_type": "markdown",
   "metadata": {
    "id": "N7zKfnfP2sz-"
   },
   "source": [
    "To start with, our policy will be a rather simple neural network with one hidden layer. We can retrieve the shape of the state space (input) and action space (output) from the environment."
   ]
  },
  {
   "cell_type": "code",
   "execution_count": null,
   "metadata": {
    "id": "mYst7A5k2sz_"
   },
   "outputs": [],
   "source": [
    "n_inputs = env.observation_space.shape[0]\n",
    "n_hidden = 20\n",
    "n_outputs = env.action_space.n\n",
    "\n",
    "print('state shape:', n_inputs)\n",
    "print('action shape:', n_outputs)"
   ]
  },
  {
   "cell_type": "code",
   "execution_count": null,
   "metadata": {
    "id": "tw6q53qL2sz_"
   },
   "outputs": [
    {
     "name": "stdout",
     "output_type": "stream",
     "text": [
      "1000. mean training reward:  16.04, mean validation reward:   9.50, mean loss:  3.2094\n",
      "1500. mean training reward:  17.14, mean validation reward:  13.80, mean loss:  3.3090\n",
      "2000. mean training reward:  14.92, mean validation reward:  12.50, mean loss:  3.0130\n",
      "2500. mean training reward:  15.97, mean validation reward:  15.70, mean loss:  3.1092\n",
      "3000. mean training reward:  19.50, mean validation reward:  18.80, mean loss:  3.4695\n",
      "3500. mean training reward:  23.05, mean validation reward:  24.30, mean loss:  3.6489\n",
      "4000. mean training reward:  21.91, mean validation reward:  20.30, mean loss:  3.4992\n",
      "4500. mean training reward:  20.95, mean validation reward:  21.90, mean loss:  3.3988\n",
      "5000. mean training reward:  23.67, mean validation reward:  24.20, mean loss:  3.5344\n",
      "5500. mean training reward:  29.52, mean validation reward:  38.00, mean loss:  3.8617\n",
      "6000. mean training reward:  25.24, mean validation reward:  26.30, mean loss:  3.4786\n",
      "6500. mean training reward:  27.20, mean validation reward:  38.40, mean loss:  3.6383\n",
      "7000. mean training reward:  30.80, mean validation reward:  46.50, mean loss:  3.7829\n",
      "7500. mean training reward:  33.32, mean validation reward:  57.50, mean loss:  3.7550\n",
      "8000. mean training reward:  26.06, mean validation reward:  55.70, mean loss:  3.0835\n",
      "done\n"
     ]
    }
   ],
   "source": [
    "# training settings\n",
    "\n",
    "num_episodes = 8000\n",
    "rollout_limit = 500 # max rollout length\n",
    "discount_factor = .9 # reward discount factor (gamma), 1.0 = no discount\n",
    "learning_rate = 0.001 # you know this by now\n",
    "val_freq = 500 # validation frequency\n",
    "\n",
    "# setup policy network\n",
    "\n",
    "policy = PolicyNet(n_inputs, n_hidden, n_outputs, learning_rate)\n",
    "\n",
    "# train policy network\n",
    "\n",
    "try:\n",
    "    training_rewards, losses = [], []\n",
    "    print('start training')\n",
    "    for i in range(num_episodes):\n",
    "        rollout = []\n",
    "        s, _ = env.reset()\n",
    "        for j in range(rollout_limit):\n",
    "            # generate rollout by iteratively evaluating the current policy on the environment\n",
    "            with torch.no_grad():\n",
    "                a_prob = policy(torch.from_numpy(np.atleast_2d(s)).float())\n",
    "                a = torch.multinomial(a_prob, num_samples=1).squeeze().numpy()\n",
    "            s1, r, done, _, _ = env.step(a)\n",
    "            rollout.append(list(s) + [a] + [r])\n",
    "            s = s1\n",
    "            if done: break\n",
    "        # prepare batch\n",
    "        rollout = np.array(rollout)\n",
    "        states = np.vstack(rollout[:,:4])\n",
    "        actions = np.array(np.vstack(rollout[:,4]), dtype=np.int64)\n",
    "        rewards = np.array(rollout[:,5], dtype=float)\n",
    "        returns = compute_returns(rewards, discount_factor)\n",
    "        # policy gradient update\n",
    "        policy.optimizer.zero_grad()\n",
    "        a_probs = policy(torch.from_numpy(states).float()).gather(1, torch.from_numpy(actions)).view(-1)\n",
    "        loss = policy.loss(a_probs, torch.from_numpy(returns).float())\n",
    "        loss.backward()\n",
    "        policy.optimizer.step()\n",
    "        # bookkeeping\n",
    "        training_rewards.append(sum(rewards))\n",
    "        losses.append(loss.item())\n",
    "        # print\n",
    "        if (i+1) % val_freq == 0:\n",
    "            # validation\n",
    "            validation_rewards = []\n",
    "            for _ in range(10):\n",
    "                s, _ = env.reset()\n",
    "                reward = 0\n",
    "                for _ in range(rollout_limit):\n",
    "                    with torch.no_grad():\n",
    "                        a_prob = policy(torch.from_numpy(np.atleast_2d(s)).float())\n",
    "                        a = a_prob.argmax().item()\n",
    "                    s, r, done, _, _ = env.step(a)\n",
    "                    reward += r\n",
    "                    if done: break\n",
    "                validation_rewards.append(reward)\n",
    "            print('{:4d}. mean training reward: {:6.2f}, mean validation reward: {:6.2f}, mean loss: {:7.4f}'.format(i+1, np.mean(training_rewards[-val_freq:]), np.mean(validation_rewards), np.mean(losses[-val_freq:])))\n",
    "    print('done')\n",
    "except KeyboardInterrupt:\n",
    "    print('interrupt')    "
   ]
  },
  {
   "cell_type": "code",
   "execution_count": null,
   "metadata": {
    "id": "gRB76WVf2sz_"
   },
   "outputs": [],
   "source": [
    "# plot results\n",
    "def moving_average(a, n=10) :\n",
    "    ret = np.cumsum(a, dtype=float)\n",
    "    ret[n:] = ret[n:] - ret[:-n]\n",
    "    return ret / n\n",
    "\n",
    "plt.figure(figsize=(16,6))\n",
    "plt.subplot(211)\n",
    "plt.plot(range(1, len(training_rewards)+1), training_rewards, label='training reward')\n",
    "plt.plot(moving_average(training_rewards))\n",
    "plt.xlabel('episode'); plt.ylabel('reward')\n",
    "plt.xlim((0, len(training_rewards)))\n",
    "plt.legend(loc=4); plt.grid()\n",
    "plt.subplot(212)\n",
    "plt.plot(range(1, len(losses)+1), losses, label='loss')\n",
    "plt.plot(moving_average(losses))\n",
    "plt.xlabel('episode'); plt.ylabel('loss')\n",
    "plt.xlim((0, len(losses)))\n",
    "plt.legend(loc=4); plt.grid()\n",
    "plt.tight_layout(); plt.show()"
   ]
  },
  {
   "cell_type": "markdown",
   "metadata": {
    "id": "pzDNgqUt2sz_"
   },
   "source": [
    "Now let's review the solution!"
   ]
  },
  {
   "cell_type": "code",
   "execution_count": null,
   "metadata": {
    "id": "aQn788ll2s0A"
   },
   "outputs": [],
   "source": [
    "# env = Recorder(env, \"./gym-results\") # wrappers.Monitor(env, \"./gym-results\", force=True) # Create wrapper to display environment\n",
    "s, _ = env.reset()\n",
    "env.render()\n",
    "\n",
    "for _ in range(500):\n",
    "    a = policy(torch.from_numpy(np.atleast_2d(s)).float()).argmax().item()\n",
    "    s, r, done, _, _ = env.step(a)\n",
    "    if done: break\n",
    "    \n",
    "# env.close()"
   ]
  },
  {
   "cell_type": "markdown",
   "metadata": {
    "id": "rv6QJUYS2s0A"
   },
   "source": [
    "## Reducing variance\n",
    "\n",
    "By default, this gradient estimator has high variance and therefore variance reduction becomes important to learn more complex tasks.\n",
    "We can reduce variance by subtracting a baseline from the returns, which is unbiased in expectation:\n",
    "\n",
    "$$\n",
    "\\nabla_\\theta \\mathbb{E}[R|\\theta] \\approx \\frac{1}{T} \\sum_{t=0}^T \\nabla_\\theta \\log p_\\theta(a_t|s_t) (R_t-b_t) \\ ,\n",
    "$$\n",
    "\n",
    "where the baseline, $b_t$, is estimated by the return a timestep $t$ averaged over $V$ rollouts.\n",
    "\n",
    "$$\n",
    "b_t = \\frac{1}{V} \\sum_{v=1}^V R_t^{(v)} \\ .\n",
    "$$"
   ]
  },
  {
   "cell_type": "markdown",
   "metadata": {
    "id": "MI55gTO-2s0A"
   },
   "source": [
    "## Exercises\n",
    "\n",
    "Now it is your turn! Make sure you read and understand the code, then play around with it and try to make it learn better and faster.\n",
    "\n",
    "Experiment with the:\n",
    "\n",
    "* number of episodes\n",
    "* discount factor\n",
    "* learning rate\n",
    "* network layers\n",
    "\n",
    "\n",
    "### Exercise 1 \n",
    "\n",
    "*Describe any changes you made to the code and why you think they improve the agent. Are you able to get solutions consistently?*\n",
    "\n",
    "**Answer:**\n",
    "\n",
    "*Answer here...*\n",
    "\n",
    "### Exercise 2 \n",
    "\n",
    "*Consider the following sequence of rewards produced by an agent interacting with an environment for 10 timesteps:*\n",
    "\n",
    "[0, 1, 1, 1, 0, 1, 1, 0, 0, 0]\n",
    "\n",
    "* *What is the total reward?*\n",
    "* *What is the total future reward in each timestep?*\n",
    "* *What is the discounted future reward in each timestep if $\\gamma = 0.9$?*\n",
    "\n",
    "*Hint: See introdution notebook.*\n",
    "\n",
    "**Answer:**\n",
    "\n",
    "Total Reward = $(γ^0 * 0) + (γ^1 * 1) + (γ^2 * 1) + (γ^3 * 1) + (γ^4 * 0) + (γ^5 * 1) + (γ^6 * 1) + (γ^7 * 0) + (γ^8 * 0) + (γ^9 * 0)$\n",
    "Future reward per timestep:\n",
    "    Timestep 0: 0 + 1 + 1 + 1 + 0 + 1 + 1 + 0 + 0 + 0 = 5\n",
    "    Timestep 1: 1 + 1 + 1 + 0 + 1 + 1 + 0 + 0 + 0 = 5\n",
    "    Timestep 2: 1 + 1 + 0 + 1 + 1 + 0 + 0 + 0 = 4\n",
    "    Timestep 3: 1 + 0 + 1 + 1 + 0 + 0 + 0 = 3\n",
    "    Timestep 4: 0 + 1 + 1 + 0 + 0 + 0 = 2\n",
    "    Timestep 5: 1 + 1 + 0 + 0 + 0 = 2\n",
    "    Timestep 6: 1 + 0 + 0 + 0 = 1\n",
    "    Timestep 7: 0 + 0 + 0 = 0\n",
    "    Timestep 8: 0 + 0 = 0\n",
    "    Timestep 9: 0\n",
    "Future with discount:\n",
    "    Timestep 0: 1.9\n",
    "    Timestep 1: 1.621\n",
    "    Timestep 2: 1.369\n",
    "    Timestep 3: 1.21\n",
    "    Timestep 4: 1.09\n",
    "    Timestep 5: 0.99\n",
    "    Timestep 6: 0.9\n",
    "    0 from then on\n",
    "\n",
    "### Exercise 3\n",
    "\n",
    "*In the training output, you will sometimes observe the validation reward starts out lower than the training reward but as training progresses they cross over and the validation reward becomes higher than the training reward. How can you explain this behavior?*\n",
    "\n",
    "*Hint: Do we use the policy network in the same way during training and validation?*\n",
    "\n",
    "**Answer:**\n",
    "\n",
    "*We sample from the distribution of actions based on the Policy network's output in the training, while taking the argmax in the validation*\n",
    "\n",
    "### Exercise 4\n",
    "\n",
    "*How does the policy gradient method we have used address the exploration-exploitation dilemma?*\n",
    "\n",
    "*Hint: See the introduction notebook about exploration-exploitation.*\n",
    "\n",
    "**Answer:**\n",
    "\n",
    "*By sampling from the outputs of the network for the available actions we ensure some level of exploration, but also exploit the network if it is very sure about a decision*\n",
    "\n",
    "### Exercise 5 [optional]\n",
    "\n",
    "Extend the code above to reduce variance of the gradient estimator by computing and subtracting the baseline estimate. \n",
    "\n",
    "*Hint: You need to sample a batch of rollouts (now we sample just one) for each update in order to compute the baseline, $b_t$.*"
   ]
  }
 ],
 "metadata": {
  "kernelspec": {
   "display_name": "Python 3 (ipykernel)",
   "language": "python",
   "name": "python3"
  },
  "language_info": {
   "codemirror_mode": {
    "name": "ipython",
    "version": 3
   },
   "file_extension": ".py",
   "mimetype": "text/x-python",
   "name": "python",
   "nbconvert_exporter": "python",
   "pygments_lexer": "ipython3",
   "version": "3.10.6"
  }
 },
 "nbformat": 4,
 "nbformat_minor": 1
}
