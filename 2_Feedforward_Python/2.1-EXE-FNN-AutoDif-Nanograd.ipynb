{
 "cells": [
  {
   "cell_type": "markdown",
   "metadata": {
    "id": "HAva8TnYFtFu"
   },
   "source": [
    "# Contents and why we need this lab\n",
    "\n",
    "This lab is about implementing neural networks yourself before we start using other frameworks that hide some of the computation from you. It builds on the first lab, where you derived the equations for neural network forward and backward propagation and gradient descent parameter updates. \n",
    "\n",
    "All the frameworks for deep learning you will meet from now on use automatic differentiation (autodiff), so you do not have to code the backward step yourself. In this version of this lab, you will develop your own autodif implementation. We also have an optional [version](https://github.com/DeepLearningDTU/02456-deep-learning-with-PyTorch/blob/master/2_Feedforward_Python/2.2-FNN-NumPy.ipynb) of this lab where you have to code the backward pass explicitly in Numpy."
   ]
  },
  {
   "cell_type": "markdown",
   "metadata": {
    "id": "sCa7HzwpFtFy"
   },
   "source": [
    "# External sources of information\n",
    "\n",
    "1. Jupyter notebook. You can find more information about Jupyter notebooks [here](https://jupyter.org/). It will come as part of the [Anaconda](https://www.anaconda.com/) Python installation. \n",
    "2. [NumPy](https://numpy.org/). Part of Anaconda distribution.  If you already know how to program, most things about Python and NumPy can be found with Google searches.\n",
    "3. [Nanograd](https://github.com/rasmusbergpalm/nanograd) is a minimalistic version of autodiff developed by Rasmus Berg Palm that we use for our framework.\n"
   ]
  },
  {
   "cell_type": "markdown",
   "metadata": {
    "id": "1SjiIp-TFtF0"
   },
   "source": [
    "# This notebook will follow the next steps:\n",
    "\n",
    "1. Nanograd automatic differentiation framework\n",
    "2. Finite difference method\n",
    "3. Data generation\n",
    "4. Defining and initializing the network\n",
    "5. Forward pass\n",
    "6. Training loop \n",
    "7. Testing your model\n",
    "8. Further extensions"
   ]
  },
  {
   "cell_type": "markdown",
   "metadata": {
    "id": "OyXeAA-HuT7s"
   },
   "source": [
    "# Nanograd automatic differention framework"
   ]
  },
  {
   "cell_type": "markdown",
   "metadata": {
    "id": "k6UWKCLKubgA"
   },
   "source": [
    "The [Nanograd](https://github.com/rasmusbergpalm/nanograd) framework defines a class Var which both holds a value and gradient value that we can use to store the intermediate values when we apply the chain rule of differentiation."
   ]
  },
  {
   "cell_type": "code",
   "execution_count": 1,
   "metadata": {
    "id": "Jd4CoEBNzNWS"
   },
   "outputs": [],
   "source": [
    "# Copy and pasted from https://github.com/rasmusbergpalm/nanograd/blob/3a1bf9e9e724da813bfccf91a6f309abdade9f39/nanograd.py\n",
    "\n",
    "from math import exp, log, tanh\n",
    "\n",
    "class Var:\n",
    "    \"\"\"\n",
    "    A variable which holds a float and enables gradient computations.\n",
    "    \"\"\"\n",
    "\n",
    "    def __init__(self, val: float, grad_fn=lambda: []):\n",
    "        assert type(val) == float\n",
    "        self.v = val\n",
    "        self.grad_fn = grad_fn\n",
    "        self.grad = 0.0\n",
    "\n",
    "    def backprop(self, bp):\n",
    "        self.grad += bp\n",
    "        for input, grad in self.grad_fn():\n",
    "            input.backprop(grad * bp)\n",
    "\n",
    "    def backward(self):\n",
    "        self.backprop(1.0)\n",
    "\n",
    "    def __add__(self: 'Var', other: 'Var') -> 'Var':\n",
    "        return Var(self.v + other.v, lambda: [(self, 1.0), (other, 1.0)])\n",
    "\n",
    "    def __mul__(self: 'Var', other: 'Var') -> 'Var':\n",
    "        return Var(self.v * other.v, lambda: [(self, other.v), (other, self.v)])\n",
    "\n",
    "    def __pow__(self, power):\n",
    "        assert type(power) in {float, int}, \"power must be float or int\"\n",
    "        return Var(self.v ** power, lambda: [(self, power * self.v ** (power - 1))])\n",
    "\n",
    "    def __neg__(self: 'Var') -> 'Var':\n",
    "        return Var(-1.0) * self\n",
    "\n",
    "    def __sub__(self: 'Var', other: 'Var') -> 'Var':\n",
    "        return self + (-other)\n",
    "\n",
    "    def __truediv__(self: 'Var', other: 'Var') -> 'Var':\n",
    "        return self * other ** -1\n",
    "\n",
    "    def __repr__(self):\n",
    "        return \"Var(v=%.4f, grad=%.4f)\" % (self.v, self.grad)\n",
    "\n",
    "    def relu(self):\n",
    "        return Var(self.v if self.v > 0.0 else 0.0, lambda: [(self, 1.0 if self.v > 0.0 else 0.0)])\n",
    "\n",
    "    def identity(self):\n",
    "        return self\n",
    "\n",
    "    def tanh(self):\n",
    "        return Var(tanh(self.v), lambda: [(self, 1- tanh(self.v) ** 2)])\n",
    "\n",
    "    def sigmoid(self):\n",
    "        return Var(1/(1+exp(-self.v)), lambda: [(self, 1/(1+exp(-self.v)) * (1 - 1/(1+exp(-self.v))))])\n",
    "\n",
    "    def exp(self):\n",
    "        return Var(exp(self.v), lambda: [(self, exp(self.v))])\n",
    "\n",
    "    def log(self):\n",
    "        return Var(log(self.v), lambda: [(self, self.v ** -1)])"
   ]
  },
  {
   "cell_type": "markdown",
   "metadata": {
    "id": "yDX67D6jzcte"
   },
   "source": [
    "A few examples illustrate how we can use this:"
   ]
  },
  {
   "cell_type": "code",
   "execution_count": 2,
   "metadata": {
    "colab": {
     "base_uri": "https://localhost:8080/"
    },
    "id": "xk6PeLc3zwPT",
    "outputId": "47e431b2-07ba-4cb1-ea21-997769641c67"
   },
   "outputs": [
    {
     "name": "stdout",
     "output_type": "stream",
     "text": [
      "Var(v=3.0000, grad=5.0000)\n",
      "Var(v=5.0000, grad=3.0000)\n",
      "Var(v=15.0000, grad=1.0000)\n"
     ]
    }
   ],
   "source": [
    "a = Var(3.0)\n",
    "b = Var(5.0)\n",
    "f = a * b\n",
    "\n",
    "f.backward()\n",
    "\n",
    "for v in [a, b, f]:\n",
    "    print(v)"
   ]
  },
  {
   "cell_type": "code",
   "execution_count": 3,
   "metadata": {
    "colab": {
     "base_uri": "https://localhost:8080/"
    },
    "id": "JmKhYgsY0g_o",
    "outputId": "06c1b1df-c33c-40d3-922a-624612a591c7"
   },
   "outputs": [
    {
     "name": "stdout",
     "output_type": "stream",
     "text": [
      "Var(v=3.0000, grad=14.0000)\n",
      "Var(v=5.0000, grad=3.0000)\n",
      "Var(v=15.0000, grad=1.0000)\n",
      "Var(v=9.0000, grad=3.0000)\n",
      "Var(v=27.0000, grad=1.0000)\n",
      "Var(v=42.0000, grad=1.0000)\n"
     ]
    }
   ],
   "source": [
    "a = Var(3.0)\n",
    "b = Var(5.0)\n",
    "c = a * b\n",
    "d = Var(9.0)\n",
    "e = a * d\n",
    "f = c + e\n",
    "\n",
    "f.backward()\n",
    "\n",
    "for v in [a, b, c, d, e, f]:\n",
    "    print(v)"
   ]
  },
  {
   "cell_type": "markdown",
   "metadata": {
    "id": "Fe3B6uEH140p"
   },
   "source": [
    "## Exercise a) What is being calculated?\n",
    "\n",
    "Explain briefly the output of the code? What is the expression we differentiate and with respect to what variables?\n",
    "The chain rule of differentiation in applied to f, meaning every composite part of f also has its gradient calculated. These gradients are also stored in their respective variables."
   ]
  },
  {
   "cell_type": "markdown",
   "metadata": {
    "id": "q8_Q0t2I3Ruj"
   },
   "source": [
    "## Exercise b) How does the backward function work?\n",
    "\n",
    "You need to understand how the backward function calculates the gradients. We can use the two examples above to help with that.\n",
    "\n",
    "Go through the following four steps and answer the questions on the way:\n",
    "\n",
    "1. We represent the two expressions as graphs as shown below. Fill in the missing expressions for the different derivatives.\n",
    "\n",
    "2. In the remainder consider the first expression. Make a schematic of the data structure which is generated when we define the expression for f. \n",
    "\n",
    "3. Then execute the backward function by hand to convince yourself that it indeed calculates the gradients with respect to the variables. \n",
    "\n",
    "4. Write down the sequence of calls to backprop.\n",
    "\n",
    "The gradient for f is calculated using backprop(1), thus resulting in 1.\n",
    "Next the backprop is calculated for c and e, again with backprop(1) due\n",
    "to them being added in the composition of f. Next a has backprop(b) as its\n",
    "grad is b due to the multiplication to create c. b has backprop(a). The same\n",
    "pattern repeats for d. Then for a again, it is called with backprop(d),\n",
    "resulting in the gradient c + d.\n"
   ]
  },
  {
   "cell_type": "code",
   "execution_count": 4,
   "metadata": {
    "id": "idGr71jYXl26"
   },
   "outputs": [],
   "source": [
    "# import logging\n",
    "import graphviz\n",
    "\n",
    "#logging.basicConfig(format='[%(levelname)s@%(name)s] %(message)s', level=logging.DEBUG)\n",
    "\n",
    "#graphviz.__version__, graphviz.version()"
   ]
  },
  {
   "cell_type": "code",
   "execution_count": 5,
   "metadata": {
    "colab": {
     "base_uri": "https://localhost:8080/",
     "height": 152
    },
    "id": "KPe30Q2QXzeG",
    "outputId": "7fa002cd-a018-4dbb-ddf1-28ed5e99ee19"
   },
   "outputs": [
    {
     "data": {
      "image/svg+xml": "<?xml version=\"1.0\" encoding=\"UTF-8\" standalone=\"no\"?>\n<!DOCTYPE svg PUBLIC \"-//W3C//DTD SVG 1.1//EN\"\n \"http://www.w3.org/Graphics/SVG/1.1/DTD/svg11.dtd\">\n<!-- Generated by graphviz version 8.1.0 (20230707.0739)\n -->\n<!-- Title: first expression Pages: 1 -->\n<svg width=\"161pt\" height=\"98pt\"\n viewBox=\"0.00 0.00 161.00 98.00\" xmlns=\"http://www.w3.org/2000/svg\" xmlns:xlink=\"http://www.w3.org/1999/xlink\">\n<g id=\"graph0\" class=\"graph\" transform=\"scale(1 1) rotate(0) translate(4 94)\">\n<title>first expression</title>\n<polygon fill=\"white\" stroke=\"none\" points=\"-4,4 -4,-94 157,-94 157,4 -4,4\"/>\n<!-- a -->\n<g id=\"node1\" class=\"node\">\n<title>a</title>\n<ellipse fill=\"none\" stroke=\"black\" cx=\"18\" cy=\"-72\" rx=\"18\" ry=\"18\"/>\n<text text-anchor=\"middle\" x=\"18\" y=\"-66.58\" font-family=\"Times New Roman,serif\" font-size=\"14.00\">a</text>\n</g>\n<!-- f -->\n<g id=\"node2\" class=\"node\">\n<title>f</title>\n<ellipse fill=\"none\" stroke=\"black\" cx=\"135\" cy=\"-45\" rx=\"18\" ry=\"18\"/>\n<text text-anchor=\"middle\" x=\"135\" y=\"-39.58\" font-family=\"Times New Roman,serif\" font-size=\"14.00\">f</text>\n</g>\n<!-- a&#45;&gt;f -->\n<g id=\"edge1\" class=\"edge\">\n<title>a&#45;&gt;f</title>\n<path fill=\"none\" stroke=\"black\" d=\"M35.97,-68.02C54.48,-63.67 84.41,-56.64 106.33,-51.5\"/>\n<polygon fill=\"black\" stroke=\"black\" points=\"107.03,-54.69 115.96,-49 105.43,-47.88 107.03,-54.69\"/>\n<text text-anchor=\"middle\" x=\"76.5\" y=\"-65.45\" font-family=\"Times New Roman,serif\" font-size=\"14.00\">df/da=b</text>\n</g>\n<!-- b -->\n<g id=\"node3\" class=\"node\">\n<title>b</title>\n<ellipse fill=\"none\" stroke=\"black\" cx=\"18\" cy=\"-18\" rx=\"18\" ry=\"18\"/>\n<text text-anchor=\"middle\" x=\"18\" y=\"-12.57\" font-family=\"Times New Roman,serif\" font-size=\"14.00\">b</text>\n</g>\n<!-- b&#45;&gt;f -->\n<g id=\"edge2\" class=\"edge\">\n<title>b&#45;&gt;f</title>\n<path fill=\"none\" stroke=\"black\" d=\"M35.96,-20.95C52.23,-23.89 77.44,-28.76 99,-34.25 101.64,-34.92 104.38,-35.67 107.11,-36.45\"/>\n<polygon fill=\"black\" stroke=\"black\" points=\"105.78,-40.01 116.36,-39.53 107.79,-33.3 105.78,-40.01\"/>\n<text text-anchor=\"middle\" x=\"76.5\" y=\"-37.45\" font-family=\"Times New Roman,serif\" font-size=\"14.00\">df/db=a</text>\n</g>\n</g>\n</svg>\n",
      "text/plain": "<graphviz.graphs.Digraph at 0x21f261b77c0>"
     },
     "execution_count": 5,
     "metadata": {},
     "output_type": "execute_result"
    }
   ],
   "source": [
    "e1 = graphviz.Digraph('first expression', filename='fsm.gv')\n",
    "\n",
    "e1.attr(rankdir='LR', size='8,5')\n",
    "\n",
    "e1.attr('node', shape='circle')\n",
    "e1.edge('a', 'f', label='df/da=b')\n",
    "e1.edge('b', 'f', label='df/db=a')\n",
    "\n",
    "e1"
   ]
  },
  {
   "cell_type": "code",
   "execution_count": 6,
   "metadata": {
    "colab": {
     "base_uri": "https://localhost:8080/",
     "height": 232
    },
    "id": "0nittR-mZFeX",
    "outputId": "fa3656a3-732c-4abe-8084-98a492b0d6be"
   },
   "outputs": [
    {
     "data": {
      "image/svg+xml": "<?xml version=\"1.0\" encoding=\"UTF-8\" standalone=\"no\"?>\n<!DOCTYPE svg PUBLIC \"-//W3C//DTD SVG 1.1//EN\"\n \"http://www.w3.org/Graphics/SVG/1.1/DTD/svg11.dtd\">\n<!-- Generated by graphviz version 8.1.0 (20230707.0739)\n -->\n<!-- Title: second expression Pages: 1 -->\n<svg width=\"280pt\" height=\"161pt\"\n viewBox=\"0.00 0.00 280.25 161.00\" xmlns=\"http://www.w3.org/2000/svg\" xmlns:xlink=\"http://www.w3.org/1999/xlink\">\n<g id=\"graph0\" class=\"graph\" transform=\"scale(1 1) rotate(0) translate(4 157)\">\n<title>second expression</title>\n<polygon fill=\"white\" stroke=\"none\" points=\"-4,4 -4,-157 276.25,-157 276.25,4 -4,4\"/>\n<!-- a -->\n<g id=\"node1\" class=\"node\">\n<title>a</title>\n<ellipse fill=\"none\" stroke=\"black\" cx=\"18\" cy=\"-77\" rx=\"18\" ry=\"18\"/>\n<text text-anchor=\"middle\" x=\"18\" y=\"-71.58\" font-family=\"Times New Roman,serif\" font-size=\"14.00\">a</text>\n</g>\n<!-- c -->\n<g id=\"node2\" class=\"node\">\n<title>c</title>\n<ellipse fill=\"none\" stroke=\"black\" cx=\"137.25\" cy=\"-103\" rx=\"18\" ry=\"18\"/>\n<text text-anchor=\"middle\" x=\"137.25\" y=\"-97.58\" font-family=\"Times New Roman,serif\" font-size=\"14.00\">c</text>\n</g>\n<!-- a&#45;&gt;c -->\n<g id=\"edge1\" class=\"edge\">\n<title>a&#45;&gt;c</title>\n<path fill=\"none\" stroke=\"black\" d=\"M36.05,-80.78C55.07,-85 86.11,-91.88 108.61,-96.87\"/>\n<polygon fill=\"black\" stroke=\"black\" points=\"107.66,-100.47 118.18,-99.21 109.18,-93.63 107.66,-100.47\"/>\n<text text-anchor=\"middle\" x=\"77.62\" y=\"-96.45\" font-family=\"Times New Roman,serif\" font-size=\"14.00\">dc/da=b</text>\n</g>\n<!-- e -->\n<g id=\"node4\" class=\"node\">\n<title>e</title>\n<ellipse fill=\"none\" stroke=\"black\" cx=\"137.25\" cy=\"-49\" rx=\"18\" ry=\"18\"/>\n<text text-anchor=\"middle\" x=\"137.25\" y=\"-43.58\" font-family=\"Times New Roman,serif\" font-size=\"14.00\">e</text>\n</g>\n<!-- a&#45;&gt;e -->\n<g id=\"edge3\" class=\"edge\">\n<title>a&#45;&gt;e</title>\n<path fill=\"none\" stroke=\"black\" d=\"M35.25,-71.06C41.11,-69.05 47.8,-66.89 54,-65.25 71.89,-60.5 92.29,-56.46 108.31,-53.6\"/>\n<polygon fill=\"black\" stroke=\"black\" points=\"108.84,-56.88 118.09,-51.73 107.64,-49.99 108.84,-56.88\"/>\n<text text-anchor=\"middle\" x=\"77.62\" y=\"-68.45\" font-family=\"Times New Roman,serif\" font-size=\"14.00\">de/da=d</text>\n</g>\n<!-- f -->\n<g id=\"node6\" class=\"node\">\n<title>f</title>\n<ellipse fill=\"none\" stroke=\"black\" cx=\"254.25\" cy=\"-75\" rx=\"18\" ry=\"18\"/>\n<text text-anchor=\"middle\" x=\"254.25\" y=\"-69.58\" font-family=\"Times New Roman,serif\" font-size=\"14.00\">f</text>\n</g>\n<!-- c&#45;&gt;f -->\n<g id=\"edge5\" class=\"edge\">\n<title>c&#45;&gt;f</title>\n<path fill=\"none\" stroke=\"black\" d=\"M155.22,-98.87C173.84,-94.33 204,-86.99 225.96,-81.65\"/>\n<polygon fill=\"black\" stroke=\"black\" points=\"226.7,-84.82 235.59,-79.06 225.04,-78.02 226.7,-84.82\"/>\n<text text-anchor=\"middle\" x=\"195.75\" y=\"-95.45\" font-family=\"Times New Roman,serif\" font-size=\"14.00\">df/dc=1</text>\n</g>\n<!-- b -->\n<g id=\"node3\" class=\"node\">\n<title>b</title>\n<ellipse fill=\"none\" stroke=\"black\" cx=\"18\" cy=\"-135\" rx=\"18\" ry=\"18\"/>\n<text text-anchor=\"middle\" x=\"18\" y=\"-129.57\" font-family=\"Times New Roman,serif\" font-size=\"14.00\">b</text>\n</g>\n<!-- b&#45;&gt;c -->\n<g id=\"edge2\" class=\"edge\">\n<title>b&#45;&gt;c</title>\n<path fill=\"none\" stroke=\"black\" d=\"M35.72,-130.62C52.36,-126.23 78.6,-119.27 101.25,-113 103.77,-112.3 106.39,-111.57 109.01,-110.83\"/>\n<polygon fill=\"black\" stroke=\"black\" points=\"109.87,-113.94 118.53,-107.84 107.96,-107.21 109.87,-113.94\"/>\n<text text-anchor=\"middle\" x=\"77.62\" y=\"-127.45\" font-family=\"Times New Roman,serif\" font-size=\"14.00\">dc/db=a</text>\n</g>\n<!-- e&#45;&gt;f -->\n<g id=\"edge6\" class=\"edge\">\n<title>e&#45;&gt;f</title>\n<path fill=\"none\" stroke=\"black\" d=\"M155.65,-50.54C172.01,-52.25 197.09,-55.55 218.25,-61.25 221.26,-62.06 224.37,-63.05 227.44,-64.12\"/>\n<polygon fill=\"black\" stroke=\"black\" points=\"225.88,-67.65 236.47,-67.94 228.37,-61.11 225.88,-67.65\"/>\n<text text-anchor=\"middle\" x=\"195.75\" y=\"-64.45\" font-family=\"Times New Roman,serif\" font-size=\"14.00\">df/de=1</text>\n</g>\n<!-- d -->\n<g id=\"node5\" class=\"node\">\n<title>d</title>\n<ellipse fill=\"none\" stroke=\"black\" cx=\"18\" cy=\"-18\" rx=\"18\" ry=\"18\"/>\n<text text-anchor=\"middle\" x=\"18\" y=\"-12.57\" font-family=\"Times New Roman,serif\" font-size=\"14.00\">d</text>\n</g>\n<!-- d&#45;&gt;e -->\n<g id=\"edge4\" class=\"edge\">\n<title>d&#45;&gt;e</title>\n<path fill=\"none\" stroke=\"black\" d=\"M36.18,-21.13C52.93,-24.34 79.06,-29.78 101.25,-36.25 104.06,-37.07 106.98,-38 109.87,-38.97\"/>\n<polygon fill=\"black\" stroke=\"black\" points=\"108.42,-42.53 119.02,-42.58 110.77,-35.94 108.42,-42.53\"/>\n<text text-anchor=\"middle\" x=\"77.62\" y=\"-39.45\" font-family=\"Times New Roman,serif\" font-size=\"14.00\">de/dd=a</text>\n</g>\n</g>\n</svg>\n",
      "text/plain": "<graphviz.graphs.Digraph at 0x21f26719fd0>"
     },
     "execution_count": 6,
     "metadata": {},
     "output_type": "execute_result"
    }
   ],
   "source": [
    "e2 = graphviz.Digraph('second expression', filename='fsm.gv')\n",
    "\n",
    "e2.attr(rankdir='LR', size='8,5')\n",
    "\n",
    "e2.attr('node', shape='circle')\n",
    "e2.edge('a', 'c', label='dc/da=b')\n",
    "e2.edge('b', 'c', label='dc/db=a')\n",
    "e2.edge('a', 'e', label='de/da=d')\n",
    "e2.edge('d', 'e', label='de/dd=a')\n",
    "e2.edge('c', 'f', label='df/dc=1')\n",
    "e2.edge('e', 'f', label='df/de=1')\n",
    "\n",
    "e2"
   ]
  },
  {
   "cell_type": "markdown",
   "metadata": {
    "id": "A5oi21W4gpeM"
   },
   "source": [
    "## Exercise c) What happens if we run backward again?\n",
    "\n",
    "Try to execute the code below. Explain what happens."
   ]
  },
  {
   "cell_type": "code",
   "execution_count": 7,
   "metadata": {
    "colab": {
     "base_uri": "https://localhost:8080/"
    },
    "id": "DCtpJyr-gyX1",
    "outputId": "d014bcfa-c9ae-49c3-d268-91cc6ca94ea5"
   },
   "outputs": [
    {
     "name": "stdout",
     "output_type": "stream",
     "text": [
      "Var(v=3.0000, grad=28.0000)\n",
      "Var(v=5.0000, grad=6.0000)\n",
      "Var(v=15.0000, grad=2.0000)\n",
      "Var(v=9.0000, grad=6.0000)\n",
      "Var(v=27.0000, grad=2.0000)\n",
      "Var(v=42.0000, grad=2.0000)\n"
     ]
    }
   ],
   "source": [
    "f.backward()\n",
    "\n",
    "for v in [a, b, c, d, e, f]:\n",
    "    print(v)"
   ]
  },
  {
   "cell_type": "markdown",
   "source": [
    "The gradients are stored and thus for the initial downstream elements of f the gradients are multiplied by 2 instead of 1, which propagates through the entire system."
   ],
   "metadata": {
    "collapsed": false
   }
  },
  {
   "cell_type": "markdown",
   "metadata": {
    "id": "e8bPVq2VhsP-"
   },
   "source": [
    "## Exercise d) Zero gradient\n",
    "\n",
    "We can zero the gradient by backpropagating a -1.0 as is shown in the example below. (If you have run backward multiple time then you also have to run the cell below an equal amount of times.) Explain what is going on."
   ]
  },
  {
   "cell_type": "code",
   "execution_count": 8,
   "metadata": {
    "colab": {
     "base_uri": "https://localhost:8080/"
    },
    "id": "OnyPDQx9lJe0",
    "outputId": "7a125fdc-60c4-4340-a580-8b82aea5b0db"
   },
   "outputs": [
    {
     "name": "stdout",
     "output_type": "stream",
     "text": [
      "Var(v=2.0000, grad=0.0000)\n",
      "Var(v=5.0000, grad=6.0000)\n",
      "Var(v=15.0000, grad=2.0000)\n",
      "Var(v=9.0000, grad=6.0000)\n",
      "Var(v=27.0000, grad=2.0000)\n",
      "Var(v=42.0000, grad=2.0000)\n",
      "Var(v=2.0000, grad=0.0000)\n",
      "Var(v=5.0000, grad=3.0000)\n",
      "Var(v=15.0000, grad=1.0000)\n",
      "Var(v=9.0000, grad=3.0000)\n",
      "Var(v=27.0000, grad=1.0000)\n",
      "Var(v=42.0000, grad=1.0000)\n"
     ]
    }
   ],
   "source": [
    "a = Var(2.0)\n",
    "\n",
    "for v in [a, b, c, d, e, f]:\n",
    "    print(v)\n",
    "\n",
    "f.backprop(-1.0)\n",
    "\n",
    "for v in [a, b, c, d, e, f]:\n",
    "    print(v)"
   ]
  },
  {
   "cell_type": "markdown",
   "source": [
    "Here we again observe the effect of adding/subtracting a value to the initial gradient. As it is used for multiplication of the downstream gradients it will have an effect. The factor from the initial call to backpropagation should be 1 to get the initial results, thus subtracting 1 from 2 = 1."
   ],
   "metadata": {
    "collapsed": false
   }
  },
  {
   "cell_type": "markdown",
   "metadata": {
    "id": "U4057_ljNvWB"
   },
   "source": [
    "## Exercise e) Test correctness of derivatives with the finite difference method\n",
    "\n",
    "Write a small function that uses [the finite difference method](https://en.wikipedia.org/wiki/Finite_difference_method) to numerically test that backpropation implementation is working. In short we will use\n",
    "$$\n",
    "\\frac{\\partial f(a)}{\\partial a} \\approx \\frac{f(a+da)-f(a)}{da}\n",
    "$$\n",
    "for $da \\ll 1$.\n",
    "\n",
    "As an example, we could approximate the derivative of the function $f(a)=a^2$ in e.g. the value $a=4$ using the finite difference method. This amounts to inserting the relevant values and approximating the gradient $f'(4)$ with the fraction above. \n"
   ]
  },
  {
   "cell_type": "code",
   "execution_count": 9,
   "metadata": {
    "colab": {
     "base_uri": "https://localhost:8080/"
    },
    "id": "9TGil92lSXDN",
    "outputId": "7ef5489b-b525-4132-ab08-0b1109c07f4d"
   },
   "outputs": [
    {
     "name": "stdout",
     "output_type": "stream",
     "text": [
      "Var(v=3.0000, grad=5.0000)\n",
      "Var(v=5.0000, grad=3.0000)\n",
      "Var(v=15.0000, grad=1.0000)\n",
      "4.000000330961484\n"
     ]
    }
   ],
   "source": [
    "# f function - try to change the code to test other types of functions as well (such as different polynomials etc.)\n",
    "def f_function(a):\n",
    "  a = Var(a)\n",
    "  b = Var(5.0)\n",
    "  f = a * b\n",
    "  f.backward()\n",
    "  return a,b,f\n",
    "\n",
    "for v in f_function(3.0):\n",
    "  print(v)\n",
    "\n",
    "# Insert your finite difference code here\n",
    "def finite_difference(da=1e-10):\n",
    "    \"\"\"\n",
    "    This function compute the finite difference between\n",
    "    \n",
    "    Input:\n",
    "    da:          The finite difference                           (float)\n",
    "    \n",
    "    Output:\n",
    "    finite_difference: numerical approximation to the derivative (float) \n",
    "    \"\"\"\n",
    "    \n",
    "    fa_da = (2 + da)**2           # <- Insert correct expression\n",
    "    fa = 2.**2               # <- Insert correct expression\n",
    "\n",
    "    finite_difference = (fa_da - fa) / da\n",
    "    \n",
    "    return finite_difference\n",
    "\n",
    "print(finite_difference())"
   ]
  },
  {
   "cell_type": "markdown",
   "metadata": {
    "id": "6pZar5RKaUkg"
   },
   "source": [
    "# Create an artificial dataset to play with\n",
    "\n",
    "We create a non-linear 1d regression task. The generator supports various noise levels and it creates train, validation and test sets. You can modify it yourself if you want more or less challenging tasks."
   ]
  },
  {
   "cell_type": "code",
   "execution_count": 10,
   "metadata": {
    "id": "Y6yfMAQ8aduj"
   },
   "outputs": [],
   "source": [
    "import numpy as np\n",
    "import matplotlib.pyplot as plt\n",
    "\n",
    "np.random.seed(42)"
   ]
  },
  {
   "cell_type": "code",
   "execution_count": 11,
   "metadata": {
    "id": "4YabfD43ajNh"
   },
   "outputs": [],
   "source": [
    "def data_generator(noise=0.2, n_samples=300, D1=True):\n",
    "    # Create covariates and response variable\n",
    "    if D1:\n",
    "        X = np.linspace(-3, 3, num=n_samples).reshape(-1,1) # 1-D\n",
    "        np.random.shuffle(X)\n",
    "        y = np.random.normal((0.5*np.sin(X[:,0]*3) + X[:,0]), noise) # 1-D with trend\n",
    "    else:\n",
    "        X = np.random.multivariate_normal(np.zeros(3), noise*np.eye(3), size = n_samples) # 3-D\n",
    "        np.random.shuffle(X)    \n",
    "        y = np.sin(X[:,0]) - 5*(X[:,1]**2) + 0.5*X[:,2] # 3-D\n",
    "\n",
    "    # Stack them together vertically to split data set\n",
    "    data_set = np.vstack((X.T,y)).T\n",
    "    \n",
    "    train, validation, test = np.split(data_set, [int(0.35*n_samples), int(0.7*n_samples)], axis=0)\n",
    "    \n",
    "    # Standardization of the data, remember we do the standardization with the training set mean and standard deviation\n",
    "    train_mu = np.mean(train, axis=0)\n",
    "    train_sigma = np.std(train, axis=0)\n",
    "    \n",
    "    train = (train-train_mu)/train_sigma\n",
    "    validation = (validation-train_mu)/train_sigma\n",
    "    test = (test-train_mu)/train_sigma\n",
    "    \n",
    "    x_train, x_validation, x_test = train[:,:-1], validation[:,:-1], test[:,:-1]\n",
    "    y_train, y_validation, y_test = train[:,-1], validation[:,-1], test[:,-1]\n",
    "\n",
    "    return x_train, y_train,  x_validation, y_validation, x_test, y_test"
   ]
  },
  {
   "cell_type": "code",
   "execution_count": 12,
   "metadata": {
    "id": "u1oDngHLapIz"
   },
   "outputs": [],
   "source": [
    "D1 = True\n",
    "x_train, y_train,  x_validation, y_validation, x_test, y_test = data_generator(noise=0.5, D1=D1)"
   ]
  },
  {
   "cell_type": "code",
   "execution_count": 13,
   "metadata": {
    "colab": {
     "base_uri": "https://localhost:8080/",
     "height": 265
    },
    "id": "Ysfa3FsBavlm",
    "outputId": "399e5382-ae7d-48f6-9774-7ea4c73e7d95"
   },
   "outputs": [
    {
     "data": {
      "text/plain": "<Figure size 640x480 with 1 Axes>",
      "image/png": "[encoded data removed]"
     },
     "metadata": {},
     "output_type": "display_data"
    }
   ],
   "source": [
    "if D1:\n",
    "    plt.scatter(x_train[:,0], y_train);\n",
    "    plt.scatter(x_validation[:,0], y_validation);\n",
    "    plt.scatter(x_test[:,0], y_test);\n",
    "else:\n",
    "    plt.scatter(x_train[:,1], y_train);\n",
    "    plt.scatter(x_validation[:,1], y_validation);\n",
    "    plt.scatter(x_test[:,1], y_test);\n",
    "plt.show()"
   ]
  },
  {
   "cell_type": "code",
   "execution_count": 14,
   "metadata": {
    "id": "zac2HHNlgbpm"
   },
   "outputs": [],
   "source": [
    "# convert from nparray to Var\n",
    "def nparray_to_Var(x):\n",
    "  if x.ndim==1:\n",
    "    y = [[Var(float(x[i]))] for i in range(x.shape[0])] # always work with list of list\n",
    "  else:\n",
    "    y = [[Var(float(x[i,j])) for j in range(x.shape[1])] for i in range(x.shape[0])]\n",
    "  return y\n",
    "   \n",
    "x_train = nparray_to_Var(x_train)\n",
    "y_train = nparray_to_Var(y_train)\n",
    "x_validation = nparray_to_Var(x_validation)\n",
    "y_validation = nparray_to_Var(y_validation)\n",
    "x_test = nparray_to_Var(x_test)\n",
    "y_test = nparray_to_Var(y_test)\n"
   ]
  },
  {
   "cell_type": "markdown",
   "metadata": {
    "id": "VbjrqcpVFtGe"
   },
   "source": [
    "# Defining and initializing the network\n",
    "\n",
    "The steps to create a feed forward neural network are the following:\n",
    "\n",
    "1. **Number of hidden layer and hidden units**. We have to define the number of hidden units in each layer. The number of features in X and the output dimensionality (the size of Y) are given but the numbers in between are set by the researcher. Remember that for each unit in each layer beside in the input has a bias term.\n",
    "2. **Activation functions** for each hidden layer. Each hidden layer in your list must have an activation function (it can also be the linear activation which is equivalent to identity function). The power of neural networks comes from non-linear activation functions that learn representations (features) from the data allowing us to learn from it. \n",
    "3. **Parameter initialization**. We will initialize the weights to have random values. This is done in practice by drawing pseudo random numbers from a Gaussian or uniform distribution. It turns out that for deeper models we have to be careful about how we scale the random numbers. This will be the topic of the exercise below. For now we will just use unit variance Gaussians.  \n",
    "\n",
    "In order to make life easier for ourselves we define a DenseLayer class that takes care of initialization and the forward pass. We can also extend it later with print and advanced initialization capabilities. For the latter we have introduced a Initializer class.\n",
    "\n",
    "Note that we use Sequence in the code below. A Sequence is an ordered list. This means the order we insert and access items are the same."
   ]
  },
  {
   "cell_type": "code",
   "execution_count": 15,
   "metadata": {
    "id": "ij_ieRsAt7Xt"
   },
   "outputs": [],
   "source": [
    "class Initializer:\n",
    "\n",
    "  def init_weights(self, n_in, n_out):\n",
    "    raise NotImplementedError\n",
    "\n",
    "  def init_bias(self, n_out):\n",
    "    raise NotImplementedError"
   ]
  },
  {
   "cell_type": "code",
   "execution_count": 16,
   "metadata": {
    "id": "eb18N5phuIha"
   },
   "outputs": [],
   "source": [
    "import random\n",
    "\n",
    "class NormalInitializer(Initializer):\n",
    "\n",
    "  def __init__(self, mean=0, std=0.1):\n",
    "    self.mean = mean\n",
    "    self.std = std\n",
    "\n",
    "  def init_weights(self, n_in, n_out):\n",
    "    return [[Var(random.gauss(self.mean, self.std)) for _ in range(n_out)] for _ in range(n_in)]\n",
    "\n",
    "  def init_bias(self, n_out):\n",
    "    return [Var(0.0) for _ in range(n_out)]\n",
    "\n",
    "class ConstantInitializer(Initializer):\n",
    "\n",
    "  def __init__(self, weight=1.0, bias=0.0):\n",
    "    self.weight = weight\n",
    "    self.bias = bias\n",
    "\n",
    "  def init_weights(self, n_in, n_out):\n",
    "    return [[Var(self.weight) for _ in range(n_out)] for _ in range(n_in)]\n",
    "\n",
    "  def init_bias(self, n_out):\n",
    "    return [Var(self.bias) for _ in range(n_out)]"
   ]
  },
  {
   "cell_type": "code",
   "execution_count": 85,
   "metadata": {
    "id": "jOLYGnZKuM6W"
   },
   "outputs": [],
   "source": [
    "from typing import Sequence\n",
    "\n",
    "class DenseLayer:\n",
    "    def __init__(self, n_in: int, n_out: int, act_fn, initializer = NormalInitializer()):\n",
    "        self.weights = initializer.init_weights(n_in, n_out)\n",
    "        self.bias = initializer.init_bias(n_out)\n",
    "        self.act_fn = act_fn\n",
    "    \n",
    "    def __repr__(self):    \n",
    "        return 'Weights: ' + repr(self.weights) + ' Biases: ' + repr(self.bias)\n",
    "\n",
    "    def parameters(self) -> Sequence[Var]:\n",
    "      params = []\n",
    "      for r in self.weights:\n",
    "        params += r\n",
    "\n",
    "      return params + self.bias\n",
    "\n",
    "    def forward(self, single_input: Sequence[Var]) -> Sequence[Var]:\n",
    "        # self.weights is a matrix with dimension n_in x n_out. We check that the dimensionality of the input \n",
    "        # to the current layer matches the number of nodes in the current layer\n",
    "        assert len(self.weights) == len(single_input), \"weights and single_input must match in first dimension\"\n",
    "        weights = self.weights\n",
    "        out = []\n",
    "        # For some given data point single_input, we now want to calculate the resulting value in each node in the current layer\n",
    "        # We therefore loop over the (number of) nodes in the current layer:\n",
    "        for j in range(len(weights[0])): \n",
    "            # Initialize the node value depending on its corresponding parameters.\n",
    "            node = weights[0][j] + self.bias[j] # <- Insert code\n",
    "            # We now finish the linear transformation corresponding to the parameters of the currently considered node.\n",
    "            for i in range(len(single_input)):\n",
    "                node += single_input[i] * weights[i][j]  # <- Insert code\n",
    "                # Iterating over the input we must\n",
    "            node = self.act_fn(node)\n",
    "            out.append(node)\n",
    "\n",
    "        return out\n"
   ]
  },
  {
   "cell_type": "markdown",
   "metadata": {
    "id": "jpIZPBpNI0pO"
   },
   "source": [
    "## Exercise f) Add more activation functions\n",
    "\n",
    "To have a full definition of the neural network, we must define an activation function for every layer. Several activation functions have been proposed and have different characteristics. In the Var class we have already defined the rectified linear init (relu). \n",
    " \n",
    "Implement the following activation functions in the Var class:\n",
    "\n",
    "* Identity: $$\\mathrm{identity}(x) = x$$\n",
    "* Hyperbolic tangent: $$\\tanh(x)$$\n",
    "* Sigmoid (or logistic function): $$\\mathrm{sigmoid}(x) = \\frac{1}{1.0 + \\exp(-x ) }$$  Hint: $\\mathrm{sigmoid}'(x)= \\mathrm{sigmoid}(x)(1-\\mathrm{sigmoid}(x))$.  \n",
    "\n",
    "Hint: You can seek inspiration in the relu method in the Var class."
   ]
  },
  {
   "cell_type": "markdown",
   "metadata": {
    "id": "p_8n_SKnIW2F"
   },
   "source": [
    "## Exercise g) Complete the forward pass\n",
    "\n",
    "In the code below we initialize a 1-5-1 network and pass the training set through it. *The forward method in DenseLayer is **not** complete*. It just outputs zeros right now. The method forward should perform an [affine transformation](https://en.wikipedia.org/wiki/Affine_transformation) on the input followed by an application of the activation function."
   ]
  },
  {
   "cell_type": "code",
   "execution_count": 18,
   "metadata": {
    "colab": {
     "base_uri": "https://localhost:8080/",
     "height": 337
    },
    "id": "xDEjtePxE7Mv",
    "outputId": "753406cd-d8a1-4282-ce03-25ad959b0e11"
   },
   "outputs": [
    {
     "name": "stdout",
     "output_type": "stream",
     "text": [
      "[[Var(v=-0.0365, grad=0.0000)], [Var(v=-0.0402, grad=0.0000)], [Var(v=-0.0335, grad=0.0000)], [Var(v=-0.0267, grad=0.0000)], [Var(v=-0.0383, grad=0.0000)], [Var(v=-0.0379, grad=0.0000)], [Var(v=-0.0361, grad=0.0000)], [Var(v=-0.0309, grad=0.0000)], [Var(v=-0.0266, grad=0.0000)], [Var(v=-0.0348, grad=0.0000)], [Var(v=-0.0385, grad=0.0000)], [Var(v=-0.0278, grad=0.0000)], [Var(v=-0.0374, grad=0.0000)], [Var(v=-0.0275, grad=0.0000)], [Var(v=-0.0352, grad=0.0000)], [Var(v=-0.0376, grad=0.0000)], [Var(v=-0.0416, grad=0.0000)], [Var(v=-0.0370, grad=0.0000)], [Var(v=-0.0332, grad=0.0000)], [Var(v=-0.0342, grad=0.0000)], [Var(v=-0.0291, grad=0.0000)], [Var(v=-0.0311, grad=0.0000)], [Var(v=-0.0392, grad=0.0000)], [Var(v=-0.0393, grad=0.0000)], [Var(v=-0.0306, grad=0.0000)], [Var(v=-0.0274, grad=0.0000)], [Var(v=-0.0411, grad=0.0000)], [Var(v=-0.0420, grad=0.0000)], [Var(v=-0.0338, grad=0.0000)], [Var(v=-0.0386, grad=0.0000)], [Var(v=-0.0269, grad=0.0000)], [Var(v=-0.0342, grad=0.0000)], [Var(v=-0.0272, grad=0.0000)], [Var(v=-0.0270, grad=0.0000)], [Var(v=-0.0372, grad=0.0000)], [Var(v=-0.0315, grad=0.0000)], [Var(v=-0.0267, grad=0.0000)], [Var(v=-0.0298, grad=0.0000)], [Var(v=-0.0275, grad=0.0000)], [Var(v=-0.0288, grad=0.0000)], [Var(v=-0.0300, grad=0.0000)], [Var(v=-0.0289, grad=0.0000)], [Var(v=-0.0414, grad=0.0000)], [Var(v=-0.0280, grad=0.0000)], [Var(v=-0.0290, grad=0.0000)], [Var(v=-0.0282, grad=0.0000)], [Var(v=-0.0383, grad=0.0000)], [Var(v=-0.0380, grad=0.0000)], [Var(v=-0.0310, grad=0.0000)], [Var(v=-0.0382, grad=0.0000)], [Var(v=-0.0351, grad=0.0000)], [Var(v=-0.0330, grad=0.0000)], [Var(v=-0.0386, grad=0.0000)], [Var(v=-0.0289, grad=0.0000)], [Var(v=-0.0421, grad=0.0000)], [Var(v=-0.0410, grad=0.0000)], [Var(v=-0.0302, grad=0.0000)], [Var(v=-0.0299, grad=0.0000)], [Var(v=-0.0358, grad=0.0000)], [Var(v=-0.0270, grad=0.0000)], [Var(v=-0.0382, grad=0.0000)], [Var(v=-0.0279, grad=0.0000)], [Var(v=-0.0267, grad=0.0000)], [Var(v=-0.0354, grad=0.0000)], [Var(v=-0.0347, grad=0.0000)], [Var(v=-0.0272, grad=0.0000)], [Var(v=-0.0270, grad=0.0000)], [Var(v=-0.0396, grad=0.0000)], [Var(v=-0.0278, grad=0.0000)], [Var(v=-0.0355, grad=0.0000)], [Var(v=-0.0308, grad=0.0000)], [Var(v=-0.0319, grad=0.0000)], [Var(v=-0.0381, grad=0.0000)], [Var(v=-0.0359, grad=0.0000)], [Var(v=-0.0321, grad=0.0000)], [Var(v=-0.0412, grad=0.0000)], [Var(v=-0.0293, grad=0.0000)], [Var(v=-0.0294, grad=0.0000)], [Var(v=-0.0284, grad=0.0000)], [Var(v=-0.0416, grad=0.0000)], [Var(v=-0.0341, grad=0.0000)], [Var(v=-0.0336, grad=0.0000)], [Var(v=-0.0269, grad=0.0000)], [Var(v=-0.0318, grad=0.0000)], [Var(v=-0.0291, grad=0.0000)], [Var(v=-0.0312, grad=0.0000)], [Var(v=-0.0314, grad=0.0000)], [Var(v=-0.0287, grad=0.0000)], [Var(v=-0.0268, grad=0.0000)], [Var(v=-0.0267, grad=0.0000)], [Var(v=-0.0360, grad=0.0000)], [Var(v=-0.0304, grad=0.0000)], [Var(v=-0.0285, grad=0.0000)], [Var(v=-0.0377, grad=0.0000)], [Var(v=-0.0273, grad=0.0000)], [Var(v=-0.0269, grad=0.0000)], [Var(v=-0.0351, grad=0.0000)], [Var(v=-0.0332, grad=0.0000)], [Var(v=-0.0407, grad=0.0000)], [Var(v=-0.0284, grad=0.0000)], [Var(v=-0.0380, grad=0.0000)], [Var(v=-0.0285, grad=0.0000)], [Var(v=-0.0272, grad=0.0000)], [Var(v=-0.0353, grad=0.0000)], [Var(v=-0.0402, grad=0.0000)]]\n"
     ]
    }
   ],
   "source": [
    "NN = [\n",
    "    DenseLayer(1, 5, lambda x: x.relu()),\n",
    "    DenseLayer(5, 1, lambda x: x.identity())\n",
    "]\n",
    "\n",
    "def forward(input, network):\n",
    "\n",
    "  def forward_single(x, network):\n",
    "    for layer in network:\n",
    "        x = layer.forward(x)\n",
    "    return x\n",
    "\n",
    "  output = [ forward_single(input[n], network) for n in range(len(input))]\n",
    "  return output\n",
    "\n",
    "print(forward(x_train, NN))\n"
   ]
  },
  {
   "cell_type": "markdown",
   "metadata": {
    "id": "oLrGJytZFtGm"
   },
   "source": [
    "## Exercise h) Print all network parameters\n",
    "\n",
    "Make a function that prints all the parameters of the network (weights and biases) with information about in which layer the appear. In the object oriented spirit you should introduce a method in the DenseLayer class to print the parameters of a layer. Hint: You can take inspiration from the corresponding method in Var. "
   ]
  },
  {
   "cell_type": "code",
   "execution_count": 19,
   "metadata": {
    "id": "iac-VwYGFtGm"
   },
   "outputs": [
    {
     "name": "stdout",
     "output_type": "stream",
     "text": [
      "Weights: [[Var(v=-0.0169, grad=0.0000), Var(v=0.0380, grad=0.0000), Var(v=-0.0856, grad=0.0000), Var(v=-0.0062, grad=0.0000), Var(v=-0.0559, grad=0.0000)]] Biases: [Var(v=0.0000, grad=0.0000), Var(v=0.0000, grad=0.0000), Var(v=0.0000, grad=0.0000), Var(v=0.0000, grad=0.0000), Var(v=0.0000, grad=0.0000)]\n",
      "Weights: [[Var(v=-0.0276, grad=0.0000)], [Var(v=-0.1354, grad=0.0000)], [Var(v=0.0798, grad=0.0000)], [Var(v=-0.0559, grad=0.0000)], [Var(v=-0.0757, grad=0.0000)]] Biases: [Var(v=0.0000, grad=0.0000)]\n"
     ]
    }
   ],
   "source": [
    "for layer in NN:\n",
    "    print(layer)"
   ]
  },
  {
   "cell_type": "markdown",
   "metadata": {
    "id": "_79HOAXrFtHK"
   },
   "source": [
    "## Visualization\n",
    "\n",
    "Now that we have defined our activation functions we can visualize them to see what they look like:"
   ]
  },
  {
   "cell_type": "code",
   "execution_count": 20,
   "metadata": {
    "id": "1FcylHqLTl-Z"
   },
   "outputs": [
    {
     "data": {
      "text/plain": "[<matplotlib.lines.Line2D at 0x21f29177310>]"
     },
     "execution_count": 20,
     "metadata": {},
     "output_type": "execute_result"
    },
    {
     "data": {
      "text/plain": "<Figure size 640x480 with 1 Axes>",
      "image/png": "[encoded data removed]"
     },
     "metadata": {},
     "output_type": "display_data"
    }
   ],
   "source": [
    "x = np.linspace(-6, 6, 100)\n",
    "\n",
    "# convert from Var to ndarray  \n",
    "def Var_to_nparray(x):\n",
    "  y = np.zeros((len(x),len(x[0])))\n",
    "  for i in range(len(x)):\n",
    "    for j in range(len(x[0])):\n",
    "      y[i,j] = x[i][j].v\n",
    "  return y\n",
    "\n",
    "# define 1-1 network with weight = 1 and relu activation \n",
    "NN = [ DenseLayer(1, 1, lambda x: x.relu(), initializer = ConstantInitializer(1.0)) ] \n",
    "y = Var_to_nparray(forward(nparray_to_Var(x), NN))\n",
    "\n",
    "#y = Var_to_nparray(relu(nparray_to_Var(x)))\n",
    "plt.plot(x,y)"
   ]
  },
  {
   "cell_type": "code",
   "execution_count": 21,
   "metadata": {
    "id": "oOL2UolJFtHL"
   },
   "outputs": [
    {
     "data": {
      "text/plain": "<Figure size 500x500 with 1 Axes>",
      "image/png": "[encoded data removed]"
     },
     "metadata": {},
     "output_type": "display_data"
    }
   ],
   "source": [
    "# Testing all activation layers\n",
    "\n",
    "x = np.linspace(-6, 6, 100)\n",
    "units = {\n",
    "    \"identity\": lambda x: x.identity(),\n",
    "    \"sigmoid\": lambda x: x.sigmoid(),\n",
    "    \"relu\": lambda x: x.relu(),\n",
    "    \"tanh\": lambda x: x.tanh()\n",
    "}\n",
    "\n",
    "plt.figure(figsize=(5, 5))\n",
    "[plt.plot(x, Var_to_nparray(forward(nparray_to_Var(x), [DenseLayer(1, 1, unit, initializer = ConstantInitializer(1.0))]) ), label=unit_name, lw=2) for unit_name, unit in units.items()] # unit(nparray_to_Var(x))), label=unit_name, lw=2) for unit_name, unit in units.items()]\n",
    "plt.legend(loc=2, fontsize=16)\n",
    "plt.title('Our activation functions', fontsize=20)\n",
    "plt.ylim([-2, 5])\n",
    "plt.xlim([-6, 6])\n",
    "plt.show()"
   ]
  },
  {
   "cell_type": "markdown",
   "metadata": {
    "id": "b-jdEl-7FtGs"
   },
   "source": [
    "# Advanced initialization schemes\n",
    "\n",
    "If we are not careful with initialization, the signals we propagate forward ($a^{(l)}$, $l=1,\\ldots,L$) and backward ($\\delta^l$, $l=L,L-1,\\ldots,1$) can blow up or shrink to zero. A statistical analysis of the variance of the signals for different activation functions can be found in these two papers: [Glorot initialization](http://proceedings.mlr.press/v9/glorot10a/glorot10a.pdf) and [He initialization](https://arxiv.org/pdf/1502.01852v1.pdf). \n",
    "\n",
    "The result of the analyses are proposals for how to make the initialization such that the variance of the signals (forward and backward) are kept approxmimatly constant when propagating from layer to layer. The exact expressions depend upon the non-linear activation function used. In Glorot initialization, the aim is to keep both the forward and backward variances constant whereas He only aims at keeping the variance in the forward pass constant.\n",
    "\n",
    "We define $n_{in}$ and $n_{out}$ as the number of input units and output units of a particular layer. \n",
    "\n",
    "The Glorot initialization has the form: \n",
    "\n",
    "$$w_{ij} \\sim N \\bigg( 0, \\, \\frac{2 \\alpha }{n_{in} + n_{out}} \\bigg) \\ . $$\n",
    "\n",
    "where $N(\\mu,\\sigma^2)$ is a Gaussian distribution with mean $\\mu$ and variance $\\sigma^2$ and $\\alpha$ is a parameter that depends upon the activation function used. For $\\tanh$, $\\alpha=1$ and for Rectified Linear Unit (ReLU) activations, $\\alpha=2$. (It is also possible to use a uniform distribution for initialization, see [this blog post](https://mmuratarat.github.io/2019-02-25/xavier-glorot-he-weight-init).) \n",
    "\n",
    "The He initialization is very similar\n",
    "\n",
    "$$w_{ij} \\sim N \\bigg( 0, \\, \\frac{\\alpha}{n_{in}} \\bigg) \\ . $$"
   ]
  },
  {
   "cell_type": "markdown",
   "metadata": {
    "id": "mqeyab9qFtGs"
   },
   "source": [
    "## Exercise i) Glorot and He initialization\n",
    " \n",
    "Using the Initializer class, implement functions that implement Glorot and He \n",
    "\n",
    "Explain briefly how you would test numerically that these initializations have the sought after property. Hint: See plots in Glorot paper.\n",
    "\n",
    "Comment: If you want to be more advanced then try to make a universal initializer taking both the activation function and type (Glorot or He) as argument."
   ]
  },
  {
   "cell_type": "code",
   "execution_count": 98,
   "metadata": {
    "id": "Qyk01CgaFtGt"
   },
   "outputs": [],
   "source": [
    "## Glorot\n",
    "def DenseLayer_Glorot_tanh(n_in: int, n_out: int):\n",
    "  std = np.sqrt(2 * 1 / (n_in + n_out)) # <- replace with proper initialization\n",
    "  return DenseLayer(n_in, n_out, lambda x: x.tanh(), initializer = NormalInitializer(std))\n",
    "\n",
    "## He\n",
    "def DenseLayer_He_relu(n_in: int, n_out: int):\n",
    "  std = np.sqrt(2/n_in) # <- replace with proper initialization\n",
    "  return DenseLayer(n_in, n_out, lambda x: x.relu(), initializer = NormalInitializer(std))"
   ]
  },
  {
   "cell_type": "markdown",
   "source": [
    "Plotting the activation values of each layer in a histogram to see if they look normally distributed, would reveal whether the initialisation is implemented correctly."
   ],
   "metadata": {
    "collapsed": false
   }
  },
  {
   "cell_type": "markdown",
   "metadata": {
    "id": "-XyXBD37FtHk"
   },
   "source": [
    "## Exercise j) Forward pass unit test\n",
    "\n",
    "Write a bit of code to make a unit test that the forward pass works. This can be done by defining a simple network with for example all weights equal to one (using the ConstantInitializer method) and identity activation functions. \n",
    "\n",
    "Hints: Use the [assert](https://www.w3schools.com/python/ref_keyword_assert.asp), the nparray_to_Var and the Var_to_nparray commands. "
   ]
  },
  {
   "cell_type": "code",
   "execution_count": 57,
   "metadata": {
    "id": "k0miqRUAFtHl"
   },
   "outputs": [],
   "source": [
    "NN = [ DenseLayer(1, 1, lambda x: x.identity(), initializer = ConstantInitializer(1.0)),\n",
    "       DenseLayer(1, 1, lambda x: x.identity(), initializer = ConstantInitializer(1.0))\n",
    "       ]\n",
    "\n",
    "inpNumpy = np.array([[1]])\n",
    "inp = nparray_to_Var(inpNumpy)\n",
    "out = forward(inp, NN)\n",
    "assert Var_to_nparray(out) == inpNumpy * 3"
   ]
  },
  {
   "cell_type": "markdown",
   "metadata": {
    "id": "faCxhfFnFtHp"
   },
   "source": [
    "# Loss functions\n",
    "\n",
    "We are only missing a loss function to we need to define a loss function and its derivative with respect to the output of the neural network $y$"
   ]
  },
  {
   "cell_type": "code",
   "execution_count": 100,
   "metadata": {
    "id": "I2eDYKvAFtHq"
   },
   "outputs": [],
   "source": [
    "def squared_loss(t, y):\n",
    "  \n",
    "  assert len(t) == len(y)\n",
    "  \n",
    "  def squared_loss_single(t, y):\n",
    "    Loss = Var(0.0)\n",
    "    for i in range(len(t)): # sum over outputs\n",
    "      Loss += (t[i]-y[i]) ** 2\n",
    "    return Loss\n",
    "\n",
    "  Loss = Var(0.0)\n",
    "  for n in range(len(t)): # sum over training data\n",
    "    Loss += squared_loss_single(t[n],y[n])\n",
    "  return Loss"
   ]
  },
  {
   "cell_type": "markdown",
   "metadata": {
    "id": "SrwSJ2UWFtHu"
   },
   "source": [
    "## Exercise k) Implement cross entropy loss\n",
    "\n",
    "Insert code below to implement cross-entropy loss for general dimensionality of $t$. Use a logits formulation:\n",
    "$$\n",
    "\\rm{Loss} = - \\sum_i t_i \\, log \\, p_i \n",
    "$$\n",
    "with $p$ given by the the softmax function in terms of the logits $h$:\n",
    "$$\n",
    "p_i = \\frac{\\exp(h_i)}{\\sum_{i'} \\exp(h_{i'})} .\n",
    "$$\n",
    "Inserting $p$ in the expression for the loss gives\n",
    "$$\n",
    "\\rm{Loss} = - \\sum_i t_i h_i + \\rm{LogSumExp}(h) \\ ,\n",
    "$$\n",
    "where \n",
    "$$\n",
    "\\rm{LogSumExp}(h) = \\log \\sum_i \\exp h_i \\ .\n",
    "$$\n",
    "This is true for $t$ being a one-hot vector. \n",
    "\n",
    "Call the function to convince yourself it works. \n",
    "\n",
    "In practice you want to implement a [numerically stable](https://leimao.github.io/blog/LogSumExp/) version of LogSumExp. But we will not bother about that here.\n",
    "\n",
    "Help: You can add these methods in the Var class:\n",
    "\n",
    "    def exp(self):\n",
    "        return Var(exp(self.v), lambda: [(self, exp(self.v))])\n",
    "    \n",
    "    def log(self):\n",
    "        return Var(log(self.v), lambda: [(self, self.v ** -1)])"
   ]
  },
  {
   "cell_type": "code",
   "execution_count": 59,
   "metadata": {
    "id": "6nMuxyfzFtHv"
   },
   "outputs": [],
   "source": [
    "def cross_entropy_loss(t, h):\n",
    "    Loss = Var(0.0)\n",
    "    SE = Var(0.0)\n",
    "\n",
    "    for i in range(len(h)):\n",
    "        SE += h[i].exp()\n",
    "        Loss -= t[i] * h[i]\n",
    "\n",
    "    Loss += SE.log()\n",
    "\n",
    "    # Insert code here\n",
    "    return Loss"
   ]
  },
  {
   "cell_type": "markdown",
   "metadata": {
    "id": "8fAF5ew4FtHy"
   },
   "source": [
    "# Backward pass\n",
    "\n",
    "Now the magic happens! We get the calculation of the gradients for free. Just do:"
   ]
  },
  {
   "cell_type": "code",
   "execution_count": 79,
   "metadata": {
    "id": "iHyfPPI9Qqwu"
   },
   "outputs": [],
   "source": [
    "NN = [\n",
    "    DenseLayer(1, 5, lambda x: x.relu()),\n",
    "    DenseLayer(5, 1, lambda x: x.identity())\n",
    "]\n",
    "\n",
    "output = forward(x_train, NN)\n",
    "\n",
    "Loss = squared_loss(y_train,output)\n",
    "Loss.backward()"
   ]
  },
  {
   "cell_type": "markdown",
   "metadata": {
    "id": "49biIAYKQ1oG"
   },
   "source": [
    "and the gradients will be calculated:"
   ]
  },
  {
   "cell_type": "code",
   "execution_count": 80,
   "metadata": {
    "id": "_rGt1bq_Q7uk"
   },
   "outputs": [
    {
     "name": "stdout",
     "output_type": "stream",
     "text": [
      "Layer 0 \n",
      " Weights: [[Var(v=-0.0822, grad=1.6993), Var(v=0.0626, grad=-29.4681), Var(v=-0.0343, grad=-0.8790), Var(v=-0.0635, grad=-0.1664), Var(v=0.0157, grad=-9.2466)]] Biases: [Var(v=0.0000, grad=-4.4318), Var(v=0.0000, grad=-10.1723), Var(v=0.0000, grad=2.2925), Var(v=0.0000, grad=0.4339), Var(v=0.0000, grad=-3.1919)]\n",
      "Layer 1 \n",
      " Weights: [[Var(v=-0.0883, grad=-14.7272)], [Var(v=0.1530, grad=-12.0493)], [Var(v=0.0457, grad=0.6603)], [Var(v=0.0086, grad=1.2217)], [Var(v=0.0480, grad=-3.0314)]] Biases: [Var(v=0.0000, grad=-81.5401)]\n"
     ]
    },
    {
     "data": {
      "text/plain": "[None, None]"
     },
     "execution_count": 80,
     "metadata": {},
     "output_type": "execute_result"
    }
   ],
   "source": [
    "[print('Layer', i, '\\n', NN[i]) for i in range(len(NN))] "
   ]
  },
  {
   "cell_type": "markdown",
   "metadata": {
    "id": "D7d7qK0uFtH9"
   },
   "source": [
    "# Backward pass unit test\n",
    "\n",
    "Above we used finite differences to test that Nanograd is actually doing what it is supposed to do. We can in principle try the same for the neural network. But we will trust that the test above is enough."
   ]
  },
  {
   "cell_type": "markdown",
   "metadata": {
    "id": "WgBi8GOSFtIN"
   },
   "source": [
    "# Training and validation\n",
    "\n",
    "We are ready to train some neural networks!\n",
    "\n",
    "We initialize again:"
   ]
  },
  {
   "cell_type": "code",
   "execution_count": 64,
   "metadata": {
    "id": "01ePmzBzRtdh"
   },
   "outputs": [],
   "source": [
    "NN = [\n",
    "    DenseLayer(1, 15, lambda x: x.relu()),\n",
    "    DenseLayer(15, 50, lambda x: x.relu()),\n",
    "    DenseLayer(50, 1, lambda x: x.identity())\n",
    "]\n",
    "\n",
    "output = forward(x_train, NN)\n",
    "\n",
    "Loss = squared_loss(y_train, output)\n",
    "Loss.backward()"
   ]
  },
  {
   "cell_type": "markdown",
   "metadata": {
    "id": "10iRPiQ1ISHw"
   },
   "source": [
    "and make an update:\n",
    "\n",
    "We introduce a help function parameters to have a handle in all parameters in the network."
   ]
  },
  {
   "cell_type": "code",
   "execution_count": 65,
   "metadata": {
    "id": "dhAI7eyeznia"
   },
   "outputs": [
    {
     "name": "stdout",
     "output_type": "stream",
     "text": [
      "Network before update:\n",
      "Layer 0 \n",
      " Weights: [[Var(v=0.0275, grad=-1.8140), Var(v=-0.1074, grad=0.2514), Var(v=0.1914, grad=-10.2512), Var(v=-0.1400, grad=0.8407), Var(v=0.1161, grad=-0.4565), Var(v=0.0054, grad=6.3523), Var(v=0.1606, grad=-8.9967), Var(v=0.0102, grad=-0.8670), Var(v=0.2373, grad=-1.6632), Var(v=0.0369, grad=5.0165), Var(v=-0.0907, grad=0.7483), Var(v=-0.0937, grad=0.3056), Var(v=-0.0021, grad=-0.5586), Var(v=0.0205, grad=5.3997), Var(v=-0.0841, grad=-1.3146)]] Biases: [Var(v=0.0000, grad=-0.1956), Var(v=0.0000, grad=-0.6621), Var(v=0.0000, grad=-4.5216), Var(v=0.0000, grad=-2.2173), Var(v=0.0000, grad=-0.1087), Var(v=0.0000, grad=2.1856), Var(v=0.0000, grad=-1.9759), Var(v=0.0000, grad=0.4793), Var(v=0.0000, grad=-0.1832), Var(v=0.0000, grad=2.2515), Var(v=0.0000, grad=-1.9743), Var(v=0.0000, grad=-0.8056), Var(v=0.0000, grad=1.4613), Var(v=0.0000, grad=3.2484), Var(v=0.0000, grad=3.4566)]\n",
      "Layer 1 \n",
      " Weights: [[Var(v=0.0166, grad=1.7936), Var(v=0.0659, grad=1.5266), Var(v=-0.1077, grad=0.0000), Var(v=-0.2264, grad=0.0000), Var(v=-0.0346, grad=0.0000), Var(v=-0.0291, grad=0.0000), Var(v=-0.0388, grad=-1.2341), Var(v=0.1097, grad=-0.3971), Var(v=0.0612, grad=-3.9107), Var(v=0.0263, grad=1.3511), Var(v=0.0268, grad=1.4126), Var(v=-0.0974, grad=0.0000), Var(v=-0.0132, grad=0.0000), Var(v=-0.0712, grad=0.0000), Var(v=-0.0534, grad=0.0000), Var(v=-0.0715, grad=-14.0822), Var(v=0.0689, grad=0.2178), Var(v=-0.0551, grad=0.0000), Var(v=0.0370, grad=-12.8020), Var(v=-0.0157, grad=0.1425), Var(v=-0.1395, grad=0.0000), Var(v=-0.0569, grad=0.0000), Var(v=0.1527, grad=-0.3987), Var(v=-0.0133, grad=0.0000), Var(v=-0.0251, grad=-2.2438), Var(v=-0.1238, grad=0.0000), Var(v=-0.0152, grad=14.1133), Var(v=-0.1657, grad=0.0000), Var(v=0.0545, grad=-13.9537), Var(v=-0.0843, grad=0.0000), Var(v=0.1167, grad=0.3116), Var(v=-0.1430, grad=0.0000), Var(v=-0.0321, grad=0.1156), Var(v=0.0499, grad=0.3514), Var(v=-0.0009, grad=0.0000), Var(v=-0.0012, grad=0.0000), Var(v=0.1121, grad=1.0931), Var(v=-0.1340, grad=0.0000), Var(v=-0.0171, grad=-5.2349), Var(v=0.1471, grad=2.0033), Var(v=-0.1506, grad=0.0000), Var(v=0.1253, grad=-1.3357), Var(v=0.1717, grad=3.0590), Var(v=-0.0756, grad=0.0000), Var(v=0.0151, grad=-1.4543), Var(v=-0.0286, grad=0.0000), Var(v=-0.0717, grad=0.0000), Var(v=-0.0855, grad=0.0000), Var(v=0.1658, grad=-0.7410), Var(v=-0.1126, grad=-5.2200)], [Var(v=0.0585, grad=0.1927), Var(v=-0.2044, grad=0.1640), Var(v=-0.0154, grad=0.0000), Var(v=-0.0458, grad=0.0000), Var(v=-0.0820, grad=0.0000), Var(v=-0.1614, grad=0.0000), Var(v=0.0329, grad=0.0000), Var(v=-0.0703, grad=-0.0427), Var(v=0.0677, grad=-0.0926), Var(v=-0.0332, grad=0.1451), Var(v=-0.0473, grad=0.1517), Var(v=0.0233, grad=0.0000), Var(v=-0.0895, grad=0.0000), Var(v=-0.0166, grad=0.0000), Var(v=-0.1834, grad=0.0000), Var(v=0.0573, grad=0.0000), Var(v=-0.1157, grad=0.0234), Var(v=-0.0607, grad=0.0000), Var(v=-0.0252, grad=-0.3132), Var(v=0.0173, grad=0.0085), Var(v=0.0504, grad=0.0000), Var(v=0.0674, grad=0.0000), Var(v=-0.1245, grad=-0.0428), Var(v=0.1373, grad=0.0000), Var(v=-0.0483, grad=0.0000), Var(v=0.0671, grad=0.0000), Var(v=-0.0646, grad=0.0000), Var(v=0.1319, grad=0.0000), Var(v=0.0481, grad=-0.4009), Var(v=0.1182, grad=0.0000), Var(v=0.0748, grad=0.0335), Var(v=0.0199, grad=0.0000), Var(v=0.0170, grad=0.0000), Var(v=-0.0243, grad=0.0377), Var(v=-0.0693, grad=0.0000), Var(v=-0.1484, grad=0.0000), Var(v=0.0285, grad=0.1174), Var(v=0.0517, grad=0.0000), Var(v=0.0774, grad=0.0000), Var(v=-0.0151, grad=0.2152), Var(v=0.0114, grad=0.0000), Var(v=-0.0691, grad=-0.1435), Var(v=0.0482, grad=0.3286), Var(v=-0.0078, grad=0.0000), Var(v=-0.0137, grad=-0.1562), Var(v=-0.1593, grad=0.0000), Var(v=0.1734, grad=0.0000), Var(v=0.0191, grad=0.0000), Var(v=0.1315, grad=-0.0796), Var(v=0.0147, grad=0.0000)], [Var(v=0.0798, grad=-2.2917), Var(v=0.1039, grad=-1.9505), Var(v=0.0357, grad=0.0000), Var(v=-0.0478, grad=0.0000), Var(v=-0.0217, grad=0.0000), Var(v=0.0197, grad=0.0000), Var(v=0.0233, grad=-0.5443), Var(v=-0.0099, grad=0.5074), Var(v=-0.0329, grad=-0.1128), Var(v=-0.0473, grad=-1.7262), Var(v=-0.0478, grad=-1.8049), Var(v=-0.1104, grad=0.0000), Var(v=-0.2209, grad=0.0000), Var(v=-0.0903, grad=0.0000), Var(v=0.0101, grad=0.0000), Var(v=0.1217, grad=-5.6177), Var(v=0.0416, grad=-0.2783), Var(v=-0.0494, grad=0.0000), Var(v=-0.1263, grad=-0.2820), Var(v=-0.0576, grad=0.0000), Var(v=-0.0192, grad=0.0000), Var(v=0.0742, grad=0.0000), Var(v=0.0831, grad=0.5095), Var(v=-0.0189, grad=0.0000), Var(v=0.1876, grad=-1.1076), Var(v=0.0356, grad=0.0000), Var(v=-0.1110, grad=5.8746), Var(v=0.0346, grad=0.0000), Var(v=0.1570, grad=0.3203), Var(v=0.1920, grad=0.0000), Var(v=0.0342, grad=-0.3981), Var(v=-0.0448, grad=0.0000), Var(v=-0.1048, grad=0.0575), Var(v=-0.0749, grad=-0.4490), Var(v=0.0532, grad=0.0000), Var(v=-0.1832, grad=0.0000), Var(v=-0.0057, grad=-1.3966), Var(v=0.1255, grad=0.0000), Var(v=0.0799, grad=-2.3004), Var(v=0.0318, grad=-2.5595), Var(v=0.0560, grad=0.0000), Var(v=0.0304, grad=1.7066), Var(v=-0.1008, grad=-3.9084), Var(v=-0.0914, grad=0.0000), Var(v=-0.0807, grad=1.8581), Var(v=0.0240, grad=0.0000), Var(v=-0.0146, grad=0.0000), Var(v=-0.2539, grad=0.0000), Var(v=-0.0070, grad=0.9468), Var(v=0.1439, grad=-2.4299)], [Var(v=-0.2066, grad=0.2511), Var(v=-0.1144, grad=0.2137), Var(v=-0.0585, grad=0.0000), Var(v=-0.0484, grad=0.0000), Var(v=-0.1377, grad=0.0000), Var(v=-0.1901, grad=0.0000), Var(v=0.0555, grad=0.0000), Var(v=0.0427, grad=-0.0556), Var(v=-0.0241, grad=-0.1207), Var(v=0.0115, grad=0.1891), Var(v=0.1227, grad=0.1977), Var(v=-0.2380, grad=0.0000), Var(v=-0.0134, grad=0.0000), Var(v=-0.0489, grad=0.0000), Var(v=0.0338, grad=0.0000), Var(v=0.0988, grad=0.0000), Var(v=0.0039, grad=0.0305), Var(v=-0.0117, grad=0.0000), Var(v=-0.0306, grad=-0.4081), Var(v=0.1041, grad=0.0111), Var(v=-0.0933, grad=0.0000), Var(v=0.0602, grad=0.0000), Var(v=-0.1230, grad=-0.0558), Var(v=0.0409, grad=0.0000), Var(v=-0.1081, grad=0.0000), Var(v=-0.0182, grad=0.0000), Var(v=-0.0328, grad=0.0000), Var(v=0.0281, grad=0.0000), Var(v=0.1517, grad=-0.5223), Var(v=0.0495, grad=0.0000), Var(v=0.0275, grad=0.0436), Var(v=-0.1799, grad=0.0000), Var(v=-0.0385, grad=0.0000), Var(v=0.0281, grad=0.0492), Var(v=0.0418, grad=0.0000), Var(v=-0.1429, grad=0.0000), Var(v=0.0966, grad=0.1530), Var(v=-0.0150, grad=0.0000), Var(v=-0.1462, grad=0.0000), Var(v=0.0020, grad=0.2804), Var(v=0.0413, grad=0.0000), Var(v=-0.0814, grad=-0.1870), Var(v=-0.1154, grad=0.4282), Var(v=0.0563, grad=0.0000), Var(v=0.0040, grad=-0.2036), Var(v=-0.1062, grad=0.0000), Var(v=-0.0002, grad=0.0000), Var(v=-0.0668, grad=0.0000), Var(v=-0.0705, grad=-0.1037), Var(v=-0.0911, grad=0.0000)], [Var(v=0.0336, grad=-1.3905), Var(v=-0.0205, grad=-1.1835), Var(v=-0.1034, grad=0.0000), Var(v=0.1650, grad=0.0000), Var(v=-0.0964, grad=0.0000), Var(v=-0.0007, grad=0.0000), Var(v=-0.0113, grad=-0.3303), Var(v=-0.0745, grad=0.3078), Var(v=0.1230, grad=-0.0684), Var(v=-0.0304, grad=-1.0474), Var(v=0.2446, grad=-1.0951), Var(v=-0.0176, grad=0.0000), Var(v=0.1284, grad=0.0000), Var(v=0.0594, grad=0.0000), Var(v=-0.1043, grad=0.0000), Var(v=0.0604, grad=-3.4085), Var(v=-0.0499, grad=-0.1688), Var(v=0.0720, grad=0.0000), Var(v=-0.0399, grad=-0.1711), Var(v=-0.0921, grad=0.0000), Var(v=0.1080, grad=0.0000), Var(v=-0.0284, grad=0.0000), Var(v=-0.0630, grad=0.3091), Var(v=0.0603, grad=0.0000), Var(v=-0.0999, grad=-0.6720), Var(v=-0.1504, grad=0.0000), Var(v=-0.0035, grad=3.5644), Var(v=-0.0635, grad=0.0000), Var(v=-0.1660, grad=0.1944), Var(v=-0.0632, grad=0.0000), Var(v=0.1195, grad=-0.2416), Var(v=-0.0906, grad=0.0000), Var(v=0.1232, grad=0.0349), Var(v=0.0045, grad=-0.2724), Var(v=-0.0173, grad=0.0000), Var(v=0.0075, grad=0.0000), Var(v=0.1275, grad=-0.8474), Var(v=0.1090, grad=0.0000), Var(v=0.1892, grad=-1.3958), Var(v=-0.1607, grad=-1.5530), Var(v=-0.1448, grad=0.0000), Var(v=0.0345, grad=1.0355), Var(v=-0.1105, grad=-2.3714), Var(v=-0.0291, grad=0.0000), Var(v=0.2465, grad=1.1274), Var(v=0.0332, grad=0.0000), Var(v=-0.1336, grad=0.0000), Var(v=-0.2128, grad=0.0000), Var(v=-0.0249, grad=0.5745), Var(v=-0.0053, grad=-1.4743)], [Var(v=-0.0178, grad=-0.0648), Var(v=0.0400, grad=-0.0552), Var(v=0.0714, grad=0.0000), Var(v=-0.0860, grad=0.0000), Var(v=-0.0206, grad=0.0000), Var(v=0.0254, grad=0.0000), Var(v=0.0188, grad=-0.0154), Var(v=0.1782, grad=0.0144), Var(v=-0.0180, grad=-0.0032), Var(v=-0.0146, grad=-0.0488), Var(v=0.0477, grad=-0.0511), Var(v=-0.1092, grad=0.0000), Var(v=-0.0613, grad=0.0000), Var(v=0.1298, grad=0.0000), Var(v=0.0391, grad=0.0000), Var(v=-0.0185, grad=-0.1589), Var(v=0.0195, grad=-0.0079), Var(v=0.2199, grad=0.0000), Var(v=-0.0291, grad=-0.0080), Var(v=-0.0963, grad=0.0000), Var(v=-0.0333, grad=0.0000), Var(v=-0.0972, grad=0.0000), Var(v=-0.0322, grad=0.0144), Var(v=-0.1003, grad=0.0000), Var(v=-0.1782, grad=-0.0313), Var(v=-0.0075, grad=0.0000), Var(v=0.0490, grad=0.1662), Var(v=-0.1185, grad=0.0000), Var(v=0.0462, grad=0.0091), Var(v=-0.1076, grad=0.0000), Var(v=-0.1257, grad=-0.0113), Var(v=0.1579, grad=0.0000), Var(v=0.0871, grad=0.0016), Var(v=0.0538, grad=-0.0127), Var(v=0.0073, grad=0.0000), Var(v=-0.0722, grad=0.0000), Var(v=0.1623, grad=-0.0395), Var(v=0.1191, grad=0.0000), Var(v=0.0430, grad=-0.0651), Var(v=0.0136, grad=-0.0724), Var(v=-0.0304, grad=0.0000), Var(v=0.0448, grad=0.0483), Var(v=-0.0720, grad=-0.1106), Var(v=-0.2023, grad=0.0000), Var(v=0.1345, grad=0.0526), Var(v=-0.1599, grad=0.0000), Var(v=-0.0197, grad=0.0000), Var(v=0.0097, grad=0.0000), Var(v=-0.0506, grad=0.0268), Var(v=-0.1691, grad=-0.0687)], [Var(v=0.2087, grad=-1.9233), Var(v=0.0915, grad=-1.6370), Var(v=0.0857, grad=0.0000), Var(v=-0.2246, grad=0.0000), Var(v=-0.0547, grad=0.0000), Var(v=0.0900, grad=0.0000), Var(v=0.0245, grad=-0.4568), Var(v=0.0318, grad=0.4258), Var(v=-0.0180, grad=-0.0947), Var(v=0.0223, grad=-1.4487), Var(v=0.0760, grad=-1.5147), Var(v=0.0375, grad=0.0000), Var(v=0.0079, grad=0.0000), Var(v=0.0278, grad=0.0000), Var(v=0.0610, grad=0.0000), Var(v=0.0564, grad=-4.7147), Var(v=0.1308, grad=-0.2335), Var(v=-0.0058, grad=0.0000), Var(v=0.0216, grad=-0.2367), Var(v=-0.0431, grad=0.0000), Var(v=0.1124, grad=0.0000), Var(v=0.1059, grad=0.0000), Var(v=-0.0016, grad=0.4276), Var(v=0.0723, grad=0.0000), Var(v=0.2760, grad=-0.9296), Var(v=0.1042, grad=0.0000), Var(v=0.0135, grad=4.9302), Var(v=0.0148, grad=0.0000), Var(v=-0.1436, grad=0.2688), Var(v=-0.0703, grad=0.0000), Var(v=-0.0232, grad=-0.3341), Var(v=-0.0006, grad=0.0000), Var(v=-0.0096, grad=0.0482), Var(v=0.1422, grad=-0.3768), Var(v=-0.1899, grad=0.0000), Var(v=0.0425, grad=0.0000), Var(v=-0.0086, grad=-1.1721), Var(v=-0.0573, grad=0.0000), Var(v=-0.0327, grad=-1.9306), Var(v=0.0317, grad=-2.1481), Var(v=0.0035, grad=0.0000), Var(v=0.0680, grad=1.4323), Var(v=0.0535, grad=-3.2801), Var(v=0.2524, grad=0.0000), Var(v=0.0142, grad=1.5594), Var(v=-0.0919, grad=0.0000), Var(v=-0.1040, grad=0.0000), Var(v=0.0793, grad=0.0000), Var(v=0.0111, grad=0.7946), Var(v=0.0644, grad=-2.0393)], [Var(v=0.0903, grad=-0.1219), Var(v=0.0022, grad=-0.1038), Var(v=-0.0046, grad=0.0000), Var(v=0.0057, grad=0.0000), Var(v=-0.0642, grad=0.0000), Var(v=0.0251, grad=0.0000), Var(v=-0.0288, grad=-0.0290), Var(v=-0.0022, grad=0.0270), Var(v=-0.0941, grad=-0.0060), Var(v=-0.1253, grad=-0.0918), Var(v=-0.0884, grad=-0.0960), Var(v=-0.0206, grad=0.0000), Var(v=-0.1337, grad=0.0000), Var(v=-0.2874, grad=0.0000), Var(v=0.0212, grad=0.0000), Var(v=-0.0607, grad=-0.2988), Var(v=0.0204, grad=-0.0148), Var(v=-0.0617, grad=0.0000), Var(v=0.0531, grad=-0.0150), Var(v=-0.0680, grad=0.0000), Var(v=0.0307, grad=0.0000), Var(v=0.0482, grad=0.0000), Var(v=0.0919, grad=0.0271), Var(v=-0.0880, grad=0.0000), Var(v=0.0401, grad=-0.0589), Var(v=0.1206, grad=0.0000), Var(v=-0.0247, grad=0.3125), Var(v=0.0725, grad=0.0000), Var(v=-0.1656, grad=0.0170), Var(v=0.0238, grad=0.0000), Var(v=0.0829, grad=-0.0212), Var(v=0.1146, grad=0.0000), Var(v=-0.1115, grad=0.0031), Var(v=0.1687, grad=-0.0239), Var(v=0.0013, grad=0.0000), Var(v=-0.1077, grad=0.0000), Var(v=0.0063, grad=-0.0743), Var(v=0.0285, grad=0.0000), Var(v=0.1170, grad=-0.1224), Var(v=-0.1176, grad=-0.1362), Var(v=0.1038, grad=0.0000), Var(v=-0.1069, grad=0.0908), Var(v=0.0417, grad=-0.2079), Var(v=-0.0762, grad=0.0000), Var(v=-0.0628, grad=0.0988), Var(v=0.0378, grad=0.0000), Var(v=-0.1536, grad=0.0000), Var(v=-0.1043, grad=0.0000), Var(v=0.0037, grad=0.0504), Var(v=-0.0289, grad=-0.1293)], [Var(v=-0.0046, grad=-2.8418), Var(v=0.0583, grad=-2.4188), Var(v=0.0809, grad=0.0000), Var(v=0.1248, grad=0.0000), Var(v=0.2008, grad=0.0000), Var(v=-0.0885, grad=0.0000), Var(v=0.0834, grad=-0.6750), Var(v=-0.0444, grad=0.6292), Var(v=-0.2326, grad=-0.1399), Var(v=0.0999, grad=-2.1406), Var(v=0.1619, grad=-2.2381), Var(v=-0.0403, grad=0.0000), Var(v=0.0246, grad=0.0000), Var(v=-0.0078, grad=0.0000), Var(v=0.0591, grad=0.0000), Var(v=0.2026, grad=-6.9663), Var(v=-0.1851, grad=-0.3451), Var(v=-0.0578, grad=0.0000), Var(v=-0.0092, grad=-0.3497), Var(v=-0.0050, grad=0.0000), Var(v=-0.0611, grad=0.0000), Var(v=-0.0501, grad=0.0000), Var(v=-0.0418, grad=0.6318), Var(v=-0.0807, grad=0.0000), Var(v=0.1046, grad=-1.3735), Var(v=-0.1437, grad=0.0000), Var(v=0.1544, grad=7.2848), Var(v=0.0748, grad=0.0000), Var(v=-0.0456, grad=0.3972), Var(v=0.0482, grad=0.0000), Var(v=0.0507, grad=-0.4937), Var(v=-0.0799, grad=0.0000), Var(v=0.1132, grad=0.0713), Var(v=-0.0830, grad=-0.5568), Var(v=-0.0547, grad=0.0000), Var(v=0.0353, grad=0.0000), Var(v=-0.0120, grad=-1.7319), Var(v=-0.1886, grad=0.0000), Var(v=-0.0439, grad=-2.8526), Var(v=0.0194, grad=-3.1740), Var(v=-0.1426, grad=0.0000), Var(v=0.0224, grad=2.1163), Var(v=-0.1089, grad=-4.8466), Var(v=-0.0764, grad=0.0000), Var(v=0.1054, grad=2.3041), Var(v=-0.0156, grad=0.0000), Var(v=-0.0812, grad=0.0000), Var(v=-0.0710, grad=0.0000), Var(v=-0.1166, grad=1.1741), Var(v=0.0088, grad=-3.0132)], [Var(v=-0.1647, grad=-0.4424), Var(v=-0.0729, grad=-0.3765), Var(v=-0.0080, grad=0.0000), Var(v=-0.0279, grad=0.0000), Var(v=-0.1489, grad=0.0000), Var(v=0.0016, grad=0.0000), Var(v=-0.0323, grad=-0.1051), Var(v=-0.1110, grad=0.0979), Var(v=-0.1003, grad=-0.0218), Var(v=-0.0278, grad=-0.3332), Var(v=-0.1152, grad=-0.3484), Var(v=0.0670, grad=0.0000), Var(v=-0.1300, grad=0.0000), Var(v=0.0996, grad=0.0000), Var(v=-0.0229, grad=0.0000), Var(v=-0.0673, grad=-1.0844), Var(v=0.1025, grad=-0.0537), Var(v=-0.0106, grad=0.0000), Var(v=0.0671, grad=-0.0544), Var(v=-0.0324, grad=0.0000), Var(v=0.0089, grad=0.0000), Var(v=-0.1377, grad=0.0000), Var(v=0.0678, grad=0.0983), Var(v=-0.0381, grad=0.0000), Var(v=-0.2120, grad=-0.2138), Var(v=0.0322, grad=0.0000), Var(v=0.1040, grad=1.1340), Var(v=0.0877, grad=0.0000), Var(v=-0.2132, grad=0.0618), Var(v=0.0221, grad=0.0000), Var(v=-0.0092, grad=-0.0768), Var(v=-0.0747, grad=0.0000), Var(v=-0.0868, grad=0.0111), Var(v=-0.0067, grad=-0.0867), Var(v=0.1365, grad=0.0000), Var(v=-0.0859, grad=0.0000), Var(v=0.0699, grad=-0.2696), Var(v=-0.0749, grad=0.0000), Var(v=0.0995, grad=-0.4440), Var(v=-0.1489, grad=-0.4941), Var(v=0.0921, grad=0.0000), Var(v=-0.1382, grad=0.3294), Var(v=-0.0379, grad=-0.7544), Var(v=0.0450, grad=0.0000), Var(v=-0.0832, grad=0.3587), Var(v=0.1065, grad=0.0000), Var(v=-0.0156, grad=0.0000), Var(v=-0.0042, grad=0.0000), Var(v=0.1213, grad=0.1828), Var(v=0.3536, grad=-0.4691)], [Var(v=-0.0340, grad=0.1627), Var(v=-0.1450, grad=0.1385), Var(v=-0.0673, grad=0.0000), Var(v=0.1058, grad=0.0000), Var(v=-0.0776, grad=0.0000), Var(v=-0.1092, grad=0.0000), Var(v=-0.0470, grad=0.0000), Var(v=0.0572, grad=-0.0360), Var(v=0.1227, grad=-0.0782), Var(v=-0.1058, grad=0.1226), Var(v=-0.1555, grad=0.1281), Var(v=0.0152, grad=0.0000), Var(v=-0.0807, grad=0.0000), Var(v=0.1168, grad=0.0000), Var(v=0.0565, grad=0.0000), Var(v=-0.0386, grad=0.0000), Var(v=0.0799, grad=0.0198), Var(v=-0.0232, grad=0.0000), Var(v=0.2325, grad=-0.2645), Var(v=0.1019, grad=0.0072), Var(v=0.0803, grad=0.0000), Var(v=0.0559, grad=0.0000), Var(v=0.0311, grad=-0.0362), Var(v=-0.0357, grad=0.0000), Var(v=-0.0243, grad=0.0000), Var(v=-0.1548, grad=0.0000), Var(v=0.0710, grad=0.0000), Var(v=0.0639, grad=0.0000), Var(v=-0.1356, grad=-0.3385), Var(v=-0.1196, grad=0.0000), Var(v=0.0577, grad=0.0283), Var(v=0.2020, grad=0.0000), Var(v=0.2109, grad=0.0000), Var(v=0.1286, grad=0.0319), Var(v=-0.1079, grad=0.0000), Var(v=0.0933, grad=0.0000), Var(v=0.0771, grad=0.0992), Var(v=0.1385, grad=0.0000), Var(v=0.0876, grad=0.0000), Var(v=0.1231, grad=0.1817), Var(v=0.1716, grad=0.0000), Var(v=0.1361, grad=-0.1212), Var(v=-0.0870, grad=0.2775), Var(v=-0.3042, grad=0.0000), Var(v=-0.0927, grad=-0.1319), Var(v=0.0441, grad=0.0000), Var(v=-0.1991, grad=0.0000), Var(v=0.0273, grad=0.0000), Var(v=-0.1392, grad=-0.0672), Var(v=-0.0137, grad=0.0000)], [Var(v=-0.0988, grad=0.1680), Var(v=0.0196, grad=0.1430), Var(v=-0.0127, grad=0.0000), Var(v=0.1999, grad=0.0000), Var(v=-0.0897, grad=0.0000), Var(v=-0.0076, grad=0.0000), Var(v=0.0267, grad=0.0000), Var(v=0.1173, grad=-0.0372), Var(v=-0.0517, grad=-0.0808), Var(v=0.0316, grad=0.1266), Var(v=0.0696, grad=0.1323), Var(v=-0.1520, grad=0.0000), Var(v=0.0177, grad=0.0000), Var(v=0.1819, grad=0.0000), Var(v=0.0069, grad=0.0000), Var(v=0.0539, grad=0.0000), Var(v=-0.0463, grad=0.0204), Var(v=0.0837, grad=0.0000), Var(v=-0.1294, grad=-0.2731), Var(v=0.0326, grad=0.0074), Var(v=0.0456, grad=0.0000), Var(v=0.1214, grad=0.0000), Var(v=0.0429, grad=-0.0374), Var(v=-0.0056, grad=0.0000), Var(v=-0.0281, grad=0.0000), Var(v=-0.0526, grad=0.0000), Var(v=0.0781, grad=0.0000), Var(v=-0.1001, grad=0.0000), Var(v=0.0842, grad=-0.3496), Var(v=-0.1031, grad=0.0000), Var(v=-0.1383, grad=0.0292), Var(v=0.0627, grad=0.0000), Var(v=0.0982, grad=0.0000), Var(v=0.1570, grad=0.0329), Var(v=0.0466, grad=0.0000), Var(v=-0.0339, grad=0.0000), Var(v=-0.0242, grad=0.1024), Var(v=-0.0968, grad=0.0000), Var(v=0.0136, grad=0.0000), Var(v=-0.0292, grad=0.1877), Var(v=0.0200, grad=0.0000), Var(v=0.0463, grad=-0.1251), Var(v=-0.0789, grad=0.2866), Var(v=0.0750, grad=0.0000), Var(v=-0.0240, grad=-0.1362), Var(v=0.0121, grad=0.0000), Var(v=0.1041, grad=0.0000), Var(v=0.0079, grad=0.0000), Var(v=-0.0074, grad=-0.0694), Var(v=-0.0006, grad=0.0000)], [Var(v=-0.0581, grad=0.0038), Var(v=0.1351, grad=0.0032), Var(v=0.0019, grad=0.0000), Var(v=0.1467, grad=0.0000), Var(v=-0.1703, grad=0.0000), Var(v=0.0694, grad=0.0000), Var(v=-0.0722, grad=0.0000), Var(v=0.0754, grad=-0.0008), Var(v=0.1026, grad=-0.0018), Var(v=-0.0836, grad=0.0029), Var(v=0.0724, grad=0.0030), Var(v=-0.1760, grad=0.0000), Var(v=0.1511, grad=0.0000), Var(v=-0.0570, grad=0.0000), Var(v=0.0858, grad=0.0000), Var(v=0.1266, grad=0.0000), Var(v=0.0130, grad=0.0005), Var(v=-0.1708, grad=0.0000), Var(v=0.0070, grad=-0.0062), Var(v=0.1116, grad=0.0002), Var(v=-0.0269, grad=0.0000), Var(v=-0.0522, grad=0.0000), Var(v=-0.1170, grad=-0.0008), Var(v=-0.0785, grad=0.0000), Var(v=0.0451, grad=0.0000), Var(v=0.0038, grad=0.0000), Var(v=0.0238, grad=0.0000), Var(v=0.0191, grad=0.0000), Var(v=-0.0728, grad=-0.0079), Var(v=-0.0361, grad=0.0000), Var(v=0.0046, grad=0.0007), Var(v=-0.0185, grad=0.0000), Var(v=0.0082, grad=0.0000), Var(v=0.0237, grad=0.0007), Var(v=-0.1411, grad=0.0000), Var(v=-0.1114, grad=0.0000), Var(v=-0.0273, grad=0.0023), Var(v=0.1794, grad=0.0000), Var(v=0.1429, grad=0.0000), Var(v=0.2494, grad=0.0042), Var(v=0.0980, grad=0.0000), Var(v=-0.1321, grad=-0.0028), Var(v=-0.1715, grad=0.0065), Var(v=-0.0970, grad=0.0000), Var(v=-0.1031, grad=-0.0031), Var(v=-0.0453, grad=0.0000), Var(v=0.0293, grad=0.0000), Var(v=0.0500, grad=0.0000), Var(v=0.0073, grad=-0.0016), Var(v=-0.1355, grad=0.0000)], [Var(v=0.0352, grad=-0.2456), Var(v=0.1224, grad=-0.2091), Var(v=0.0014, grad=0.0000), Var(v=0.1180, grad=0.0000), Var(v=-0.1973, grad=0.0000), Var(v=-0.0286, grad=0.0000), Var(v=-0.1854, grad=-0.0583), Var(v=0.0295, grad=0.0544), Var(v=-0.1809, grad=-0.0121), Var(v=0.0365, grad=-0.1850), Var(v=-0.1724, grad=-0.1935), Var(v=-0.1822, grad=0.0000), Var(v=0.1642, grad=0.0000), Var(v=0.0739, grad=0.0000), Var(v=-0.1425, grad=0.0000), Var(v=-0.1742, grad=-0.6021), Var(v=-0.0974, grad=-0.0298), Var(v=0.0604, grad=0.0000), Var(v=-0.1540, grad=-0.0302), Var(v=-0.0924, grad=0.0000), Var(v=-0.0291, grad=0.0000), Var(v=0.0153, grad=0.0000), Var(v=0.0871, grad=0.0546), Var(v=-0.1542, grad=0.0000), Var(v=0.1162, grad=-0.1187), Var(v=-0.0372, grad=0.0000), Var(v=-0.0002, grad=0.6297), Var(v=0.0034, grad=0.0000), Var(v=-0.0833, grad=0.0343), Var(v=-0.0334, grad=0.0000), Var(v=-0.0166, grad=-0.0427), Var(v=0.2207, grad=0.0000), Var(v=-0.1543, grad=0.0062), Var(v=-0.0049, grad=-0.0481), Var(v=0.0104, grad=0.0000), Var(v=-0.0413, grad=0.0000), Var(v=0.0435, grad=-0.1497), Var(v=0.2960, grad=0.0000), Var(v=0.0631, grad=-0.2466), Var(v=-0.0811, grad=-0.2744), Var(v=-0.1599, grad=0.0000), Var(v=0.0068, grad=0.1829), Var(v=-0.0637, grad=-0.4189), Var(v=0.0693, grad=0.0000), Var(v=0.1322, grad=0.1992), Var(v=0.1107, grad=0.0000), Var(v=0.0028, grad=0.0000), Var(v=0.0761, grad=0.0000), Var(v=-0.0642, grad=0.1015), Var(v=0.1711, grad=-0.2605)], [Var(v=0.0886, grad=0.1509), Var(v=0.1452, grad=0.1284), Var(v=0.1109, grad=0.0000), Var(v=-0.0454, grad=0.0000), Var(v=0.0316, grad=0.0000), Var(v=-0.0280, grad=0.0000), Var(v=0.1577, grad=0.0000), Var(v=0.0212, grad=-0.0334), Var(v=0.1314, grad=-0.0725), Var(v=-0.0586, grad=0.1137), Var(v=0.1197, grad=0.1188), Var(v=0.1125, grad=0.0000), Var(v=-0.0833, grad=0.0000), Var(v=0.1944, grad=0.0000), Var(v=0.1960, grad=0.0000), Var(v=-0.0903, grad=0.0000), Var(v=-0.0383, grad=0.0183), Var(v=-0.0211, grad=0.0000), Var(v=-0.1824, grad=-0.2453), Var(v=0.0013, grad=0.0067), Var(v=-0.0931, grad=0.0000), Var(v=-0.0235, grad=0.0000), Var(v=0.0094, grad=-0.0335), Var(v=-0.1651, grad=0.0000), Var(v=0.0065, grad=0.0000), Var(v=0.1502, grad=0.0000), Var(v=0.0705, grad=0.0000), Var(v=-0.0500, grad=0.0000), Var(v=0.0639, grad=-0.3140), Var(v=-0.0227, grad=0.0000), Var(v=0.0820, grad=0.0262), Var(v=-0.0644, grad=0.0000), Var(v=0.0834, grad=0.0000), Var(v=0.0580, grad=0.0296), Var(v=-0.1040, grad=0.0000), Var(v=-0.0875, grad=0.0000), Var(v=0.0901, grad=0.0920), Var(v=-0.0046, grad=0.0000), Var(v=-0.1068, grad=0.0000), Var(v=-0.0450, grad=0.1685), Var(v=0.1555, grad=0.0000), Var(v=-0.0848, grad=-0.1124), Var(v=0.0841, grad=0.2574), Var(v=0.1532, grad=0.0000), Var(v=-0.1298, grad=-0.1224), Var(v=0.0984, grad=0.0000), Var(v=0.0787, grad=0.0000), Var(v=0.0571, grad=0.0000), Var(v=-0.0958, grad=-0.0623), Var(v=-0.0116, grad=0.0000)]] Biases: [Var(v=0.0000, grad=31.8404), Var(v=0.0000, grad=27.1002), Var(v=0.0000, grad=0.0000), Var(v=0.0000, grad=0.0000), Var(v=0.0000, grad=0.0000), Var(v=0.0000, grad=0.0000), Var(v=0.0000, grad=-17.3399), Var(v=0.0000, grad=-7.0493), Var(v=0.0000, grad=-58.4178), Var(v=0.0000, grad=23.9839), Var(v=0.0000, grad=25.0765), Var(v=0.0000, grad=0.0000), Var(v=0.0000, grad=0.0000), Var(v=0.0000, grad=0.0000), Var(v=0.0000, grad=0.0000), Var(v=0.0000, grad=-199.1327), Var(v=0.0000, grad=3.8662), Var(v=0.0000, grad=0.0000), Var(v=0.0000, grad=-191.4219), Var(v=0.0000, grad=2.1381), Var(v=0.0000, grad=0.0000), Var(v=0.0000, grad=0.0000), Var(v=0.0000, grad=-7.0785), Var(v=0.0000, grad=0.0000), Var(v=0.0000, grad=-31.2711), Var(v=0.0000, grad=0.0000), Var(v=0.0000, grad=199.0471), Var(v=0.0000, grad=0.0000), Var(v=0.0000, grad=-209.9952), Var(v=0.0000, grad=0.0000), Var(v=0.0000, grad=5.5313), Var(v=0.0000, grad=0.0000), Var(v=0.0000, grad=1.6108), Var(v=0.0000, grad=6.2379), Var(v=0.0000, grad=0.0000), Var(v=0.0000, grad=0.0000), Var(v=0.0000, grad=19.4048), Var(v=0.0000, grad=0.0000), Var(v=0.0000, grad=-73.5689), Var(v=0.0000, grad=35.5619), Var(v=0.0000, grad=0.0000), Var(v=0.0000, grad=-23.7113), Var(v=0.0000, grad=54.3025), Var(v=0.0000, grad=0.0000), Var(v=0.0000, grad=-25.8159), Var(v=0.0000, grad=0.0000), Var(v=0.0000, grad=0.0000), Var(v=0.0000, grad=0.0000), Var(v=0.0000, grad=-13.1544), Var(v=0.0000, grad=-73.0668)]\n",
      "Layer 2 \n",
      " Weights: [[Var(v=0.0822, grad=18.7372)], [Var(v=0.0699, grad=-6.0868)], [Var(v=0.0642, grad=0.0000)], [Var(v=-0.1283, grad=0.0000)], [Var(v=-0.2168, grad=0.0000)], [Var(v=0.3005, grad=0.0000)], [Var(v=0.0217, grad=-0.6340)], [Var(v=-0.0182, grad=5.4561)], [Var(v=-0.0395, grad=5.6571)], [Var(v=0.0619, grad=-1.6308)], [Var(v=0.0647, grad=-8.0501)], [Var(v=0.1217, grad=0.0000)], [Var(v=-0.0547, grad=0.0000)], [Var(v=-0.1258, grad=0.0000)], [Var(v=-0.0202, grad=0.0000)], [Var(v=0.1829, grad=-7.4380)], [Var(v=0.0100, grad=3.9578)], [Var(v=0.2897, grad=0.0000)], [Var(v=-0.1335, grad=2.9441)], [Var(v=0.0149, grad=0.0051)], [Var(v=0.0060, grad=0.0000)], [Var(v=0.1579, grad=0.0000)], [Var(v=-0.0183, grad=2.3254)], [Var(v=0.1643, grad=0.0000)], [Var(v=0.0388, grad=-11.5818)], [Var(v=-0.0425, grad=0.0000)], [Var(v=-0.1959, grad=-2.2019)], [Var(v=0.1258, grad=0.0000)], [Var(v=-0.1709, grad=5.3765)], [Var(v=-0.1015, grad=0.0000)], [Var(v=0.0143, grad=-1.3214)], [Var(v=0.1176, grad=0.0000)], [Var(v=-0.0141, grad=-0.0039)], [Var(v=0.0161, grad=3.1152)], [Var(v=-0.1154, grad=0.0000)], [Var(v=0.0503, grad=0.0000)], [Var(v=0.0501, grad=1.0521)], [Var(v=-0.0232, grad=0.0000)], [Var(v=0.0785, grad=-3.1417)], [Var(v=0.0918, grad=4.9239)], [Var(v=-0.0399, grad=0.0000)], [Var(v=-0.0612, grad=-0.4231)], [Var(v=0.1401, grad=10.9108)], [Var(v=0.1351, grad=0.0000)], [Var(v=-0.0666, grad=-6.0248)], [Var(v=-0.1731, grad=0.0000)], [Var(v=0.1245, grad=0.0000)], [Var(v=0.0025, grad=0.0000)], [Var(v=-0.0339, grad=7.2136)], [Var(v=0.1241, grad=-0.8595)]] Biases: [Var(v=0.0000, grad=1291.9406)]\n",
      "\n",
      "Network after update:\n",
      "Layer 0 \n",
      " Weights: [[Var(v=0.0456, grad=-1.8140), Var(v=-0.1100, grad=0.2514), Var(v=0.2939, grad=-10.2512), Var(v=-0.1484, grad=0.8407), Var(v=0.1207, grad=-0.4565), Var(v=-0.0581, grad=6.3523), Var(v=0.2506, grad=-8.9967), Var(v=0.0189, grad=-0.8670), Var(v=0.2540, grad=-1.6632), Var(v=-0.0132, grad=5.0165), Var(v=-0.0982, grad=0.7483), Var(v=-0.0968, grad=0.3056), Var(v=0.0035, grad=-0.5586), Var(v=-0.0335, grad=5.3997), Var(v=-0.0710, grad=-1.3146)]] Biases: [Var(v=0.0020, grad=-0.1956), Var(v=0.0066, grad=-0.6621), Var(v=0.0452, grad=-4.5216), Var(v=0.0222, grad=-2.2173), Var(v=0.0011, grad=-0.1087), Var(v=-0.0219, grad=2.1856), Var(v=0.0198, grad=-1.9759), Var(v=-0.0048, grad=0.4793), Var(v=0.0018, grad=-0.1832), Var(v=-0.0225, grad=2.2515), Var(v=0.0197, grad=-1.9743), Var(v=0.0081, grad=-0.8056), Var(v=-0.0146, grad=1.4613), Var(v=-0.0325, grad=3.2484), Var(v=-0.0346, grad=3.4566)]\n",
      "Layer 1 \n",
      " Weights: [[Var(v=-0.0013, grad=1.7936), Var(v=0.0507, grad=1.5266), Var(v=-0.1077, grad=0.0000), Var(v=-0.2264, grad=0.0000), Var(v=-0.0346, grad=0.0000), Var(v=-0.0291, grad=0.0000), Var(v=-0.0264, grad=-1.2341), Var(v=0.1137, grad=-0.3971), Var(v=0.1003, grad=-3.9107), Var(v=0.0128, grad=1.3511), Var(v=0.0127, grad=1.4126), Var(v=-0.0974, grad=0.0000), Var(v=-0.0132, grad=0.0000), Var(v=-0.0712, grad=0.0000), Var(v=-0.0534, grad=0.0000), Var(v=0.0693, grad=-14.0822), Var(v=0.0667, grad=0.2178), Var(v=-0.0551, grad=0.0000), Var(v=0.1650, grad=-12.8020), Var(v=-0.0171, grad=0.1425), Var(v=-0.1395, grad=0.0000), Var(v=-0.0569, grad=0.0000), Var(v=0.1567, grad=-0.3987), Var(v=-0.0133, grad=0.0000), Var(v=-0.0026, grad=-2.2438), Var(v=-0.1238, grad=0.0000), Var(v=-0.1563, grad=14.1133), Var(v=-0.1657, grad=0.0000), Var(v=0.1940, grad=-13.9537), Var(v=-0.0843, grad=0.0000), Var(v=0.1136, grad=0.3116), Var(v=-0.1430, grad=0.0000), Var(v=-0.0332, grad=0.1156), Var(v=0.0464, grad=0.3514), Var(v=-0.0009, grad=0.0000), Var(v=-0.0012, grad=0.0000), Var(v=0.1012, grad=1.0931), Var(v=-0.1340, grad=0.0000), Var(v=0.0352, grad=-5.2349), Var(v=0.1271, grad=2.0033), Var(v=-0.1506, grad=0.0000), Var(v=0.1386, grad=-1.3357), Var(v=0.1411, grad=3.0590), Var(v=-0.0756, grad=0.0000), Var(v=0.0296, grad=-1.4543), Var(v=-0.0286, grad=0.0000), Var(v=-0.0717, grad=0.0000), Var(v=-0.0855, grad=0.0000), Var(v=0.1732, grad=-0.7410), Var(v=-0.0604, grad=-5.2200)], [Var(v=0.0566, grad=0.1927), Var(v=-0.2060, grad=0.1640), Var(v=-0.0154, grad=0.0000), Var(v=-0.0458, grad=0.0000), Var(v=-0.0820, grad=0.0000), Var(v=-0.1614, grad=0.0000), Var(v=0.0329, grad=0.0000), Var(v=-0.0698, grad=-0.0427), Var(v=0.0687, grad=-0.0926), Var(v=-0.0347, grad=0.1451), Var(v=-0.0488, grad=0.1517), Var(v=0.0233, grad=0.0000), Var(v=-0.0895, grad=0.0000), Var(v=-0.0166, grad=0.0000), Var(v=-0.1834, grad=0.0000), Var(v=0.0573, grad=0.0000), Var(v=-0.1160, grad=0.0234), Var(v=-0.0607, grad=0.0000), Var(v=-0.0221, grad=-0.3132), Var(v=0.0172, grad=0.0085), Var(v=0.0504, grad=0.0000), Var(v=0.0674, grad=0.0000), Var(v=-0.1240, grad=-0.0428), Var(v=0.1373, grad=0.0000), Var(v=-0.0483, grad=0.0000), Var(v=0.0671, grad=0.0000), Var(v=-0.0646, grad=0.0000), Var(v=0.1319, grad=0.0000), Var(v=0.0521, grad=-0.4009), Var(v=0.1182, grad=0.0000), Var(v=0.0744, grad=0.0335), Var(v=0.0199, grad=0.0000), Var(v=0.0170, grad=0.0000), Var(v=-0.0247, grad=0.0377), Var(v=-0.0693, grad=0.0000), Var(v=-0.1484, grad=0.0000), Var(v=0.0273, grad=0.1174), Var(v=0.0517, grad=0.0000), Var(v=0.0774, grad=0.0000), Var(v=-0.0172, grad=0.2152), Var(v=0.0114, grad=0.0000), Var(v=-0.0677, grad=-0.1435), Var(v=0.0449, grad=0.3286), Var(v=-0.0078, grad=0.0000), Var(v=-0.0122, grad=-0.1562), Var(v=-0.1593, grad=0.0000), Var(v=0.1734, grad=0.0000), Var(v=0.0191, grad=0.0000), Var(v=0.1323, grad=-0.0796), Var(v=0.0147, grad=0.0000)], [Var(v=0.1027, grad=-2.2917), Var(v=0.1235, grad=-1.9505), Var(v=0.0357, grad=0.0000), Var(v=-0.0478, grad=0.0000), Var(v=-0.0217, grad=0.0000), Var(v=0.0197, grad=0.0000), Var(v=0.0287, grad=-0.5443), Var(v=-0.0150, grad=0.5074), Var(v=-0.0317, grad=-0.1128), Var(v=-0.0300, grad=-1.7262), Var(v=-0.0298, grad=-1.8049), Var(v=-0.1104, grad=0.0000), Var(v=-0.2209, grad=0.0000), Var(v=-0.0903, grad=0.0000), Var(v=0.0101, grad=0.0000), Var(v=0.1779, grad=-5.6177), Var(v=0.0444, grad=-0.2783), Var(v=-0.0494, grad=0.0000), Var(v=-0.1234, grad=-0.2820), Var(v=-0.0576, grad=0.0000), Var(v=-0.0192, grad=0.0000), Var(v=0.0742, grad=0.0000), Var(v=0.0780, grad=0.5095), Var(v=-0.0189, grad=0.0000), Var(v=0.1987, grad=-1.1076), Var(v=0.0356, grad=0.0000), Var(v=-0.1697, grad=5.8746), Var(v=0.0346, grad=0.0000), Var(v=0.1538, grad=0.3203), Var(v=0.1920, grad=0.0000), Var(v=0.0382, grad=-0.3981), Var(v=-0.0448, grad=0.0000), Var(v=-0.1053, grad=0.0575), Var(v=-0.0704, grad=-0.4490), Var(v=0.0532, grad=0.0000), Var(v=-0.1832, grad=0.0000), Var(v=0.0082, grad=-1.3966), Var(v=0.1255, grad=0.0000), Var(v=0.1029, grad=-2.3004), Var(v=0.0574, grad=-2.5595), Var(v=0.0560, grad=0.0000), Var(v=0.0133, grad=1.7066), Var(v=-0.0618, grad=-3.9084), Var(v=-0.0914, grad=0.0000), Var(v=-0.0993, grad=1.8581), Var(v=0.0240, grad=0.0000), Var(v=-0.0146, grad=0.0000), Var(v=-0.2539, grad=0.0000), Var(v=-0.0165, grad=0.9468), Var(v=0.1682, grad=-2.4299)], [Var(v=-0.2091, grad=0.2511), Var(v=-0.1165, grad=0.2137), Var(v=-0.0585, grad=0.0000), Var(v=-0.0484, grad=0.0000), Var(v=-0.1377, grad=0.0000), Var(v=-0.1901, grad=0.0000), Var(v=0.0555, grad=0.0000), Var(v=0.0432, grad=-0.0556), Var(v=-0.0229, grad=-0.1207), Var(v=0.0096, grad=0.1891), Var(v=0.1207, grad=0.1977), Var(v=-0.2380, grad=0.0000), Var(v=-0.0134, grad=0.0000), Var(v=-0.0489, grad=0.0000), Var(v=0.0338, grad=0.0000), Var(v=0.0988, grad=0.0000), Var(v=0.0036, grad=0.0305), Var(v=-0.0117, grad=0.0000), Var(v=-0.0265, grad=-0.4081), Var(v=0.1039, grad=0.0111), Var(v=-0.0933, grad=0.0000), Var(v=0.0602, grad=0.0000), Var(v=-0.1225, grad=-0.0558), Var(v=0.0409, grad=0.0000), Var(v=-0.1081, grad=0.0000), Var(v=-0.0182, grad=0.0000), Var(v=-0.0328, grad=0.0000), Var(v=0.0281, grad=0.0000), Var(v=0.1569, grad=-0.5223), Var(v=0.0495, grad=0.0000), Var(v=0.0270, grad=0.0436), Var(v=-0.1799, grad=0.0000), Var(v=-0.0385, grad=0.0000), Var(v=0.0276, grad=0.0492), Var(v=0.0418, grad=0.0000), Var(v=-0.1429, grad=0.0000), Var(v=0.0950, grad=0.1530), Var(v=-0.0150, grad=0.0000), Var(v=-0.1462, grad=0.0000), Var(v=-0.0008, grad=0.2804), Var(v=0.0413, grad=0.0000), Var(v=-0.0796, grad=-0.1870), Var(v=-0.1197, grad=0.4282), Var(v=0.0563, grad=0.0000), Var(v=0.0060, grad=-0.2036), Var(v=-0.1062, grad=0.0000), Var(v=-0.0002, grad=0.0000), Var(v=-0.0668, grad=0.0000), Var(v=-0.0695, grad=-0.1037), Var(v=-0.0911, grad=0.0000)], [Var(v=0.0475, grad=-1.3905), Var(v=-0.0086, grad=-1.1835), Var(v=-0.1034, grad=0.0000), Var(v=0.1650, grad=0.0000), Var(v=-0.0964, grad=0.0000), Var(v=-0.0007, grad=0.0000), Var(v=-0.0080, grad=-0.3303), Var(v=-0.0776, grad=0.3078), Var(v=0.1237, grad=-0.0684), Var(v=-0.0199, grad=-1.0474), Var(v=0.2556, grad=-1.0951), Var(v=-0.0176, grad=0.0000), Var(v=0.1284, grad=0.0000), Var(v=0.0594, grad=0.0000), Var(v=-0.1043, grad=0.0000), Var(v=0.0945, grad=-3.4085), Var(v=-0.0482, grad=-0.1688), Var(v=0.0720, grad=0.0000), Var(v=-0.0381, grad=-0.1711), Var(v=-0.0921, grad=0.0000), Var(v=0.1080, grad=0.0000), Var(v=-0.0284, grad=0.0000), Var(v=-0.0661, grad=0.3091), Var(v=0.0603, grad=0.0000), Var(v=-0.0931, grad=-0.6720), Var(v=-0.1504, grad=0.0000), Var(v=-0.0392, grad=3.5644), Var(v=-0.0635, grad=0.0000), Var(v=-0.1679, grad=0.1944), Var(v=-0.0632, grad=0.0000), Var(v=0.1219, grad=-0.2416), Var(v=-0.0906, grad=0.0000), Var(v=0.1228, grad=0.0349), Var(v=0.0072, grad=-0.2724), Var(v=-0.0173, grad=0.0000), Var(v=0.0075, grad=0.0000), Var(v=0.1360, grad=-0.8474), Var(v=0.1090, grad=0.0000), Var(v=0.2031, grad=-1.3958), Var(v=-0.1452, grad=-1.5530), Var(v=-0.1448, grad=0.0000), Var(v=0.0242, grad=1.0355), Var(v=-0.0868, grad=-2.3714), Var(v=-0.0291, grad=0.0000), Var(v=0.2352, grad=1.1274), Var(v=0.0332, grad=0.0000), Var(v=-0.1336, grad=0.0000), Var(v=-0.2128, grad=0.0000), Var(v=-0.0306, grad=0.5745), Var(v=0.0094, grad=-1.4743)], [Var(v=-0.0172, grad=-0.0648), Var(v=0.0406, grad=-0.0552), Var(v=0.0714, grad=0.0000), Var(v=-0.0860, grad=0.0000), Var(v=-0.0206, grad=0.0000), Var(v=0.0254, grad=0.0000), Var(v=0.0190, grad=-0.0154), Var(v=0.1781, grad=0.0144), Var(v=-0.0180, grad=-0.0032), Var(v=-0.0141, grad=-0.0488), Var(v=0.0482, grad=-0.0511), Var(v=-0.1092, grad=0.0000), Var(v=-0.0613, grad=0.0000), Var(v=0.1298, grad=0.0000), Var(v=0.0391, grad=0.0000), Var(v=-0.0170, grad=-0.1589), Var(v=0.0196, grad=-0.0079), Var(v=0.2199, grad=0.0000), Var(v=-0.0290, grad=-0.0080), Var(v=-0.0963, grad=0.0000), Var(v=-0.0333, grad=0.0000), Var(v=-0.0972, grad=0.0000), Var(v=-0.0324, grad=0.0144), Var(v=-0.1003, grad=0.0000), Var(v=-0.1779, grad=-0.0313), Var(v=-0.0075, grad=0.0000), Var(v=0.0473, grad=0.1662), Var(v=-0.1185, grad=0.0000), Var(v=0.0461, grad=0.0091), Var(v=-0.1076, grad=0.0000), Var(v=-0.1256, grad=-0.0113), Var(v=0.1579, grad=0.0000), Var(v=0.0871, grad=0.0016), Var(v=0.0539, grad=-0.0127), Var(v=0.0073, grad=0.0000), Var(v=-0.0722, grad=0.0000), Var(v=0.1627, grad=-0.0395), Var(v=0.1191, grad=0.0000), Var(v=0.0436, grad=-0.0651), Var(v=0.0143, grad=-0.0724), Var(v=-0.0304, grad=0.0000), Var(v=0.0444, grad=0.0483), Var(v=-0.0709, grad=-0.1106), Var(v=-0.2023, grad=0.0000), Var(v=0.1340, grad=0.0526), Var(v=-0.1599, grad=0.0000), Var(v=-0.0197, grad=0.0000), Var(v=0.0097, grad=0.0000), Var(v=-0.0509, grad=0.0268), Var(v=-0.1684, grad=-0.0687)], [Var(v=0.2279, grad=-1.9233), Var(v=0.1079, grad=-1.6370), Var(v=0.0857, grad=0.0000), Var(v=-0.2246, grad=0.0000), Var(v=-0.0547, grad=0.0000), Var(v=0.0900, grad=0.0000), Var(v=0.0290, grad=-0.4568), Var(v=0.0275, grad=0.4258), Var(v=-0.0170, grad=-0.0947), Var(v=0.0368, grad=-1.4487), Var(v=0.0912, grad=-1.5147), Var(v=0.0375, grad=0.0000), Var(v=0.0079, grad=0.0000), Var(v=0.0278, grad=0.0000), Var(v=0.0610, grad=0.0000), Var(v=0.1035, grad=-4.7147), Var(v=0.1331, grad=-0.2335), Var(v=-0.0058, grad=0.0000), Var(v=0.0240, grad=-0.2367), Var(v=-0.0431, grad=0.0000), Var(v=0.1124, grad=0.0000), Var(v=0.1059, grad=0.0000), Var(v=-0.0059, grad=0.4276), Var(v=0.0723, grad=0.0000), Var(v=0.2853, grad=-0.9296), Var(v=0.1042, grad=0.0000), Var(v=-0.0358, grad=4.9302), Var(v=0.0148, grad=0.0000), Var(v=-0.1463, grad=0.2688), Var(v=-0.0703, grad=0.0000), Var(v=-0.0199, grad=-0.3341), Var(v=-0.0006, grad=0.0000), Var(v=-0.0101, grad=0.0482), Var(v=0.1460, grad=-0.3768), Var(v=-0.1899, grad=0.0000), Var(v=0.0425, grad=0.0000), Var(v=0.0031, grad=-1.1721), Var(v=-0.0573, grad=0.0000), Var(v=-0.0134, grad=-1.9306), Var(v=0.0532, grad=-2.1481), Var(v=0.0035, grad=0.0000), Var(v=0.0537, grad=1.4323), Var(v=0.0863, grad=-3.2801), Var(v=0.2524, grad=0.0000), Var(v=-0.0014, grad=1.5594), Var(v=-0.0919, grad=0.0000), Var(v=-0.1040, grad=0.0000), Var(v=0.0793, grad=0.0000), Var(v=0.0031, grad=0.7946), Var(v=0.0848, grad=-2.0393)], [Var(v=0.0915, grad=-0.1219), Var(v=0.0032, grad=-0.1038), Var(v=-0.0046, grad=0.0000), Var(v=0.0057, grad=0.0000), Var(v=-0.0642, grad=0.0000), Var(v=0.0251, grad=0.0000), Var(v=-0.0285, grad=-0.0290), Var(v=-0.0025, grad=0.0270), Var(v=-0.0940, grad=-0.0060), Var(v=-0.1244, grad=-0.0918), Var(v=-0.0874, grad=-0.0960), Var(v=-0.0206, grad=0.0000), Var(v=-0.1337, grad=0.0000), Var(v=-0.2874, grad=0.0000), Var(v=0.0212, grad=0.0000), Var(v=-0.0577, grad=-0.2988), Var(v=0.0205, grad=-0.0148), Var(v=-0.0617, grad=0.0000), Var(v=0.0532, grad=-0.0150), Var(v=-0.0680, grad=0.0000), Var(v=0.0307, grad=0.0000), Var(v=0.0482, grad=0.0000), Var(v=0.0916, grad=0.0271), Var(v=-0.0880, grad=0.0000), Var(v=0.0407, grad=-0.0589), Var(v=0.1206, grad=0.0000), Var(v=-0.0278, grad=0.3125), Var(v=0.0725, grad=0.0000), Var(v=-0.1658, grad=0.0170), Var(v=0.0238, grad=0.0000), Var(v=0.0831, grad=-0.0212), Var(v=0.1146, grad=0.0000), Var(v=-0.1115, grad=0.0031), Var(v=0.1689, grad=-0.0239), Var(v=0.0013, grad=0.0000), Var(v=-0.1077, grad=0.0000), Var(v=0.0070, grad=-0.0743), Var(v=0.0285, grad=0.0000), Var(v=0.1183, grad=-0.1224), Var(v=-0.1162, grad=-0.1362), Var(v=0.1038, grad=0.0000), Var(v=-0.1078, grad=0.0908), Var(v=0.0437, grad=-0.2079), Var(v=-0.0762, grad=0.0000), Var(v=-0.0638, grad=0.0988), Var(v=0.0378, grad=0.0000), Var(v=-0.1536, grad=0.0000), Var(v=-0.1043, grad=0.0000), Var(v=0.0032, grad=0.0504), Var(v=-0.0276, grad=-0.1293)], [Var(v=0.0238, grad=-2.8418), Var(v=0.0825, grad=-2.4188), Var(v=0.0809, grad=0.0000), Var(v=0.1248, grad=0.0000), Var(v=0.2008, grad=0.0000), Var(v=-0.0885, grad=0.0000), Var(v=0.0901, grad=-0.6750), Var(v=-0.0507, grad=0.6292), Var(v=-0.2312, grad=-0.1399), Var(v=0.1213, grad=-2.1406), Var(v=0.1842, grad=-2.2381), Var(v=-0.0403, grad=0.0000), Var(v=0.0246, grad=0.0000), Var(v=-0.0078, grad=0.0000), Var(v=0.0591, grad=0.0000), Var(v=0.2722, grad=-6.9663), Var(v=-0.1817, grad=-0.3451), Var(v=-0.0578, grad=0.0000), Var(v=-0.0057, grad=-0.3497), Var(v=-0.0050, grad=0.0000), Var(v=-0.0611, grad=0.0000), Var(v=-0.0501, grad=0.0000), Var(v=-0.0482, grad=0.6318), Var(v=-0.0807, grad=0.0000), Var(v=0.1183, grad=-1.3735), Var(v=-0.1437, grad=0.0000), Var(v=0.0815, grad=7.2848), Var(v=0.0748, grad=0.0000), Var(v=-0.0496, grad=0.3972), Var(v=0.0482, grad=0.0000), Var(v=0.0556, grad=-0.4937), Var(v=-0.0799, grad=0.0000), Var(v=0.1125, grad=0.0713), Var(v=-0.0774, grad=-0.5568), Var(v=-0.0547, grad=0.0000), Var(v=0.0353, grad=0.0000), Var(v=0.0053, grad=-1.7319), Var(v=-0.1886, grad=0.0000), Var(v=-0.0154, grad=-2.8526), Var(v=0.0511, grad=-3.1740), Var(v=-0.1426, grad=0.0000), Var(v=0.0012, grad=2.1163), Var(v=-0.0605, grad=-4.8466), Var(v=-0.0764, grad=0.0000), Var(v=0.0824, grad=2.3041), Var(v=-0.0156, grad=0.0000), Var(v=-0.0812, grad=0.0000), Var(v=-0.0710, grad=0.0000), Var(v=-0.1284, grad=1.1741), Var(v=0.0389, grad=-3.0132)], [Var(v=-0.1603, grad=-0.4424), Var(v=-0.0691, grad=-0.3765), Var(v=-0.0080, grad=0.0000), Var(v=-0.0279, grad=0.0000), Var(v=-0.1489, grad=0.0000), Var(v=0.0016, grad=0.0000), Var(v=-0.0313, grad=-0.1051), Var(v=-0.1120, grad=0.0979), Var(v=-0.1001, grad=-0.0218), Var(v=-0.0245, grad=-0.3332), Var(v=-0.1117, grad=-0.3484), Var(v=0.0670, grad=0.0000), Var(v=-0.1300, grad=0.0000), Var(v=0.0996, grad=0.0000), Var(v=-0.0229, grad=0.0000), Var(v=-0.0565, grad=-1.0844), Var(v=0.1031, grad=-0.0537), Var(v=-0.0106, grad=0.0000), Var(v=0.0676, grad=-0.0544), Var(v=-0.0324, grad=0.0000), Var(v=0.0089, grad=0.0000), Var(v=-0.1377, grad=0.0000), Var(v=0.0668, grad=0.0983), Var(v=-0.0381, grad=0.0000), Var(v=-0.2099, grad=-0.2138), Var(v=0.0322, grad=0.0000), Var(v=0.0926, grad=1.1340), Var(v=0.0877, grad=0.0000), Var(v=-0.2138, grad=0.0618), Var(v=0.0221, grad=0.0000), Var(v=-0.0084, grad=-0.0768), Var(v=-0.0747, grad=0.0000), Var(v=-0.0869, grad=0.0111), Var(v=-0.0058, grad=-0.0867), Var(v=0.1365, grad=0.0000), Var(v=-0.0859, grad=0.0000), Var(v=0.0726, grad=-0.2696), Var(v=-0.0749, grad=0.0000), Var(v=0.1040, grad=-0.4440), Var(v=-0.1439, grad=-0.4941), Var(v=0.0921, grad=0.0000), Var(v=-0.1414, grad=0.3294), Var(v=-0.0303, grad=-0.7544), Var(v=0.0450, grad=0.0000), Var(v=-0.0868, grad=0.3587), Var(v=0.1065, grad=0.0000), Var(v=-0.0156, grad=0.0000), Var(v=-0.0042, grad=0.0000), Var(v=0.1195, grad=0.1828), Var(v=0.3582, grad=-0.4691)], [Var(v=-0.0357, grad=0.1627), Var(v=-0.1463, grad=0.1385), Var(v=-0.0673, grad=0.0000), Var(v=0.1058, grad=0.0000), Var(v=-0.0776, grad=0.0000), Var(v=-0.1092, grad=0.0000), Var(v=-0.0470, grad=0.0000), Var(v=0.0576, grad=-0.0360), Var(v=0.1235, grad=-0.0782), Var(v=-0.1070, grad=0.1226), Var(v=-0.1568, grad=0.1281), Var(v=0.0152, grad=0.0000), Var(v=-0.0807, grad=0.0000), Var(v=0.1168, grad=0.0000), Var(v=0.0565, grad=0.0000), Var(v=-0.0386, grad=0.0000), Var(v=0.0797, grad=0.0198), Var(v=-0.0232, grad=0.0000), Var(v=0.2352, grad=-0.2645), Var(v=0.1019, grad=0.0072), Var(v=0.0803, grad=0.0000), Var(v=0.0559, grad=0.0000), Var(v=0.0315, grad=-0.0362), Var(v=-0.0357, grad=0.0000), Var(v=-0.0243, grad=0.0000), Var(v=-0.1548, grad=0.0000), Var(v=0.0710, grad=0.0000), Var(v=0.0639, grad=0.0000), Var(v=-0.1322, grad=-0.3385), Var(v=-0.1196, grad=0.0000), Var(v=0.0574, grad=0.0283), Var(v=0.2020, grad=0.0000), Var(v=0.2109, grad=0.0000), Var(v=0.1282, grad=0.0319), Var(v=-0.1079, grad=0.0000), Var(v=0.0933, grad=0.0000), Var(v=0.0761, grad=0.0992), Var(v=0.1385, grad=0.0000), Var(v=0.0876, grad=0.0000), Var(v=0.1213, grad=0.1817), Var(v=0.1716, grad=0.0000), Var(v=0.1373, grad=-0.1212), Var(v=-0.0898, grad=0.2775), Var(v=-0.3042, grad=0.0000), Var(v=-0.0914, grad=-0.1319), Var(v=0.0441, grad=0.0000), Var(v=-0.1991, grad=0.0000), Var(v=0.0273, grad=0.0000), Var(v=-0.1385, grad=-0.0672), Var(v=-0.0137, grad=0.0000)], [Var(v=-0.1005, grad=0.1680), Var(v=0.0181, grad=0.1430), Var(v=-0.0127, grad=0.0000), Var(v=0.1999, grad=0.0000), Var(v=-0.0897, grad=0.0000), Var(v=-0.0076, grad=0.0000), Var(v=0.0267, grad=0.0000), Var(v=0.1177, grad=-0.0372), Var(v=-0.0508, grad=-0.0808), Var(v=0.0303, grad=0.1266), Var(v=0.0683, grad=0.1323), Var(v=-0.1520, grad=0.0000), Var(v=0.0177, grad=0.0000), Var(v=0.1819, grad=0.0000), Var(v=0.0069, grad=0.0000), Var(v=0.0539, grad=0.0000), Var(v=-0.0465, grad=0.0204), Var(v=0.0837, grad=0.0000), Var(v=-0.1267, grad=-0.2731), Var(v=0.0325, grad=0.0074), Var(v=0.0456, grad=0.0000), Var(v=0.1214, grad=0.0000), Var(v=0.0433, grad=-0.0374), Var(v=-0.0056, grad=0.0000), Var(v=-0.0281, grad=0.0000), Var(v=-0.0526, grad=0.0000), Var(v=0.0781, grad=0.0000), Var(v=-0.1001, grad=0.0000), Var(v=0.0877, grad=-0.3496), Var(v=-0.1031, grad=0.0000), Var(v=-0.1386, grad=0.0292), Var(v=0.0627, grad=0.0000), Var(v=0.0982, grad=0.0000), Var(v=0.1567, grad=0.0329), Var(v=0.0466, grad=0.0000), Var(v=-0.0339, grad=0.0000), Var(v=-0.0252, grad=0.1024), Var(v=-0.0968, grad=0.0000), Var(v=0.0136, grad=0.0000), Var(v=-0.0310, grad=0.1877), Var(v=0.0200, grad=0.0000), Var(v=0.0476, grad=-0.1251), Var(v=-0.0818, grad=0.2866), Var(v=0.0750, grad=0.0000), Var(v=-0.0226, grad=-0.1362), Var(v=0.0121, grad=0.0000), Var(v=0.1041, grad=0.0000), Var(v=0.0079, grad=0.0000), Var(v=-0.0067, grad=-0.0694), Var(v=-0.0006, grad=0.0000)], [Var(v=-0.0581, grad=0.0038), Var(v=0.1351, grad=0.0032), Var(v=0.0019, grad=0.0000), Var(v=0.1467, grad=0.0000), Var(v=-0.1703, grad=0.0000), Var(v=0.0694, grad=0.0000), Var(v=-0.0722, grad=0.0000), Var(v=0.0755, grad=-0.0008), Var(v=0.1026, grad=-0.0018), Var(v=-0.0836, grad=0.0029), Var(v=0.0724, grad=0.0030), Var(v=-0.1760, grad=0.0000), Var(v=0.1511, grad=0.0000), Var(v=-0.0570, grad=0.0000), Var(v=0.0858, grad=0.0000), Var(v=0.1266, grad=0.0000), Var(v=0.0130, grad=0.0005), Var(v=-0.1708, grad=0.0000), Var(v=0.0071, grad=-0.0062), Var(v=0.1116, grad=0.0002), Var(v=-0.0269, grad=0.0000), Var(v=-0.0522, grad=0.0000), Var(v=-0.1170, grad=-0.0008), Var(v=-0.0785, grad=0.0000), Var(v=0.0451, grad=0.0000), Var(v=0.0038, grad=0.0000), Var(v=0.0238, grad=0.0000), Var(v=0.0191, grad=0.0000), Var(v=-0.0727, grad=-0.0079), Var(v=-0.0361, grad=0.0000), Var(v=0.0046, grad=0.0007), Var(v=-0.0185, grad=0.0000), Var(v=0.0082, grad=0.0000), Var(v=0.0237, grad=0.0007), Var(v=-0.1411, grad=0.0000), Var(v=-0.1114, grad=0.0000), Var(v=-0.0273, grad=0.0023), Var(v=0.1794, grad=0.0000), Var(v=0.1429, grad=0.0000), Var(v=0.2494, grad=0.0042), Var(v=0.0980, grad=0.0000), Var(v=-0.1321, grad=-0.0028), Var(v=-0.1716, grad=0.0065), Var(v=-0.0970, grad=0.0000), Var(v=-0.1031, grad=-0.0031), Var(v=-0.0453, grad=0.0000), Var(v=0.0293, grad=0.0000), Var(v=0.0500, grad=0.0000), Var(v=0.0073, grad=-0.0016), Var(v=-0.1355, grad=0.0000)], [Var(v=0.0377, grad=-0.2456), Var(v=0.1245, grad=-0.2091), Var(v=0.0014, grad=0.0000), Var(v=0.1180, grad=0.0000), Var(v=-0.1973, grad=0.0000), Var(v=-0.0286, grad=0.0000), Var(v=-0.1848, grad=-0.0583), Var(v=0.0290, grad=0.0544), Var(v=-0.1807, grad=-0.0121), Var(v=0.0384, grad=-0.1850), Var(v=-0.1705, grad=-0.1935), Var(v=-0.1822, grad=0.0000), Var(v=0.1642, grad=0.0000), Var(v=0.0739, grad=0.0000), Var(v=-0.1425, grad=0.0000), Var(v=-0.1681, grad=-0.6021), Var(v=-0.0971, grad=-0.0298), Var(v=0.0604, grad=0.0000), Var(v=-0.1537, grad=-0.0302), Var(v=-0.0924, grad=0.0000), Var(v=-0.0291, grad=0.0000), Var(v=0.0153, grad=0.0000), Var(v=0.0866, grad=0.0546), Var(v=-0.1542, grad=0.0000), Var(v=0.1174, grad=-0.1187), Var(v=-0.0372, grad=0.0000), Var(v=-0.0065, grad=0.6297), Var(v=0.0034, grad=0.0000), Var(v=-0.0836, grad=0.0343), Var(v=-0.0334, grad=0.0000), Var(v=-0.0162, grad=-0.0427), Var(v=0.2207, grad=0.0000), Var(v=-0.1544, grad=0.0062), Var(v=-0.0044, grad=-0.0481), Var(v=0.0104, grad=0.0000), Var(v=-0.0413, grad=0.0000), Var(v=0.0450, grad=-0.1497), Var(v=0.2960, grad=0.0000), Var(v=0.0655, grad=-0.2466), Var(v=-0.0784, grad=-0.2744), Var(v=-0.1599, grad=0.0000), Var(v=0.0050, grad=0.1829), Var(v=-0.0595, grad=-0.4189), Var(v=0.0693, grad=0.0000), Var(v=0.1302, grad=0.1992), Var(v=0.1107, grad=0.0000), Var(v=0.0028, grad=0.0000), Var(v=0.0761, grad=0.0000), Var(v=-0.0652, grad=0.1015), Var(v=0.1737, grad=-0.2605)], [Var(v=0.0871, grad=0.1509), Var(v=0.1439, grad=0.1284), Var(v=0.1109, grad=0.0000), Var(v=-0.0454, grad=0.0000), Var(v=0.0316, grad=0.0000), Var(v=-0.0280, grad=0.0000), Var(v=0.1577, grad=0.0000), Var(v=0.0216, grad=-0.0334), Var(v=0.1322, grad=-0.0725), Var(v=-0.0597, grad=0.1137), Var(v=0.1185, grad=0.1188), Var(v=0.1125, grad=0.0000), Var(v=-0.0833, grad=0.0000), Var(v=0.1944, grad=0.0000), Var(v=0.1960, grad=0.0000), Var(v=-0.0903, grad=0.0000), Var(v=-0.0385, grad=0.0183), Var(v=-0.0211, grad=0.0000), Var(v=-0.1800, grad=-0.2453), Var(v=0.0013, grad=0.0067), Var(v=-0.0931, grad=0.0000), Var(v=-0.0235, grad=0.0000), Var(v=0.0097, grad=-0.0335), Var(v=-0.1651, grad=0.0000), Var(v=0.0065, grad=0.0000), Var(v=0.1502, grad=0.0000), Var(v=0.0705, grad=0.0000), Var(v=-0.0500, grad=0.0000), Var(v=0.0670, grad=-0.3140), Var(v=-0.0227, grad=0.0000), Var(v=0.0817, grad=0.0262), Var(v=-0.0644, grad=0.0000), Var(v=0.0834, grad=0.0000), Var(v=0.0577, grad=0.0296), Var(v=-0.1040, grad=0.0000), Var(v=-0.0875, grad=0.0000), Var(v=0.0892, grad=0.0920), Var(v=-0.0046, grad=0.0000), Var(v=-0.1068, grad=0.0000), Var(v=-0.0467, grad=0.1685), Var(v=0.1555, grad=0.0000), Var(v=-0.0837, grad=-0.1124), Var(v=0.0815, grad=0.2574), Var(v=0.1532, grad=0.0000), Var(v=-0.1286, grad=-0.1224), Var(v=0.0984, grad=0.0000), Var(v=0.0787, grad=0.0000), Var(v=0.0571, grad=0.0000), Var(v=-0.0952, grad=-0.0623), Var(v=-0.0116, grad=0.0000)]] Biases: [Var(v=-0.3184, grad=31.8404), Var(v=-0.2710, grad=27.1002), Var(v=0.0000, grad=0.0000), Var(v=0.0000, grad=0.0000), Var(v=0.0000, grad=0.0000), Var(v=0.0000, grad=0.0000), Var(v=0.1734, grad=-17.3399), Var(v=0.0705, grad=-7.0493), Var(v=0.5842, grad=-58.4178), Var(v=-0.2398, grad=23.9839), Var(v=-0.2508, grad=25.0765), Var(v=0.0000, grad=0.0000), Var(v=0.0000, grad=0.0000), Var(v=0.0000, grad=0.0000), Var(v=0.0000, grad=0.0000), Var(v=1.9913, grad=-199.1327), Var(v=-0.0387, grad=3.8662), Var(v=0.0000, grad=0.0000), Var(v=1.9142, grad=-191.4219), Var(v=-0.0214, grad=2.1381), Var(v=0.0000, grad=0.0000), Var(v=0.0000, grad=0.0000), Var(v=0.0708, grad=-7.0785), Var(v=0.0000, grad=0.0000), Var(v=0.3127, grad=-31.2711), Var(v=0.0000, grad=0.0000), Var(v=-1.9905, grad=199.0471), Var(v=0.0000, grad=0.0000), Var(v=2.1000, grad=-209.9952), Var(v=0.0000, grad=0.0000), Var(v=-0.0553, grad=5.5313), Var(v=0.0000, grad=0.0000), Var(v=-0.0161, grad=1.6108), Var(v=-0.0624, grad=6.2379), Var(v=0.0000, grad=0.0000), Var(v=0.0000, grad=0.0000), Var(v=-0.1940, grad=19.4048), Var(v=0.0000, grad=0.0000), Var(v=0.7357, grad=-73.5689), Var(v=-0.3556, grad=35.5619), Var(v=0.0000, grad=0.0000), Var(v=0.2371, grad=-23.7113), Var(v=-0.5430, grad=54.3025), Var(v=0.0000, grad=0.0000), Var(v=0.2582, grad=-25.8159), Var(v=0.0000, grad=0.0000), Var(v=0.0000, grad=0.0000), Var(v=0.0000, grad=0.0000), Var(v=0.1315, grad=-13.1544), Var(v=0.7307, grad=-73.0668)]\n",
      "Layer 2 \n",
      " Weights: [[Var(v=-0.1052, grad=18.7372)], [Var(v=0.1308, grad=-6.0868)], [Var(v=0.0642, grad=0.0000)], [Var(v=-0.1283, grad=0.0000)], [Var(v=-0.2168, grad=0.0000)], [Var(v=0.3005, grad=0.0000)], [Var(v=0.0281, grad=-0.6340)], [Var(v=-0.0727, grad=5.4561)], [Var(v=-0.0961, grad=5.6571)], [Var(v=0.0782, grad=-1.6308)], [Var(v=0.1452, grad=-8.0501)], [Var(v=0.1217, grad=0.0000)], [Var(v=-0.0547, grad=0.0000)], [Var(v=-0.1258, grad=0.0000)], [Var(v=-0.0202, grad=0.0000)], [Var(v=0.2573, grad=-7.4380)], [Var(v=-0.0296, grad=3.9578)], [Var(v=0.2897, grad=0.0000)], [Var(v=-0.1630, grad=2.9441)], [Var(v=0.0148, grad=0.0051)], [Var(v=0.0060, grad=0.0000)], [Var(v=0.1579, grad=0.0000)], [Var(v=-0.0415, grad=2.3254)], [Var(v=0.1643, grad=0.0000)], [Var(v=0.1547, grad=-11.5818)], [Var(v=-0.0425, grad=0.0000)], [Var(v=-0.1739, grad=-2.2019)], [Var(v=0.1258, grad=0.0000)], [Var(v=-0.2247, grad=5.3765)], [Var(v=-0.1015, grad=0.0000)], [Var(v=0.0275, grad=-1.3214)], [Var(v=0.1176, grad=0.0000)], [Var(v=-0.0141, grad=-0.0039)], [Var(v=-0.0151, grad=3.1152)], [Var(v=-0.1154, grad=0.0000)], [Var(v=0.0503, grad=0.0000)], [Var(v=0.0395, grad=1.0521)], [Var(v=-0.0232, grad=0.0000)], [Var(v=0.1099, grad=-3.1417)], [Var(v=0.0425, grad=4.9239)], [Var(v=-0.0399, grad=0.0000)], [Var(v=-0.0569, grad=-0.4231)], [Var(v=0.0310, grad=10.9108)], [Var(v=0.1351, grad=0.0000)], [Var(v=-0.0064, grad=-6.0248)], [Var(v=-0.1731, grad=0.0000)], [Var(v=0.1245, grad=0.0000)], [Var(v=0.0025, grad=0.0000)], [Var(v=-0.1061, grad=7.2136)], [Var(v=0.1327, grad=-0.8595)]] Biases: [Var(v=-12.9194, grad=1291.9406)]\n",
      "\n",
      "Network after zeroing gradients:\n",
      "Layer 0 \n",
      " Weights: [[Var(v=0.0456, grad=0.0000), Var(v=-0.1100, grad=0.0000), Var(v=0.2939, grad=0.0000), Var(v=-0.1484, grad=0.0000), Var(v=0.1207, grad=0.0000), Var(v=-0.0581, grad=0.0000), Var(v=0.2506, grad=0.0000), Var(v=0.0189, grad=0.0000), Var(v=0.2540, grad=0.0000), Var(v=-0.0132, grad=0.0000), Var(v=-0.0982, grad=0.0000), Var(v=-0.0968, grad=0.0000), Var(v=0.0035, grad=0.0000), Var(v=-0.0335, grad=0.0000), Var(v=-0.0710, grad=0.0000)]] Biases: [Var(v=0.0020, grad=0.0000), Var(v=0.0066, grad=0.0000), Var(v=0.0452, grad=0.0000), Var(v=0.0222, grad=0.0000), Var(v=0.0011, grad=0.0000), Var(v=-0.0219, grad=0.0000), Var(v=0.0198, grad=0.0000), Var(v=-0.0048, grad=0.0000), Var(v=0.0018, grad=0.0000), Var(v=-0.0225, grad=0.0000), Var(v=0.0197, grad=0.0000), Var(v=0.0081, grad=0.0000), Var(v=-0.0146, grad=0.0000), Var(v=-0.0325, grad=0.0000), Var(v=-0.0346, grad=0.0000)]\n",
      "Layer 1 \n",
      " Weights: [[Var(v=-0.0013, grad=0.0000), Var(v=0.0507, grad=0.0000), Var(v=-0.1077, grad=0.0000), Var(v=-0.2264, grad=0.0000), Var(v=-0.0346, grad=0.0000), Var(v=-0.0291, grad=0.0000), Var(v=-0.0264, grad=0.0000), Var(v=0.1137, grad=0.0000), Var(v=0.1003, grad=0.0000), Var(v=0.0128, grad=0.0000), Var(v=0.0127, grad=0.0000), Var(v=-0.0974, grad=0.0000), Var(v=-0.0132, grad=0.0000), Var(v=-0.0712, grad=0.0000), Var(v=-0.0534, grad=0.0000), Var(v=0.0693, grad=0.0000), Var(v=0.0667, grad=0.0000), Var(v=-0.0551, grad=0.0000), Var(v=0.1650, grad=0.0000), Var(v=-0.0171, grad=0.0000), Var(v=-0.1395, grad=0.0000), Var(v=-0.0569, grad=0.0000), Var(v=0.1567, grad=0.0000), Var(v=-0.0133, grad=0.0000), Var(v=-0.0026, grad=0.0000), Var(v=-0.1238, grad=0.0000), Var(v=-0.1563, grad=0.0000), Var(v=-0.1657, grad=0.0000), Var(v=0.1940, grad=0.0000), Var(v=-0.0843, grad=0.0000), Var(v=0.1136, grad=0.0000), Var(v=-0.1430, grad=0.0000), Var(v=-0.0332, grad=0.0000), Var(v=0.0464, grad=0.0000), Var(v=-0.0009, grad=0.0000), Var(v=-0.0012, grad=0.0000), Var(v=0.1012, grad=0.0000), Var(v=-0.1340, grad=0.0000), Var(v=0.0352, grad=0.0000), Var(v=0.1271, grad=0.0000), Var(v=-0.1506, grad=0.0000), Var(v=0.1386, grad=0.0000), Var(v=0.1411, grad=0.0000), Var(v=-0.0756, grad=0.0000), Var(v=0.0296, grad=0.0000), Var(v=-0.0286, grad=0.0000), Var(v=-0.0717, grad=0.0000), Var(v=-0.0855, grad=0.0000), Var(v=0.1732, grad=0.0000), Var(v=-0.0604, grad=0.0000)], [Var(v=0.0566, grad=0.0000), Var(v=-0.2060, grad=0.0000), Var(v=-0.0154, grad=0.0000), Var(v=-0.0458, grad=0.0000), Var(v=-0.0820, grad=0.0000), Var(v=-0.1614, grad=0.0000), Var(v=0.0329, grad=0.0000), Var(v=-0.0698, grad=0.0000), Var(v=0.0687, grad=0.0000), Var(v=-0.0347, grad=0.0000), Var(v=-0.0488, grad=0.0000), Var(v=0.0233, grad=0.0000), Var(v=-0.0895, grad=0.0000), Var(v=-0.0166, grad=0.0000), Var(v=-0.1834, grad=0.0000), Var(v=0.0573, grad=0.0000), Var(v=-0.1160, grad=0.0000), Var(v=-0.0607, grad=0.0000), Var(v=-0.0221, grad=0.0000), Var(v=0.0172, grad=0.0000), Var(v=0.0504, grad=0.0000), Var(v=0.0674, grad=0.0000), Var(v=-0.1240, grad=0.0000), Var(v=0.1373, grad=0.0000), Var(v=-0.0483, grad=0.0000), Var(v=0.0671, grad=0.0000), Var(v=-0.0646, grad=0.0000), Var(v=0.1319, grad=0.0000), Var(v=0.0521, grad=0.0000), Var(v=0.1182, grad=0.0000), Var(v=0.0744, grad=0.0000), Var(v=0.0199, grad=0.0000), Var(v=0.0170, grad=0.0000), Var(v=-0.0247, grad=0.0000), Var(v=-0.0693, grad=0.0000), Var(v=-0.1484, grad=0.0000), Var(v=0.0273, grad=0.0000), Var(v=0.0517, grad=0.0000), Var(v=0.0774, grad=0.0000), Var(v=-0.0172, grad=0.0000), Var(v=0.0114, grad=0.0000), Var(v=-0.0677, grad=0.0000), Var(v=0.0449, grad=0.0000), Var(v=-0.0078, grad=0.0000), Var(v=-0.0122, grad=0.0000), Var(v=-0.1593, grad=0.0000), Var(v=0.1734, grad=0.0000), Var(v=0.0191, grad=0.0000), Var(v=0.1323, grad=0.0000), Var(v=0.0147, grad=0.0000)], [Var(v=0.1027, grad=0.0000), Var(v=0.1235, grad=0.0000), Var(v=0.0357, grad=0.0000), Var(v=-0.0478, grad=0.0000), Var(v=-0.0217, grad=0.0000), Var(v=0.0197, grad=0.0000), Var(v=0.0287, grad=0.0000), Var(v=-0.0150, grad=0.0000), Var(v=-0.0317, grad=0.0000), Var(v=-0.0300, grad=0.0000), Var(v=-0.0298, grad=0.0000), Var(v=-0.1104, grad=0.0000), Var(v=-0.2209, grad=0.0000), Var(v=-0.0903, grad=0.0000), Var(v=0.0101, grad=0.0000), Var(v=0.1779, grad=0.0000), Var(v=0.0444, grad=0.0000), Var(v=-0.0494, grad=0.0000), Var(v=-0.1234, grad=0.0000), Var(v=-0.0576, grad=0.0000), Var(v=-0.0192, grad=0.0000), Var(v=0.0742, grad=0.0000), Var(v=0.0780, grad=0.0000), Var(v=-0.0189, grad=0.0000), Var(v=0.1987, grad=0.0000), Var(v=0.0356, grad=0.0000), Var(v=-0.1697, grad=0.0000), Var(v=0.0346, grad=0.0000), Var(v=0.1538, grad=0.0000), Var(v=0.1920, grad=0.0000), Var(v=0.0382, grad=0.0000), Var(v=-0.0448, grad=0.0000), Var(v=-0.1053, grad=0.0000), Var(v=-0.0704, grad=0.0000), Var(v=0.0532, grad=0.0000), Var(v=-0.1832, grad=0.0000), Var(v=0.0082, grad=0.0000), Var(v=0.1255, grad=0.0000), Var(v=0.1029, grad=0.0000), Var(v=0.0574, grad=0.0000), Var(v=0.0560, grad=0.0000), Var(v=0.0133, grad=0.0000), Var(v=-0.0618, grad=0.0000), Var(v=-0.0914, grad=0.0000), Var(v=-0.0993, grad=0.0000), Var(v=0.0240, grad=0.0000), Var(v=-0.0146, grad=0.0000), Var(v=-0.2539, grad=0.0000), Var(v=-0.0165, grad=0.0000), Var(v=0.1682, grad=0.0000)], [Var(v=-0.2091, grad=0.0000), Var(v=-0.1165, grad=0.0000), Var(v=-0.0585, grad=0.0000), Var(v=-0.0484, grad=0.0000), Var(v=-0.1377, grad=0.0000), Var(v=-0.1901, grad=0.0000), Var(v=0.0555, grad=0.0000), Var(v=0.0432, grad=0.0000), Var(v=-0.0229, grad=0.0000), Var(v=0.0096, grad=0.0000), Var(v=0.1207, grad=0.0000), Var(v=-0.2380, grad=0.0000), Var(v=-0.0134, grad=0.0000), Var(v=-0.0489, grad=0.0000), Var(v=0.0338, grad=0.0000), Var(v=0.0988, grad=0.0000), Var(v=0.0036, grad=0.0000), Var(v=-0.0117, grad=0.0000), Var(v=-0.0265, grad=0.0000), Var(v=0.1039, grad=0.0000), Var(v=-0.0933, grad=0.0000), Var(v=0.0602, grad=0.0000), Var(v=-0.1225, grad=0.0000), Var(v=0.0409, grad=0.0000), Var(v=-0.1081, grad=0.0000), Var(v=-0.0182, grad=0.0000), Var(v=-0.0328, grad=0.0000), Var(v=0.0281, grad=0.0000), Var(v=0.1569, grad=0.0000), Var(v=0.0495, grad=0.0000), Var(v=0.0270, grad=0.0000), Var(v=-0.1799, grad=0.0000), Var(v=-0.0385, grad=0.0000), Var(v=0.0276, grad=0.0000), Var(v=0.0418, grad=0.0000), Var(v=-0.1429, grad=0.0000), Var(v=0.0950, grad=0.0000), Var(v=-0.0150, grad=0.0000), Var(v=-0.1462, grad=0.0000), Var(v=-0.0008, grad=0.0000), Var(v=0.0413, grad=0.0000), Var(v=-0.0796, grad=0.0000), Var(v=-0.1197, grad=0.0000), Var(v=0.0563, grad=0.0000), Var(v=0.0060, grad=0.0000), Var(v=-0.1062, grad=0.0000), Var(v=-0.0002, grad=0.0000), Var(v=-0.0668, grad=0.0000), Var(v=-0.0695, grad=0.0000), Var(v=-0.0911, grad=0.0000)], [Var(v=0.0475, grad=0.0000), Var(v=-0.0086, grad=0.0000), Var(v=-0.1034, grad=0.0000), Var(v=0.1650, grad=0.0000), Var(v=-0.0964, grad=0.0000), Var(v=-0.0007, grad=0.0000), Var(v=-0.0080, grad=0.0000), Var(v=-0.0776, grad=0.0000), Var(v=0.1237, grad=0.0000), Var(v=-0.0199, grad=0.0000), Var(v=0.2556, grad=0.0000), Var(v=-0.0176, grad=0.0000), Var(v=0.1284, grad=0.0000), Var(v=0.0594, grad=0.0000), Var(v=-0.1043, grad=0.0000), Var(v=0.0945, grad=0.0000), Var(v=-0.0482, grad=0.0000), Var(v=0.0720, grad=0.0000), Var(v=-0.0381, grad=0.0000), Var(v=-0.0921, grad=0.0000), Var(v=0.1080, grad=0.0000), Var(v=-0.0284, grad=0.0000), Var(v=-0.0661, grad=0.0000), Var(v=0.0603, grad=0.0000), Var(v=-0.0931, grad=0.0000), Var(v=-0.1504, grad=0.0000), Var(v=-0.0392, grad=0.0000), Var(v=-0.0635, grad=0.0000), Var(v=-0.1679, grad=0.0000), Var(v=-0.0632, grad=0.0000), Var(v=0.1219, grad=0.0000), Var(v=-0.0906, grad=0.0000), Var(v=0.1228, grad=0.0000), Var(v=0.0072, grad=0.0000), Var(v=-0.0173, grad=0.0000), Var(v=0.0075, grad=0.0000), Var(v=0.1360, grad=0.0000), Var(v=0.1090, grad=0.0000), Var(v=0.2031, grad=0.0000), Var(v=-0.1452, grad=0.0000), Var(v=-0.1448, grad=0.0000), Var(v=0.0242, grad=0.0000), Var(v=-0.0868, grad=0.0000), Var(v=-0.0291, grad=0.0000), Var(v=0.2352, grad=0.0000), Var(v=0.0332, grad=0.0000), Var(v=-0.1336, grad=0.0000), Var(v=-0.2128, grad=0.0000), Var(v=-0.0306, grad=0.0000), Var(v=0.0094, grad=0.0000)], [Var(v=-0.0172, grad=0.0000), Var(v=0.0406, grad=0.0000), Var(v=0.0714, grad=0.0000), Var(v=-0.0860, grad=0.0000), Var(v=-0.0206, grad=0.0000), Var(v=0.0254, grad=0.0000), Var(v=0.0190, grad=0.0000), Var(v=0.1781, grad=0.0000), Var(v=-0.0180, grad=0.0000), Var(v=-0.0141, grad=0.0000), Var(v=0.0482, grad=0.0000), Var(v=-0.1092, grad=0.0000), Var(v=-0.0613, grad=0.0000), Var(v=0.1298, grad=0.0000), Var(v=0.0391, grad=0.0000), Var(v=-0.0170, grad=0.0000), Var(v=0.0196, grad=0.0000), Var(v=0.2199, grad=0.0000), Var(v=-0.0290, grad=0.0000), Var(v=-0.0963, grad=0.0000), Var(v=-0.0333, grad=0.0000), Var(v=-0.0972, grad=0.0000), Var(v=-0.0324, grad=0.0000), Var(v=-0.1003, grad=0.0000), Var(v=-0.1779, grad=0.0000), Var(v=-0.0075, grad=0.0000), Var(v=0.0473, grad=0.0000), Var(v=-0.1185, grad=0.0000), Var(v=0.0461, grad=0.0000), Var(v=-0.1076, grad=0.0000), Var(v=-0.1256, grad=0.0000), Var(v=0.1579, grad=0.0000), Var(v=0.0871, grad=0.0000), Var(v=0.0539, grad=0.0000), Var(v=0.0073, grad=0.0000), Var(v=-0.0722, grad=0.0000), Var(v=0.1627, grad=0.0000), Var(v=0.1191, grad=0.0000), Var(v=0.0436, grad=0.0000), Var(v=0.0143, grad=0.0000), Var(v=-0.0304, grad=0.0000), Var(v=0.0444, grad=0.0000), Var(v=-0.0709, grad=0.0000), Var(v=-0.2023, grad=0.0000), Var(v=0.1340, grad=0.0000), Var(v=-0.1599, grad=0.0000), Var(v=-0.0197, grad=0.0000), Var(v=0.0097, grad=0.0000), Var(v=-0.0509, grad=0.0000), Var(v=-0.1684, grad=0.0000)], [Var(v=0.2279, grad=0.0000), Var(v=0.1079, grad=0.0000), Var(v=0.0857, grad=0.0000), Var(v=-0.2246, grad=0.0000), Var(v=-0.0547, grad=0.0000), Var(v=0.0900, grad=0.0000), Var(v=0.0290, grad=0.0000), Var(v=0.0275, grad=0.0000), Var(v=-0.0170, grad=0.0000), Var(v=0.0368, grad=0.0000), Var(v=0.0912, grad=0.0000), Var(v=0.0375, grad=0.0000), Var(v=0.0079, grad=0.0000), Var(v=0.0278, grad=0.0000), Var(v=0.0610, grad=0.0000), Var(v=0.1035, grad=0.0000), Var(v=0.1331, grad=0.0000), Var(v=-0.0058, grad=0.0000), Var(v=0.0240, grad=0.0000), Var(v=-0.0431, grad=0.0000), Var(v=0.1124, grad=0.0000), Var(v=0.1059, grad=0.0000), Var(v=-0.0059, grad=0.0000), Var(v=0.0723, grad=0.0000), Var(v=0.2853, grad=0.0000), Var(v=0.1042, grad=0.0000), Var(v=-0.0358, grad=0.0000), Var(v=0.0148, grad=0.0000), Var(v=-0.1463, grad=0.0000), Var(v=-0.0703, grad=0.0000), Var(v=-0.0199, grad=0.0000), Var(v=-0.0006, grad=0.0000), Var(v=-0.0101, grad=0.0000), Var(v=0.1460, grad=0.0000), Var(v=-0.1899, grad=0.0000), Var(v=0.0425, grad=0.0000), Var(v=0.0031, grad=0.0000), Var(v=-0.0573, grad=0.0000), Var(v=-0.0134, grad=0.0000), Var(v=0.0532, grad=0.0000), Var(v=0.0035, grad=0.0000), Var(v=0.0537, grad=0.0000), Var(v=0.0863, grad=0.0000), Var(v=0.2524, grad=0.0000), Var(v=-0.0014, grad=0.0000), Var(v=-0.0919, grad=0.0000), Var(v=-0.1040, grad=0.0000), Var(v=0.0793, grad=0.0000), Var(v=0.0031, grad=0.0000), Var(v=0.0848, grad=0.0000)], [Var(v=0.0915, grad=0.0000), Var(v=0.0032, grad=0.0000), Var(v=-0.0046, grad=0.0000), Var(v=0.0057, grad=0.0000), Var(v=-0.0642, grad=0.0000), Var(v=0.0251, grad=0.0000), Var(v=-0.0285, grad=0.0000), Var(v=-0.0025, grad=0.0000), Var(v=-0.0940, grad=0.0000), Var(v=-0.1244, grad=0.0000), Var(v=-0.0874, grad=0.0000), Var(v=-0.0206, grad=0.0000), Var(v=-0.1337, grad=0.0000), Var(v=-0.2874, grad=0.0000), Var(v=0.0212, grad=0.0000), Var(v=-0.0577, grad=0.0000), Var(v=0.0205, grad=0.0000), Var(v=-0.0617, grad=0.0000), Var(v=0.0532, grad=0.0000), Var(v=-0.0680, grad=0.0000), Var(v=0.0307, grad=0.0000), Var(v=0.0482, grad=0.0000), Var(v=0.0916, grad=0.0000), Var(v=-0.0880, grad=0.0000), Var(v=0.0407, grad=0.0000), Var(v=0.1206, grad=0.0000), Var(v=-0.0278, grad=0.0000), Var(v=0.0725, grad=0.0000), Var(v=-0.1658, grad=0.0000), Var(v=0.0238, grad=0.0000), Var(v=0.0831, grad=0.0000), Var(v=0.1146, grad=0.0000), Var(v=-0.1115, grad=0.0000), Var(v=0.1689, grad=0.0000), Var(v=0.0013, grad=0.0000), Var(v=-0.1077, grad=0.0000), Var(v=0.0070, grad=0.0000), Var(v=0.0285, grad=0.0000), Var(v=0.1183, grad=0.0000), Var(v=-0.1162, grad=0.0000), Var(v=0.1038, grad=0.0000), Var(v=-0.1078, grad=0.0000), Var(v=0.0437, grad=0.0000), Var(v=-0.0762, grad=0.0000), Var(v=-0.0638, grad=0.0000), Var(v=0.0378, grad=0.0000), Var(v=-0.1536, grad=0.0000), Var(v=-0.1043, grad=0.0000), Var(v=0.0032, grad=0.0000), Var(v=-0.0276, grad=0.0000)], [Var(v=0.0238, grad=0.0000), Var(v=0.0825, grad=0.0000), Var(v=0.0809, grad=0.0000), Var(v=0.1248, grad=0.0000), Var(v=0.2008, grad=0.0000), Var(v=-0.0885, grad=0.0000), Var(v=0.0901, grad=0.0000), Var(v=-0.0507, grad=0.0000), Var(v=-0.2312, grad=0.0000), Var(v=0.1213, grad=0.0000), Var(v=0.1842, grad=0.0000), Var(v=-0.0403, grad=0.0000), Var(v=0.0246, grad=0.0000), Var(v=-0.0078, grad=0.0000), Var(v=0.0591, grad=0.0000), Var(v=0.2722, grad=0.0000), Var(v=-0.1817, grad=0.0000), Var(v=-0.0578, grad=0.0000), Var(v=-0.0057, grad=0.0000), Var(v=-0.0050, grad=0.0000), Var(v=-0.0611, grad=0.0000), Var(v=-0.0501, grad=0.0000), Var(v=-0.0482, grad=0.0000), Var(v=-0.0807, grad=0.0000), Var(v=0.1183, grad=0.0000), Var(v=-0.1437, grad=0.0000), Var(v=0.0815, grad=0.0000), Var(v=0.0748, grad=0.0000), Var(v=-0.0496, grad=0.0000), Var(v=0.0482, grad=0.0000), Var(v=0.0556, grad=0.0000), Var(v=-0.0799, grad=0.0000), Var(v=0.1125, grad=0.0000), Var(v=-0.0774, grad=0.0000), Var(v=-0.0547, grad=0.0000), Var(v=0.0353, grad=0.0000), Var(v=0.0053, grad=0.0000), Var(v=-0.1886, grad=0.0000), Var(v=-0.0154, grad=0.0000), Var(v=0.0511, grad=0.0000), Var(v=-0.1426, grad=0.0000), Var(v=0.0012, grad=0.0000), Var(v=-0.0605, grad=0.0000), Var(v=-0.0764, grad=0.0000), Var(v=0.0824, grad=0.0000), Var(v=-0.0156, grad=0.0000), Var(v=-0.0812, grad=0.0000), Var(v=-0.0710, grad=0.0000), Var(v=-0.1284, grad=0.0000), Var(v=0.0389, grad=0.0000)], [Var(v=-0.1603, grad=0.0000), Var(v=-0.0691, grad=0.0000), Var(v=-0.0080, grad=0.0000), Var(v=-0.0279, grad=0.0000), Var(v=-0.1489, grad=0.0000), Var(v=0.0016, grad=0.0000), Var(v=-0.0313, grad=0.0000), Var(v=-0.1120, grad=0.0000), Var(v=-0.1001, grad=0.0000), Var(v=-0.0245, grad=0.0000), Var(v=-0.1117, grad=0.0000), Var(v=0.0670, grad=0.0000), Var(v=-0.1300, grad=0.0000), Var(v=0.0996, grad=0.0000), Var(v=-0.0229, grad=0.0000), Var(v=-0.0565, grad=0.0000), Var(v=0.1031, grad=0.0000), Var(v=-0.0106, grad=0.0000), Var(v=0.0676, grad=0.0000), Var(v=-0.0324, grad=0.0000), Var(v=0.0089, grad=0.0000), Var(v=-0.1377, grad=0.0000), Var(v=0.0668, grad=0.0000), Var(v=-0.0381, grad=0.0000), Var(v=-0.2099, grad=0.0000), Var(v=0.0322, grad=0.0000), Var(v=0.0926, grad=0.0000), Var(v=0.0877, grad=0.0000), Var(v=-0.2138, grad=0.0000), Var(v=0.0221, grad=0.0000), Var(v=-0.0084, grad=0.0000), Var(v=-0.0747, grad=0.0000), Var(v=-0.0869, grad=0.0000), Var(v=-0.0058, grad=0.0000), Var(v=0.1365, grad=0.0000), Var(v=-0.0859, grad=0.0000), Var(v=0.0726, grad=0.0000), Var(v=-0.0749, grad=0.0000), Var(v=0.1040, grad=0.0000), Var(v=-0.1439, grad=0.0000), Var(v=0.0921, grad=0.0000), Var(v=-0.1414, grad=0.0000), Var(v=-0.0303, grad=0.0000), Var(v=0.0450, grad=0.0000), Var(v=-0.0868, grad=0.0000), Var(v=0.1065, grad=0.0000), Var(v=-0.0156, grad=0.0000), Var(v=-0.0042, grad=0.0000), Var(v=0.1195, grad=0.0000), Var(v=0.3582, grad=0.0000)], [Var(v=-0.0357, grad=0.0000), Var(v=-0.1463, grad=0.0000), Var(v=-0.0673, grad=0.0000), Var(v=0.1058, grad=0.0000), Var(v=-0.0776, grad=0.0000), Var(v=-0.1092, grad=0.0000), Var(v=-0.0470, grad=0.0000), Var(v=0.0576, grad=0.0000), Var(v=0.1235, grad=0.0000), Var(v=-0.1070, grad=0.0000), Var(v=-0.1568, grad=0.0000), Var(v=0.0152, grad=0.0000), Var(v=-0.0807, grad=0.0000), Var(v=0.1168, grad=0.0000), Var(v=0.0565, grad=0.0000), Var(v=-0.0386, grad=0.0000), Var(v=0.0797, grad=0.0000), Var(v=-0.0232, grad=0.0000), Var(v=0.2352, grad=0.0000), Var(v=0.1019, grad=0.0000), Var(v=0.0803, grad=0.0000), Var(v=0.0559, grad=0.0000), Var(v=0.0315, grad=0.0000), Var(v=-0.0357, grad=0.0000), Var(v=-0.0243, grad=0.0000), Var(v=-0.1548, grad=0.0000), Var(v=0.0710, grad=0.0000), Var(v=0.0639, grad=0.0000), Var(v=-0.1322, grad=0.0000), Var(v=-0.1196, grad=0.0000), Var(v=0.0574, grad=0.0000), Var(v=0.2020, grad=0.0000), Var(v=0.2109, grad=0.0000), Var(v=0.1282, grad=0.0000), Var(v=-0.1079, grad=0.0000), Var(v=0.0933, grad=0.0000), Var(v=0.0761, grad=0.0000), Var(v=0.1385, grad=0.0000), Var(v=0.0876, grad=0.0000), Var(v=0.1213, grad=0.0000), Var(v=0.1716, grad=0.0000), Var(v=0.1373, grad=0.0000), Var(v=-0.0898, grad=0.0000), Var(v=-0.3042, grad=0.0000), Var(v=-0.0914, grad=0.0000), Var(v=0.0441, grad=0.0000), Var(v=-0.1991, grad=0.0000), Var(v=0.0273, grad=0.0000), Var(v=-0.1385, grad=0.0000), Var(v=-0.0137, grad=0.0000)], [Var(v=-0.1005, grad=0.0000), Var(v=0.0181, grad=0.0000), Var(v=-0.0127, grad=0.0000), Var(v=0.1999, grad=0.0000), Var(v=-0.0897, grad=0.0000), Var(v=-0.0076, grad=0.0000), Var(v=0.0267, grad=0.0000), Var(v=0.1177, grad=0.0000), Var(v=-0.0508, grad=0.0000), Var(v=0.0303, grad=0.0000), Var(v=0.0683, grad=0.0000), Var(v=-0.1520, grad=0.0000), Var(v=0.0177, grad=0.0000), Var(v=0.1819, grad=0.0000), Var(v=0.0069, grad=0.0000), Var(v=0.0539, grad=0.0000), Var(v=-0.0465, grad=0.0000), Var(v=0.0837, grad=0.0000), Var(v=-0.1267, grad=0.0000), Var(v=0.0325, grad=0.0000), Var(v=0.0456, grad=0.0000), Var(v=0.1214, grad=0.0000), Var(v=0.0433, grad=0.0000), Var(v=-0.0056, grad=0.0000), Var(v=-0.0281, grad=0.0000), Var(v=-0.0526, grad=0.0000), Var(v=0.0781, grad=0.0000), Var(v=-0.1001, grad=0.0000), Var(v=0.0877, grad=0.0000), Var(v=-0.1031, grad=0.0000), Var(v=-0.1386, grad=0.0000), Var(v=0.0627, grad=0.0000), Var(v=0.0982, grad=0.0000), Var(v=0.1567, grad=0.0000), Var(v=0.0466, grad=0.0000), Var(v=-0.0339, grad=0.0000), Var(v=-0.0252, grad=0.0000), Var(v=-0.0968, grad=0.0000), Var(v=0.0136, grad=0.0000), Var(v=-0.0310, grad=0.0000), Var(v=0.0200, grad=0.0000), Var(v=0.0476, grad=0.0000), Var(v=-0.0818, grad=0.0000), Var(v=0.0750, grad=0.0000), Var(v=-0.0226, grad=0.0000), Var(v=0.0121, grad=0.0000), Var(v=0.1041, grad=0.0000), Var(v=0.0079, grad=0.0000), Var(v=-0.0067, grad=0.0000), Var(v=-0.0006, grad=0.0000)], [Var(v=-0.0581, grad=0.0000), Var(v=0.1351, grad=0.0000), Var(v=0.0019, grad=0.0000), Var(v=0.1467, grad=0.0000), Var(v=-0.1703, grad=0.0000), Var(v=0.0694, grad=0.0000), Var(v=-0.0722, grad=0.0000), Var(v=0.0755, grad=0.0000), Var(v=0.1026, grad=0.0000), Var(v=-0.0836, grad=0.0000), Var(v=0.0724, grad=0.0000), Var(v=-0.1760, grad=0.0000), Var(v=0.1511, grad=0.0000), Var(v=-0.0570, grad=0.0000), Var(v=0.0858, grad=0.0000), Var(v=0.1266, grad=0.0000), Var(v=0.0130, grad=0.0000), Var(v=-0.1708, grad=0.0000), Var(v=0.0071, grad=0.0000), Var(v=0.1116, grad=0.0000), Var(v=-0.0269, grad=0.0000), Var(v=-0.0522, grad=0.0000), Var(v=-0.1170, grad=0.0000), Var(v=-0.0785, grad=0.0000), Var(v=0.0451, grad=0.0000), Var(v=0.0038, grad=0.0000), Var(v=0.0238, grad=0.0000), Var(v=0.0191, grad=0.0000), Var(v=-0.0727, grad=0.0000), Var(v=-0.0361, grad=0.0000), Var(v=0.0046, grad=0.0000), Var(v=-0.0185, grad=0.0000), Var(v=0.0082, grad=0.0000), Var(v=0.0237, grad=0.0000), Var(v=-0.1411, grad=0.0000), Var(v=-0.1114, grad=0.0000), Var(v=-0.0273, grad=0.0000), Var(v=0.1794, grad=0.0000), Var(v=0.1429, grad=0.0000), Var(v=0.2494, grad=0.0000), Var(v=0.0980, grad=0.0000), Var(v=-0.1321, grad=0.0000), Var(v=-0.1716, grad=0.0000), Var(v=-0.0970, grad=0.0000), Var(v=-0.1031, grad=0.0000), Var(v=-0.0453, grad=0.0000), Var(v=0.0293, grad=0.0000), Var(v=0.0500, grad=0.0000), Var(v=0.0073, grad=0.0000), Var(v=-0.1355, grad=0.0000)], [Var(v=0.0377, grad=0.0000), Var(v=0.1245, grad=0.0000), Var(v=0.0014, grad=0.0000), Var(v=0.1180, grad=0.0000), Var(v=-0.1973, grad=0.0000), Var(v=-0.0286, grad=0.0000), Var(v=-0.1848, grad=0.0000), Var(v=0.0290, grad=0.0000), Var(v=-0.1807, grad=0.0000), Var(v=0.0384, grad=0.0000), Var(v=-0.1705, grad=0.0000), Var(v=-0.1822, grad=0.0000), Var(v=0.1642, grad=0.0000), Var(v=0.0739, grad=0.0000), Var(v=-0.1425, grad=0.0000), Var(v=-0.1681, grad=0.0000), Var(v=-0.0971, grad=0.0000), Var(v=0.0604, grad=0.0000), Var(v=-0.1537, grad=0.0000), Var(v=-0.0924, grad=0.0000), Var(v=-0.0291, grad=0.0000), Var(v=0.0153, grad=0.0000), Var(v=0.0866, grad=0.0000), Var(v=-0.1542, grad=0.0000), Var(v=0.1174, grad=0.0000), Var(v=-0.0372, grad=0.0000), Var(v=-0.0065, grad=0.0000), Var(v=0.0034, grad=0.0000), Var(v=-0.0836, grad=0.0000), Var(v=-0.0334, grad=0.0000), Var(v=-0.0162, grad=0.0000), Var(v=0.2207, grad=0.0000), Var(v=-0.1544, grad=0.0000), Var(v=-0.0044, grad=0.0000), Var(v=0.0104, grad=0.0000), Var(v=-0.0413, grad=0.0000), Var(v=0.0450, grad=0.0000), Var(v=0.2960, grad=0.0000), Var(v=0.0655, grad=0.0000), Var(v=-0.0784, grad=0.0000), Var(v=-0.1599, grad=0.0000), Var(v=0.0050, grad=0.0000), Var(v=-0.0595, grad=0.0000), Var(v=0.0693, grad=0.0000), Var(v=0.1302, grad=0.0000), Var(v=0.1107, grad=0.0000), Var(v=0.0028, grad=0.0000), Var(v=0.0761, grad=0.0000), Var(v=-0.0652, grad=0.0000), Var(v=0.1737, grad=0.0000)], [Var(v=0.0871, grad=0.0000), Var(v=0.1439, grad=0.0000), Var(v=0.1109, grad=0.0000), Var(v=-0.0454, grad=0.0000), Var(v=0.0316, grad=0.0000), Var(v=-0.0280, grad=0.0000), Var(v=0.1577, grad=0.0000), Var(v=0.0216, grad=0.0000), Var(v=0.1322, grad=0.0000), Var(v=-0.0597, grad=0.0000), Var(v=0.1185, grad=0.0000), Var(v=0.1125, grad=0.0000), Var(v=-0.0833, grad=0.0000), Var(v=0.1944, grad=0.0000), Var(v=0.1960, grad=0.0000), Var(v=-0.0903, grad=0.0000), Var(v=-0.0385, grad=0.0000), Var(v=-0.0211, grad=0.0000), Var(v=-0.1800, grad=0.0000), Var(v=0.0013, grad=0.0000), Var(v=-0.0931, grad=0.0000), Var(v=-0.0235, grad=0.0000), Var(v=0.0097, grad=0.0000), Var(v=-0.1651, grad=0.0000), Var(v=0.0065, grad=0.0000), Var(v=0.1502, grad=0.0000), Var(v=0.0705, grad=0.0000), Var(v=-0.0500, grad=0.0000), Var(v=0.0670, grad=0.0000), Var(v=-0.0227, grad=0.0000), Var(v=0.0817, grad=0.0000), Var(v=-0.0644, grad=0.0000), Var(v=0.0834, grad=0.0000), Var(v=0.0577, grad=0.0000), Var(v=-0.1040, grad=0.0000), Var(v=-0.0875, grad=0.0000), Var(v=0.0892, grad=0.0000), Var(v=-0.0046, grad=0.0000), Var(v=-0.1068, grad=0.0000), Var(v=-0.0467, grad=0.0000), Var(v=0.1555, grad=0.0000), Var(v=-0.0837, grad=0.0000), Var(v=0.0815, grad=0.0000), Var(v=0.1532, grad=0.0000), Var(v=-0.1286, grad=0.0000), Var(v=0.0984, grad=0.0000), Var(v=0.0787, grad=0.0000), Var(v=0.0571, grad=0.0000), Var(v=-0.0952, grad=0.0000), Var(v=-0.0116, grad=0.0000)]] Biases: [Var(v=-0.3184, grad=0.0000), Var(v=-0.2710, grad=0.0000), Var(v=0.0000, grad=0.0000), Var(v=0.0000, grad=0.0000), Var(v=0.0000, grad=0.0000), Var(v=0.0000, grad=0.0000), Var(v=0.1734, grad=0.0000), Var(v=0.0705, grad=0.0000), Var(v=0.5842, grad=0.0000), Var(v=-0.2398, grad=0.0000), Var(v=-0.2508, grad=0.0000), Var(v=0.0000, grad=0.0000), Var(v=0.0000, grad=0.0000), Var(v=0.0000, grad=0.0000), Var(v=0.0000, grad=0.0000), Var(v=1.9913, grad=0.0000), Var(v=-0.0387, grad=0.0000), Var(v=0.0000, grad=0.0000), Var(v=1.9142, grad=0.0000), Var(v=-0.0214, grad=0.0000), Var(v=0.0000, grad=0.0000), Var(v=0.0000, grad=0.0000), Var(v=0.0708, grad=0.0000), Var(v=0.0000, grad=0.0000), Var(v=0.3127, grad=0.0000), Var(v=0.0000, grad=0.0000), Var(v=-1.9905, grad=0.0000), Var(v=0.0000, grad=0.0000), Var(v=2.1000, grad=0.0000), Var(v=0.0000, grad=0.0000), Var(v=-0.0553, grad=0.0000), Var(v=0.0000, grad=0.0000), Var(v=-0.0161, grad=0.0000), Var(v=-0.0624, grad=0.0000), Var(v=0.0000, grad=0.0000), Var(v=0.0000, grad=0.0000), Var(v=-0.1940, grad=0.0000), Var(v=0.0000, grad=0.0000), Var(v=0.7357, grad=0.0000), Var(v=-0.3556, grad=0.0000), Var(v=0.0000, grad=0.0000), Var(v=0.2371, grad=0.0000), Var(v=-0.5430, grad=0.0000), Var(v=0.0000, grad=0.0000), Var(v=0.2582, grad=0.0000), Var(v=0.0000, grad=0.0000), Var(v=0.0000, grad=0.0000), Var(v=0.0000, grad=0.0000), Var(v=0.1315, grad=0.0000), Var(v=0.7307, grad=0.0000)]\n",
      "Layer 2 \n",
      " Weights: [[Var(v=-0.1052, grad=0.0000)], [Var(v=0.1308, grad=0.0000)], [Var(v=0.0642, grad=0.0000)], [Var(v=-0.1283, grad=0.0000)], [Var(v=-0.2168, grad=0.0000)], [Var(v=0.3005, grad=0.0000)], [Var(v=0.0281, grad=0.0000)], [Var(v=-0.0727, grad=0.0000)], [Var(v=-0.0961, grad=0.0000)], [Var(v=0.0782, grad=0.0000)], [Var(v=0.1452, grad=0.0000)], [Var(v=0.1217, grad=0.0000)], [Var(v=-0.0547, grad=0.0000)], [Var(v=-0.1258, grad=0.0000)], [Var(v=-0.0202, grad=0.0000)], [Var(v=0.2573, grad=0.0000)], [Var(v=-0.0296, grad=0.0000)], [Var(v=0.2897, grad=0.0000)], [Var(v=-0.1630, grad=0.0000)], [Var(v=0.0148, grad=0.0000)], [Var(v=0.0060, grad=0.0000)], [Var(v=0.1579, grad=0.0000)], [Var(v=-0.0415, grad=0.0000)], [Var(v=0.1643, grad=0.0000)], [Var(v=0.1547, grad=0.0000)], [Var(v=-0.0425, grad=0.0000)], [Var(v=-0.1739, grad=0.0000)], [Var(v=0.1258, grad=0.0000)], [Var(v=-0.2247, grad=0.0000)], [Var(v=-0.1015, grad=0.0000)], [Var(v=0.0275, grad=0.0000)], [Var(v=0.1176, grad=0.0000)], [Var(v=-0.0141, grad=0.0000)], [Var(v=-0.0151, grad=0.0000)], [Var(v=-0.1154, grad=0.0000)], [Var(v=0.0503, grad=0.0000)], [Var(v=0.0395, grad=0.0000)], [Var(v=-0.0232, grad=0.0000)], [Var(v=0.1099, grad=0.0000)], [Var(v=0.0425, grad=0.0000)], [Var(v=-0.0399, grad=0.0000)], [Var(v=-0.0569, grad=0.0000)], [Var(v=0.0310, grad=0.0000)], [Var(v=0.1351, grad=0.0000)], [Var(v=-0.0064, grad=0.0000)], [Var(v=-0.1731, grad=0.0000)], [Var(v=0.1245, grad=0.0000)], [Var(v=0.0025, grad=0.0000)], [Var(v=-0.1061, grad=0.0000)], [Var(v=0.1327, grad=0.0000)]] Biases: [Var(v=-12.9194, grad=0.0000)]\n"
     ]
    },
    {
     "data": {
      "text/plain": "[None, None, None]"
     },
     "execution_count": 65,
     "metadata": {},
     "output_type": "execute_result"
    }
   ],
   "source": [
    "print('Network before update:')\n",
    "[print('Layer', i, '\\n', NN[i]) for i in range(len(NN))] \n",
    "\n",
    "def parameters(network):\n",
    "  params = []\n",
    "  for layer in range(len(network)):\n",
    "    params += network[layer].parameters()\n",
    "  return params\n",
    "\n",
    "def update_parameters(params, learning_rate=0.01):\n",
    "  for p in params:\n",
    "    p.v -= learning_rate*p.grad\n",
    "\n",
    "def zero_gradients(params):\n",
    "  for p in params:\n",
    "    p.grad = 0.0\n",
    "\n",
    "update_parameters(parameters(NN))\n",
    "\n",
    "print('\\nNetwork after update:')\n",
    "[print('Layer', i, '\\n', NN[i]) for i in range(len(NN))] \n",
    "\n",
    "zero_gradients(parameters(NN))\n",
    "\n",
    "print('\\nNetwork after zeroing gradients:')\n",
    "[print('Layer', i, '\\n', NN[i]) for i in range(len(NN))] "
   ]
  },
  {
   "cell_type": "code",
   "execution_count": 89,
   "metadata": {
    "id": "woWYpdw6FtIO"
   },
   "outputs": [],
   "source": [
    "# Initialize an arbitrary neural network\n",
    "# NN = [\n",
    "#     DenseLayer(1, 8, lambda x: x.relu()),\n",
    "#     DenseLayer(8, 1, lambda x: x.identity())\n",
    "# ]\n",
    "\n",
    "# Recommended hyper-parameters for 3-D:\n",
    "NN = [\n",
    "   DenseLayer(1, 16, lambda x: x.relu()),\n",
    "   DenseLayer(16, 1, lambda x: x.identity())\n",
    "]\n",
    "\n",
    "\n",
    "### Notice that, when we switch from tanh to relu activation, we decrease the learning rate. This is due the stability of the gradients \n",
    "## of the activation functions."
   ]
  },
  {
   "cell_type": "code",
   "execution_count": 90,
   "metadata": {
    "id": "mdqaqYBVFtIR"
   },
   "outputs": [],
   "source": [
    "# Initialize training hyperparameters\n",
    "EPOCHS = 200\n",
    "LEARN_R = 2e-3"
   ]
  },
  {
   "cell_type": "code",
   "execution_count": 91,
   "metadata": {
    "colab": {
     "base_uri": "https://localhost:8080/"
    },
    "id": "5kfg76GMFtIW",
    "outputId": "e30cf68a-31f2-42b4-cc5e-860c297c0f04",
    "scrolled": true
   },
   "outputs": [
    {
     "name": "stdout",
     "output_type": "stream",
     "text": [
      "   0 ( 0.00%) Train loss: 107.133 \t Validation loss: 91.350\n",
      "  10 ( 5.00%) Train loss: 16.599 \t Validation loss: 12.605\n",
      "  20 (10.00%) Train loss: 17.706 \t Validation loss: 30.273\n",
      "  30 (15.00%) Train loss: 14.268 \t Validation loss: 11.240\n",
      "  40 (20.00%) Train loss: 13.288 \t Validation loss: 10.257\n",
      "  50 (25.00%) Train loss: 12.955 \t Validation loss: 10.128\n",
      "  60 (30.00%) Train loss: 12.708 \t Validation loss: 9.950\n",
      "  70 (35.00%) Train loss: 12.606 \t Validation loss: 9.891\n",
      "  80 (40.00%) Train loss: 14.869 \t Validation loss: 13.856\n",
      "  90 (45.00%) Train loss: 50.520 \t Validation loss: 35.260\n",
      " 100 (50.00%) Train loss: 26.408 \t Validation loss: 22.368\n",
      " 110 (55.00%) Train loss: 23.700 \t Validation loss: 20.496\n",
      " 120 (60.00%) Train loss: 22.563 \t Validation loss: 19.579\n",
      " 130 (65.00%) Train loss: 21.621 \t Validation loss: 18.871\n",
      " 140 (70.00%) Train loss: 21.157 \t Validation loss: 18.512\n",
      " 150 (75.00%) Train loss: 20.742 \t Validation loss: 18.212\n",
      " 160 (80.00%) Train loss: 20.548 \t Validation loss: 17.979\n",
      " 170 (85.00%) Train loss: 20.322 \t Validation loss: 17.797\n",
      " 180 (90.00%) Train loss: 20.163 \t Validation loss: 17.630\n",
      " 190 (95.00%) Train loss: 20.020 \t Validation loss: 17.493\n"
     ]
    }
   ],
   "source": [
    "train_loss = []\n",
    "val_loss = []\n",
    "\n",
    "for e in range(EPOCHS):\n",
    "     \n",
    "    # Forward pass and loss computation\n",
    "    Loss = squared_loss(y_train, forward(x_train, NN))\n",
    "\n",
    "    # Backward pass\n",
    "    Loss.backward()\n",
    "    \n",
    "    # gradient descent update\n",
    "    update_parameters(parameters(NN), LEARN_R)\n",
    "    zero_gradients(parameters(NN))\n",
    "    \n",
    "    # Training loss\n",
    "    train_loss.append(Loss.v)\n",
    "    \n",
    "    # Validation\n",
    "    Loss_validation = squared_loss(y_validation, forward(x_validation, NN))\n",
    "    val_loss.append(Loss_validation.v)\n",
    "    \n",
    "    if e%10==0:\n",
    "        print(\"{:4d}\".format(e),\n",
    "              \"({:5.2f}%)\".format(e/EPOCHS*100), \n",
    "              \"Train loss: {:4.3f} \\t Validation loss: {:4.3f}\".format(train_loss[-1], val_loss[-1]))\n",
    "        \n"
   ]
  },
  {
   "cell_type": "code",
   "execution_count": 92,
   "metadata": {
    "colab": {
     "base_uri": "https://localhost:8080/",
     "height": 265
    },
    "id": "VetyRWFwFtIY",
    "outputId": "344e490d-6d7d-455a-fa6f-88dd11eb957e"
   },
   "outputs": [
    {
     "data": {
      "text/plain": "<Figure size 640x480 with 1 Axes>",
      "image/png": "[encoded data removed]"
     },
     "metadata": {},
     "output_type": "display_data"
    }
   ],
   "source": [
    "plt.plot(range(len(train_loss)), train_loss)\n",
    "plt.plot(range(len(val_loss)), val_loss);"
   ]
  },
  {
   "cell_type": "markdown",
   "metadata": {
    "id": "8OgmIrM9FtIb"
   },
   "source": [
    "# Testing\n",
    "\n",
    "We have kept the calculation of the test error separate in order to emphasize that you should not use the test set in optimization."
   ]
  },
  {
   "cell_type": "code",
   "execution_count": 93,
   "metadata": {
    "id": "HmNi7S-vFtIc"
   },
   "outputs": [],
   "source": [
    "output_test = forward(x_test, NN)"
   ]
  },
  {
   "cell_type": "code",
   "execution_count": 94,
   "metadata": {
    "colab": {
     "base_uri": "https://localhost:8080/",
     "height": 316
    },
    "id": "7mmJOTSEFtIf",
    "outputId": "e3264095-cefe-4aee-893d-bf152438e332"
   },
   "outputs": [
    {
     "name": "stdout",
     "output_type": "stream",
     "text": [
      "Test loss:  17.654\n"
     ]
    },
    {
     "data": {
      "text/plain": "<Figure size 640x480 with 1 Axes>",
      "image/png": "[encoded data removed]"
     },
     "metadata": {},
     "output_type": "display_data"
    }
   ],
   "source": [
    "y_test_np = Var_to_nparray(y_test)\n",
    "plt.scatter(y_test_np, Var_to_nparray(output_test));\n",
    "plt.plot([np.min(y_test_np), np.max(y_test_np)], [np.min(y_test_np), np.max(y_test_np)], color='k');\n",
    "plt.xlabel(\"y\");\n",
    "plt.ylabel(\"$\\hat{y}$\");\n",
    "plt.title(\"Model prediction vs real in the test set, the close to the line the better\")\n",
    "plt.grid(True);\n",
    "plt.axis('equal');\n",
    "plt.tight_layout();\n",
    "\n",
    "Loss_test = squared_loss(y_test, forward(x_test, NN))\n",
    "\n",
    "print(\"Test loss:  {:4.3f}\".format(Loss_test.v))"
   ]
  },
  {
   "cell_type": "code",
   "execution_count": 95,
   "metadata": {
    "colab": {
     "base_uri": "https://localhost:8080/",
     "height": 279
    },
    "id": "ODi0WlmQFtIh",
    "outputId": "d1ab874f-0717-4987-87bf-1f0c7c8e7148"
   },
   "outputs": [
    {
     "data": {
      "text/plain": "<Figure size 640x480 with 1 Axes>",
      "image/png": "[encoded data removed]"
     },
     "metadata": {},
     "output_type": "display_data"
    }
   ],
   "source": [
    "x_test_np = Var_to_nparray(x_test)\n",
    "x_train_np = Var_to_nparray(x_train)\n",
    "y_train_np = Var_to_nparray(y_train)\n",
    "if D1:\n",
    "    plt.scatter(x_train_np, y_train_np, label=\"train data\");\n",
    "    plt.scatter(x_test_np, Var_to_nparray(output_test), label=\"test prediction\");\n",
    "    plt.scatter(x_test_np, y_test_np, label=\"test data\");\n",
    "    plt.legend();\n",
    "    plt.xlabel(\"x\");\n",
    "    plt.ylabel(\"y\");\n",
    "else:\n",
    "    plt.scatter(x_train_np[:,1], y_train, label=\"train data\");\n",
    "    plt.scatter(x_test_np[:,1], Var_to_nparray(output_test), label=\"test data prediction\");\n",
    "    plt.scatter(x_test_np[:,1], y_test_np, label=\"test data\");\n",
    "    plt.legend();\n",
    "    plt.xlabel(\"x\");\n",
    "    plt.ylabel(\"y\");"
   ]
  },
  {
   "cell_type": "markdown",
   "metadata": {
    "id": "zTBAmjsAFtIk"
   },
   "source": [
    "## Exercise l) Show overfitting, underfitting and just right fitting\n",
    "\n",
    "Vary the architecture and other things to show clear signs of overfitting (=training loss significantly lower than test loss) and underfitting (=not fitting enoung to training data so that test performance is also hurt).\n",
    "\n",
    "See also if you can get a good compromise which leads to a low validation loss. \n",
    "\n",
    "For this problem do you see any big difference between validation and test loss? The answer here will probably be no. Discuss cases where it is important to keep the two separate.\n",
    "\n",
    "In cases where we do not know the actual distribution from which the data is drawn we can only find out whether the network has learned to generalise by training it on unseen data.\n"
   ]
  },
  {
   "cell_type": "code",
   "execution_count": 97,
   "metadata": {
    "id": "tQZCn2dxFtIl"
   },
   "outputs": [
    {
     "name": "stdout",
     "output_type": "stream",
     "text": [
      "   0 ( 0.00%) Train loss: 96.056 \t Validation loss: 58.067\n",
      "  10 ( 5.00%) Train loss: 67.478 \t Validation loss: 86.882\n",
      "  20 (10.00%) Train loss: 29.807 \t Validation loss: 25.802\n",
      "  30 (15.00%) Train loss: 31.363 \t Validation loss: 24.655\n",
      "  40 (20.00%) Train loss: 23.381 \t Validation loss: 19.282\n",
      "  50 (25.00%) Train loss: 19.754 \t Validation loss: 16.545\n",
      "  60 (30.00%) Train loss: 17.533 \t Validation loss: 14.689\n",
      "  70 (35.00%) Train loss: 16.188 \t Validation loss: 13.430\n",
      "  80 (40.00%) Train loss: 15.333 \t Validation loss: 12.617\n",
      "  90 (45.00%) Train loss: 15.073 \t Validation loss: 12.352\n",
      " 100 (50.00%) Train loss: 15.208 \t Validation loss: 12.458\n",
      " 110 (55.00%) Train loss: 15.166 \t Validation loss: 12.393\n",
      " 120 (60.00%) Train loss: 14.882 \t Validation loss: 12.095\n",
      " 130 (65.00%) Train loss: 14.465 \t Validation loss: 11.672\n",
      " 140 (70.00%) Train loss: 13.988 \t Validation loss: 11.200\n",
      " 150 (75.00%) Train loss: 13.520 \t Validation loss: 10.741\n",
      " 160 (80.00%) Train loss: 13.068 \t Validation loss: 10.302\n",
      " 170 (85.00%) Train loss: 12.721 \t Validation loss: 9.959\n",
      " 180 (90.00%) Train loss: 12.464 \t Validation loss: 9.697\n",
      " 190 (95.00%) Train loss: 12.268 \t Validation loss: 9.506\n"
     ]
    }
   ],
   "source": [
    "# Insert your code for getting overfitting, underfitting and just right fitting\n",
    "\n",
    "# Over-fitting:\n",
    "NN = [\n",
    "    DenseLayer(1, 100, lambda x: x.relu()),\n",
    "    DenseLayer(100, 1, lambda x: x.identity())\n",
    "]\n",
    "\n",
    "EPOCHS = 200\n",
    "LEARN_R = 2e-3\n",
    "train_loss = []\n",
    "val_loss = []\n",
    "\n",
    "for e in range(EPOCHS):\n",
    "\n",
    "    # Forward pass and loss computation\n",
    "    Loss = squared_loss(y_train, forward(x_train, NN))\n",
    "\n",
    "    # Backward pass\n",
    "    Loss.backward()\n",
    "\n",
    "    # gradient descent update\n",
    "    update_parameters(parameters(NN), LEARN_R)\n",
    "    zero_gradients(parameters(NN))\n",
    "\n",
    "    # Training loss\n",
    "    train_loss.append(Loss.v)\n",
    "\n",
    "    # Validation\n",
    "    Loss_validation = squared_loss(y_validation, forward(x_validation, NN))\n",
    "    val_loss.append(Loss_validation.v)\n",
    "\n",
    "    if e % 10 == 0:\n",
    "        print(\"{:4d}\".format(e),\n",
    "              \"({:5.2f}%)\".format(e / EPOCHS * 100),\n",
    "              \"Train loss: {:4.3f} \\t Validation loss: {:4.3f}\".format(train_loss[-1], val_loss[-1]))\n"
   ]
  },
  {
   "cell_type": "code",
   "execution_count": null,
   "outputs": [],
   "source": [
    "# Underfitting:\n",
    "NN = [\n",
    "    DenseLayer(1, 5, lambda x: x.relu()),\n",
    "    DenseLayer(5, 1, lambda x: x.identity())\n",
    "]\n",
    "\n",
    "EPOCHS = 20\n",
    "LEARN_R = 2e-3\n",
    "train_loss = []\n",
    "val_loss = []\n",
    "\n",
    "for e in range(EPOCHS):\n",
    "\n",
    "    # Forward pass and loss computation\n",
    "    Loss = squared_loss(y_train, forward(x_train, NN))\n",
    "\n",
    "    # Backward pass\n",
    "    Loss.backward()\n",
    "\n",
    "    # gradient descent update\n",
    "    update_parameters(parameters(NN), LEARN_R)\n",
    "    zero_gradients(parameters(NN))\n",
    "\n",
    "    # Training loss\n",
    "    train_loss.append(Loss.v)\n",
    "\n",
    "    # Validation\n",
    "    Loss_validation = squared_loss(y_validation, forward(x_validation, NN))\n",
    "    val_loss.append(Loss_validation.v)\n",
    "\n",
    "    if e % 10 == 0:\n",
    "        print(\"{:4d}\".format(e),\n",
    "              \"({:5.2f}%)\".format(e / EPOCHS * 100),\n",
    "              \"Train loss: {:4.3f} \\t Validation loss: {:4.3f}\".format(train_loss[-1], val_loss[-1]))"
   ],
   "metadata": {
    "collapsed": false
   }
  },
  {
   "cell_type": "markdown",
   "metadata": {
    "id": "fYPZP-eTFtIo"
   },
   "source": [
    "# Next steps - classification\n",
    "\n",
    "It is straight forward to extend what we have done to classification. \n",
    "\n",
    "For numerical stability it is better to make softmax and cross-entropy as one function so we write the cross entropy loss as a function of the logits we talked about last week. \n",
    "\n",
    "Next week we will see how to perform classification in PyTorch."
   ]
  },
  {
   "cell_type": "markdown",
   "metadata": {
    "id": "qsVPul3QFtIo"
   },
   "source": [
    "## Exercise m) optional - Implement backpropagation for classification\n",
    "\n",
    "Should be possible with very few lines of code. :-)"
   ]
  },
  {
   "cell_type": "code",
   "execution_count": null,
   "metadata": {
    "id": "oC8QrI2tFtIp"
   },
   "outputs": [],
   "source": [
    "# Just add code."
   ]
  },
  {
   "cell_type": "markdown",
   "metadata": {
    "id": "APqhJv3tta1O"
   },
   "source": [
    "## Exercise n) optional - Introduce a NeuralNetwork class\n",
    "\n",
    "The functions we applied on the neural network (parameters, update_parameters and zero_gradients) can more naturally be included as methods in a NeuralNetwork class. Make such a class and modify the code to use it. "
   ]
  },
  {
   "cell_type": "code",
   "execution_count": null,
   "metadata": {
    "id": "Dqfnor1ouMLq"
   },
   "outputs": [],
   "source": [
    "# just add some code"
   ]
  }
 ],
 "metadata": {
  "anaconda-cloud": {},
  "colab": {
   "collapsed_sections": [
    "U4057_ljNvWB",
    "p_8n_SKnIW2F",
    "oLrGJytZFtGm",
    "jpIZPBpNI0pO",
    "_79HOAXrFtHK",
    "mqeyab9qFtGs",
    "-XyXBD37FtHk",
    "SrwSJ2UWFtHu",
    "zTBAmjsAFtIk",
    "qsVPul3QFtIo",
    "APqhJv3tta1O"
   ],
   "name": "2.1-EXE-FNN-AutoDif-Nanograd.ipynb",
   "provenance": []
  },
  "kernelspec": {
   "display_name": "Python 3",
   "language": "python",
   "name": "python3"
  },
  "language_info": {
   "codemirror_mode": {
    "name": "ipython",
    "version": 3
   },
   "file_extension": ".py",
   "mimetype": "text/x-python",
   "name": "python",
   "nbconvert_exporter": "python",
   "pygments_lexer": "ipython3",
   "version": "3.9.12"
  }
 },
 "nbformat": 4,
 "nbformat_minor": 1
}
