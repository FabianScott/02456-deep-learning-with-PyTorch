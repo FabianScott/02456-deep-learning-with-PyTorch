{
 "cells": [
  {
   "cell_type": "markdown",
   "metadata": {
    "id": "HAva8TnYFtFu"
   },
   "source": [
    "# Contents and why we need this lab\n",
    "\n",
    "This lab is about implementing neural networks yourself before we start using other frameworks that hide some of the computation from you. It builds on the first lab, where you derived the equations for neural network forward and backward propagation and gradient descent parameter updates. \n",
    "\n",
    "All the frameworks for deep learning you will meet from now on use automatic differentiation (autodiff), so you do not have to code the backward step yourself. In this version of this lab, you will develop your own autodif implementation. We also have an optional [version](https://github.com/DeepLearningDTU/02456-deep-learning-with-PyTorch/blob/master/2_Feedforward_Python/2.2-FNN-NumPy.ipynb) of this lab where you have to code the backward pass explicitly in Numpy."
   ]
  },
  {
   "cell_type": "markdown",
   "metadata": {
    "id": "sCa7HzwpFtFy"
   },
   "source": [
    "# External sources of information\n",
    "\n",
    "1. Jupyter notebook. You can find more information about Jupyter notebooks [here](https://jupyter.org/). It will come as part of the [Anaconda](https://www.anaconda.com/) Python installation. \n",
    "2. [NumPy](https://numpy.org/). Part of Anaconda distribution.  If you already know how to program, most things about Python and NumPy can be found with Google searches.\n",
    "3. [Nanograd](https://github.com/rasmusbergpalm/nanograd) is a minimalistic version of autodiff developed by Rasmus Berg Palm that we use for our framework.\n"
   ]
  },
  {
   "cell_type": "markdown",
   "metadata": {
    "id": "1SjiIp-TFtF0"
   },
   "source": [
    "# This notebook will follow the next steps:\n",
    "\n",
    "1. Nanograd automatic differentiation framework\n",
    "2. Finite difference method\n",
    "3. Data generation\n",
    "4. Defining and initializing the network\n",
    "5. Forward pass\n",
    "6. Training loop \n",
    "7. Testing your model\n",
    "8. Further extensions"
   ]
  },
  {
   "cell_type": "markdown",
   "metadata": {
    "id": "OyXeAA-HuT7s"
   },
   "source": [
    "# Nanograd automatic differention framework"
   ]
  },
  {
   "cell_type": "markdown",
   "metadata": {
    "id": "k6UWKCLKubgA"
   },
   "source": [
    "The [Nanograd](https://github.com/rasmusbergpalm/nanograd) framework defines a class Var which both holds a value and gradient value that we can use to store the intermediate values when we apply the chain rule of differentiation."
   ]
  },
  {
   "cell_type": "code",
   "execution_count": 1,
   "metadata": {
    "id": "Jd4CoEBNzNWS"
   },
   "outputs": [],
   "source": [
    "# Copy and pasted from https://github.com/rasmusbergpalm/nanograd/blob/3a1bf9e9e724da813bfccf91a6f309abdade9f39/nanograd.py\n",
    "\n",
    "from math import exp, log, tanh\n",
    "\n",
    "class Var:\n",
    "    \"\"\"\n",
    "    A variable which holds a float and enables gradient computations.\n",
    "    \"\"\"\n",
    "\n",
    "    def __init__(self, val: float, grad_fn=lambda: []):\n",
    "        assert type(val) == float\n",
    "        self.v = val\n",
    "        self.grad_fn = grad_fn\n",
    "        self.grad = 0.0\n",
    "\n",
    "    def backprop(self, bp):\n",
    "        self.grad += bp\n",
    "        for input, grad in self.grad_fn():\n",
    "            input.backprop(grad * bp)\n",
    "\n",
    "    def backward(self):\n",
    "        self.backprop(1.0)\n",
    "\n",
    "    def __add__(self: 'Var', other: 'Var') -> 'Var':\n",
    "        return Var(self.v + other.v, lambda: [(self, 1.0), (other, 1.0)])\n",
    "\n",
    "    def __mul__(self: 'Var', other: 'Var') -> 'Var':\n",
    "        return Var(self.v * other.v, lambda: [(self, other.v), (other, self.v)])\n",
    "\n",
    "    def __pow__(self, power):\n",
    "        assert type(power) in {float, int}, \"power must be float or int\"\n",
    "        return Var(self.v ** power, lambda: [(self, power * self.v ** (power - 1))])\n",
    "\n",
    "    def __neg__(self: 'Var') -> 'Var':\n",
    "        return Var(-1.0) * self\n",
    "\n",
    "    def __sub__(self: 'Var', other: 'Var') -> 'Var':\n",
    "        return self + (-other)\n",
    "\n",
    "    def __truediv__(self: 'Var', other: 'Var') -> 'Var':\n",
    "        return self * other ** -1\n",
    "\n",
    "    def __repr__(self):\n",
    "        return \"Var(v=%.4f, grad=%.4f)\" % (self.v, self.grad)\n",
    "\n",
    "    def relu(self):\n",
    "        return Var(self.v if self.v > 0.0 else 0.0, lambda: [(self, 1.0 if self.v > 0.0 else 0.0)])\n",
    "\n",
    "    def identity(self):\n",
    "        return Var(self.v, lambda: [(self, 1.0)])\n",
    "\n",
    "    def tanh(self):\n",
    "        return Var(tanh(self.v), lambda: [(self, 1 - tanh(self.v) ** 2)])\n",
    "\n",
    "    def sigmoid(self):\n",
    "        return Var(1/(1+exp(-self.v)), lambda: [(self, 1/(1+exp(-self.v)) * (1 - 1/(1+exp(-self.v))))])\n",
    "\n",
    "    def exp(self):\n",
    "        return Var(exp(self.v), lambda: [(self, exp(self.v))])\n",
    "\n",
    "    def log(self):\n",
    "        return Var(log(self.v), lambda: [(self, self.v ** -1)])"
   ]
  },
  {
   "cell_type": "markdown",
   "metadata": {
    "id": "yDX67D6jzcte"
   },
   "source": [
    "A few examples illustrate how we can use this:"
   ]
  },
  {
   "cell_type": "code",
   "execution_count": 2,
   "metadata": {
    "colab": {
     "base_uri": "https://localhost:8080/"
    },
    "id": "xk6PeLc3zwPT",
    "outputId": "47e431b2-07ba-4cb1-ea21-997769641c67"
   },
   "outputs": [
    {
     "name": "stdout",
     "output_type": "stream",
     "text": [
      "Var(v=3.0000, grad=5.0000)\n",
      "Var(v=5.0000, grad=3.0000)\n",
      "Var(v=15.0000, grad=1.0000)\n"
     ]
    }
   ],
   "source": [
    "a = Var(3.0)\n",
    "b = Var(5.0)\n",
    "f = a * b\n",
    "\n",
    "f.backward()\n",
    "\n",
    "for v in [a, b, f]:\n",
    "    print(v)"
   ]
  },
  {
   "cell_type": "code",
   "execution_count": 3,
   "metadata": {
    "colab": {
     "base_uri": "https://localhost:8080/"
    },
    "id": "JmKhYgsY0g_o",
    "outputId": "06c1b1df-c33c-40d3-922a-624612a591c7"
   },
   "outputs": [
    {
     "name": "stdout",
     "output_type": "stream",
     "text": [
      "Var(v=3.0000, grad=14.0000)\n",
      "Var(v=5.0000, grad=3.0000)\n",
      "Var(v=15.0000, grad=1.0000)\n",
      "Var(v=9.0000, grad=3.0000)\n",
      "Var(v=27.0000, grad=1.0000)\n",
      "Var(v=42.0000, grad=1.0000)\n"
     ]
    }
   ],
   "source": [
    "a = Var(3.0)\n",
    "b = Var(5.0)\n",
    "c = a * b\n",
    "d = Var(9.0)\n",
    "e = a * d\n",
    "f = c + e\n",
    "\n",
    "f.backward()\n",
    "\n",
    "for v in [a, b, c, d, e, f]:\n",
    "    print(v)"
   ]
  },
  {
   "cell_type": "markdown",
   "metadata": {
    "id": "Fe3B6uEH140p"
   },
   "source": [
    "## Exercise a) What is being calculated?\n",
    "\n",
    "Explain briefly the output of the code? What is the expression we differentiate and with respect to what variables?\n",
    "The chain rule of differentiation in applied to f, meaning every composite part of f also has its gradient calculated. These gradients are also stored in their respective variables."
   ]
  },
  {
   "cell_type": "markdown",
   "metadata": {
    "id": "q8_Q0t2I3Ruj"
   },
   "source": [
    "## Exercise b) How does the backward function work?\n",
    "\n",
    "You need to understand how the backward function calculates the gradients. We can use the two examples above to help with that.\n",
    "\n",
    "Go through the following four steps and answer the questions on the way:\n",
    "\n",
    "1. We represent the two expressions as graphs as shown below. Fill in the missing expressions for the different derivatives.\n",
    "\n",
    "2. In the remainder consider the first expression. Make a schematic of the data structure which is generated when we define the expression for f. \n",
    "\n",
    "3. Then execute the backward function by hand to convince yourself that it indeed calculates the gradients with respect to the variables. \n",
    "\n",
    "4. Write down the sequence of calls to backprop.\n",
    "\n",
    "The gradient for f is calculated using backprop(1), thus resulting in 1.\n",
    "Next the backprop is calculated for c and e, again with backprop(1) due\n",
    "to them being added in the composition of f. Next a has backprop(b) as its\n",
    "grad is b due to the multiplication to create c. b has backprop(a). The same\n",
    "pattern repeats for d. Then for a again, it is called with backprop(d),\n",
    "resulting in the gradient c + d.\n"
   ]
  },
  {
   "cell_type": "code",
   "execution_count": 4,
   "metadata": {
    "id": "idGr71jYXl26"
   },
   "outputs": [],
   "source": [
    "# import logging\n",
    "import graphviz\n",
    "\n",
    "#logging.basicConfig(format='[%(levelname)s@%(name)s] %(message)s', level=logging.DEBUG)\n",
    "\n",
    "#graphviz.__version__, graphviz.version()"
   ]
  },
  {
   "cell_type": "code",
   "execution_count": 5,
   "metadata": {
    "colab": {
     "base_uri": "https://localhost:8080/",
     "height": 152
    },
    "id": "KPe30Q2QXzeG",
    "outputId": "7fa002cd-a018-4dbb-ddf1-28ed5e99ee19"
   },
   "outputs": [
    {
     "data": {
      "image/svg+xml": "<?xml version=\"1.0\" encoding=\"UTF-8\" standalone=\"no\"?>\n<!DOCTYPE svg PUBLIC \"-//W3C//DTD SVG 1.1//EN\"\n \"http://www.w3.org/Graphics/SVG/1.1/DTD/svg11.dtd\">\n<!-- Generated by graphviz version 8.1.0 (20230707.0739)\n -->\n<!-- Title: first expression Pages: 1 -->\n<svg width=\"161pt\" height=\"98pt\"\n viewBox=\"0.00 0.00 161.00 98.00\" xmlns=\"http://www.w3.org/2000/svg\" xmlns:xlink=\"http://www.w3.org/1999/xlink\">\n<g id=\"graph0\" class=\"graph\" transform=\"scale(1 1) rotate(0) translate(4 94)\">\n<title>first expression</title>\n<polygon fill=\"white\" stroke=\"none\" points=\"-4,4 -4,-94 157,-94 157,4 -4,4\"/>\n<!-- a -->\n<g id=\"node1\" class=\"node\">\n<title>a</title>\n<ellipse fill=\"none\" stroke=\"black\" cx=\"18\" cy=\"-72\" rx=\"18\" ry=\"18\"/>\n<text text-anchor=\"middle\" x=\"18\" y=\"-66.58\" font-family=\"Times New Roman,serif\" font-size=\"14.00\">a</text>\n</g>\n<!-- f -->\n<g id=\"node2\" class=\"node\">\n<title>f</title>\n<ellipse fill=\"none\" stroke=\"black\" cx=\"135\" cy=\"-45\" rx=\"18\" ry=\"18\"/>\n<text text-anchor=\"middle\" x=\"135\" y=\"-39.58\" font-family=\"Times New Roman,serif\" font-size=\"14.00\">f</text>\n</g>\n<!-- a&#45;&gt;f -->\n<g id=\"edge1\" class=\"edge\">\n<title>a&#45;&gt;f</title>\n<path fill=\"none\" stroke=\"black\" d=\"M35.97,-68.02C54.48,-63.67 84.41,-56.64 106.33,-51.5\"/>\n<polygon fill=\"black\" stroke=\"black\" points=\"107.03,-54.69 115.96,-49 105.43,-47.88 107.03,-54.69\"/>\n<text text-anchor=\"middle\" x=\"76.5\" y=\"-65.45\" font-family=\"Times New Roman,serif\" font-size=\"14.00\">df/da=b</text>\n</g>\n<!-- b -->\n<g id=\"node3\" class=\"node\">\n<title>b</title>\n<ellipse fill=\"none\" stroke=\"black\" cx=\"18\" cy=\"-18\" rx=\"18\" ry=\"18\"/>\n<text text-anchor=\"middle\" x=\"18\" y=\"-12.57\" font-family=\"Times New Roman,serif\" font-size=\"14.00\">b</text>\n</g>\n<!-- b&#45;&gt;f -->\n<g id=\"edge2\" class=\"edge\">\n<title>b&#45;&gt;f</title>\n<path fill=\"none\" stroke=\"black\" d=\"M35.96,-20.95C52.23,-23.89 77.44,-28.76 99,-34.25 101.64,-34.92 104.38,-35.67 107.11,-36.45\"/>\n<polygon fill=\"black\" stroke=\"black\" points=\"105.78,-40.01 116.36,-39.53 107.79,-33.3 105.78,-40.01\"/>\n<text text-anchor=\"middle\" x=\"76.5\" y=\"-37.45\" font-family=\"Times New Roman,serif\" font-size=\"14.00\">df/db=a</text>\n</g>\n</g>\n</svg>\n",
      "text/plain": "<graphviz.graphs.Digraph at 0x1e7e549b850>"
     },
     "execution_count": 5,
     "metadata": {},
     "output_type": "execute_result"
    }
   ],
   "source": [
    "e1 = graphviz.Digraph('first expression', filename='fsm.gv')\n",
    "\n",
    "e1.attr(rankdir='LR', size='8,5')\n",
    "\n",
    "e1.attr('node', shape='circle')\n",
    "e1.edge('a', 'f', label='df/da=b')\n",
    "e1.edge('b', 'f', label='df/db=a')\n",
    "\n",
    "e1"
   ]
  },
  {
   "cell_type": "code",
   "execution_count": 6,
   "metadata": {
    "colab": {
     "base_uri": "https://localhost:8080/",
     "height": 232
    },
    "id": "0nittR-mZFeX",
    "outputId": "fa3656a3-732c-4abe-8084-98a492b0d6be"
   },
   "outputs": [
    {
     "data": {
      "image/svg+xml": "<?xml version=\"1.0\" encoding=\"UTF-8\" standalone=\"no\"?>\n<!DOCTYPE svg PUBLIC \"-//W3C//DTD SVG 1.1//EN\"\n \"http://www.w3.org/Graphics/SVG/1.1/DTD/svg11.dtd\">\n<!-- Generated by graphviz version 8.1.0 (20230707.0739)\n -->\n<!-- Title: second expression Pages: 1 -->\n<svg width=\"280pt\" height=\"161pt\"\n viewBox=\"0.00 0.00 280.25 161.00\" xmlns=\"http://www.w3.org/2000/svg\" xmlns:xlink=\"http://www.w3.org/1999/xlink\">\n<g id=\"graph0\" class=\"graph\" transform=\"scale(1 1) rotate(0) translate(4 157)\">\n<title>second expression</title>\n<polygon fill=\"white\" stroke=\"none\" points=\"-4,4 -4,-157 276.25,-157 276.25,4 -4,4\"/>\n<!-- a -->\n<g id=\"node1\" class=\"node\">\n<title>a</title>\n<ellipse fill=\"none\" stroke=\"black\" cx=\"18\" cy=\"-77\" rx=\"18\" ry=\"18\"/>\n<text text-anchor=\"middle\" x=\"18\" y=\"-71.58\" font-family=\"Times New Roman,serif\" font-size=\"14.00\">a</text>\n</g>\n<!-- c -->\n<g id=\"node2\" class=\"node\">\n<title>c</title>\n<ellipse fill=\"none\" stroke=\"black\" cx=\"137.25\" cy=\"-103\" rx=\"18\" ry=\"18\"/>\n<text text-anchor=\"middle\" x=\"137.25\" y=\"-97.58\" font-family=\"Times New Roman,serif\" font-size=\"14.00\">c</text>\n</g>\n<!-- a&#45;&gt;c -->\n<g id=\"edge1\" class=\"edge\">\n<title>a&#45;&gt;c</title>\n<path fill=\"none\" stroke=\"black\" d=\"M36.05,-80.78C55.07,-85 86.11,-91.88 108.61,-96.87\"/>\n<polygon fill=\"black\" stroke=\"black\" points=\"107.66,-100.47 118.18,-99.21 109.18,-93.63 107.66,-100.47\"/>\n<text text-anchor=\"middle\" x=\"77.62\" y=\"-96.45\" font-family=\"Times New Roman,serif\" font-size=\"14.00\">dc/da=b</text>\n</g>\n<!-- e -->\n<g id=\"node4\" class=\"node\">\n<title>e</title>\n<ellipse fill=\"none\" stroke=\"black\" cx=\"137.25\" cy=\"-49\" rx=\"18\" ry=\"18\"/>\n<text text-anchor=\"middle\" x=\"137.25\" y=\"-43.58\" font-family=\"Times New Roman,serif\" font-size=\"14.00\">e</text>\n</g>\n<!-- a&#45;&gt;e -->\n<g id=\"edge3\" class=\"edge\">\n<title>a&#45;&gt;e</title>\n<path fill=\"none\" stroke=\"black\" d=\"M35.25,-71.06C41.11,-69.05 47.8,-66.89 54,-65.25 71.89,-60.5 92.29,-56.46 108.31,-53.6\"/>\n<polygon fill=\"black\" stroke=\"black\" points=\"108.84,-56.88 118.09,-51.73 107.64,-49.99 108.84,-56.88\"/>\n<text text-anchor=\"middle\" x=\"77.62\" y=\"-68.45\" font-family=\"Times New Roman,serif\" font-size=\"14.00\">de/da=d</text>\n</g>\n<!-- f -->\n<g id=\"node6\" class=\"node\">\n<title>f</title>\n<ellipse fill=\"none\" stroke=\"black\" cx=\"254.25\" cy=\"-75\" rx=\"18\" ry=\"18\"/>\n<text text-anchor=\"middle\" x=\"254.25\" y=\"-69.58\" font-family=\"Times New Roman,serif\" font-size=\"14.00\">f</text>\n</g>\n<!-- c&#45;&gt;f -->\n<g id=\"edge5\" class=\"edge\">\n<title>c&#45;&gt;f</title>\n<path fill=\"none\" stroke=\"black\" d=\"M155.22,-98.87C173.84,-94.33 204,-86.99 225.96,-81.65\"/>\n<polygon fill=\"black\" stroke=\"black\" points=\"226.7,-84.82 235.59,-79.06 225.04,-78.02 226.7,-84.82\"/>\n<text text-anchor=\"middle\" x=\"195.75\" y=\"-95.45\" font-family=\"Times New Roman,serif\" font-size=\"14.00\">df/dc=1</text>\n</g>\n<!-- b -->\n<g id=\"node3\" class=\"node\">\n<title>b</title>\n<ellipse fill=\"none\" stroke=\"black\" cx=\"18\" cy=\"-135\" rx=\"18\" ry=\"18\"/>\n<text text-anchor=\"middle\" x=\"18\" y=\"-129.57\" font-family=\"Times New Roman,serif\" font-size=\"14.00\">b</text>\n</g>\n<!-- b&#45;&gt;c -->\n<g id=\"edge2\" class=\"edge\">\n<title>b&#45;&gt;c</title>\n<path fill=\"none\" stroke=\"black\" d=\"M35.72,-130.62C52.36,-126.23 78.6,-119.27 101.25,-113 103.77,-112.3 106.39,-111.57 109.01,-110.83\"/>\n<polygon fill=\"black\" stroke=\"black\" points=\"109.87,-113.94 118.53,-107.84 107.96,-107.21 109.87,-113.94\"/>\n<text text-anchor=\"middle\" x=\"77.62\" y=\"-127.45\" font-family=\"Times New Roman,serif\" font-size=\"14.00\">dc/db=a</text>\n</g>\n<!-- e&#45;&gt;f -->\n<g id=\"edge6\" class=\"edge\">\n<title>e&#45;&gt;f</title>\n<path fill=\"none\" stroke=\"black\" d=\"M155.65,-50.54C172.01,-52.25 197.09,-55.55 218.25,-61.25 221.26,-62.06 224.37,-63.05 227.44,-64.12\"/>\n<polygon fill=\"black\" stroke=\"black\" points=\"225.88,-67.65 236.47,-67.94 228.37,-61.11 225.88,-67.65\"/>\n<text text-anchor=\"middle\" x=\"195.75\" y=\"-64.45\" font-family=\"Times New Roman,serif\" font-size=\"14.00\">df/de=1</text>\n</g>\n<!-- d -->\n<g id=\"node5\" class=\"node\">\n<title>d</title>\n<ellipse fill=\"none\" stroke=\"black\" cx=\"18\" cy=\"-18\" rx=\"18\" ry=\"18\"/>\n<text text-anchor=\"middle\" x=\"18\" y=\"-12.57\" font-family=\"Times New Roman,serif\" font-size=\"14.00\">d</text>\n</g>\n<!-- d&#45;&gt;e -->\n<g id=\"edge4\" class=\"edge\">\n<title>d&#45;&gt;e</title>\n<path fill=\"none\" stroke=\"black\" d=\"M36.18,-21.13C52.93,-24.34 79.06,-29.78 101.25,-36.25 104.06,-37.07 106.98,-38 109.87,-38.97\"/>\n<polygon fill=\"black\" stroke=\"black\" points=\"108.42,-42.53 119.02,-42.58 110.77,-35.94 108.42,-42.53\"/>\n<text text-anchor=\"middle\" x=\"77.62\" y=\"-39.45\" font-family=\"Times New Roman,serif\" font-size=\"14.00\">de/dd=a</text>\n</g>\n</g>\n</svg>\n",
      "text/plain": "<graphviz.graphs.Digraph at 0x1e7e549bf40>"
     },
     "execution_count": 6,
     "metadata": {},
     "output_type": "execute_result"
    }
   ],
   "source": [
    "e2 = graphviz.Digraph('second expression', filename='fsm.gv')\n",
    "\n",
    "e2.attr(rankdir='LR', size='8,5')\n",
    "\n",
    "e2.attr('node', shape='circle')\n",
    "e2.edge('a', 'c', label='dc/da=b')\n",
    "e2.edge('b', 'c', label='dc/db=a')\n",
    "e2.edge('a', 'e', label='de/da=d')\n",
    "e2.edge('d', 'e', label='de/dd=a')\n",
    "e2.edge('c', 'f', label='df/dc=1')\n",
    "e2.edge('e', 'f', label='df/de=1')\n",
    "\n",
    "e2"
   ]
  },
  {
   "cell_type": "markdown",
   "metadata": {
    "id": "A5oi21W4gpeM"
   },
   "source": [
    "## Exercise c) What happens if we run backward again?\n",
    "\n",
    "Try to execute the code below. Explain what happens."
   ]
  },
  {
   "cell_type": "code",
   "execution_count": 7,
   "metadata": {
    "colab": {
     "base_uri": "https://localhost:8080/"
    },
    "id": "DCtpJyr-gyX1",
    "outputId": "d014bcfa-c9ae-49c3-d268-91cc6ca94ea5"
   },
   "outputs": [
    {
     "name": "stdout",
     "output_type": "stream",
     "text": [
      "Var(v=3.0000, grad=28.0000)\n",
      "Var(v=5.0000, grad=6.0000)\n",
      "Var(v=15.0000, grad=2.0000)\n",
      "Var(v=9.0000, grad=6.0000)\n",
      "Var(v=27.0000, grad=2.0000)\n",
      "Var(v=42.0000, grad=2.0000)\n"
     ]
    }
   ],
   "source": [
    "f.backward()\n",
    "\n",
    "for v in [a, b, c, d, e, f]:\n",
    "    print(v)"
   ]
  },
  {
   "cell_type": "markdown",
   "source": [
    "The gradients are stored and thus for the initial downstream elements of f the gradients are multiplied by 2 instead of 1, which propagates through the entire system."
   ],
   "metadata": {
    "collapsed": false
   }
  },
  {
   "cell_type": "markdown",
   "metadata": {
    "id": "e8bPVq2VhsP-"
   },
   "source": [
    "## Exercise d) Zero gradient\n",
    "\n",
    "We can zero the gradient by backpropagating a -1.0 as is shown in the example below. (If you have run backward multiple time then you also have to run the cell below an equal amount of times.) Explain what is going on."
   ]
  },
  {
   "cell_type": "code",
   "execution_count": 8,
   "metadata": {
    "colab": {
     "base_uri": "https://localhost:8080/"
    },
    "id": "OnyPDQx9lJe0",
    "outputId": "7a125fdc-60c4-4340-a580-8b82aea5b0db"
   },
   "outputs": [
    {
     "name": "stdout",
     "output_type": "stream",
     "text": [
      "Var(v=2.0000, grad=0.0000)\n",
      "Var(v=5.0000, grad=6.0000)\n",
      "Var(v=15.0000, grad=2.0000)\n",
      "Var(v=9.0000, grad=6.0000)\n",
      "Var(v=27.0000, grad=2.0000)\n",
      "Var(v=42.0000, grad=2.0000)\n",
      "Var(v=2.0000, grad=0.0000)\n",
      "Var(v=5.0000, grad=3.0000)\n",
      "Var(v=15.0000, grad=1.0000)\n",
      "Var(v=9.0000, grad=3.0000)\n",
      "Var(v=27.0000, grad=1.0000)\n",
      "Var(v=42.0000, grad=1.0000)\n"
     ]
    }
   ],
   "source": [
    "a = Var(2.0)\n",
    "\n",
    "for v in [a, b, c, d, e, f]:\n",
    "    print(v)\n",
    "\n",
    "f.backprop(-1.0)\n",
    "\n",
    "for v in [a, b, c, d, e, f]:\n",
    "    print(v)"
   ]
  },
  {
   "cell_type": "markdown",
   "source": [
    "Here we again observe the effect of adding/subtracting a value to the initial gradient. As it is used for multiplication of the downstream gradients it will have an effect. The factor from the initial call to backpropagation should be 1 to get the initial results, thus subtracting 1 from 2 = 1."
   ],
   "metadata": {
    "collapsed": false
   }
  },
  {
   "cell_type": "markdown",
   "metadata": {
    "id": "U4057_ljNvWB"
   },
   "source": [
    "## Exercise e) Test correctness of derivatives with the finite difference method\n",
    "\n",
    "Write a small function that uses [the finite difference method](https://en.wikipedia.org/wiki/Finite_difference_method) to numerically test that backpropation implementation is working. In short we will use\n",
    "$$\n",
    "\\frac{\\partial f(a)}{\\partial a} \\approx \\frac{f(a+da)-f(a)}{da}\n",
    "$$\n",
    "for $da \\ll 1$.\n",
    "\n",
    "As an example, we could approximate the derivative of the function $f(a)=a^2$ in e.g. the value $a=4$ using the finite difference method. This amounts to inserting the relevant values and approximating the gradient $f'(4)$ with the fraction above. \n"
   ]
  },
  {
   "cell_type": "code",
   "execution_count": 9,
   "metadata": {
    "colab": {
     "base_uri": "https://localhost:8080/"
    },
    "id": "9TGil92lSXDN",
    "outputId": "7ef5489b-b525-4132-ab08-0b1109c07f4d"
   },
   "outputs": [
    {
     "name": "stdout",
     "output_type": "stream",
     "text": [
      "Var(v=3.0000, grad=5.0000)\n",
      "Var(v=5.0000, grad=3.0000)\n",
      "Var(v=15.0000, grad=1.0000)\n",
      "4.000000330961484\n"
     ]
    }
   ],
   "source": [
    "# f function - try to change the code to test other types of functions as well (such as different polynomials etc.)\n",
    "def f_function(a):\n",
    "  a = Var(a)\n",
    "  b = Var(5.0)\n",
    "  f = a * b\n",
    "  f.backward()\n",
    "  return a,b,f\n",
    "\n",
    "for v in f_function(3.0):\n",
    "  print(v)\n",
    "\n",
    "# Insert your finite difference code here\n",
    "def finite_difference(da=1e-10):\n",
    "    \"\"\"\n",
    "    This function compute the finite difference between\n",
    "    \n",
    "    Input:\n",
    "    da:          The finite difference                           (float)\n",
    "    \n",
    "    Output:\n",
    "    finite_difference: numerical approximation to the derivative (float) \n",
    "    \"\"\"\n",
    "    \n",
    "    fa_da = (2 + da)**2           # <- Insert correct expression\n",
    "    fa = 2.**2               # <- Insert correct expression\n",
    "\n",
    "    finite_difference = (fa_da - fa) / da\n",
    "    \n",
    "    return finite_difference\n",
    "\n",
    "print(finite_difference())"
   ]
  },
  {
   "cell_type": "markdown",
   "metadata": {
    "id": "6pZar5RKaUkg"
   },
   "source": [
    "# Create an artificial dataset to play with\n",
    "\n",
    "We create a non-linear 1d regression task. The generator supports various noise levels and it creates train, validation and test sets. You can modify it yourself if you want more or less challenging tasks."
   ]
  },
  {
   "cell_type": "code",
   "execution_count": 10,
   "metadata": {
    "id": "Y6yfMAQ8aduj"
   },
   "outputs": [],
   "source": [
    "import numpy as np\n",
    "import matplotlib.pyplot as plt\n",
    "\n",
    "np.random.seed(42)"
   ]
  },
  {
   "cell_type": "code",
   "execution_count": 11,
   "metadata": {
    "id": "4YabfD43ajNh"
   },
   "outputs": [],
   "source": [
    "def data_generator(noise=0.2, n_samples=300, D1=True):\n",
    "    # Create covariates and response variable\n",
    "    if D1:\n",
    "        X = np.linspace(-3, 3, num=n_samples).reshape(-1,1) # 1-D\n",
    "        np.random.shuffle(X)\n",
    "        y = np.random.normal((0.5*np.sin(X[:,0]*3) + X[:,0]), noise) # 1-D with trend\n",
    "    else:\n",
    "        X = np.random.multivariate_normal(np.zeros(3), noise*np.eye(3), size = n_samples) # 3-D\n",
    "        np.random.shuffle(X)    \n",
    "        y = np.sin(X[:,0]) - 5*(X[:,1]**2) + 0.5*X[:,2] # 3-D\n",
    "\n",
    "    # Stack them together vertically to split data set\n",
    "    data_set = np.vstack((X.T,y)).T\n",
    "    \n",
    "    train, validation, test = np.split(data_set, [int(0.35*n_samples), int(0.7*n_samples)], axis=0)\n",
    "    \n",
    "    # Standardization of the data, remember we do the standardization with the training set mean and standard deviation\n",
    "    train_mu = np.mean(train, axis=0)\n",
    "    train_sigma = np.std(train, axis=0)\n",
    "    \n",
    "    train = (train-train_mu)/train_sigma\n",
    "    validation = (validation-train_mu)/train_sigma\n",
    "    test = (test-train_mu)/train_sigma\n",
    "    \n",
    "    x_train, x_validation, x_test = train[:,:-1], validation[:,:-1], test[:,:-1]\n",
    "    y_train, y_validation, y_test = train[:,-1], validation[:,-1], test[:,-1]\n",
    "\n",
    "    return x_train, y_train,  x_validation, y_validation, x_test, y_test"
   ]
  },
  {
   "cell_type": "code",
   "execution_count": 12,
   "metadata": {
    "id": "u1oDngHLapIz"
   },
   "outputs": [],
   "source": [
    "D1 = True\n",
    "x_train, y_train,  x_validation, y_validation, x_test, y_test = data_generator(noise=0.5, D1=D1)"
   ]
  },
  {
   "cell_type": "code",
   "execution_count": 13,
   "metadata": {
    "colab": {
     "base_uri": "https://localhost:8080/",
     "height": 265
    },
    "id": "Ysfa3FsBavlm",
    "outputId": "399e5382-ae7d-48f6-9774-7ea4c73e7d95"
   },
   "outputs": [
    {
     "data": {
      "text/plain": "<Figure size 640x480 with 1 Axes>",
      "image/png": "[encoded data removed]"
     },
     "metadata": {},
     "output_type": "display_data"
    }
   ],
   "source": [
    "if D1:\n",
    "    plt.scatter(x_train[:,0], y_train);\n",
    "    plt.scatter(x_validation[:,0], y_validation);\n",
    "    plt.scatter(x_test[:,0], y_test);\n",
    "else:\n",
    "    plt.scatter(x_train[:,1], y_train);\n",
    "    plt.scatter(x_validation[:,1], y_validation);\n",
    "    plt.scatter(x_test[:,1], y_test);\n",
    "plt.show()"
   ]
  },
  {
   "cell_type": "code",
   "execution_count": 14,
   "metadata": {
    "id": "zac2HHNlgbpm"
   },
   "outputs": [],
   "source": [
    "# convert from nparray to Var\n",
    "def nparray_to_Var(x):\n",
    "  if x.ndim==1:\n",
    "    y = [[Var(float(x[i]))] for i in range(x.shape[0])] # always work with list of list\n",
    "  else:\n",
    "    y = [[Var(float(x[i,j])) for j in range(x.shape[1])] for i in range(x.shape[0])]\n",
    "  return y\n",
    "   \n",
    "x_train = nparray_to_Var(x_train)\n",
    "y_train = nparray_to_Var(y_train)\n",
    "x_validation = nparray_to_Var(x_validation)\n",
    "y_validation = nparray_to_Var(y_validation)\n",
    "x_test = nparray_to_Var(x_test)\n",
    "y_test = nparray_to_Var(y_test)\n"
   ]
  },
  {
   "cell_type": "markdown",
   "metadata": {
    "id": "VbjrqcpVFtGe"
   },
   "source": [
    "# Defining and initializing the network\n",
    "\n",
    "The steps to create a feed forward neural network are the following:\n",
    "\n",
    "1. **Number of hidden layer and hidden units**. We have to define the number of hidden units in each layer. The number of features in X and the output dimensionality (the size of Y) are given but the numbers in between are set by the researcher. Remember that for each unit in each layer beside in the input has a bias term.\n",
    "2. **Activation functions** for each hidden layer. Each hidden layer in your list must have an activation function (it can also be the linear activation which is equivalent to identity function). The power of neural networks comes from non-linear activation functions that learn representations (features) from the data allowing us to learn from it. \n",
    "3. **Parameter initialization**. We will initialize the weights to have random values. This is done in practice by drawing pseudo random numbers from a Gaussian or uniform distribution. It turns out that for deeper models we have to be careful about how we scale the random numbers. This will be the topic of the exercise below. For now we will just use unit variance Gaussians.  \n",
    "\n",
    "In order to make life easier for ourselves we define a DenseLayer class that takes care of initialization and the forward pass. We can also extend it later with print and advanced initialization capabilities. For the latter we have introduced a Initializer class.\n",
    "\n",
    "Note that we use Sequence in the code below. A Sequence is an ordered list. This means the order we insert and access items are the same."
   ]
  },
  {
   "cell_type": "code",
   "execution_count": 15,
   "metadata": {
    "id": "ij_ieRsAt7Xt"
   },
   "outputs": [],
   "source": [
    "class Initializer:\n",
    "\n",
    "  def init_weights(self, n_in, n_out):\n",
    "    raise NotImplementedError\n",
    "\n",
    "  def init_bias(self, n_out):\n",
    "    raise NotImplementedError"
   ]
  },
  {
   "cell_type": "code",
   "execution_count": 16,
   "metadata": {
    "id": "eb18N5phuIha"
   },
   "outputs": [],
   "source": [
    "import random\n",
    "\n",
    "class NormalInitializer(Initializer):\n",
    "\n",
    "  def __init__(self, mean=0, std=0.1):\n",
    "    self.mean = mean\n",
    "    self.std = std\n",
    "\n",
    "  def init_weights(self, n_in, n_out):\n",
    "    return [[Var(random.gauss(self.mean, self.std)) for _ in range(n_out)] for _ in range(n_in)]\n",
    "\n",
    "  def init_bias(self, n_out):\n",
    "    return [Var(0.0) for _ in range(n_out)]\n",
    "\n",
    "class ConstantInitializer(Initializer):\n",
    "\n",
    "  def __init__(self, weight=1.0, bias=0.0):\n",
    "    self.weight = weight\n",
    "    self.bias = bias\n",
    "\n",
    "  def init_weights(self, n_in, n_out):\n",
    "    return [[Var(self.weight) for _ in range(n_out)] for _ in range(n_in)]\n",
    "\n",
    "  def init_bias(self, n_out):\n",
    "    return [Var(self.bias) for _ in range(n_out)]"
   ]
  },
  {
   "cell_type": "code",
   "execution_count": 17,
   "metadata": {
    "id": "jOLYGnZKuM6W"
   },
   "outputs": [],
   "source": [
    "from typing import Sequence\n",
    "\n",
    "class DenseLayer:\n",
    "    def __init__(self, n_in: int, n_out: int, act_fn, initializer = NormalInitializer()):\n",
    "        self.weights = initializer.init_weights(n_in, n_out)\n",
    "        self.bias = initializer.init_bias(n_out)\n",
    "        self.act_fn = act_fn\n",
    "    \n",
    "    def __repr__(self):    \n",
    "        return 'Weights: ' + repr(self.weights) + ' Biases: ' + repr(self.bias)\n",
    "\n",
    "    def parameters(self) -> Sequence[Var]:\n",
    "      params = []\n",
    "      for r in self.weights:\n",
    "        params += r\n",
    "\n",
    "      return params + self.bias\n",
    "\n",
    "    def forward(self, single_input: Sequence[Var]) -> Sequence[Var]:\n",
    "        # self.weights is a matrix with dimension n_in x n_out. We check that the dimensionality of the input \n",
    "        # to the current layer matches the number of nodes in the current layer\n",
    "        assert len(self.weights) == len(single_input), \"weights and single_input must match in first dimension\"\n",
    "        weights = self.weights\n",
    "        out = []\n",
    "        # For some given data point single_input, we now want to calculate the resulting value in each node in the current layer\n",
    "        # We therefore loop over the (number of) nodes in the current layer:\n",
    "        for j in range(len(weights[0])): \n",
    "            # Initialize the node value depending on its corresponding parameters.\n",
    "            node = self.bias[j] # <- Insert code\n",
    "            # We now finish the linear transformation corresponding to the parameters of the currently considered node.\n",
    "            for i in range(len(single_input)):\n",
    "                node += single_input[i] * weights[i][j]  # <- Insert code\n",
    "                # Iterating over the input we must\n",
    "            node = self.act_fn(node)\n",
    "            out.append(node)\n",
    "\n",
    "        return out\n"
   ]
  },
  {
   "cell_type": "markdown",
   "metadata": {
    "id": "jpIZPBpNI0pO"
   },
   "source": [
    "## Exercise f) Add more activation functions\n",
    "\n",
    "To have a full definition of the neural network, we must define an activation function for every layer. Several activation functions have been proposed and have different characteristics. In the Var class we have already defined the rectified linear init (relu). \n",
    " \n",
    "Implement the following activation functions in the Var class:\n",
    "\n",
    "* Identity: $$\\mathrm{identity}(x) = x$$\n",
    "* Hyperbolic tangent: $$\\tanh(x)$$\n",
    "* Sigmoid (or logistic function): $$\\mathrm{sigmoid}(x) = \\frac{1}{1.0 + \\exp(-x ) }$$  Hint: $\\mathrm{sigmoid}'(x)= \\mathrm{sigmoid}(x)(1-\\mathrm{sigmoid}(x))$.  \n",
    "\n",
    "Hint: You can seek inspiration in the relu method in the Var class."
   ]
  },
  {
   "cell_type": "markdown",
   "metadata": {
    "id": "p_8n_SKnIW2F"
   },
   "source": [
    "## Exercise g) Complete the forward pass\n",
    "\n",
    "In the code below we initialize a 1-5-1 network and pass the training set through it. *The forward method in DenseLayer is **not** complete*. It just outputs zeros right now. The method forward should perform an [affine transformation](https://en.wikipedia.org/wiki/Affine_transformation) on the input followed by an application of the activation function."
   ]
  },
  {
   "cell_type": "code",
   "execution_count": 18,
   "metadata": {
    "colab": {
     "base_uri": "https://localhost:8080/",
     "height": 337
    },
    "id": "xDEjtePxE7Mv",
    "outputId": "753406cd-d8a1-4282-ce03-25ad959b0e11"
   },
   "outputs": [
    {
     "name": "stdout",
     "output_type": "stream",
     "text": [
      "[[Var(v=-0.0085, grad=0.0000)], [Var(v=-0.0172, grad=0.0000)], [Var(v=-0.0016, grad=0.0000)], [Var(v=0.0035, grad=0.0000)], [Var(v=-0.0126, grad=0.0000)], [Var(v=-0.0117, grad=0.0000)], [Var(v=-0.0076, grad=0.0000)], [Var(v=0.0008, grad=0.0000)], [Var(v=0.0036, grad=0.0000)], [Var(v=-0.0047, grad=0.0000)], [Var(v=-0.0132, grad=0.0000)], [Var(v=0.0022, grad=0.0000)], [Var(v=-0.0106, grad=0.0000)], [Var(v=0.0025, grad=0.0000)], [Var(v=-0.0057, grad=0.0000)], [Var(v=-0.0110, grad=0.0000)], [Var(v=-0.0203, grad=0.0000)], [Var(v=-0.0096, grad=0.0000)], [Var(v=-0.0010, grad=0.0000)], [Var(v=-0.0033, grad=0.0000)], [Var(v=0.0017, grad=0.0000)], [Var(v=0.0007, grad=0.0000)], [Var(v=-0.0148, grad=0.0000)], [Var(v=-0.0150, grad=0.0000)], [Var(v=0.0010, grad=0.0000)], [Var(v=0.0026, grad=0.0000)], [Var(v=-0.0192, grad=0.0000)], [Var(v=-0.0211, grad=0.0000)], [Var(v=-0.0022, grad=0.0000)], [Var(v=-0.0133, grad=0.0000)], [Var(v=0.0033, grad=0.0000)], [Var(v=-0.0032, grad=0.0000)], [Var(v=0.0029, grad=0.0000)], [Var(v=0.0031, grad=0.0000)], [Var(v=-0.0102, grad=0.0000)], [Var(v=0.0006, grad=0.0000)], [Var(v=0.0035, grad=0.0000)], [Var(v=0.0013, grad=0.0000)], [Var(v=0.0025, grad=0.0000)], [Var(v=0.0018, grad=0.0000)], [Var(v=0.0013, grad=0.0000)], [Var(v=0.0017, grad=0.0000)], [Var(v=-0.0199, grad=0.0000)], [Var(v=0.0021, grad=0.0000)], [Var(v=0.0017, grad=0.0000)], [Var(v=0.0021, grad=0.0000)], [Var(v=-0.0128, grad=0.0000)], [Var(v=-0.0121, grad=0.0000)], [Var(v=0.0008, grad=0.0000)], [Var(v=-0.0124, grad=0.0000)], [Var(v=-0.0054, grad=0.0000)], [Var(v=-0.0005, grad=0.0000)], [Var(v=-0.0135, grad=0.0000)], [Var(v=0.0017, grad=0.0000)], [Var(v=-0.0214, grad=0.0000)], [Var(v=-0.0188, grad=0.0000)], [Var(v=0.0012, grad=0.0000)], [Var(v=0.0013, grad=0.0000)], [Var(v=-0.0070, grad=0.0000)], [Var(v=0.0031, grad=0.0000)], [Var(v=-0.0125, grad=0.0000)], [Var(v=0.0022, grad=0.0000)], [Var(v=0.0036, grad=0.0000)], [Var(v=-0.0061, grad=0.0000)], [Var(v=-0.0044, grad=0.0000)], [Var(v=0.0029, grad=0.0000)], [Var(v=0.0031, grad=0.0000)], [Var(v=-0.0158, grad=0.0000)], [Var(v=0.0022, grad=0.0000)], [Var(v=-0.0062, grad=0.0000)], [Var(v=0.0009, grad=0.0000)], [Var(v=0.0004, grad=0.0000)], [Var(v=-0.0122, grad=0.0000)], [Var(v=-0.0072, grad=0.0000)], [Var(v=0.0003, grad=0.0000)], [Var(v=-0.0194, grad=0.0000)], [Var(v=0.0016, grad=0.0000)], [Var(v=0.0015, grad=0.0000)], [Var(v=0.0020, grad=0.0000)], [Var(v=-0.0202, grad=0.0000)], [Var(v=-0.0031, grad=0.0000)], [Var(v=-0.0018, grad=0.0000)], [Var(v=0.0032, grad=0.0000)], [Var(v=0.0004, grad=0.0000)], [Var(v=0.0016, grad=0.0000)], [Var(v=0.0007, grad=0.0000)], [Var(v=0.0006, grad=0.0000)], [Var(v=0.0018, grad=0.0000)], [Var(v=0.0033, grad=0.0000)], [Var(v=0.0035, grad=0.0000)], [Var(v=-0.0073, grad=0.0000)], [Var(v=0.0010, grad=0.0000)], [Var(v=0.0019, grad=0.0000)], [Var(v=-0.0114, grad=0.0000)], [Var(v=0.0027, grad=0.0000)], [Var(v=0.0033, grad=0.0000)], [Var(v=-0.0053, grad=0.0000)], [Var(v=-0.0009, grad=0.0000)], [Var(v=-0.0183, grad=0.0000)], [Var(v=0.0020, grad=0.0000)], [Var(v=-0.0120, grad=0.0000)], [Var(v=0.0019, grad=0.0000)], [Var(v=0.0029, grad=0.0000)], [Var(v=-0.0058, grad=0.0000)], [Var(v=-0.0170, grad=0.0000)]]\n"
     ]
    }
   ],
   "source": [
    "NN = [\n",
    "    DenseLayer(1, 5, lambda x: x.relu()),\n",
    "    DenseLayer(5, 1, lambda x: x.identity())\n",
    "]\n",
    "\n",
    "def forward(input, network):\n",
    "\n",
    "  def forward_single(x, network):\n",
    "    for layer in network:\n",
    "        x = layer.forward(x)\n",
    "    return x\n",
    "\n",
    "  output = [ forward_single(input[n], network) for n in range(len(input))]\n",
    "  return output\n",
    "\n",
    "print(forward(x_train, NN))\n"
   ]
  },
  {
   "cell_type": "markdown",
   "metadata": {
    "id": "oLrGJytZFtGm"
   },
   "source": [
    "## Exercise h) Print all network parameters\n",
    "\n",
    "Make a function that prints all the parameters of the network (weights and biases) with information about in which layer the appear. In the object oriented spirit you should introduce a method in the DenseLayer class to print the parameters of a layer. Hint: You can take inspiration from the corresponding method in Var. "
   ]
  },
  {
   "cell_type": "code",
   "execution_count": 19,
   "metadata": {
    "id": "iac-VwYGFtGm"
   },
   "outputs": [
    {
     "name": "stdout",
     "output_type": "stream",
     "text": [
      "Weights: [[Var(v=-0.0395, grad=0.0000), Var(v=0.0556, grad=0.0000), Var(v=-0.0256, grad=0.0000), Var(v=0.1051, grad=0.0000), Var(v=0.0208, grad=0.0000)]] Biases: [Var(v=0.0000, grad=0.0000), Var(v=0.0000, grad=0.0000), Var(v=0.0000, grad=0.0000), Var(v=0.0000, grad=0.0000), Var(v=0.0000, grad=0.0000)]\n",
      "Weights: [[Var(v=-0.1030, grad=0.0000)], [Var(v=-0.0299, grad=0.0000)], [Var(v=0.2484, grad=0.0000)], [Var(v=-0.0759, grad=0.0000)], [Var(v=-0.1063, grad=0.0000)]] Biases: [Var(v=0.0000, grad=0.0000)]\n"
     ]
    }
   ],
   "source": [
    "for layer in NN:\n",
    "    print(layer)"
   ]
  },
  {
   "cell_type": "markdown",
   "metadata": {
    "id": "_79HOAXrFtHK"
   },
   "source": [
    "## Visualization\n",
    "\n",
    "Now that we have defined our activation functions we can visualize them to see what they look like:"
   ]
  },
  {
   "cell_type": "code",
   "execution_count": 20,
   "metadata": {
    "id": "1FcylHqLTl-Z"
   },
   "outputs": [
    {
     "data": {
      "text/plain": "[<matplotlib.lines.Line2D at 0x1e7e56e6470>]"
     },
     "execution_count": 20,
     "metadata": {},
     "output_type": "execute_result"
    },
    {
     "data": {
      "text/plain": "<Figure size 640x480 with 1 Axes>",
      "image/png": "[encoded data removed]"
     },
     "metadata": {},
     "output_type": "display_data"
    }
   ],
   "source": [
    "x = np.linspace(-6, 6, 100)\n",
    "\n",
    "# convert from Var to ndarray  \n",
    "def Var_to_nparray(x):\n",
    "  y = np.zeros((len(x),len(x[0])))\n",
    "  for i in range(len(x)):\n",
    "    for j in range(len(x[0])):\n",
    "      y[i,j] = x[i][j].v\n",
    "  return y\n",
    "\n",
    "# define 1-1 network with weight = 1 and relu activation \n",
    "NN = [ DenseLayer(1, 1, lambda x: x.relu(), initializer = ConstantInitializer(1.0)) ] \n",
    "y = Var_to_nparray(forward(nparray_to_Var(x), NN))\n",
    "\n",
    "#y = Var_to_nparray(relu(nparray_to_Var(x)))\n",
    "plt.plot(x,y)"
   ]
  },
  {
   "cell_type": "code",
   "execution_count": 21,
   "metadata": {
    "id": "oOL2UolJFtHL"
   },
   "outputs": [
    {
     "data": {
      "text/plain": "<Figure size 500x500 with 1 Axes>",
      "image/png": "[encoded data removed]"
     },
     "metadata": {},
     "output_type": "display_data"
    }
   ],
   "source": [
    "# Testing all activation layers\n",
    "\n",
    "x = np.linspace(-6, 6, 100)\n",
    "units = {\n",
    "    \"identity\": lambda x: x.identity(),\n",
    "    \"sigmoid\": lambda x: x.sigmoid(),\n",
    "    \"relu\": lambda x: x.relu(),\n",
    "    \"tanh\": lambda x: x.tanh()\n",
    "}\n",
    "\n",
    "plt.figure(figsize=(5, 5))\n",
    "[plt.plot(x, Var_to_nparray(forward(nparray_to_Var(x), [DenseLayer(1, 1, unit, initializer = ConstantInitializer(1.0))]) ), label=unit_name, lw=2) for unit_name, unit in units.items()] # unit(nparray_to_Var(x))), label=unit_name, lw=2) for unit_name, unit in units.items()]\n",
    "plt.legend(loc=2, fontsize=16)\n",
    "plt.title('Our activation functions', fontsize=20)\n",
    "plt.ylim([-2, 5])\n",
    "plt.xlim([-6, 6])\n",
    "plt.show()"
   ]
  },
  {
   "cell_type": "markdown",
   "metadata": {
    "id": "b-jdEl-7FtGs"
   },
   "source": [
    "# Advanced initialization schemes\n",
    "\n",
    "If we are not careful with initialization, the signals we propagate forward ($a^{(l)}$, $l=1,\\ldots,L$) and backward ($\\delta^l$, $l=L,L-1,\\ldots,1$) can blow up or shrink to zero. A statistical analysis of the variance of the signals for different activation functions can be found in these two papers: [Glorot initialization](http://proceedings.mlr.press/v9/glorot10a/glorot10a.pdf) and [He initialization](https://arxiv.org/pdf/1502.01852v1.pdf). \n",
    "\n",
    "The result of the analyses are proposals for how to make the initialization such that the variance of the signals (forward and backward) are kept approxmimatly constant when propagating from layer to layer. The exact expressions depend upon the non-linear activation function used. In Glorot initialization, the aim is to keep both the forward and backward variances constant whereas He only aims at keeping the variance in the forward pass constant.\n",
    "\n",
    "We define $n_{in}$ and $n_{out}$ as the number of input units and output units of a particular layer. \n",
    "\n",
    "The Glorot initialization has the form: \n",
    "\n",
    "$$w_{ij} \\sim N \\bigg( 0, \\, \\frac{2 \\alpha }{n_{in} + n_{out}} \\bigg) \\ . $$\n",
    "\n",
    "where $N(\\mu,\\sigma^2)$ is a Gaussian distribution with mean $\\mu$ and variance $\\sigma^2$ and $\\alpha$ is a parameter that depends upon the activation function used. For $\\tanh$, $\\alpha=1$ and for Rectified Linear Unit (ReLU) activations, $\\alpha=2$. (It is also possible to use a uniform distribution for initialization, see [this blog post](https://mmuratarat.github.io/2019-02-25/xavier-glorot-he-weight-init).) \n",
    "\n",
    "The He initialization is very similar\n",
    "\n",
    "$$w_{ij} \\sim N \\bigg( 0, \\, \\frac{\\alpha}{n_{in}} \\bigg) \\ . $$"
   ]
  },
  {
   "cell_type": "markdown",
   "metadata": {
    "id": "mqeyab9qFtGs"
   },
   "source": [
    "## Exercise i) Glorot and He initialization\n",
    " \n",
    "Using the Initializer class, implement functions that implement Glorot and He \n",
    "\n",
    "Explain briefly how you would test numerically that these initializations have the sought after property. Hint: See plots in Glorot paper.\n",
    "\n",
    "Numerically we would calculate the standard deviations of the signals throughout the layers to check if they remain constant\n",
    "\n",
    "Comment: If you want to be more advanced then try to make a universal initializer taking both the activation function and type (Glorot or He) as argument."
   ]
  },
  {
   "cell_type": "code",
   "execution_count": 22,
   "metadata": {
    "id": "Qyk01CgaFtGt"
   },
   "outputs": [],
   "source": [
    "## Glorot\n",
    "def DenseLayer_Glorot_tanh(n_in: int, n_out: int):\n",
    "  std = np.sqrt(2 * 1 / (n_in + n_out)) # <- replace with proper initialization\n",
    "  return DenseLayer(n_in, n_out, lambda x: x.tanh(), initializer = NormalInitializer(std))\n",
    "\n",
    "## He\n",
    "def DenseLayer_He_relu(n_in: int, n_out: int):\n",
    "  std = np.sqrt(2/n_in) # <- replace with proper initialization\n",
    "  return DenseLayer(n_in, n_out, lambda x: x.relu(), initializer = NormalInitializer(std))"
   ]
  },
  {
   "cell_type": "markdown",
   "source": [
    "Plotting the activation values of each layer in a histogram to see if they look normally distributed, would reveal whether the initialisation is implemented correctly."
   ],
   "metadata": {
    "collapsed": false
   }
  },
  {
   "cell_type": "markdown",
   "metadata": {
    "id": "-XyXBD37FtHk"
   },
   "source": [
    "## Exercise j) Forward pass unit test\n",
    "\n",
    "Write a bit of code to make a unit test that the forward pass works. This can be done by defining a simple network with for example all weights equal to one (using the ConstantInitializer method) and identity activation functions. \n",
    "\n",
    "Hints: Use the [assert](https://www.w3schools.com/python/ref_keyword_assert.asp), the nparray_to_Var and the Var_to_nparray commands. "
   ]
  },
  {
   "cell_type": "code",
   "execution_count": 23,
   "metadata": {
    "id": "k0miqRUAFtHl"
   },
   "outputs": [],
   "source": [
    "NN = [\n",
    "    DenseLayer(1, 2, lambda x: x.identity(), initializer = ConstantInitializer(1.0)),\n",
    "    DenseLayer(2, 1, lambda x: x.identity(), initializer = ConstantInitializer(1.0))\n",
    "       ]\n",
    "\n",
    "inpNumpy = np.array([[1]])\n",
    "inp = nparray_to_Var(inpNumpy)\n",
    "out = forward(inp, NN)\n",
    "assert Var_to_nparray(out) == inpNumpy*2"
   ]
  },
  {
   "cell_type": "markdown",
   "metadata": {
    "id": "faCxhfFnFtHp"
   },
   "source": [
    "# Loss functions\n",
    "\n",
    "We are only missing a loss function to we need to define a loss function and its derivative with respect to the output of the neural network $y$"
   ]
  },
  {
   "cell_type": "code",
   "execution_count": 56,
   "metadata": {
    "id": "I2eDYKvAFtHq"
   },
   "outputs": [],
   "source": [
    "def squared_loss(t, y):\n",
    "  \n",
    "  assert len(t) == len(y)\n",
    "  \n",
    "  def squared_loss_single(t, y):\n",
    "    Loss = Var(0.0)\n",
    "    for i in range(len(t)): # sum over outputs\n",
    "      Loss += (t[i]-y[i]) ** 2\n",
    "    return Loss\n",
    "\n",
    "  Loss = Var(0.0)\n",
    "  for n in range(len(t)): # sum over training data\n",
    "    Loss += squared_loss_single(t[n],y[n])\n",
    "  return Loss"
   ]
  },
  {
   "cell_type": "markdown",
   "metadata": {
    "id": "SrwSJ2UWFtHu"
   },
   "source": [
    "## Exercise k) Implement cross entropy loss\n",
    "\n",
    "Insert code below to implement cross-entropy loss for general dimensionality of $t$. Use a logits formulation:\n",
    "$$\n",
    "\\rm{Loss} = - \\sum_i t_i \\, log \\, p_i \n",
    "$$\n",
    "with $p$ given by the the softmax function in terms of the logits $h$:\n",
    "$$\n",
    "p_i = \\frac{\\exp(h_i)}{\\sum_{i'} \\exp(h_{i'})} .\n",
    "$$\n",
    "Inserting $p$ in the expression for the loss gives\n",
    "$$\n",
    "\\rm{Loss} = - \\sum_i t_i h_i + \\rm{LogSumExp}(h) \\ ,\n",
    "$$\n",
    "where \n",
    "$$\n",
    "\\rm{LogSumExp}(h) = \\log \\sum_i \\exp h_i \\ .\n",
    "$$\n",
    "This is true for $t$ being a one-hot vector. \n",
    "\n",
    "Call the function to convince yourself it works. \n",
    "\n",
    "In practice you want to implement a [numerically stable](https://leimao.github.io/blog/LogSumExp/) version of LogSumExp. But we will not bother about that here.\n",
    "\n",
    "Help: You can add these methods in the Var class:\n",
    "\n",
    "    def exp(self):\n",
    "        return Var(exp(self.v), lambda: [(self, exp(self.v))])\n",
    "    \n",
    "    def log(self):\n",
    "        return Var(log(self.v), lambda: [(self, self.v ** -1)])"
   ]
  },
  {
   "cell_type": "code",
   "execution_count": 25,
   "metadata": {
    "id": "6nMuxyfzFtHv"
   },
   "outputs": [],
   "source": [
    "def cross_entropy_loss(t, h):\n",
    "    Loss = Var(0.0)\n",
    "    SE = Var(0.0)\n",
    "\n",
    "    for i in range(len(h)):\n",
    "        SE += h[i].exp()\n",
    "        Loss -= t[i] * h[i]\n",
    "\n",
    "    Loss += SE.log()\n",
    "\n",
    "    # Insert code here\n",
    "    return Loss"
   ]
  },
  {
   "cell_type": "markdown",
   "metadata": {
    "id": "8fAF5ew4FtHy"
   },
   "source": [
    "# Backward pass\n",
    "\n",
    "Now the magic happens! We get the calculation of the gradients for free. Just do:"
   ]
  },
  {
   "cell_type": "code",
   "execution_count": 26,
   "metadata": {
    "id": "iHyfPPI9Qqwu"
   },
   "outputs": [],
   "source": [
    "NN = [\n",
    "    DenseLayer(1, 5, lambda x: x.relu()),\n",
    "    DenseLayer(5, 1, lambda x: x.identity())\n",
    "]\n",
    "\n",
    "output = forward(x_train, NN)\n",
    "\n",
    "Loss = squared_loss(y_train,output)\n",
    "Loss.backward()"
   ]
  },
  {
   "cell_type": "markdown",
   "metadata": {
    "id": "49biIAYKQ1oG"
   },
   "source": [
    "and the gradients will be calculated:"
   ]
  },
  {
   "cell_type": "code",
   "execution_count": 27,
   "metadata": {
    "id": "_rGt1bq_Q7uk"
   },
   "outputs": [
    {
     "name": "stdout",
     "output_type": "stream",
     "text": [
      "Layer 0 \n",
      " Weights: [[Var(v=0.0220, grad=16.0091), Var(v=-0.0052, grad=2.3627), Var(v=-0.1505, grad=20.4001), Var(v=0.0087, grad=-2.5896), Var(v=-0.0451, grad=2.4841)]] Biases: [Var(v=0.0000, grad=13.7509), Var(v=0.0000, grad=-2.1461), Var(v=0.0000, grad=-18.5305), Var(v=0.0000, grad=-2.2243), Var(v=0.0000, grad=-2.2564)]\n",
      "Layer 1 \n",
      " Weights: [[Var(v=-0.1570, grad=-2.2450)], [Var(v=-0.0255, grad=0.4767)], [Var(v=-0.2204, grad=13.9314)], [Var(v=0.0254, grad=-0.8846)], [Var(v=-0.0268, grad=4.1737)]] Biases: [Var(v=0.0000, grad=-3.4967)]\n"
     ]
    },
    {
     "data": {
      "text/plain": "[None, None]"
     },
     "execution_count": 27,
     "metadata": {},
     "output_type": "execute_result"
    }
   ],
   "source": [
    "[print('Layer', i, '\\n', NN[i]) for i in range(len(NN))] "
   ]
  },
  {
   "cell_type": "markdown",
   "metadata": {
    "id": "D7d7qK0uFtH9"
   },
   "source": [
    "# Backward pass unit test\n",
    "\n",
    "Above we used finite differences to test that Nanograd is actually doing what it is supposed to do. We can in principle try the same for the neural network. But we will trust that the test above is enough."
   ]
  },
  {
   "cell_type": "markdown",
   "metadata": {
    "id": "WgBi8GOSFtIN"
   },
   "source": [
    "# Training and validation\n",
    "\n",
    "We are ready to train some neural networks!\n",
    "\n",
    "We initialize again:"
   ]
  },
  {
   "cell_type": "code",
   "execution_count": 28,
   "metadata": {
    "id": "01ePmzBzRtdh"
   },
   "outputs": [],
   "source": [
    "NN = [\n",
    "    DenseLayer(1, 15, lambda x: x.relu()),\n",
    "    DenseLayer(15, 50, lambda x: x.relu()),\n",
    "    DenseLayer(50, 1, lambda x: x.identity())\n",
    "]\n",
    "\n",
    "output = forward(x_train, NN)\n",
    "\n",
    "Loss = squared_loss(y_train, output)\n",
    "Loss.backward()"
   ]
  },
  {
   "cell_type": "markdown",
   "metadata": {
    "id": "10iRPiQ1ISHw"
   },
   "source": [
    "and make an update:\n",
    "\n",
    "We introduce a help function parameters to have a handle in all parameters in the network."
   ]
  },
  {
   "cell_type": "code",
   "execution_count": 29,
   "metadata": {
    "id": "dhAI7eyeznia"
   },
   "outputs": [
    {
     "name": "stdout",
     "output_type": "stream",
     "text": [
      "Network before update:\n",
      "Layer 0 \n",
      " Weights: [[Var(v=-0.0072, grad=-8.3929), Var(v=-0.0718, grad=7.0320), Var(v=-0.0215, grad=-1.4692), Var(v=-0.0378, grad=1.5671), Var(v=0.0876, grad=9.5366), Var(v=-0.1448, grad=-4.6976), Var(v=-0.1141, grad=13.6076), Var(v=0.1038, grad=0.7059), Var(v=-0.0344, grad=-4.9812), Var(v=0.2009, grad=-0.0761), Var(v=-0.1109, grad=-12.4846), Var(v=0.0320, grad=0.5237), Var(v=0.0821, grad=0.5597), Var(v=0.1447, grad=5.8570), Var(v=-0.0450, grad=9.1571)]] Biases: [Var(v=0.0000, grad=7.6284), Var(v=0.0000, grad=-6.3915), Var(v=0.0000, grad=1.3354), Var(v=0.0000, grad=-1.4244), Var(v=0.0000, grad=8.1891), Var(v=0.0000, grad=4.2697), Var(v=0.0000, grad=-12.3681), Var(v=0.0000, grad=0.6062), Var(v=0.0000, grad=4.5275), Var(v=0.0000, grad=-0.0654), Var(v=0.0000, grad=11.3474), Var(v=0.0000, grad=0.4497), Var(v=0.0000, grad=0.4807), Var(v=0.0000, grad=5.0294), Var(v=0.0000, grad=-8.3230)]\n",
      "Layer 1 \n",
      " Weights: [[Var(v=-0.0311, grad=0.0000), Var(v=0.0734, grad=0.0157), Var(v=0.2162, grad=0.0000), Var(v=-0.0729, grad=-0.0461), Var(v=-0.1098, grad=0.0000), Var(v=0.0062, grad=0.0000), Var(v=0.2317, grad=0.0000), Var(v=0.0850, grad=0.0783), Var(v=0.0747, grad=-0.1028), Var(v=0.0115, grad=0.0000), Var(v=-0.0530, grad=0.1510), Var(v=0.1289, grad=0.0000), Var(v=-0.1076, grad=0.0415), Var(v=-0.0368, grad=0.0826), Var(v=-0.1081, grad=-0.1044), Var(v=-0.1547, grad=0.0000), Var(v=0.0356, grad=-0.1090), Var(v=0.0484, grad=-0.0486), Var(v=-0.1908, grad=0.0000), Var(v=0.0970, grad=0.0000), Var(v=0.1139, grad=0.0000), Var(v=-0.0727, grad=-0.1803), Var(v=0.0341, grad=0.0000), Var(v=-0.0751, grad=0.0000), Var(v=0.0455, grad=0.0000), Var(v=-0.0509, grad=0.0000), Var(v=-0.1287, grad=-0.0097), Var(v=0.0398, grad=0.0000), Var(v=-0.1586, grad=0.0000), Var(v=-0.1978, grad=0.0572), Var(v=-0.0553, grad=-0.0122), Var(v=0.1133, grad=0.0494), Var(v=-0.0895, grad=0.0000), Var(v=0.0677, grad=0.0000), Var(v=-0.0802, grad=0.0000), Var(v=0.2165, grad=0.0921), Var(v=0.0860, grad=-0.0254), Var(v=-0.1789, grad=-0.1493), Var(v=0.0430, grad=-0.0107), Var(v=-0.1150, grad=0.0153), Var(v=0.0072, grad=0.0000), Var(v=-0.1241, grad=0.0000), Var(v=-0.0775, grad=0.0000), Var(v=0.0129, grad=0.1407), Var(v=0.0116, grad=-0.0564), Var(v=-0.0278, grad=0.0000), Var(v=-0.0491, grad=-0.1026), Var(v=0.0495, grad=0.0017), Var(v=0.0898, grad=0.0777), Var(v=0.0765, grad=0.0375)], [Var(v=0.0319, grad=0.0000), Var(v=0.1154, grad=0.1556), Var(v=0.0895, grad=0.0000), Var(v=0.0743, grad=-0.4580), Var(v=0.1570, grad=0.0000), Var(v=-0.0453, grad=0.0000), Var(v=-0.0481, grad=0.0000), Var(v=0.0189, grad=0.7777), Var(v=-0.0027, grad=-1.0210), Var(v=-0.0495, grad=0.0000), Var(v=0.0372, grad=1.4990), Var(v=-0.1025, grad=0.0000), Var(v=0.0488, grad=0.4125), Var(v=0.0746, grad=0.8203), Var(v=0.0312, grad=-1.0367), Var(v=-0.1302, grad=0.0000), Var(v=0.1253, grad=-1.0823), Var(v=0.0504, grad=-0.4826), Var(v=0.0002, grad=0.0000), Var(v=0.0525, grad=0.0000), Var(v=-0.2012, grad=0.0000), Var(v=0.0879, grad=-1.7903), Var(v=0.0507, grad=0.0000), Var(v=-0.1824, grad=0.0000), Var(v=0.1096, grad=0.0000), Var(v=0.0762, grad=0.0000), Var(v=-0.0368, grad=-0.0962), Var(v=-0.0602, grad=0.0000), Var(v=-0.0168, grad=0.0000), Var(v=-0.3335, grad=0.5681), Var(v=-0.1303, grad=-0.1215), Var(v=0.0023, grad=0.4910), Var(v=0.1257, grad=0.0000), Var(v=-0.1701, grad=0.0000), Var(v=0.1206, grad=0.0000), Var(v=0.0543, grad=0.9140), Var(v=-0.1023, grad=-0.2526), Var(v=0.1434, grad=-1.4825), Var(v=0.0965, grad=-0.1061), Var(v=0.0543, grad=0.1516), Var(v=-0.0798, grad=0.0000), Var(v=0.0228, grad=0.0000), Var(v=-0.0605, grad=0.0000), Var(v=-0.1473, grad=1.3967), Var(v=0.0169, grad=-0.5598), Var(v=0.0280, grad=0.0000), Var(v=-0.1540, grad=-1.0187), Var(v=0.1010, grad=0.0165), Var(v=0.1046, grad=0.7710), Var(v=-0.0263, grad=0.3724)], [Var(v=-0.2146, grad=0.0000), Var(v=-0.2036, grad=0.0466), Var(v=-0.2243, grad=0.0000), Var(v=-0.1974, grad=-0.1372), Var(v=-0.0035, grad=0.0000), Var(v=-0.0384, grad=0.0000), Var(v=-0.0108, grad=0.0000), Var(v=0.1050, grad=0.2330), Var(v=0.0496, grad=-0.3059), Var(v=0.0637, grad=0.0000), Var(v=0.0182, grad=0.4491), Var(v=-0.0490, grad=0.0000), Var(v=0.1530, grad=0.1236), Var(v=-0.1002, grad=0.2458), Var(v=-0.1515, grad=-0.3106), Var(v=-0.0446, grad=0.0000), Var(v=0.0609, grad=-0.3243), Var(v=0.0768, grad=-0.1446), Var(v=0.1097, grad=0.0000), Var(v=0.0977, grad=0.0000), Var(v=-0.0189, grad=0.0000), Var(v=0.0929, grad=-0.5364), Var(v=0.1547, grad=0.0000), Var(v=0.0006, grad=0.0000), Var(v=-0.0609, grad=0.0000), Var(v=0.0517, grad=0.0000), Var(v=0.1421, grad=-0.0288), Var(v=-0.2123, grad=0.0000), Var(v=-0.0723, grad=0.0000), Var(v=-0.0096, grad=0.1702), Var(v=0.0557, grad=-0.0364), Var(v=0.1945, grad=0.1471), Var(v=0.0470, grad=0.0000), Var(v=0.0279, grad=0.0000), Var(v=-0.1138, grad=0.0000), Var(v=0.0048, grad=0.2739), Var(v=0.0173, grad=-0.0757), Var(v=-0.0693, grad=-0.4442), Var(v=-0.0961, grad=-0.0318), Var(v=0.0423, grad=0.0454), Var(v=-0.0218, grad=0.0000), Var(v=-0.2762, grad=0.0000), Var(v=-0.1108, grad=0.0000), Var(v=-0.0945, grad=0.4185), Var(v=-0.1281, grad=-0.1677), Var(v=-0.0261, grad=0.0000), Var(v=0.1127, grad=-0.3052), Var(v=-0.0481, grad=0.0049), Var(v=0.1040, grad=0.2310), Var(v=0.0708, grad=0.1116)], [Var(v=-0.1877, grad=0.0000), Var(v=0.1634, grad=0.0820), Var(v=-0.1683, grad=0.0000), Var(v=0.0698, grad=-0.2413), Var(v=0.1635, grad=0.0000), Var(v=-0.1288, grad=0.0000), Var(v=-0.1080, grad=0.0000), Var(v=0.0589, grad=0.4098), Var(v=0.0007, grad=-0.5380), Var(v=0.1697, grad=0.0000), Var(v=0.0418, grad=0.7898), Var(v=0.1023, grad=0.0000), Var(v=-0.0216, grad=0.2174), Var(v=0.0976, grad=0.4323), Var(v=0.0510, grad=-0.5463), Var(v=-0.0525, grad=0.0000), Var(v=-0.0333, grad=-0.5703), Var(v=0.1643, grad=-0.2543), Var(v=-0.1065, grad=0.0000), Var(v=-0.0287, grad=0.0000), Var(v=0.0349, grad=0.0000), Var(v=0.0357, grad=-0.9433), Var(v=0.1557, grad=0.0000), Var(v=-0.1518, grad=0.0000), Var(v=-0.0795, grad=0.0000), Var(v=-0.1358, grad=0.0000), Var(v=0.0873, grad=-0.0507), Var(v=-0.1520, grad=0.0000), Var(v=-0.0300, grad=0.0000), Var(v=0.0537, grad=0.2993), Var(v=-0.0487, grad=-0.0640), Var(v=0.0333, grad=0.2587), Var(v=0.0467, grad=0.0000), Var(v=0.0129, grad=0.0000), Var(v=-0.0307, grad=0.0000), Var(v=0.0293, grad=0.4816), Var(v=0.1699, grad=-0.1331), Var(v=0.0310, grad=-0.7812), Var(v=0.1373, grad=-0.0559), Var(v=-0.0930, grad=0.0799), Var(v=0.1041, grad=0.0000), Var(v=-0.1261, grad=0.0000), Var(v=-0.2153, grad=0.0000), Var(v=-0.0252, grad=0.7360), Var(v=0.0032, grad=-0.2950), Var(v=0.0479, grad=0.0000), Var(v=-0.0069, grad=-0.5368), Var(v=-0.0182, grad=0.0087), Var(v=-0.0869, grad=0.4063), Var(v=0.0498, grad=0.1962)], [Var(v=0.0080, grad=-0.2634), Var(v=0.0189, grad=-0.2051), Var(v=0.0522, grad=0.2245), Var(v=0.1825, grad=0.6037), Var(v=0.0172, grad=0.6002), Var(v=-0.1619, grad=0.0000), Var(v=-0.2192, grad=-1.2929), Var(v=-0.0718, grad=0.0000), Var(v=0.0868, grad=1.3459), Var(v=-0.0957, grad=0.0000), Var(v=-0.0419, grad=0.0000), Var(v=0.0041, grad=-0.0874), Var(v=0.0046, grad=-0.5437), Var(v=0.1983, grad=0.0000), Var(v=0.0570, grad=1.3666), Var(v=0.1234, grad=0.0000), Var(v=0.0236, grad=1.4267), Var(v=0.0968, grad=0.0000), Var(v=0.0006, grad=0.0000), Var(v=0.1668, grad=-0.1106), Var(v=0.1027, grad=0.0000), Var(v=-0.0500, grad=0.0000), Var(v=0.0885, grad=0.4682), Var(v=-0.0513, grad=0.0000), Var(v=-0.2200, grad=0.0000), Var(v=-0.0444, grad=0.0000), Var(v=-0.0978, grad=0.1268), Var(v=0.1434, grad=0.0000), Var(v=-0.2314, grad=0.0000), Var(v=-0.0251, grad=-0.7488), Var(v=0.1080, grad=0.0000), Var(v=-0.0068, grad=-0.6472), Var(v=0.0404, grad=0.0148), Var(v=0.1423, grad=-0.4514), Var(v=0.0362, grad=0.0000), Var(v=0.0044, grad=0.0000), Var(v=0.0196, grad=0.3330), Var(v=0.0102, grad=1.9542), Var(v=-0.0800, grad=0.0000), Var(v=-0.0112, grad=0.0000), Var(v=0.1110, grad=0.0000), Var(v=-0.0072, grad=0.0000), Var(v=0.1373, grad=1.0299), Var(v=0.0301, grad=0.0000), Var(v=-0.0837, grad=0.7379), Var(v=0.0644, grad=0.8328), Var(v=-0.1477, grad=0.0000), Var(v=0.1092, grad=0.0000), Var(v=-0.0674, grad=-1.0164), Var(v=-0.0038, grad=-0.4908)], [Var(v=0.0057, grad=0.0000), Var(v=0.0542, grad=0.3137), Var(v=0.0490, grad=0.0000), Var(v=0.0801, grad=-0.9232), Var(v=-0.0299, grad=0.0000), Var(v=-0.0699, grad=0.0000), Var(v=-0.0271, grad=0.0000), Var(v=-0.0221, grad=1.5676), Var(v=-0.0882, grad=-2.0582), Var(v=-0.0876, grad=0.0000), Var(v=0.0251, grad=3.0216), Var(v=0.0372, grad=0.0000), Var(v=0.1692, grad=0.8315), Var(v=0.0365, grad=1.6536), Var(v=-0.0758, grad=-2.0898), Var(v=-0.1769, grad=0.0000), Var(v=0.1445, grad=-2.1818), Var(v=-0.0451, grad=-0.9728), Var(v=-0.0512, grad=0.0000), Var(v=-0.1070, grad=0.0000), Var(v=-0.1362, grad=0.0000), Var(v=-0.0667, grad=-3.6089), Var(v=-0.1016, grad=0.0000), Var(v=-0.1095, grad=0.0000), Var(v=-0.1048, grad=0.0000), Var(v=-0.0779, grad=0.0000), Var(v=-0.0515, grad=-0.1939), Var(v=-0.0563, grad=0.0000), Var(v=0.2068, grad=0.0000), Var(v=0.1396, grad=1.1451), Var(v=0.3323, grad=-0.2450), Var(v=-0.0625, grad=0.9898), Var(v=0.0469, grad=0.0000), Var(v=-0.0265, grad=0.0000), Var(v=-0.1950, grad=0.0000), Var(v=-0.0089, grad=1.8425), Var(v=0.0012, grad=-0.5093), Var(v=0.0752, grad=-2.9884), Var(v=-0.0100, grad=-0.2138), Var(v=-0.0705, grad=0.3056), Var(v=-0.1153, grad=0.0000), Var(v=-0.1432, grad=0.0000), Var(v=-0.1652, grad=0.0000), Var(v=0.1192, grad=2.8155), Var(v=0.0782, grad=-1.1284), Var(v=0.0522, grad=0.0000), Var(v=0.1144, grad=-2.0535), Var(v=0.2458, grad=0.0332), Var(v=0.2396, grad=1.5543), Var(v=0.0364, grad=0.7506)], [Var(v=-0.0281, grad=0.0000), Var(v=-0.0359, grad=0.2472), Var(v=-0.0683, grad=0.0000), Var(v=0.0521, grad=-0.7276), Var(v=-0.1178, grad=0.0000), Var(v=0.1413, grad=0.0000), Var(v=0.0127, grad=0.0000), Var(v=-0.1118, grad=1.2355), Var(v=-0.0054, grad=-1.6222), Var(v=-0.0535, grad=0.0000), Var(v=-0.0009, grad=2.3815), Var(v=-0.0579, grad=0.0000), Var(v=0.0160, grad=0.6554), Var(v=0.1027, grad=1.3033), Var(v=0.0592, grad=-1.6471), Var(v=0.0343, grad=0.0000), Var(v=0.0504, grad=-1.7196), Var(v=0.0601, grad=-0.7667), Var(v=-0.0260, grad=0.0000), Var(v=-0.0319, grad=0.0000), Var(v=-0.1049, grad=0.0000), Var(v=0.1640, grad=-2.8443), Var(v=-0.1019, grad=0.0000), Var(v=-0.1460, grad=0.0000), Var(v=-0.1010, grad=0.0000), Var(v=-0.1509, grad=0.0000), Var(v=0.0142, grad=-0.1528), Var(v=0.1462, grad=0.0000), Var(v=-0.1156, grad=0.0000), Var(v=-0.0659, grad=0.9025), Var(v=0.0231, grad=-0.1931), Var(v=0.0229, grad=0.7801), Var(v=-0.0505, grad=0.0000), Var(v=0.0250, grad=0.0000), Var(v=-0.1405, grad=0.0000), Var(v=0.0506, grad=1.4522), Var(v=0.2146, grad=-0.4014), Var(v=-0.0365, grad=-2.3553), Var(v=0.1609, grad=-0.1685), Var(v=-0.0036, grad=0.2409), Var(v=0.0377, grad=0.0000), Var(v=-0.1187, grad=0.0000), Var(v=0.0783, grad=0.0000), Var(v=-0.1304, grad=2.2190), Var(v=0.0800, grad=-0.8893), Var(v=-0.1625, grad=0.0000), Var(v=0.2835, grad=-1.6184), Var(v=0.0954, grad=0.0261), Var(v=-0.0352, grad=1.2250), Var(v=0.0686, grad=0.5916)], [Var(v=0.0079, grad=-0.3121), Var(v=0.0110, grad=-0.2431), Var(v=0.0570, grad=0.2661), Var(v=0.0273, grad=0.7155), Var(v=0.2443, grad=0.7114), Var(v=-0.0585, grad=0.0000), Var(v=0.0316, grad=-1.5324), Var(v=-0.1727, grad=0.0000), Var(v=0.0739, grad=1.5953), Var(v=-0.0296, grad=0.0000), Var(v=0.0039, grad=0.0000), Var(v=0.1489, grad=-0.1036), Var(v=0.1179, grad=-0.6445), Var(v=-0.2008, grad=0.0000), Var(v=-0.0665, grad=1.6197), Var(v=-0.0339, grad=0.0000), Var(v=0.0954, grad=1.6910), Var(v=-0.0009, grad=0.0000), Var(v=-0.0153, grad=0.0000), Var(v=-0.0192, grad=-0.1311), Var(v=0.0565, grad=0.0000), Var(v=0.0778, grad=0.0000), Var(v=0.0493, grad=0.5549), Var(v=0.0678, grad=0.0000), Var(v=0.0877, grad=0.0000), Var(v=0.0512, grad=0.0000), Var(v=-0.0914, grad=0.1503), Var(v=-0.0613, grad=0.0000), Var(v=-0.0139, grad=0.0000), Var(v=0.0324, grad=-0.8875), Var(v=0.0213, grad=0.0000), Var(v=0.0563, grad=-0.7671), Var(v=0.0800, grad=0.0176), Var(v=0.0255, grad=-0.5350), Var(v=-0.1423, grad=0.0000), Var(v=0.0357, grad=0.0000), Var(v=0.0232, grad=0.3947), Var(v=-0.0594, grad=2.3162), Var(v=-0.1290, grad=0.0000), Var(v=-0.0532, grad=0.0000), Var(v=-0.0806, grad=0.0000), Var(v=-0.0474, grad=0.0000), Var(v=-0.0147, grad=1.2207), Var(v=0.0735, grad=0.0000), Var(v=0.0877, grad=0.8745), Var(v=0.0028, grad=0.9871), Var(v=-0.0631, grad=0.0000), Var(v=-0.0262, grad=0.0000), Var(v=-0.0216, grad=-1.2046), Var(v=0.0909, grad=-0.5818)], [Var(v=0.0999, grad=0.0000), Var(v=-0.1349, grad=0.0745), Var(v=0.2639, grad=0.0000), Var(v=0.0086, grad=-0.2194), Var(v=0.0553, grad=0.0000), Var(v=-0.1836, grad=0.0000), Var(v=0.0160, grad=0.0000), Var(v=0.0471, grad=0.3725), Var(v=0.0039, grad=-0.4891), Var(v=-0.0026, grad=0.0000), Var(v=0.2282, grad=0.7181), Var(v=-0.0269, grad=0.0000), Var(v=-0.0621, grad=0.1976), Var(v=-0.0418, grad=0.3930), Var(v=0.0252, grad=-0.4966), Var(v=-0.0674, grad=0.0000), Var(v=-0.1587, grad=-0.5185), Var(v=-0.0033, grad=-0.2312), Var(v=-0.1587, grad=0.0000), Var(v=0.1554, grad=0.0000), Var(v=0.1119, grad=0.0000), Var(v=-0.0106, grad=-0.8576), Var(v=-0.0090, grad=0.0000), Var(v=0.1101, grad=0.0000), Var(v=0.0398, grad=0.0000), Var(v=-0.0501, grad=0.0000), Var(v=0.0756, grad=-0.0461), Var(v=-0.0794, grad=0.0000), Var(v=-0.2457, grad=0.0000), Var(v=0.0160, grad=0.2721), Var(v=-0.0570, grad=-0.0582), Var(v=-0.0274, grad=0.2352), Var(v=-0.1380, grad=0.0000), Var(v=-0.1338, grad=0.0000), Var(v=0.0539, grad=0.0000), Var(v=-0.0203, grad=0.4379), Var(v=-0.0198, grad=-0.1210), Var(v=-0.0060, grad=-0.7102), Var(v=0.0439, grad=-0.0508), Var(v=-0.0469, grad=0.0726), Var(v=-0.1049, grad=0.0000), Var(v=0.0535, grad=0.0000), Var(v=-0.0752, grad=0.0000), Var(v=-0.0352, grad=0.6691), Var(v=-0.0165, grad=-0.2681), Var(v=0.0574, grad=0.0000), Var(v=-0.0446, grad=-0.4880), Var(v=0.0655, grad=0.0079), Var(v=-0.0156, grad=0.3694), Var(v=-0.1930, grad=0.1784)], [Var(v=0.1180, grad=-0.6040), Var(v=0.0791, grad=-0.4705), Var(v=0.0513, grad=0.5149), Var(v=0.1037, grad=1.3846), Var(v=-0.1242, grad=1.3766), Var(v=-0.0447, grad=0.0000), Var(v=0.0438, grad=-2.9652), Var(v=-0.0121, grad=0.0000), Var(v=0.0271, grad=3.0869), Var(v=-0.2450, grad=0.0000), Var(v=-0.0391, grad=0.0000), Var(v=0.0848, grad=-0.2005), Var(v=0.0338, grad=-1.2471), Var(v=-0.1139, grad=0.0000), Var(v=0.0305, grad=3.1342), Var(v=-0.0859, grad=0.0000), Var(v=0.0764, grad=3.2722), Var(v=-0.1732, grad=0.0000), Var(v=-0.1379, grad=0.0000), Var(v=0.0240, grad=-0.2538), Var(v=-0.1187, grad=0.0000), Var(v=-0.0026, grad=0.0000), Var(v=0.0335, grad=1.0738), Var(v=-0.1129, grad=0.0000), Var(v=0.1023, grad=0.0000), Var(v=-0.1274, grad=0.0000), Var(v=0.0446, grad=0.2908), Var(v=-0.1711, grad=0.0000), Var(v=-0.0038, grad=0.0000), Var(v=-0.0463, grad=-1.7174), Var(v=-0.0338, grad=0.0000), Var(v=0.0181, grad=-1.4844), Var(v=-0.1038, grad=0.0340), Var(v=-0.0217, grad=-1.0352), Var(v=-0.2792, grad=0.0000), Var(v=-0.0582, grad=0.0000), Var(v=-0.0178, grad=0.7638), Var(v=-0.0062, grad=4.4819), Var(v=0.0017, grad=0.0000), Var(v=0.0009, grad=0.0000), Var(v=-0.0440, grad=0.0000), Var(v=-0.1266, grad=0.0000), Var(v=0.0524, grad=2.3621), Var(v=-0.1266, grad=0.0000), Var(v=0.0551, grad=1.6923), Var(v=0.0132, grad=1.9101), Var(v=0.0046, grad=0.0000), Var(v=-0.1734, grad=0.0000), Var(v=0.1471, grad=-2.3310), Var(v=0.1053, grad=-1.1257)], [Var(v=-0.0451, grad=0.0000), Var(v=0.0654, grad=0.2404), Var(v=-0.0514, grad=0.0000), Var(v=-0.0347, grad=-0.7075), Var(v=-0.0637, grad=0.0000), Var(v=0.0896, grad=0.0000), Var(v=-0.1415, grad=0.0000), Var(v=0.0900, grad=1.2013), Var(v=0.1673, grad=-1.5773), Var(v=0.0951, grad=0.0000), Var(v=-0.0267, grad=2.3156), Var(v=0.0389, grad=0.0000), Var(v=-0.0020, grad=0.6372), Var(v=-0.0120, grad=1.2672), Var(v=0.0048, grad=-1.6015), Var(v=0.0254, grad=0.0000), Var(v=-0.2858, grad=-1.6720), Var(v=0.1631, grad=-0.7455), Var(v=0.0440, grad=0.0000), Var(v=0.0557, grad=0.0000), Var(v=0.1644, grad=0.0000), Var(v=-0.0905, grad=-2.7656), Var(v=-0.1143, grad=0.0000), Var(v=-0.0021, grad=0.0000), Var(v=0.0436, grad=0.0000), Var(v=0.0261, grad=0.0000), Var(v=0.1239, grad=-0.1486), Var(v=-0.0122, grad=0.0000), Var(v=-0.1217, grad=0.0000), Var(v=0.2713, grad=0.8776), Var(v=-0.0784, grad=-0.1877), Var(v=0.0298, grad=0.7585), Var(v=-0.0814, grad=0.0000), Var(v=0.1295, grad=0.0000), Var(v=0.0748, grad=0.0000), Var(v=0.0568, grad=1.4120), Var(v=-0.0029, grad=-0.3903), Var(v=-0.0644, grad=-2.2902), Var(v=-0.0196, grad=-0.1638), Var(v=0.0827, grad=0.2342), Var(v=-0.0636, grad=0.0000), Var(v=0.1055, grad=0.0000), Var(v=-0.0410, grad=0.0000), Var(v=0.1918, grad=2.1576), Var(v=0.1531, grad=-0.8647), Var(v=0.0233, grad=0.0000), Var(v=-0.2000, grad=-1.5737), Var(v=0.0578, grad=0.0254), Var(v=-0.1387, grad=1.1911), Var(v=0.0683, grad=0.5752)], [Var(v=0.1466, grad=-0.0962), Var(v=-0.0384, grad=-0.0749), Var(v=0.1816, grad=0.0820), Var(v=-0.0283, grad=0.2205), Var(v=-0.0753, grad=0.2192), Var(v=0.1147, grad=0.0000), Var(v=0.0226, grad=-0.4721), Var(v=-0.0859, grad=0.0000), Var(v=-0.0477, grad=0.4915), Var(v=-0.0819, grad=0.0000), Var(v=-0.1204, grad=0.0000), Var(v=0.1165, grad=-0.0319), Var(v=0.1009, grad=-0.1986), Var(v=-0.0733, grad=0.0000), Var(v=-0.0402, grad=0.4990), Var(v=-0.1094, grad=0.0000), Var(v=0.0003, grad=0.5210), Var(v=-0.0361, grad=0.0000), Var(v=0.0511, grad=0.0000), Var(v=0.0168, grad=-0.0404), Var(v=0.0234, grad=0.0000), Var(v=-0.1456, grad=0.0000), Var(v=-0.0097, grad=0.1710), Var(v=0.0265, grad=0.0000), Var(v=-0.1784, grad=0.0000), Var(v=-0.0265, grad=0.0000), Var(v=0.1519, grad=0.0463), Var(v=-0.0607, grad=0.0000), Var(v=0.0982, grad=0.0000), Var(v=-0.0677, grad=-0.2734), Var(v=0.0337, grad=0.0000), Var(v=0.1006, grad=-0.2364), Var(v=-0.0542, grad=0.0054), Var(v=-0.0915, grad=-0.1648), Var(v=-0.0364, grad=0.0000), Var(v=0.0408, grad=0.0000), Var(v=0.0492, grad=0.1216), Var(v=0.0720, grad=0.7136), Var(v=0.0377, grad=0.0000), Var(v=-0.0152, grad=0.0000), Var(v=-0.0072, grad=0.0000), Var(v=0.1679, grad=0.0000), Var(v=-0.0123, grad=0.3761), Var(v=-0.1417, grad=0.0000), Var(v=0.0781, grad=0.2694), Var(v=0.1645, grad=0.3041), Var(v=0.1095, grad=0.0000), Var(v=-0.1958, grad=0.0000), Var(v=0.0174, grad=-0.3712), Var(v=0.1005, grad=-0.1792)], [Var(v=-0.1108, grad=-0.2467), Var(v=0.1245, grad=-0.1921), Var(v=0.1147, grad=0.2103), Var(v=-0.2441, grad=0.5655), Var(v=-0.0308, grad=0.5622), Var(v=-0.0716, grad=0.0000), Var(v=0.2043, grad=-1.2110), Var(v=-0.0199, grad=0.0000), Var(v=0.0531, grad=1.2607), Var(v=-0.0950, grad=0.0000), Var(v=-0.2451, grad=0.0000), Var(v=0.0575, grad=-0.0819), Var(v=0.1193, grad=-0.5093), Var(v=0.0590, grad=0.0000), Var(v=0.1548, grad=1.2800), Var(v=-0.0206, grad=0.0000), Var(v=0.0615, grad=1.3363), Var(v=-0.0501, grad=0.0000), Var(v=0.0869, grad=0.0000), Var(v=0.0902, grad=-0.1036), Var(v=-0.1671, grad=0.0000), Var(v=-0.1074, grad=0.0000), Var(v=-0.1751, grad=0.4385), Var(v=0.0104, grad=0.0000), Var(v=-0.0560, grad=0.0000), Var(v=-0.0162, grad=0.0000), Var(v=0.0083, grad=0.1188), Var(v=-0.0019, grad=0.0000), Var(v=0.0975, grad=0.0000), Var(v=-0.0694, grad=-0.7014), Var(v=0.0941, grad=0.0000), Var(v=-0.0778, grad=-0.6062), Var(v=0.1508, grad=0.0139), Var(v=-0.0091, grad=-0.4228), Var(v=0.1067, grad=0.0000), Var(v=0.0597, grad=0.0000), Var(v=0.1074, grad=0.3119), Var(v=0.0435, grad=1.8304), Var(v=-0.2198, grad=0.0000), Var(v=-0.2255, grad=0.0000), Var(v=-0.1899, grad=0.0000), Var(v=-0.0272, grad=0.0000), Var(v=0.0096, grad=0.9647), Var(v=-0.0276, grad=0.0000), Var(v=0.0190, grad=0.6911), Var(v=0.0211, grad=0.7801), Var(v=0.1192, grad=0.0000), Var(v=-0.0746, grad=0.0000), Var(v=0.0333, grad=-0.9520), Var(v=-0.0054, grad=-0.4597)], [Var(v=0.1784, grad=-0.4350), Var(v=-0.1044, grad=-0.3388), Var(v=0.1682, grad=0.3709), Var(v=-0.0787, grad=0.9972), Var(v=0.0385, grad=0.9915), Var(v=-0.0149, grad=0.0000), Var(v=0.0338, grad=-2.1356), Var(v=0.1069, grad=0.0000), Var(v=-0.1283, grad=2.2232), Var(v=-0.1411, grad=0.0000), Var(v=0.0074, grad=0.0000), Var(v=-0.0133, grad=-0.1444), Var(v=-0.0477, grad=-0.8982), Var(v=0.0700, grad=0.0000), Var(v=0.1450, grad=2.2573), Var(v=-0.2846, grad=0.0000), Var(v=0.1078, grad=2.3567), Var(v=0.1401, grad=0.0000), Var(v=0.0256, grad=0.0000), Var(v=-0.1215, grad=-0.1828), Var(v=-0.1431, grad=0.0000), Var(v=0.0692, grad=0.0000), Var(v=-0.0121, grad=0.7734), Var(v=0.0216, grad=0.0000), Var(v=-0.0985, grad=0.0000), Var(v=0.1642, grad=0.0000), Var(v=0.0625, grad=0.2094), Var(v=-0.0607, grad=0.0000), Var(v=-0.0076, grad=0.0000), Var(v=0.1353, grad=-1.2369), Var(v=-0.1272, grad=0.0000), Var(v=0.0018, grad=-1.0691), Var(v=-0.0058, grad=0.0245), Var(v=0.2382, grad=-0.7456), Var(v=-0.0616, grad=0.0000), Var(v=-0.0829, grad=0.0000), Var(v=0.0415, grad=0.5501), Var(v=0.1040, grad=3.2279), Var(v=0.0124, grad=0.0000), Var(v=-0.1716, grad=0.0000), Var(v=-0.1566, grad=0.0000), Var(v=-0.2711, grad=0.0000), Var(v=0.0484, grad=1.7013), Var(v=-0.1659, grad=0.0000), Var(v=0.1132, grad=1.2188), Var(v=0.0545, grad=1.3757), Var(v=-0.0792, grad=0.0000), Var(v=0.0134, grad=0.0000), Var(v=-0.1064, grad=-1.6788), Var(v=-0.1080, grad=-0.8108)], [Var(v=-0.0308, grad=0.0000), Var(v=0.0272, grad=0.0975), Var(v=-0.1596, grad=0.0000), Var(v=-0.0166, grad=-0.2869), Var(v=-0.0804, grad=0.0000), Var(v=-0.0689, grad=0.0000), Var(v=0.1177, grad=0.0000), Var(v=0.1073, grad=0.4872), Var(v=0.1339, grad=-0.6397), Var(v=-0.0098, grad=0.0000), Var(v=-0.0328, grad=0.9391), Var(v=-0.0367, grad=0.0000), Var(v=-0.0600, grad=0.2584), Var(v=-0.1384, grad=0.5140), Var(v=0.1669, grad=-0.6495), Var(v=0.2648, grad=0.0000), Var(v=0.1311, grad=-0.6781), Var(v=0.0813, grad=-0.3023), Var(v=0.0858, grad=0.0000), Var(v=-0.0268, grad=0.0000), Var(v=-0.0953, grad=0.0000), Var(v=0.0545, grad=-1.1216), Var(v=-0.1964, grad=0.0000), Var(v=-0.1148, grad=0.0000), Var(v=0.0221, grad=0.0000), Var(v=0.0995, grad=0.0000), Var(v=0.0142, grad=-0.0603), Var(v=0.0883, grad=0.0000), Var(v=-0.0578, grad=0.0000), Var(v=0.0778, grad=0.3559), Var(v=0.1106, grad=-0.0761), Var(v=0.0213, grad=0.3076), Var(v=-0.0403, grad=0.0000), Var(v=0.0166, grad=0.0000), Var(v=0.0163, grad=0.0000), Var(v=0.2090, grad=0.5727), Var(v=0.0133, grad=-0.1583), Var(v=0.0790, grad=-0.9288), Var(v=-0.0368, grad=-0.0665), Var(v=0.0761, grad=0.0950), Var(v=-0.1777, grad=0.0000), Var(v=-0.1349, grad=0.0000), Var(v=-0.1879, grad=0.0000), Var(v=-0.0854, grad=0.8751), Var(v=0.2639, grad=-0.3507), Var(v=-0.0166, grad=0.0000), Var(v=-0.1359, grad=-0.6382), Var(v=-0.1566, grad=0.0103), Var(v=-0.0104, grad=0.4831), Var(v=0.0975, grad=0.2333)]] Biases: [Var(v=0.0000, grad=-2.5812), Var(v=0.0000, grad=-0.0409), Var(v=0.0000, grad=2.2005), Var(v=0.0000, grad=0.1203), Var(v=0.0000, grad=5.8827), Var(v=0.0000, grad=0.0000), Var(v=0.0000, grad=-12.6711), Var(v=0.0000, grad=9.8425), Var(v=0.0000, grad=0.2682), Var(v=0.0000, grad=0.0000), Var(v=0.0000, grad=18.9715), Var(v=0.0000, grad=-0.8569), Var(v=0.0000, grad=-0.1084), Var(v=0.0000, grad=10.3824), Var(v=0.0000, grad=0.2724), Var(v=0.0000, grad=0.0000), Var(v=0.0000, grad=0.2843), Var(v=0.0000, grad=-6.1078), Var(v=0.0000, grad=0.0000), Var(v=0.0000, grad=-1.0844), Var(v=0.0000, grad=0.0000), Var(v=0.0000, grad=-22.6585), Var(v=0.0000, grad=4.5886), Var(v=0.0000, grad=0.0000), Var(v=0.0000, grad=0.0000), Var(v=0.0000, grad=0.0000), Var(v=0.0000, grad=0.0253), Var(v=0.0000, grad=0.0000), Var(v=0.0000, grad=0.0000), Var(v=0.0000, grad=-0.1492), Var(v=0.0000, grad=-1.5381), Var(v=0.0000, grad=-0.1290), Var(v=0.0000, grad=0.1452), Var(v=0.0000, grad=-4.4239), Var(v=0.0000, grad=0.0000), Var(v=0.0000, grad=11.5685), Var(v=0.0000, grad=0.0664), Var(v=0.0000, grad=0.3895), Var(v=0.0000, grad=-1.3424), Var(v=0.0000, grad=1.9188), Var(v=0.0000, grad=0.0000), Var(v=0.0000, grad=0.0000), Var(v=0.0000, grad=10.0942), Var(v=0.0000, grad=17.6772), Var(v=0.0000, grad=0.1471), Var(v=0.0000, grad=8.1624), Var(v=0.0000, grad=-12.8928), Var(v=0.0000, grad=0.2083), Var(v=0.0000, grad=-0.2026), Var(v=0.0000, grad=-0.0978)]\n",
      "Layer 2 \n",
      " Weights: [[Var(v=0.0290, grad=-4.8285)], [Var(v=0.0226, grad=0.4437)], [Var(v=-0.0248, grad=-6.2482)], [Var(v=-0.0666, grad=0.8150)], [Var(v=-0.0662, grad=-0.2632)], [Var(v=-0.0554, grad=0.0000)], [Var(v=0.1426, grad=-1.5786)], [Var(v=0.1130, grad=0.6644)], [Var(v=-0.1484, grad=0.7071)], [Var(v=-0.0128, grad=0.0000)], [Var(v=0.2179, grad=1.0740)], [Var(v=0.0096, grad=-4.0760)], [Var(v=0.0600, grad=-0.1096)], [Var(v=0.1192, grad=1.4015)], [Var(v=-0.1507, grad=-3.3282)], [Var(v=-0.1306, grad=0.0000)], [Var(v=-0.1573, grad=-4.5163)], [Var(v=-0.0701, grad=3.2378)], [Var(v=0.0602, grad=0.0000)], [Var(v=0.0122, grad=-0.8071)], [Var(v=0.0859, grad=0.0000)], [Var(v=-0.2602, grad=0.9819)], [Var(v=-0.0516, grad=-0.3303)], [Var(v=-0.1376, grad=0.0000)], [Var(v=0.0038, grad=0.0000)], [Var(v=-0.0949, grad=0.0000)], [Var(v=-0.0140, grad=0.7673)], [Var(v=0.0393, grad=0.0000)], [Var(v=0.0486, grad=0.0000)], [Var(v=0.0826, grad=1.8611)], [Var(v=-0.0177, grad=3.3197)], [Var(v=0.0714, grad=-0.3013)], [Var(v=-0.0016, grad=-0.0833)], [Var(v=0.0498, grad=-4.3013)], [Var(v=0.1484, grad=0.0000)], [Var(v=0.1329, grad=2.5065)], [Var(v=-0.0367, grad=0.5784)], [Var(v=-0.2155, grad=-0.3797)], [Var(v=-0.0154, grad=2.3919)], [Var(v=0.0220, grad=0.0802)], [Var(v=-0.0168, grad=0.0000)], [Var(v=-0.0554, grad=0.0000)], [Var(v=-0.1136, grad=-2.9439)], [Var(v=0.2030, grad=0.4910)], [Var(v=-0.0814, grad=1.0940)], [Var(v=-0.0918, grad=-2.4296)], [Var(v=-0.1481, grad=0.9407)], [Var(v=0.0024, grad=5.1722)], [Var(v=0.1121, grad=1.0871)], [Var(v=0.0541, grad=0.1618)]] Biases: [Var(v=0.0000, grad=-1.8074)]\n",
      "\n",
      "Network after update:\n",
      "Layer 0 \n",
      " Weights: [[Var(v=0.0767, grad=-8.3929), Var(v=-0.1421, grad=7.0320), Var(v=-0.0068, grad=-1.4692), Var(v=-0.0535, grad=1.5671), Var(v=-0.0078, grad=9.5366), Var(v=-0.0978, grad=-4.6976), Var(v=-0.2502, grad=13.6076), Var(v=0.0968, grad=0.7059), Var(v=0.0154, grad=-4.9812), Var(v=0.2017, grad=-0.0761), Var(v=0.0139, grad=-12.4846), Var(v=0.0268, grad=0.5237), Var(v=0.0765, grad=0.5597), Var(v=0.0862, grad=5.8570), Var(v=-0.1366, grad=9.1571)]] Biases: [Var(v=-0.0763, grad=7.6284), Var(v=0.0639, grad=-6.3915), Var(v=-0.0134, grad=1.3354), Var(v=0.0142, grad=-1.4244), Var(v=-0.0819, grad=8.1891), Var(v=-0.0427, grad=4.2697), Var(v=0.1237, grad=-12.3681), Var(v=-0.0061, grad=0.6062), Var(v=-0.0453, grad=4.5275), Var(v=0.0007, grad=-0.0654), Var(v=-0.1135, grad=11.3474), Var(v=-0.0045, grad=0.4497), Var(v=-0.0048, grad=0.4807), Var(v=-0.0503, grad=5.0294), Var(v=0.0832, grad=-8.3230)]\n",
      "Layer 1 \n",
      " Weights: [[Var(v=-0.0311, grad=0.0000), Var(v=0.0732, grad=0.0157), Var(v=0.2162, grad=0.0000), Var(v=-0.0725, grad=-0.0461), Var(v=-0.1098, grad=0.0000), Var(v=0.0062, grad=0.0000), Var(v=0.2317, grad=0.0000), Var(v=0.0843, grad=0.0783), Var(v=0.0757, grad=-0.1028), Var(v=0.0115, grad=0.0000), Var(v=-0.0545, grad=0.1510), Var(v=0.1289, grad=0.0000), Var(v=-0.1080, grad=0.0415), Var(v=-0.0376, grad=0.0826), Var(v=-0.1071, grad=-0.1044), Var(v=-0.1547, grad=0.0000), Var(v=0.0367, grad=-0.1090), Var(v=0.0489, grad=-0.0486), Var(v=-0.1908, grad=0.0000), Var(v=0.0970, grad=0.0000), Var(v=0.1139, grad=0.0000), Var(v=-0.0709, grad=-0.1803), Var(v=0.0341, grad=0.0000), Var(v=-0.0751, grad=0.0000), Var(v=0.0455, grad=0.0000), Var(v=-0.0509, grad=0.0000), Var(v=-0.1286, grad=-0.0097), Var(v=0.0398, grad=0.0000), Var(v=-0.1586, grad=0.0000), Var(v=-0.1984, grad=0.0572), Var(v=-0.0551, grad=-0.0122), Var(v=0.1128, grad=0.0494), Var(v=-0.0895, grad=0.0000), Var(v=0.0677, grad=0.0000), Var(v=-0.0802, grad=0.0000), Var(v=0.2155, grad=0.0921), Var(v=0.0863, grad=-0.0254), Var(v=-0.1774, grad=-0.1493), Var(v=0.0431, grad=-0.0107), Var(v=-0.1151, grad=0.0153), Var(v=0.0072, grad=0.0000), Var(v=-0.1241, grad=0.0000), Var(v=-0.0775, grad=0.0000), Var(v=0.0115, grad=0.1407), Var(v=0.0122, grad=-0.0564), Var(v=-0.0278, grad=0.0000), Var(v=-0.0481, grad=-0.1026), Var(v=0.0495, grad=0.0017), Var(v=0.0891, grad=0.0777), Var(v=0.0762, grad=0.0375)], [Var(v=0.0319, grad=0.0000), Var(v=0.1139, grad=0.1556), Var(v=0.0895, grad=0.0000), Var(v=0.0788, grad=-0.4580), Var(v=0.1570, grad=0.0000), Var(v=-0.0453, grad=0.0000), Var(v=-0.0481, grad=0.0000), Var(v=0.0111, grad=0.7777), Var(v=0.0075, grad=-1.0210), Var(v=-0.0495, grad=0.0000), Var(v=0.0222, grad=1.4990), Var(v=-0.1025, grad=0.0000), Var(v=0.0447, grad=0.4125), Var(v=0.0664, grad=0.8203), Var(v=0.0415, grad=-1.0367), Var(v=-0.1302, grad=0.0000), Var(v=0.1361, grad=-1.0823), Var(v=0.0552, grad=-0.4826), Var(v=0.0002, grad=0.0000), Var(v=0.0525, grad=0.0000), Var(v=-0.2012, grad=0.0000), Var(v=0.1059, grad=-1.7903), Var(v=0.0507, grad=0.0000), Var(v=-0.1824, grad=0.0000), Var(v=0.1096, grad=0.0000), Var(v=0.0762, grad=0.0000), Var(v=-0.0358, grad=-0.0962), Var(v=-0.0602, grad=0.0000), Var(v=-0.0168, grad=0.0000), Var(v=-0.3392, grad=0.5681), Var(v=-0.1291, grad=-0.1215), Var(v=-0.0026, grad=0.4910), Var(v=0.1257, grad=0.0000), Var(v=-0.1701, grad=0.0000), Var(v=0.1206, grad=0.0000), Var(v=0.0452, grad=0.9140), Var(v=-0.0998, grad=-0.2526), Var(v=0.1582, grad=-1.4825), Var(v=0.0976, grad=-0.1061), Var(v=0.0527, grad=0.1516), Var(v=-0.0798, grad=0.0000), Var(v=0.0228, grad=0.0000), Var(v=-0.0605, grad=0.0000), Var(v=-0.1613, grad=1.3967), Var(v=0.0225, grad=-0.5598), Var(v=0.0280, grad=0.0000), Var(v=-0.1439, grad=-1.0187), Var(v=0.1008, grad=0.0165), Var(v=0.0969, grad=0.7710), Var(v=-0.0300, grad=0.3724)], [Var(v=-0.2146, grad=0.0000), Var(v=-0.2041, grad=0.0466), Var(v=-0.2243, grad=0.0000), Var(v=-0.1961, grad=-0.1372), Var(v=-0.0035, grad=0.0000), Var(v=-0.0384, grad=0.0000), Var(v=-0.0108, grad=0.0000), Var(v=0.1027, grad=0.2330), Var(v=0.0526, grad=-0.3059), Var(v=0.0637, grad=0.0000), Var(v=0.0137, grad=0.4491), Var(v=-0.0490, grad=0.0000), Var(v=0.1518, grad=0.1236), Var(v=-0.1026, grad=0.2458), Var(v=-0.1484, grad=-0.3106), Var(v=-0.0446, grad=0.0000), Var(v=0.0641, grad=-0.3243), Var(v=0.0782, grad=-0.1446), Var(v=0.1097, grad=0.0000), Var(v=0.0977, grad=0.0000), Var(v=-0.0189, grad=0.0000), Var(v=0.0983, grad=-0.5364), Var(v=0.1547, grad=0.0000), Var(v=0.0006, grad=0.0000), Var(v=-0.0609, grad=0.0000), Var(v=0.0517, grad=0.0000), Var(v=0.1424, grad=-0.0288), Var(v=-0.2123, grad=0.0000), Var(v=-0.0723, grad=0.0000), Var(v=-0.0113, grad=0.1702), Var(v=0.0561, grad=-0.0364), Var(v=0.1930, grad=0.1471), Var(v=0.0470, grad=0.0000), Var(v=0.0279, grad=0.0000), Var(v=-0.1138, grad=0.0000), Var(v=0.0021, grad=0.2739), Var(v=0.0181, grad=-0.0757), Var(v=-0.0649, grad=-0.4442), Var(v=-0.0958, grad=-0.0318), Var(v=0.0419, grad=0.0454), Var(v=-0.0218, grad=0.0000), Var(v=-0.2762, grad=0.0000), Var(v=-0.1108, grad=0.0000), Var(v=-0.0987, grad=0.4185), Var(v=-0.1264, grad=-0.1677), Var(v=-0.0261, grad=0.0000), Var(v=0.1158, grad=-0.3052), Var(v=-0.0481, grad=0.0049), Var(v=0.1017, grad=0.2310), Var(v=0.0697, grad=0.1116)], [Var(v=-0.1877, grad=0.0000), Var(v=0.1626, grad=0.0820), Var(v=-0.1683, grad=0.0000), Var(v=0.0722, grad=-0.2413), Var(v=0.1635, grad=0.0000), Var(v=-0.1288, grad=0.0000), Var(v=-0.1080, grad=0.0000), Var(v=0.0548, grad=0.4098), Var(v=0.0060, grad=-0.5380), Var(v=0.1697, grad=0.0000), Var(v=0.0339, grad=0.7898), Var(v=0.1023, grad=0.0000), Var(v=-0.0237, grad=0.2174), Var(v=0.0933, grad=0.4323), Var(v=0.0565, grad=-0.5463), Var(v=-0.0525, grad=0.0000), Var(v=-0.0276, grad=-0.5703), Var(v=0.1669, grad=-0.2543), Var(v=-0.1065, grad=0.0000), Var(v=-0.0287, grad=0.0000), Var(v=0.0349, grad=0.0000), Var(v=0.0451, grad=-0.9433), Var(v=0.1557, grad=0.0000), Var(v=-0.1518, grad=0.0000), Var(v=-0.0795, grad=0.0000), Var(v=-0.1358, grad=0.0000), Var(v=0.0878, grad=-0.0507), Var(v=-0.1520, grad=0.0000), Var(v=-0.0300, grad=0.0000), Var(v=0.0507, grad=0.2993), Var(v=-0.0481, grad=-0.0640), Var(v=0.0308, grad=0.2587), Var(v=0.0467, grad=0.0000), Var(v=0.0129, grad=0.0000), Var(v=-0.0307, grad=0.0000), Var(v=0.0245, grad=0.4816), Var(v=0.1712, grad=-0.1331), Var(v=0.0388, grad=-0.7812), Var(v=0.1379, grad=-0.0559), Var(v=-0.0938, grad=0.0799), Var(v=0.1041, grad=0.0000), Var(v=-0.1261, grad=0.0000), Var(v=-0.2153, grad=0.0000), Var(v=-0.0326, grad=0.7360), Var(v=0.0061, grad=-0.2950), Var(v=0.0479, grad=0.0000), Var(v=-0.0015, grad=-0.5368), Var(v=-0.0183, grad=0.0087), Var(v=-0.0909, grad=0.4063), Var(v=0.0478, grad=0.1962)], [Var(v=0.0106, grad=-0.2634), Var(v=0.0209, grad=-0.2051), Var(v=0.0500, grad=0.2245), Var(v=0.1765, grad=0.6037), Var(v=0.0112, grad=0.6002), Var(v=-0.1619, grad=0.0000), Var(v=-0.2063, grad=-1.2929), Var(v=-0.0718, grad=0.0000), Var(v=0.0733, grad=1.3459), Var(v=-0.0957, grad=0.0000), Var(v=-0.0419, grad=0.0000), Var(v=0.0050, grad=-0.0874), Var(v=0.0100, grad=-0.5437), Var(v=0.1983, grad=0.0000), Var(v=0.0433, grad=1.3666), Var(v=0.1234, grad=0.0000), Var(v=0.0094, grad=1.4267), Var(v=0.0968, grad=0.0000), Var(v=0.0006, grad=0.0000), Var(v=0.1679, grad=-0.1106), Var(v=0.1027, grad=0.0000), Var(v=-0.0500, grad=0.0000), Var(v=0.0838, grad=0.4682), Var(v=-0.0513, grad=0.0000), Var(v=-0.2200, grad=0.0000), Var(v=-0.0444, grad=0.0000), Var(v=-0.0991, grad=0.1268), Var(v=0.1434, grad=0.0000), Var(v=-0.2314, grad=0.0000), Var(v=-0.0177, grad=-0.7488), Var(v=0.1080, grad=0.0000), Var(v=-0.0003, grad=-0.6472), Var(v=0.0403, grad=0.0148), Var(v=0.1468, grad=-0.4514), Var(v=0.0362, grad=0.0000), Var(v=0.0044, grad=0.0000), Var(v=0.0162, grad=0.3330), Var(v=-0.0093, grad=1.9542), Var(v=-0.0800, grad=0.0000), Var(v=-0.0112, grad=0.0000), Var(v=0.1110, grad=0.0000), Var(v=-0.0072, grad=0.0000), Var(v=0.1270, grad=1.0299), Var(v=0.0301, grad=0.0000), Var(v=-0.0911, grad=0.7379), Var(v=0.0561, grad=0.8328), Var(v=-0.1477, grad=0.0000), Var(v=0.1092, grad=0.0000), Var(v=-0.0572, grad=-1.0164), Var(v=0.0011, grad=-0.4908)], [Var(v=0.0057, grad=0.0000), Var(v=0.0511, grad=0.3137), Var(v=0.0490, grad=0.0000), Var(v=0.0893, grad=-0.9232), Var(v=-0.0299, grad=0.0000), Var(v=-0.0699, grad=0.0000), Var(v=-0.0271, grad=0.0000), Var(v=-0.0378, grad=1.5676), Var(v=-0.0676, grad=-2.0582), Var(v=-0.0876, grad=0.0000), Var(v=-0.0051, grad=3.0216), Var(v=0.0372, grad=0.0000), Var(v=0.1608, grad=0.8315), Var(v=0.0199, grad=1.6536), Var(v=-0.0549, grad=-2.0898), Var(v=-0.1769, grad=0.0000), Var(v=0.1663, grad=-2.1818), Var(v=-0.0354, grad=-0.9728), Var(v=-0.0512, grad=0.0000), Var(v=-0.1070, grad=0.0000), Var(v=-0.1362, grad=0.0000), Var(v=-0.0306, grad=-3.6089), Var(v=-0.1016, grad=0.0000), Var(v=-0.1095, grad=0.0000), Var(v=-0.1048, grad=0.0000), Var(v=-0.0779, grad=0.0000), Var(v=-0.0495, grad=-0.1939), Var(v=-0.0563, grad=0.0000), Var(v=0.2068, grad=0.0000), Var(v=0.1282, grad=1.1451), Var(v=0.3347, grad=-0.2450), Var(v=-0.0724, grad=0.9898), Var(v=0.0469, grad=0.0000), Var(v=-0.0265, grad=0.0000), Var(v=-0.1950, grad=0.0000), Var(v=-0.0274, grad=1.8425), Var(v=0.0063, grad=-0.5093), Var(v=0.1051, grad=-2.9884), Var(v=-0.0079, grad=-0.2138), Var(v=-0.0735, grad=0.3056), Var(v=-0.1153, grad=0.0000), Var(v=-0.1432, grad=0.0000), Var(v=-0.1652, grad=0.0000), Var(v=0.0910, grad=2.8155), Var(v=0.0894, grad=-1.1284), Var(v=0.0522, grad=0.0000), Var(v=0.1350, grad=-2.0535), Var(v=0.2455, grad=0.0332), Var(v=0.2240, grad=1.5543), Var(v=0.0289, grad=0.7506)], [Var(v=-0.0281, grad=0.0000), Var(v=-0.0383, grad=0.2472), Var(v=-0.0683, grad=0.0000), Var(v=0.0594, grad=-0.7276), Var(v=-0.1178, grad=0.0000), Var(v=0.1413, grad=0.0000), Var(v=0.0127, grad=0.0000), Var(v=-0.1242, grad=1.2355), Var(v=0.0108, grad=-1.6222), Var(v=-0.0535, grad=0.0000), Var(v=-0.0248, grad=2.3815), Var(v=-0.0579, grad=0.0000), Var(v=0.0095, grad=0.6554), Var(v=0.0897, grad=1.3033), Var(v=0.0757, grad=-1.6471), Var(v=0.0343, grad=0.0000), Var(v=0.0676, grad=-1.7196), Var(v=0.0677, grad=-0.7667), Var(v=-0.0260, grad=0.0000), Var(v=-0.0319, grad=0.0000), Var(v=-0.1049, grad=0.0000), Var(v=0.1924, grad=-2.8443), Var(v=-0.1019, grad=0.0000), Var(v=-0.1460, grad=0.0000), Var(v=-0.1010, grad=0.0000), Var(v=-0.1509, grad=0.0000), Var(v=0.0157, grad=-0.1528), Var(v=0.1462, grad=0.0000), Var(v=-0.1156, grad=0.0000), Var(v=-0.0749, grad=0.9025), Var(v=0.0250, grad=-0.1931), Var(v=0.0151, grad=0.7801), Var(v=-0.0505, grad=0.0000), Var(v=0.0250, grad=0.0000), Var(v=-0.1405, grad=0.0000), Var(v=0.0361, grad=1.4522), Var(v=0.2186, grad=-0.4014), Var(v=-0.0130, grad=-2.3553), Var(v=0.1626, grad=-0.1685), Var(v=-0.0060, grad=0.2409), Var(v=0.0377, grad=0.0000), Var(v=-0.1187, grad=0.0000), Var(v=0.0783, grad=0.0000), Var(v=-0.1526, grad=2.2190), Var(v=0.0888, grad=-0.8893), Var(v=-0.1625, grad=0.0000), Var(v=0.2996, grad=-1.6184), Var(v=0.0952, grad=0.0261), Var(v=-0.0474, grad=1.2250), Var(v=0.0627, grad=0.5916)], [Var(v=0.0110, grad=-0.3121), Var(v=0.0134, grad=-0.2431), Var(v=0.0543, grad=0.2661), Var(v=0.0201, grad=0.7155), Var(v=0.2372, grad=0.7114), Var(v=-0.0585, grad=0.0000), Var(v=0.0469, grad=-1.5324), Var(v=-0.1727, grad=0.0000), Var(v=0.0580, grad=1.5953), Var(v=-0.0296, grad=0.0000), Var(v=0.0039, grad=0.0000), Var(v=0.1499, grad=-0.1036), Var(v=0.1243, grad=-0.6445), Var(v=-0.2008, grad=0.0000), Var(v=-0.0827, grad=1.6197), Var(v=-0.0339, grad=0.0000), Var(v=0.0785, grad=1.6910), Var(v=-0.0009, grad=0.0000), Var(v=-0.0153, grad=0.0000), Var(v=-0.0179, grad=-0.1311), Var(v=0.0565, grad=0.0000), Var(v=0.0778, grad=0.0000), Var(v=0.0438, grad=0.5549), Var(v=0.0678, grad=0.0000), Var(v=0.0877, grad=0.0000), Var(v=0.0512, grad=0.0000), Var(v=-0.0929, grad=0.1503), Var(v=-0.0613, grad=0.0000), Var(v=-0.0139, grad=0.0000), Var(v=0.0413, grad=-0.8875), Var(v=0.0213, grad=0.0000), Var(v=0.0640, grad=-0.7671), Var(v=0.0798, grad=0.0176), Var(v=0.0308, grad=-0.5350), Var(v=-0.1423, grad=0.0000), Var(v=0.0357, grad=0.0000), Var(v=0.0193, grad=0.3947), Var(v=-0.0826, grad=2.3162), Var(v=-0.1290, grad=0.0000), Var(v=-0.0532, grad=0.0000), Var(v=-0.0806, grad=0.0000), Var(v=-0.0474, grad=0.0000), Var(v=-0.0269, grad=1.2207), Var(v=0.0735, grad=0.0000), Var(v=0.0790, grad=0.8745), Var(v=-0.0070, grad=0.9871), Var(v=-0.0631, grad=0.0000), Var(v=-0.0262, grad=0.0000), Var(v=-0.0095, grad=-1.2046), Var(v=0.0967, grad=-0.5818)], [Var(v=0.0999, grad=0.0000), Var(v=-0.1357, grad=0.0745), Var(v=0.2639, grad=0.0000), Var(v=0.0108, grad=-0.2194), Var(v=0.0553, grad=0.0000), Var(v=-0.1836, grad=0.0000), Var(v=0.0160, grad=0.0000), Var(v=0.0434, grad=0.3725), Var(v=0.0088, grad=-0.4891), Var(v=-0.0026, grad=0.0000), Var(v=0.2210, grad=0.7181), Var(v=-0.0269, grad=0.0000), Var(v=-0.0641, grad=0.1976), Var(v=-0.0457, grad=0.3930), Var(v=0.0302, grad=-0.4966), Var(v=-0.0674, grad=0.0000), Var(v=-0.1535, grad=-0.5185), Var(v=-0.0010, grad=-0.2312), Var(v=-0.1587, grad=0.0000), Var(v=0.1554, grad=0.0000), Var(v=0.1119, grad=0.0000), Var(v=-0.0020, grad=-0.8576), Var(v=-0.0090, grad=0.0000), Var(v=0.1101, grad=0.0000), Var(v=0.0398, grad=0.0000), Var(v=-0.0501, grad=0.0000), Var(v=0.0761, grad=-0.0461), Var(v=-0.0794, grad=0.0000), Var(v=-0.2457, grad=0.0000), Var(v=0.0133, grad=0.2721), Var(v=-0.0564, grad=-0.0582), Var(v=-0.0298, grad=0.2352), Var(v=-0.1380, grad=0.0000), Var(v=-0.1338, grad=0.0000), Var(v=0.0539, grad=0.0000), Var(v=-0.0247, grad=0.4379), Var(v=-0.0186, grad=-0.1210), Var(v=0.0011, grad=-0.7102), Var(v=0.0444, grad=-0.0508), Var(v=-0.0476, grad=0.0726), Var(v=-0.1049, grad=0.0000), Var(v=0.0535, grad=0.0000), Var(v=-0.0752, grad=0.0000), Var(v=-0.0419, grad=0.6691), Var(v=-0.0138, grad=-0.2681), Var(v=0.0574, grad=0.0000), Var(v=-0.0398, grad=-0.4880), Var(v=0.0655, grad=0.0079), Var(v=-0.0193, grad=0.3694), Var(v=-0.1948, grad=0.1784)], [Var(v=0.1241, grad=-0.6040), Var(v=0.0838, grad=-0.4705), Var(v=0.0461, grad=0.5149), Var(v=0.0899, grad=1.3846), Var(v=-0.1380, grad=1.3766), Var(v=-0.0447, grad=0.0000), Var(v=0.0734, grad=-2.9652), Var(v=-0.0121, grad=0.0000), Var(v=-0.0038, grad=3.0869), Var(v=-0.2450, grad=0.0000), Var(v=-0.0391, grad=0.0000), Var(v=0.0868, grad=-0.2005), Var(v=0.0463, grad=-1.2471), Var(v=-0.1139, grad=0.0000), Var(v=-0.0009, grad=3.1342), Var(v=-0.0859, grad=0.0000), Var(v=0.0437, grad=3.2722), Var(v=-0.1732, grad=0.0000), Var(v=-0.1379, grad=0.0000), Var(v=0.0266, grad=-0.2538), Var(v=-0.1187, grad=0.0000), Var(v=-0.0026, grad=0.0000), Var(v=0.0228, grad=1.0738), Var(v=-0.1129, grad=0.0000), Var(v=0.1023, grad=0.0000), Var(v=-0.1274, grad=0.0000), Var(v=0.0417, grad=0.2908), Var(v=-0.1711, grad=0.0000), Var(v=-0.0038, grad=0.0000), Var(v=-0.0292, grad=-1.7174), Var(v=-0.0338, grad=0.0000), Var(v=0.0329, grad=-1.4844), Var(v=-0.1041, grad=0.0340), Var(v=-0.0113, grad=-1.0352), Var(v=-0.2792, grad=0.0000), Var(v=-0.0582, grad=0.0000), Var(v=-0.0255, grad=0.7638), Var(v=-0.0510, grad=4.4819), Var(v=0.0017, grad=0.0000), Var(v=0.0009, grad=0.0000), Var(v=-0.0440, grad=0.0000), Var(v=-0.1266, grad=0.0000), Var(v=0.0288, grad=2.3621), Var(v=-0.1266, grad=0.0000), Var(v=0.0382, grad=1.6923), Var(v=-0.0059, grad=1.9101), Var(v=0.0046, grad=0.0000), Var(v=-0.1734, grad=0.0000), Var(v=0.1704, grad=-2.3310), Var(v=0.1166, grad=-1.1257)], [Var(v=-0.0451, grad=0.0000), Var(v=0.0630, grad=0.2404), Var(v=-0.0514, grad=0.0000), Var(v=-0.0276, grad=-0.7075), Var(v=-0.0637, grad=0.0000), Var(v=0.0896, grad=0.0000), Var(v=-0.1415, grad=0.0000), Var(v=0.0780, grad=1.2013), Var(v=0.1831, grad=-1.5773), Var(v=0.0951, grad=0.0000), Var(v=-0.0498, grad=2.3156), Var(v=0.0389, grad=0.0000), Var(v=-0.0083, grad=0.6372), Var(v=-0.0247, grad=1.2672), Var(v=0.0208, grad=-1.6015), Var(v=0.0254, grad=0.0000), Var(v=-0.2691, grad=-1.6720), Var(v=0.1706, grad=-0.7455), Var(v=0.0440, grad=0.0000), Var(v=0.0557, grad=0.0000), Var(v=0.1644, grad=0.0000), Var(v=-0.0628, grad=-2.7656), Var(v=-0.1143, grad=0.0000), Var(v=-0.0021, grad=0.0000), Var(v=0.0436, grad=0.0000), Var(v=0.0261, grad=0.0000), Var(v=0.1253, grad=-0.1486), Var(v=-0.0122, grad=0.0000), Var(v=-0.1217, grad=0.0000), Var(v=0.2625, grad=0.8776), Var(v=-0.0765, grad=-0.1877), Var(v=0.0223, grad=0.7585), Var(v=-0.0814, grad=0.0000), Var(v=0.1295, grad=0.0000), Var(v=0.0748, grad=0.0000), Var(v=0.0427, grad=1.4120), Var(v=0.0010, grad=-0.3903), Var(v=-0.0415, grad=-2.2902), Var(v=-0.0180, grad=-0.1638), Var(v=0.0804, grad=0.2342), Var(v=-0.0636, grad=0.0000), Var(v=0.1055, grad=0.0000), Var(v=-0.0410, grad=0.0000), Var(v=0.1702, grad=2.1576), Var(v=0.1618, grad=-0.8647), Var(v=0.0233, grad=0.0000), Var(v=-0.1842, grad=-1.5737), Var(v=0.0576, grad=0.0254), Var(v=-0.1506, grad=1.1911), Var(v=0.0625, grad=0.5752)], [Var(v=0.1475, grad=-0.0962), Var(v=-0.0376, grad=-0.0749), Var(v=0.1808, grad=0.0820), Var(v=-0.0305, grad=0.2205), Var(v=-0.0775, grad=0.2192), Var(v=0.1147, grad=0.0000), Var(v=0.0273, grad=-0.4721), Var(v=-0.0859, grad=0.0000), Var(v=-0.0526, grad=0.4915), Var(v=-0.0819, grad=0.0000), Var(v=-0.1204, grad=0.0000), Var(v=0.1168, grad=-0.0319), Var(v=0.1029, grad=-0.1986), Var(v=-0.0733, grad=0.0000), Var(v=-0.0451, grad=0.4990), Var(v=-0.1094, grad=0.0000), Var(v=-0.0049, grad=0.5210), Var(v=-0.0361, grad=0.0000), Var(v=0.0511, grad=0.0000), Var(v=0.0172, grad=-0.0404), Var(v=0.0234, grad=0.0000), Var(v=-0.1456, grad=0.0000), Var(v=-0.0114, grad=0.1710), Var(v=0.0265, grad=0.0000), Var(v=-0.1784, grad=0.0000), Var(v=-0.0265, grad=0.0000), Var(v=0.1514, grad=0.0463), Var(v=-0.0607, grad=0.0000), Var(v=0.0982, grad=0.0000), Var(v=-0.0649, grad=-0.2734), Var(v=0.0337, grad=0.0000), Var(v=0.1030, grad=-0.2364), Var(v=-0.0542, grad=0.0054), Var(v=-0.0899, grad=-0.1648), Var(v=-0.0364, grad=0.0000), Var(v=0.0408, grad=0.0000), Var(v=0.0480, grad=0.1216), Var(v=0.0649, grad=0.7136), Var(v=0.0377, grad=0.0000), Var(v=-0.0152, grad=0.0000), Var(v=-0.0072, grad=0.0000), Var(v=0.1679, grad=0.0000), Var(v=-0.0160, grad=0.3761), Var(v=-0.1417, grad=0.0000), Var(v=0.0754, grad=0.2694), Var(v=0.1615, grad=0.3041), Var(v=0.1095, grad=0.0000), Var(v=-0.1958, grad=0.0000), Var(v=0.0211, grad=-0.3712), Var(v=0.1023, grad=-0.1792)], [Var(v=-0.1083, grad=-0.2467), Var(v=0.1264, grad=-0.1921), Var(v=0.1126, grad=0.2103), Var(v=-0.2497, grad=0.5655), Var(v=-0.0365, grad=0.5622), Var(v=-0.0716, grad=0.0000), Var(v=0.2164, grad=-1.2110), Var(v=-0.0199, grad=0.0000), Var(v=0.0405, grad=1.2607), Var(v=-0.0950, grad=0.0000), Var(v=-0.2451, grad=0.0000), Var(v=0.0583, grad=-0.0819), Var(v=0.1244, grad=-0.5093), Var(v=0.0590, grad=0.0000), Var(v=0.1420, grad=1.2800), Var(v=-0.0206, grad=0.0000), Var(v=0.0481, grad=1.3363), Var(v=-0.0501, grad=0.0000), Var(v=0.0869, grad=0.0000), Var(v=0.0912, grad=-0.1036), Var(v=-0.1671, grad=0.0000), Var(v=-0.1074, grad=0.0000), Var(v=-0.1795, grad=0.4385), Var(v=0.0104, grad=0.0000), Var(v=-0.0560, grad=0.0000), Var(v=-0.0162, grad=0.0000), Var(v=0.0071, grad=0.1188), Var(v=-0.0019, grad=0.0000), Var(v=0.0975, grad=0.0000), Var(v=-0.0624, grad=-0.7014), Var(v=0.0941, grad=0.0000), Var(v=-0.0718, grad=-0.6062), Var(v=0.1507, grad=0.0139), Var(v=-0.0048, grad=-0.4228), Var(v=0.1067, grad=0.0000), Var(v=0.0597, grad=0.0000), Var(v=0.1043, grad=0.3119), Var(v=0.0252, grad=1.8304), Var(v=-0.2198, grad=0.0000), Var(v=-0.2255, grad=0.0000), Var(v=-0.1899, grad=0.0000), Var(v=-0.0272, grad=0.0000), Var(v=-0.0000, grad=0.9647), Var(v=-0.0276, grad=0.0000), Var(v=0.0121, grad=0.6911), Var(v=0.0133, grad=0.7801), Var(v=0.1192, grad=0.0000), Var(v=-0.0746, grad=0.0000), Var(v=0.0428, grad=-0.9520), Var(v=-0.0008, grad=-0.4597)], [Var(v=0.1827, grad=-0.4350), Var(v=-0.1010, grad=-0.3388), Var(v=0.1645, grad=0.3709), Var(v=-0.0887, grad=0.9972), Var(v=0.0286, grad=0.9915), Var(v=-0.0149, grad=0.0000), Var(v=0.0551, grad=-2.1356), Var(v=0.1069, grad=0.0000), Var(v=-0.1505, grad=2.2232), Var(v=-0.1411, grad=0.0000), Var(v=0.0074, grad=0.0000), Var(v=-0.0118, grad=-0.1444), Var(v=-0.0387, grad=-0.8982), Var(v=0.0700, grad=0.0000), Var(v=0.1224, grad=2.2573), Var(v=-0.2846, grad=0.0000), Var(v=0.0842, grad=2.3567), Var(v=0.1401, grad=0.0000), Var(v=0.0256, grad=0.0000), Var(v=-0.1197, grad=-0.1828), Var(v=-0.1431, grad=0.0000), Var(v=0.0692, grad=0.0000), Var(v=-0.0198, grad=0.7734), Var(v=0.0216, grad=0.0000), Var(v=-0.0985, grad=0.0000), Var(v=0.1642, grad=0.0000), Var(v=0.0604, grad=0.2094), Var(v=-0.0607, grad=0.0000), Var(v=-0.0076, grad=0.0000), Var(v=0.1476, grad=-1.2369), Var(v=-0.1272, grad=0.0000), Var(v=0.0125, grad=-1.0691), Var(v=-0.0061, grad=0.0245), Var(v=0.2457, grad=-0.7456), Var(v=-0.0616, grad=0.0000), Var(v=-0.0829, grad=0.0000), Var(v=0.0360, grad=0.5501), Var(v=0.0717, grad=3.2279), Var(v=0.0124, grad=0.0000), Var(v=-0.1716, grad=0.0000), Var(v=-0.1566, grad=0.0000), Var(v=-0.2711, grad=0.0000), Var(v=0.0314, grad=1.7013), Var(v=-0.1659, grad=0.0000), Var(v=0.1010, grad=1.2188), Var(v=0.0408, grad=1.3757), Var(v=-0.0792, grad=0.0000), Var(v=0.0134, grad=0.0000), Var(v=-0.0896, grad=-1.6788), Var(v=-0.0999, grad=-0.8108)], [Var(v=-0.0308, grad=0.0000), Var(v=0.0262, grad=0.0975), Var(v=-0.1596, grad=0.0000), Var(v=-0.0137, grad=-0.2869), Var(v=-0.0804, grad=0.0000), Var(v=-0.0689, grad=0.0000), Var(v=0.1177, grad=0.0000), Var(v=0.1024, grad=0.4872), Var(v=0.1403, grad=-0.6397), Var(v=-0.0098, grad=0.0000), Var(v=-0.0422, grad=0.9391), Var(v=-0.0367, grad=0.0000), Var(v=-0.0626, grad=0.2584), Var(v=-0.1435, grad=0.5140), Var(v=0.1734, grad=-0.6495), Var(v=0.2648, grad=0.0000), Var(v=0.1379, grad=-0.6781), Var(v=0.0844, grad=-0.3023), Var(v=0.0858, grad=0.0000), Var(v=-0.0268, grad=0.0000), Var(v=-0.0953, grad=0.0000), Var(v=0.0657, grad=-1.1216), Var(v=-0.1964, grad=0.0000), Var(v=-0.1148, grad=0.0000), Var(v=0.0221, grad=0.0000), Var(v=0.0995, grad=0.0000), Var(v=0.0148, grad=-0.0603), Var(v=0.0883, grad=0.0000), Var(v=-0.0578, grad=0.0000), Var(v=0.0742, grad=0.3559), Var(v=0.1114, grad=-0.0761), Var(v=0.0182, grad=0.3076), Var(v=-0.0403, grad=0.0000), Var(v=0.0166, grad=0.0000), Var(v=0.0163, grad=0.0000), Var(v=0.2033, grad=0.5727), Var(v=0.0149, grad=-0.1583), Var(v=0.0883, grad=-0.9288), Var(v=-0.0361, grad=-0.0665), Var(v=0.0752, grad=0.0950), Var(v=-0.1777, grad=0.0000), Var(v=-0.1349, grad=0.0000), Var(v=-0.1879, grad=0.0000), Var(v=-0.0941, grad=0.8751), Var(v=0.2674, grad=-0.3507), Var(v=-0.0166, grad=0.0000), Var(v=-0.1295, grad=-0.6382), Var(v=-0.1567, grad=0.0103), Var(v=-0.0153, grad=0.4831), Var(v=0.0952, grad=0.2333)]] Biases: [Var(v=0.0258, grad=-2.5812), Var(v=0.0004, grad=-0.0409), Var(v=-0.0220, grad=2.2005), Var(v=-0.0012, grad=0.1203), Var(v=-0.0588, grad=5.8827), Var(v=0.0000, grad=0.0000), Var(v=0.1267, grad=-12.6711), Var(v=-0.0984, grad=9.8425), Var(v=-0.0027, grad=0.2682), Var(v=0.0000, grad=0.0000), Var(v=-0.1897, grad=18.9715), Var(v=0.0086, grad=-0.8569), Var(v=0.0011, grad=-0.1084), Var(v=-0.1038, grad=10.3824), Var(v=-0.0027, grad=0.2724), Var(v=0.0000, grad=0.0000), Var(v=-0.0028, grad=0.2843), Var(v=0.0611, grad=-6.1078), Var(v=0.0000, grad=0.0000), Var(v=0.0108, grad=-1.0844), Var(v=0.0000, grad=0.0000), Var(v=0.2266, grad=-22.6585), Var(v=-0.0459, grad=4.5886), Var(v=0.0000, grad=0.0000), Var(v=0.0000, grad=0.0000), Var(v=0.0000, grad=0.0000), Var(v=-0.0003, grad=0.0253), Var(v=0.0000, grad=0.0000), Var(v=0.0000, grad=0.0000), Var(v=0.0015, grad=-0.1492), Var(v=0.0154, grad=-1.5381), Var(v=0.0013, grad=-0.1290), Var(v=-0.0015, grad=0.1452), Var(v=0.0442, grad=-4.4239), Var(v=0.0000, grad=0.0000), Var(v=-0.1157, grad=11.5685), Var(v=-0.0007, grad=0.0664), Var(v=-0.0039, grad=0.3895), Var(v=0.0134, grad=-1.3424), Var(v=-0.0192, grad=1.9188), Var(v=0.0000, grad=0.0000), Var(v=0.0000, grad=0.0000), Var(v=-0.1009, grad=10.0942), Var(v=-0.1768, grad=17.6772), Var(v=-0.0015, grad=0.1471), Var(v=-0.0816, grad=8.1624), Var(v=0.1289, grad=-12.8928), Var(v=-0.0021, grad=0.2083), Var(v=0.0020, grad=-0.2026), Var(v=0.0010, grad=-0.0978)]\n",
      "Layer 2 \n",
      " Weights: [[Var(v=0.0773, grad=-4.8285)], [Var(v=0.0182, grad=0.4437)], [Var(v=0.0377, grad=-6.2482)], [Var(v=-0.0747, grad=0.8150)], [Var(v=-0.0636, grad=-0.2632)], [Var(v=-0.0554, grad=0.0000)], [Var(v=0.1583, grad=-1.5786)], [Var(v=0.1064, grad=0.6644)], [Var(v=-0.1555, grad=0.7071)], [Var(v=-0.0128, grad=0.0000)], [Var(v=0.2071, grad=1.0740)], [Var(v=0.0504, grad=-4.0760)], [Var(v=0.0611, grad=-0.1096)], [Var(v=0.1052, grad=1.4015)], [Var(v=-0.1174, grad=-3.3282)], [Var(v=-0.1306, grad=0.0000)], [Var(v=-0.1122, grad=-4.5163)], [Var(v=-0.1025, grad=3.2378)], [Var(v=0.0602, grad=0.0000)], [Var(v=0.0203, grad=-0.8071)], [Var(v=0.0859, grad=0.0000)], [Var(v=-0.2700, grad=0.9819)], [Var(v=-0.0483, grad=-0.3303)], [Var(v=-0.1376, grad=0.0000)], [Var(v=0.0038, grad=0.0000)], [Var(v=-0.0949, grad=0.0000)], [Var(v=-0.0217, grad=0.7673)], [Var(v=0.0393, grad=0.0000)], [Var(v=0.0486, grad=0.0000)], [Var(v=0.0640, grad=1.8611)], [Var(v=-0.0509, grad=3.3197)], [Var(v=0.0744, grad=-0.3013)], [Var(v=-0.0008, grad=-0.0833)], [Var(v=0.0928, grad=-4.3013)], [Var(v=0.1484, grad=0.0000)], [Var(v=0.1078, grad=2.5065)], [Var(v=-0.0425, grad=0.5784)], [Var(v=-0.2117, grad=-0.3797)], [Var(v=-0.0393, grad=2.3919)], [Var(v=0.0212, grad=0.0802)], [Var(v=-0.0168, grad=0.0000)], [Var(v=-0.0554, grad=0.0000)], [Var(v=-0.0841, grad=-2.9439)], [Var(v=0.1981, grad=0.4910)], [Var(v=-0.0923, grad=1.0940)], [Var(v=-0.0675, grad=-2.4296)], [Var(v=-0.1575, grad=0.9407)], [Var(v=-0.0493, grad=5.1722)], [Var(v=0.1012, grad=1.0871)], [Var(v=0.0525, grad=0.1618)]] Biases: [Var(v=0.0181, grad=-1.8074)]\n",
      "\n",
      "Network after zeroing gradients:\n",
      "Layer 0 \n",
      " Weights: [[Var(v=0.0767, grad=0.0000), Var(v=-0.1421, grad=0.0000), Var(v=-0.0068, grad=0.0000), Var(v=-0.0535, grad=0.0000), Var(v=-0.0078, grad=0.0000), Var(v=-0.0978, grad=0.0000), Var(v=-0.2502, grad=0.0000), Var(v=0.0968, grad=0.0000), Var(v=0.0154, grad=0.0000), Var(v=0.2017, grad=0.0000), Var(v=0.0139, grad=0.0000), Var(v=0.0268, grad=0.0000), Var(v=0.0765, grad=0.0000), Var(v=0.0862, grad=0.0000), Var(v=-0.1366, grad=0.0000)]] Biases: [Var(v=-0.0763, grad=0.0000), Var(v=0.0639, grad=0.0000), Var(v=-0.0134, grad=0.0000), Var(v=0.0142, grad=0.0000), Var(v=-0.0819, grad=0.0000), Var(v=-0.0427, grad=0.0000), Var(v=0.1237, grad=0.0000), Var(v=-0.0061, grad=0.0000), Var(v=-0.0453, grad=0.0000), Var(v=0.0007, grad=0.0000), Var(v=-0.1135, grad=0.0000), Var(v=-0.0045, grad=0.0000), Var(v=-0.0048, grad=0.0000), Var(v=-0.0503, grad=0.0000), Var(v=0.0832, grad=0.0000)]\n",
      "Layer 1 \n",
      " Weights: [[Var(v=-0.0311, grad=0.0000), Var(v=0.0732, grad=0.0000), Var(v=0.2162, grad=0.0000), Var(v=-0.0725, grad=0.0000), Var(v=-0.1098, grad=0.0000), Var(v=0.0062, grad=0.0000), Var(v=0.2317, grad=0.0000), Var(v=0.0843, grad=0.0000), Var(v=0.0757, grad=0.0000), Var(v=0.0115, grad=0.0000), Var(v=-0.0545, grad=0.0000), Var(v=0.1289, grad=0.0000), Var(v=-0.1080, grad=0.0000), Var(v=-0.0376, grad=0.0000), Var(v=-0.1071, grad=0.0000), Var(v=-0.1547, grad=0.0000), Var(v=0.0367, grad=0.0000), Var(v=0.0489, grad=0.0000), Var(v=-0.1908, grad=0.0000), Var(v=0.0970, grad=0.0000), Var(v=0.1139, grad=0.0000), Var(v=-0.0709, grad=0.0000), Var(v=0.0341, grad=0.0000), Var(v=-0.0751, grad=0.0000), Var(v=0.0455, grad=0.0000), Var(v=-0.0509, grad=0.0000), Var(v=-0.1286, grad=0.0000), Var(v=0.0398, grad=0.0000), Var(v=-0.1586, grad=0.0000), Var(v=-0.1984, grad=0.0000), Var(v=-0.0551, grad=0.0000), Var(v=0.1128, grad=0.0000), Var(v=-0.0895, grad=0.0000), Var(v=0.0677, grad=0.0000), Var(v=-0.0802, grad=0.0000), Var(v=0.2155, grad=0.0000), Var(v=0.0863, grad=0.0000), Var(v=-0.1774, grad=0.0000), Var(v=0.0431, grad=0.0000), Var(v=-0.1151, grad=0.0000), Var(v=0.0072, grad=0.0000), Var(v=-0.1241, grad=0.0000), Var(v=-0.0775, grad=0.0000), Var(v=0.0115, grad=0.0000), Var(v=0.0122, grad=0.0000), Var(v=-0.0278, grad=0.0000), Var(v=-0.0481, grad=0.0000), Var(v=0.0495, grad=0.0000), Var(v=0.0891, grad=0.0000), Var(v=0.0762, grad=0.0000)], [Var(v=0.0319, grad=0.0000), Var(v=0.1139, grad=0.0000), Var(v=0.0895, grad=0.0000), Var(v=0.0788, grad=0.0000), Var(v=0.1570, grad=0.0000), Var(v=-0.0453, grad=0.0000), Var(v=-0.0481, grad=0.0000), Var(v=0.0111, grad=0.0000), Var(v=0.0075, grad=0.0000), Var(v=-0.0495, grad=0.0000), Var(v=0.0222, grad=0.0000), Var(v=-0.1025, grad=0.0000), Var(v=0.0447, grad=0.0000), Var(v=0.0664, grad=0.0000), Var(v=0.0415, grad=0.0000), Var(v=-0.1302, grad=0.0000), Var(v=0.1361, grad=0.0000), Var(v=0.0552, grad=0.0000), Var(v=0.0002, grad=0.0000), Var(v=0.0525, grad=0.0000), Var(v=-0.2012, grad=0.0000), Var(v=0.1059, grad=0.0000), Var(v=0.0507, grad=0.0000), Var(v=-0.1824, grad=0.0000), Var(v=0.1096, grad=0.0000), Var(v=0.0762, grad=0.0000), Var(v=-0.0358, grad=0.0000), Var(v=-0.0602, grad=0.0000), Var(v=-0.0168, grad=0.0000), Var(v=-0.3392, grad=0.0000), Var(v=-0.1291, grad=0.0000), Var(v=-0.0026, grad=0.0000), Var(v=0.1257, grad=0.0000), Var(v=-0.1701, grad=0.0000), Var(v=0.1206, grad=0.0000), Var(v=0.0452, grad=0.0000), Var(v=-0.0998, grad=0.0000), Var(v=0.1582, grad=0.0000), Var(v=0.0976, grad=0.0000), Var(v=0.0527, grad=0.0000), Var(v=-0.0798, grad=0.0000), Var(v=0.0228, grad=0.0000), Var(v=-0.0605, grad=0.0000), Var(v=-0.1613, grad=0.0000), Var(v=0.0225, grad=0.0000), Var(v=0.0280, grad=0.0000), Var(v=-0.1439, grad=0.0000), Var(v=0.1008, grad=0.0000), Var(v=0.0969, grad=0.0000), Var(v=-0.0300, grad=0.0000)], [Var(v=-0.2146, grad=0.0000), Var(v=-0.2041, grad=0.0000), Var(v=-0.2243, grad=0.0000), Var(v=-0.1961, grad=0.0000), Var(v=-0.0035, grad=0.0000), Var(v=-0.0384, grad=0.0000), Var(v=-0.0108, grad=0.0000), Var(v=0.1027, grad=0.0000), Var(v=0.0526, grad=0.0000), Var(v=0.0637, grad=0.0000), Var(v=0.0137, grad=0.0000), Var(v=-0.0490, grad=0.0000), Var(v=0.1518, grad=0.0000), Var(v=-0.1026, grad=0.0000), Var(v=-0.1484, grad=0.0000), Var(v=-0.0446, grad=0.0000), Var(v=0.0641, grad=0.0000), Var(v=0.0782, grad=0.0000), Var(v=0.1097, grad=0.0000), Var(v=0.0977, grad=0.0000), Var(v=-0.0189, grad=0.0000), Var(v=0.0983, grad=0.0000), Var(v=0.1547, grad=0.0000), Var(v=0.0006, grad=0.0000), Var(v=-0.0609, grad=0.0000), Var(v=0.0517, grad=0.0000), Var(v=0.1424, grad=0.0000), Var(v=-0.2123, grad=0.0000), Var(v=-0.0723, grad=0.0000), Var(v=-0.0113, grad=0.0000), Var(v=0.0561, grad=0.0000), Var(v=0.1930, grad=0.0000), Var(v=0.0470, grad=0.0000), Var(v=0.0279, grad=0.0000), Var(v=-0.1138, grad=0.0000), Var(v=0.0021, grad=0.0000), Var(v=0.0181, grad=0.0000), Var(v=-0.0649, grad=0.0000), Var(v=-0.0958, grad=0.0000), Var(v=0.0419, grad=0.0000), Var(v=-0.0218, grad=0.0000), Var(v=-0.2762, grad=0.0000), Var(v=-0.1108, grad=0.0000), Var(v=-0.0987, grad=0.0000), Var(v=-0.1264, grad=0.0000), Var(v=-0.0261, grad=0.0000), Var(v=0.1158, grad=0.0000), Var(v=-0.0481, grad=0.0000), Var(v=0.1017, grad=0.0000), Var(v=0.0697, grad=0.0000)], [Var(v=-0.1877, grad=0.0000), Var(v=0.1626, grad=0.0000), Var(v=-0.1683, grad=0.0000), Var(v=0.0722, grad=0.0000), Var(v=0.1635, grad=0.0000), Var(v=-0.1288, grad=0.0000), Var(v=-0.1080, grad=0.0000), Var(v=0.0548, grad=0.0000), Var(v=0.0060, grad=0.0000), Var(v=0.1697, grad=0.0000), Var(v=0.0339, grad=0.0000), Var(v=0.1023, grad=0.0000), Var(v=-0.0237, grad=0.0000), Var(v=0.0933, grad=0.0000), Var(v=0.0565, grad=0.0000), Var(v=-0.0525, grad=0.0000), Var(v=-0.0276, grad=0.0000), Var(v=0.1669, grad=0.0000), Var(v=-0.1065, grad=0.0000), Var(v=-0.0287, grad=0.0000), Var(v=0.0349, grad=0.0000), Var(v=0.0451, grad=0.0000), Var(v=0.1557, grad=0.0000), Var(v=-0.1518, grad=0.0000), Var(v=-0.0795, grad=0.0000), Var(v=-0.1358, grad=0.0000), Var(v=0.0878, grad=0.0000), Var(v=-0.1520, grad=0.0000), Var(v=-0.0300, grad=0.0000), Var(v=0.0507, grad=0.0000), Var(v=-0.0481, grad=0.0000), Var(v=0.0308, grad=0.0000), Var(v=0.0467, grad=0.0000), Var(v=0.0129, grad=0.0000), Var(v=-0.0307, grad=0.0000), Var(v=0.0245, grad=0.0000), Var(v=0.1712, grad=0.0000), Var(v=0.0388, grad=0.0000), Var(v=0.1379, grad=0.0000), Var(v=-0.0938, grad=0.0000), Var(v=0.1041, grad=0.0000), Var(v=-0.1261, grad=0.0000), Var(v=-0.2153, grad=0.0000), Var(v=-0.0326, grad=0.0000), Var(v=0.0061, grad=0.0000), Var(v=0.0479, grad=0.0000), Var(v=-0.0015, grad=0.0000), Var(v=-0.0183, grad=0.0000), Var(v=-0.0909, grad=0.0000), Var(v=0.0478, grad=0.0000)], [Var(v=0.0106, grad=0.0000), Var(v=0.0209, grad=0.0000), Var(v=0.0500, grad=0.0000), Var(v=0.1765, grad=0.0000), Var(v=0.0112, grad=0.0000), Var(v=-0.1619, grad=0.0000), Var(v=-0.2063, grad=0.0000), Var(v=-0.0718, grad=0.0000), Var(v=0.0733, grad=0.0000), Var(v=-0.0957, grad=0.0000), Var(v=-0.0419, grad=0.0000), Var(v=0.0050, grad=0.0000), Var(v=0.0100, grad=0.0000), Var(v=0.1983, grad=0.0000), Var(v=0.0433, grad=0.0000), Var(v=0.1234, grad=0.0000), Var(v=0.0094, grad=0.0000), Var(v=0.0968, grad=0.0000), Var(v=0.0006, grad=0.0000), Var(v=0.1679, grad=0.0000), Var(v=0.1027, grad=0.0000), Var(v=-0.0500, grad=0.0000), Var(v=0.0838, grad=0.0000), Var(v=-0.0513, grad=0.0000), Var(v=-0.2200, grad=0.0000), Var(v=-0.0444, grad=0.0000), Var(v=-0.0991, grad=0.0000), Var(v=0.1434, grad=0.0000), Var(v=-0.2314, grad=0.0000), Var(v=-0.0177, grad=0.0000), Var(v=0.1080, grad=0.0000), Var(v=-0.0003, grad=0.0000), Var(v=0.0403, grad=0.0000), Var(v=0.1468, grad=0.0000), Var(v=0.0362, grad=0.0000), Var(v=0.0044, grad=0.0000), Var(v=0.0162, grad=0.0000), Var(v=-0.0093, grad=0.0000), Var(v=-0.0800, grad=0.0000), Var(v=-0.0112, grad=0.0000), Var(v=0.1110, grad=0.0000), Var(v=-0.0072, grad=0.0000), Var(v=0.1270, grad=0.0000), Var(v=0.0301, grad=0.0000), Var(v=-0.0911, grad=0.0000), Var(v=0.0561, grad=0.0000), Var(v=-0.1477, grad=0.0000), Var(v=0.1092, grad=0.0000), Var(v=-0.0572, grad=0.0000), Var(v=0.0011, grad=0.0000)], [Var(v=0.0057, grad=0.0000), Var(v=0.0511, grad=0.0000), Var(v=0.0490, grad=0.0000), Var(v=0.0893, grad=0.0000), Var(v=-0.0299, grad=0.0000), Var(v=-0.0699, grad=0.0000), Var(v=-0.0271, grad=0.0000), Var(v=-0.0378, grad=0.0000), Var(v=-0.0676, grad=0.0000), Var(v=-0.0876, grad=0.0000), Var(v=-0.0051, grad=0.0000), Var(v=0.0372, grad=0.0000), Var(v=0.1608, grad=0.0000), Var(v=0.0199, grad=0.0000), Var(v=-0.0549, grad=0.0000), Var(v=-0.1769, grad=0.0000), Var(v=0.1663, grad=0.0000), Var(v=-0.0354, grad=0.0000), Var(v=-0.0512, grad=0.0000), Var(v=-0.1070, grad=0.0000), Var(v=-0.1362, grad=0.0000), Var(v=-0.0306, grad=0.0000), Var(v=-0.1016, grad=0.0000), Var(v=-0.1095, grad=0.0000), Var(v=-0.1048, grad=0.0000), Var(v=-0.0779, grad=0.0000), Var(v=-0.0495, grad=0.0000), Var(v=-0.0563, grad=0.0000), Var(v=0.2068, grad=0.0000), Var(v=0.1282, grad=0.0000), Var(v=0.3347, grad=0.0000), Var(v=-0.0724, grad=0.0000), Var(v=0.0469, grad=0.0000), Var(v=-0.0265, grad=0.0000), Var(v=-0.1950, grad=0.0000), Var(v=-0.0274, grad=0.0000), Var(v=0.0063, grad=0.0000), Var(v=0.1051, grad=0.0000), Var(v=-0.0079, grad=0.0000), Var(v=-0.0735, grad=0.0000), Var(v=-0.1153, grad=0.0000), Var(v=-0.1432, grad=0.0000), Var(v=-0.1652, grad=0.0000), Var(v=0.0910, grad=0.0000), Var(v=0.0894, grad=0.0000), Var(v=0.0522, grad=0.0000), Var(v=0.1350, grad=0.0000), Var(v=0.2455, grad=0.0000), Var(v=0.2240, grad=0.0000), Var(v=0.0289, grad=0.0000)], [Var(v=-0.0281, grad=0.0000), Var(v=-0.0383, grad=0.0000), Var(v=-0.0683, grad=0.0000), Var(v=0.0594, grad=0.0000), Var(v=-0.1178, grad=0.0000), Var(v=0.1413, grad=0.0000), Var(v=0.0127, grad=0.0000), Var(v=-0.1242, grad=0.0000), Var(v=0.0108, grad=0.0000), Var(v=-0.0535, grad=0.0000), Var(v=-0.0248, grad=0.0000), Var(v=-0.0579, grad=0.0000), Var(v=0.0095, grad=0.0000), Var(v=0.0897, grad=0.0000), Var(v=0.0757, grad=0.0000), Var(v=0.0343, grad=0.0000), Var(v=0.0676, grad=0.0000), Var(v=0.0677, grad=0.0000), Var(v=-0.0260, grad=0.0000), Var(v=-0.0319, grad=0.0000), Var(v=-0.1049, grad=0.0000), Var(v=0.1924, grad=0.0000), Var(v=-0.1019, grad=0.0000), Var(v=-0.1460, grad=0.0000), Var(v=-0.1010, grad=0.0000), Var(v=-0.1509, grad=0.0000), Var(v=0.0157, grad=0.0000), Var(v=0.1462, grad=0.0000), Var(v=-0.1156, grad=0.0000), Var(v=-0.0749, grad=0.0000), Var(v=0.0250, grad=0.0000), Var(v=0.0151, grad=0.0000), Var(v=-0.0505, grad=0.0000), Var(v=0.0250, grad=0.0000), Var(v=-0.1405, grad=0.0000), Var(v=0.0361, grad=0.0000), Var(v=0.2186, grad=0.0000), Var(v=-0.0130, grad=0.0000), Var(v=0.1626, grad=0.0000), Var(v=-0.0060, grad=0.0000), Var(v=0.0377, grad=0.0000), Var(v=-0.1187, grad=0.0000), Var(v=0.0783, grad=0.0000), Var(v=-0.1526, grad=0.0000), Var(v=0.0888, grad=0.0000), Var(v=-0.1625, grad=0.0000), Var(v=0.2996, grad=0.0000), Var(v=0.0952, grad=0.0000), Var(v=-0.0474, grad=0.0000), Var(v=0.0627, grad=0.0000)], [Var(v=0.0110, grad=0.0000), Var(v=0.0134, grad=0.0000), Var(v=0.0543, grad=0.0000), Var(v=0.0201, grad=0.0000), Var(v=0.2372, grad=0.0000), Var(v=-0.0585, grad=0.0000), Var(v=0.0469, grad=0.0000), Var(v=-0.1727, grad=0.0000), Var(v=0.0580, grad=0.0000), Var(v=-0.0296, grad=0.0000), Var(v=0.0039, grad=0.0000), Var(v=0.1499, grad=0.0000), Var(v=0.1243, grad=0.0000), Var(v=-0.2008, grad=0.0000), Var(v=-0.0827, grad=0.0000), Var(v=-0.0339, grad=0.0000), Var(v=0.0785, grad=0.0000), Var(v=-0.0009, grad=0.0000), Var(v=-0.0153, grad=0.0000), Var(v=-0.0179, grad=0.0000), Var(v=0.0565, grad=0.0000), Var(v=0.0778, grad=0.0000), Var(v=0.0438, grad=0.0000), Var(v=0.0678, grad=0.0000), Var(v=0.0877, grad=0.0000), Var(v=0.0512, grad=0.0000), Var(v=-0.0929, grad=0.0000), Var(v=-0.0613, grad=0.0000), Var(v=-0.0139, grad=0.0000), Var(v=0.0413, grad=0.0000), Var(v=0.0213, grad=0.0000), Var(v=0.0640, grad=0.0000), Var(v=0.0798, grad=0.0000), Var(v=0.0308, grad=0.0000), Var(v=-0.1423, grad=0.0000), Var(v=0.0357, grad=0.0000), Var(v=0.0193, grad=0.0000), Var(v=-0.0826, grad=0.0000), Var(v=-0.1290, grad=0.0000), Var(v=-0.0532, grad=0.0000), Var(v=-0.0806, grad=0.0000), Var(v=-0.0474, grad=0.0000), Var(v=-0.0269, grad=0.0000), Var(v=0.0735, grad=0.0000), Var(v=0.0790, grad=0.0000), Var(v=-0.0070, grad=0.0000), Var(v=-0.0631, grad=0.0000), Var(v=-0.0262, grad=0.0000), Var(v=-0.0095, grad=0.0000), Var(v=0.0967, grad=0.0000)], [Var(v=0.0999, grad=0.0000), Var(v=-0.1357, grad=0.0000), Var(v=0.2639, grad=0.0000), Var(v=0.0108, grad=0.0000), Var(v=0.0553, grad=0.0000), Var(v=-0.1836, grad=0.0000), Var(v=0.0160, grad=0.0000), Var(v=0.0434, grad=0.0000), Var(v=0.0088, grad=0.0000), Var(v=-0.0026, grad=0.0000), Var(v=0.2210, grad=0.0000), Var(v=-0.0269, grad=0.0000), Var(v=-0.0641, grad=0.0000), Var(v=-0.0457, grad=0.0000), Var(v=0.0302, grad=0.0000), Var(v=-0.0674, grad=0.0000), Var(v=-0.1535, grad=0.0000), Var(v=-0.0010, grad=0.0000), Var(v=-0.1587, grad=0.0000), Var(v=0.1554, grad=0.0000), Var(v=0.1119, grad=0.0000), Var(v=-0.0020, grad=0.0000), Var(v=-0.0090, grad=0.0000), Var(v=0.1101, grad=0.0000), Var(v=0.0398, grad=0.0000), Var(v=-0.0501, grad=0.0000), Var(v=0.0761, grad=0.0000), Var(v=-0.0794, grad=0.0000), Var(v=-0.2457, grad=0.0000), Var(v=0.0133, grad=0.0000), Var(v=-0.0564, grad=0.0000), Var(v=-0.0298, grad=0.0000), Var(v=-0.1380, grad=0.0000), Var(v=-0.1338, grad=0.0000), Var(v=0.0539, grad=0.0000), Var(v=-0.0247, grad=0.0000), Var(v=-0.0186, grad=0.0000), Var(v=0.0011, grad=0.0000), Var(v=0.0444, grad=0.0000), Var(v=-0.0476, grad=0.0000), Var(v=-0.1049, grad=0.0000), Var(v=0.0535, grad=0.0000), Var(v=-0.0752, grad=0.0000), Var(v=-0.0419, grad=0.0000), Var(v=-0.0138, grad=0.0000), Var(v=0.0574, grad=0.0000), Var(v=-0.0398, grad=0.0000), Var(v=0.0655, grad=0.0000), Var(v=-0.0193, grad=0.0000), Var(v=-0.1948, grad=0.0000)], [Var(v=0.1241, grad=0.0000), Var(v=0.0838, grad=0.0000), Var(v=0.0461, grad=0.0000), Var(v=0.0899, grad=0.0000), Var(v=-0.1380, grad=0.0000), Var(v=-0.0447, grad=0.0000), Var(v=0.0734, grad=0.0000), Var(v=-0.0121, grad=0.0000), Var(v=-0.0038, grad=0.0000), Var(v=-0.2450, grad=0.0000), Var(v=-0.0391, grad=0.0000), Var(v=0.0868, grad=0.0000), Var(v=0.0463, grad=0.0000), Var(v=-0.1139, grad=0.0000), Var(v=-0.0009, grad=0.0000), Var(v=-0.0859, grad=0.0000), Var(v=0.0437, grad=0.0000), Var(v=-0.1732, grad=0.0000), Var(v=-0.1379, grad=0.0000), Var(v=0.0266, grad=0.0000), Var(v=-0.1187, grad=0.0000), Var(v=-0.0026, grad=0.0000), Var(v=0.0228, grad=0.0000), Var(v=-0.1129, grad=0.0000), Var(v=0.1023, grad=0.0000), Var(v=-0.1274, grad=0.0000), Var(v=0.0417, grad=0.0000), Var(v=-0.1711, grad=0.0000), Var(v=-0.0038, grad=0.0000), Var(v=-0.0292, grad=0.0000), Var(v=-0.0338, grad=0.0000), Var(v=0.0329, grad=0.0000), Var(v=-0.1041, grad=0.0000), Var(v=-0.0113, grad=0.0000), Var(v=-0.2792, grad=0.0000), Var(v=-0.0582, grad=0.0000), Var(v=-0.0255, grad=0.0000), Var(v=-0.0510, grad=0.0000), Var(v=0.0017, grad=0.0000), Var(v=0.0009, grad=0.0000), Var(v=-0.0440, grad=0.0000), Var(v=-0.1266, grad=0.0000), Var(v=0.0288, grad=0.0000), Var(v=-0.1266, grad=0.0000), Var(v=0.0382, grad=0.0000), Var(v=-0.0059, grad=0.0000), Var(v=0.0046, grad=0.0000), Var(v=-0.1734, grad=0.0000), Var(v=0.1704, grad=0.0000), Var(v=0.1166, grad=0.0000)], [Var(v=-0.0451, grad=0.0000), Var(v=0.0630, grad=0.0000), Var(v=-0.0514, grad=0.0000), Var(v=-0.0276, grad=0.0000), Var(v=-0.0637, grad=0.0000), Var(v=0.0896, grad=0.0000), Var(v=-0.1415, grad=0.0000), Var(v=0.0780, grad=0.0000), Var(v=0.1831, grad=0.0000), Var(v=0.0951, grad=0.0000), Var(v=-0.0498, grad=0.0000), Var(v=0.0389, grad=0.0000), Var(v=-0.0083, grad=0.0000), Var(v=-0.0247, grad=0.0000), Var(v=0.0208, grad=0.0000), Var(v=0.0254, grad=0.0000), Var(v=-0.2691, grad=0.0000), Var(v=0.1706, grad=0.0000), Var(v=0.0440, grad=0.0000), Var(v=0.0557, grad=0.0000), Var(v=0.1644, grad=0.0000), Var(v=-0.0628, grad=0.0000), Var(v=-0.1143, grad=0.0000), Var(v=-0.0021, grad=0.0000), Var(v=0.0436, grad=0.0000), Var(v=0.0261, grad=0.0000), Var(v=0.1253, grad=0.0000), Var(v=-0.0122, grad=0.0000), Var(v=-0.1217, grad=0.0000), Var(v=0.2625, grad=0.0000), Var(v=-0.0765, grad=0.0000), Var(v=0.0223, grad=0.0000), Var(v=-0.0814, grad=0.0000), Var(v=0.1295, grad=0.0000), Var(v=0.0748, grad=0.0000), Var(v=0.0427, grad=0.0000), Var(v=0.0010, grad=0.0000), Var(v=-0.0415, grad=0.0000), Var(v=-0.0180, grad=0.0000), Var(v=0.0804, grad=0.0000), Var(v=-0.0636, grad=0.0000), Var(v=0.1055, grad=0.0000), Var(v=-0.0410, grad=0.0000), Var(v=0.1702, grad=0.0000), Var(v=0.1618, grad=0.0000), Var(v=0.0233, grad=0.0000), Var(v=-0.1842, grad=0.0000), Var(v=0.0576, grad=0.0000), Var(v=-0.1506, grad=0.0000), Var(v=0.0625, grad=0.0000)], [Var(v=0.1475, grad=0.0000), Var(v=-0.0376, grad=0.0000), Var(v=0.1808, grad=0.0000), Var(v=-0.0305, grad=0.0000), Var(v=-0.0775, grad=0.0000), Var(v=0.1147, grad=0.0000), Var(v=0.0273, grad=0.0000), Var(v=-0.0859, grad=0.0000), Var(v=-0.0526, grad=0.0000), Var(v=-0.0819, grad=0.0000), Var(v=-0.1204, grad=0.0000), Var(v=0.1168, grad=0.0000), Var(v=0.1029, grad=0.0000), Var(v=-0.0733, grad=0.0000), Var(v=-0.0451, grad=0.0000), Var(v=-0.1094, grad=0.0000), Var(v=-0.0049, grad=0.0000), Var(v=-0.0361, grad=0.0000), Var(v=0.0511, grad=0.0000), Var(v=0.0172, grad=0.0000), Var(v=0.0234, grad=0.0000), Var(v=-0.1456, grad=0.0000), Var(v=-0.0114, grad=0.0000), Var(v=0.0265, grad=0.0000), Var(v=-0.1784, grad=0.0000), Var(v=-0.0265, grad=0.0000), Var(v=0.1514, grad=0.0000), Var(v=-0.0607, grad=0.0000), Var(v=0.0982, grad=0.0000), Var(v=-0.0649, grad=0.0000), Var(v=0.0337, grad=0.0000), Var(v=0.1030, grad=0.0000), Var(v=-0.0542, grad=0.0000), Var(v=-0.0899, grad=0.0000), Var(v=-0.0364, grad=0.0000), Var(v=0.0408, grad=0.0000), Var(v=0.0480, grad=0.0000), Var(v=0.0649, grad=0.0000), Var(v=0.0377, grad=0.0000), Var(v=-0.0152, grad=0.0000), Var(v=-0.0072, grad=0.0000), Var(v=0.1679, grad=0.0000), Var(v=-0.0160, grad=0.0000), Var(v=-0.1417, grad=0.0000), Var(v=0.0754, grad=0.0000), Var(v=0.1615, grad=0.0000), Var(v=0.1095, grad=0.0000), Var(v=-0.1958, grad=0.0000), Var(v=0.0211, grad=0.0000), Var(v=0.1023, grad=0.0000)], [Var(v=-0.1083, grad=0.0000), Var(v=0.1264, grad=0.0000), Var(v=0.1126, grad=0.0000), Var(v=-0.2497, grad=0.0000), Var(v=-0.0365, grad=0.0000), Var(v=-0.0716, grad=0.0000), Var(v=0.2164, grad=0.0000), Var(v=-0.0199, grad=0.0000), Var(v=0.0405, grad=0.0000), Var(v=-0.0950, grad=0.0000), Var(v=-0.2451, grad=0.0000), Var(v=0.0583, grad=0.0000), Var(v=0.1244, grad=0.0000), Var(v=0.0590, grad=0.0000), Var(v=0.1420, grad=0.0000), Var(v=-0.0206, grad=0.0000), Var(v=0.0481, grad=0.0000), Var(v=-0.0501, grad=0.0000), Var(v=0.0869, grad=0.0000), Var(v=0.0912, grad=0.0000), Var(v=-0.1671, grad=0.0000), Var(v=-0.1074, grad=0.0000), Var(v=-0.1795, grad=0.0000), Var(v=0.0104, grad=0.0000), Var(v=-0.0560, grad=0.0000), Var(v=-0.0162, grad=0.0000), Var(v=0.0071, grad=0.0000), Var(v=-0.0019, grad=0.0000), Var(v=0.0975, grad=0.0000), Var(v=-0.0624, grad=0.0000), Var(v=0.0941, grad=0.0000), Var(v=-0.0718, grad=0.0000), Var(v=0.1507, grad=0.0000), Var(v=-0.0048, grad=0.0000), Var(v=0.1067, grad=0.0000), Var(v=0.0597, grad=0.0000), Var(v=0.1043, grad=0.0000), Var(v=0.0252, grad=0.0000), Var(v=-0.2198, grad=0.0000), Var(v=-0.2255, grad=0.0000), Var(v=-0.1899, grad=0.0000), Var(v=-0.0272, grad=0.0000), Var(v=-0.0000, grad=0.0000), Var(v=-0.0276, grad=0.0000), Var(v=0.0121, grad=0.0000), Var(v=0.0133, grad=0.0000), Var(v=0.1192, grad=0.0000), Var(v=-0.0746, grad=0.0000), Var(v=0.0428, grad=0.0000), Var(v=-0.0008, grad=0.0000)], [Var(v=0.1827, grad=0.0000), Var(v=-0.1010, grad=0.0000), Var(v=0.1645, grad=0.0000), Var(v=-0.0887, grad=0.0000), Var(v=0.0286, grad=0.0000), Var(v=-0.0149, grad=0.0000), Var(v=0.0551, grad=0.0000), Var(v=0.1069, grad=0.0000), Var(v=-0.1505, grad=0.0000), Var(v=-0.1411, grad=0.0000), Var(v=0.0074, grad=0.0000), Var(v=-0.0118, grad=0.0000), Var(v=-0.0387, grad=0.0000), Var(v=0.0700, grad=0.0000), Var(v=0.1224, grad=0.0000), Var(v=-0.2846, grad=0.0000), Var(v=0.0842, grad=0.0000), Var(v=0.1401, grad=0.0000), Var(v=0.0256, grad=0.0000), Var(v=-0.1197, grad=0.0000), Var(v=-0.1431, grad=0.0000), Var(v=0.0692, grad=0.0000), Var(v=-0.0198, grad=0.0000), Var(v=0.0216, grad=0.0000), Var(v=-0.0985, grad=0.0000), Var(v=0.1642, grad=0.0000), Var(v=0.0604, grad=0.0000), Var(v=-0.0607, grad=0.0000), Var(v=-0.0076, grad=0.0000), Var(v=0.1476, grad=0.0000), Var(v=-0.1272, grad=0.0000), Var(v=0.0125, grad=0.0000), Var(v=-0.0061, grad=0.0000), Var(v=0.2457, grad=0.0000), Var(v=-0.0616, grad=0.0000), Var(v=-0.0829, grad=0.0000), Var(v=0.0360, grad=0.0000), Var(v=0.0717, grad=0.0000), Var(v=0.0124, grad=0.0000), Var(v=-0.1716, grad=0.0000), Var(v=-0.1566, grad=0.0000), Var(v=-0.2711, grad=0.0000), Var(v=0.0314, grad=0.0000), Var(v=-0.1659, grad=0.0000), Var(v=0.1010, grad=0.0000), Var(v=0.0408, grad=0.0000), Var(v=-0.0792, grad=0.0000), Var(v=0.0134, grad=0.0000), Var(v=-0.0896, grad=0.0000), Var(v=-0.0999, grad=0.0000)], [Var(v=-0.0308, grad=0.0000), Var(v=0.0262, grad=0.0000), Var(v=-0.1596, grad=0.0000), Var(v=-0.0137, grad=0.0000), Var(v=-0.0804, grad=0.0000), Var(v=-0.0689, grad=0.0000), Var(v=0.1177, grad=0.0000), Var(v=0.1024, grad=0.0000), Var(v=0.1403, grad=0.0000), Var(v=-0.0098, grad=0.0000), Var(v=-0.0422, grad=0.0000), Var(v=-0.0367, grad=0.0000), Var(v=-0.0626, grad=0.0000), Var(v=-0.1435, grad=0.0000), Var(v=0.1734, grad=0.0000), Var(v=0.2648, grad=0.0000), Var(v=0.1379, grad=0.0000), Var(v=0.0844, grad=0.0000), Var(v=0.0858, grad=0.0000), Var(v=-0.0268, grad=0.0000), Var(v=-0.0953, grad=0.0000), Var(v=0.0657, grad=0.0000), Var(v=-0.1964, grad=0.0000), Var(v=-0.1148, grad=0.0000), Var(v=0.0221, grad=0.0000), Var(v=0.0995, grad=0.0000), Var(v=0.0148, grad=0.0000), Var(v=0.0883, grad=0.0000), Var(v=-0.0578, grad=0.0000), Var(v=0.0742, grad=0.0000), Var(v=0.1114, grad=0.0000), Var(v=0.0182, grad=0.0000), Var(v=-0.0403, grad=0.0000), Var(v=0.0166, grad=0.0000), Var(v=0.0163, grad=0.0000), Var(v=0.2033, grad=0.0000), Var(v=0.0149, grad=0.0000), Var(v=0.0883, grad=0.0000), Var(v=-0.0361, grad=0.0000), Var(v=0.0752, grad=0.0000), Var(v=-0.1777, grad=0.0000), Var(v=-0.1349, grad=0.0000), Var(v=-0.1879, grad=0.0000), Var(v=-0.0941, grad=0.0000), Var(v=0.2674, grad=0.0000), Var(v=-0.0166, grad=0.0000), Var(v=-0.1295, grad=0.0000), Var(v=-0.1567, grad=0.0000), Var(v=-0.0153, grad=0.0000), Var(v=0.0952, grad=0.0000)]] Biases: [Var(v=0.0258, grad=0.0000), Var(v=0.0004, grad=0.0000), Var(v=-0.0220, grad=0.0000), Var(v=-0.0012, grad=0.0000), Var(v=-0.0588, grad=0.0000), Var(v=0.0000, grad=0.0000), Var(v=0.1267, grad=0.0000), Var(v=-0.0984, grad=0.0000), Var(v=-0.0027, grad=0.0000), Var(v=0.0000, grad=0.0000), Var(v=-0.1897, grad=0.0000), Var(v=0.0086, grad=0.0000), Var(v=0.0011, grad=0.0000), Var(v=-0.1038, grad=0.0000), Var(v=-0.0027, grad=0.0000), Var(v=0.0000, grad=0.0000), Var(v=-0.0028, grad=0.0000), Var(v=0.0611, grad=0.0000), Var(v=0.0000, grad=0.0000), Var(v=0.0108, grad=0.0000), Var(v=0.0000, grad=0.0000), Var(v=0.2266, grad=0.0000), Var(v=-0.0459, grad=0.0000), Var(v=0.0000, grad=0.0000), Var(v=0.0000, grad=0.0000), Var(v=0.0000, grad=0.0000), Var(v=-0.0003, grad=0.0000), Var(v=0.0000, grad=0.0000), Var(v=0.0000, grad=0.0000), Var(v=0.0015, grad=0.0000), Var(v=0.0154, grad=0.0000), Var(v=0.0013, grad=0.0000), Var(v=-0.0015, grad=0.0000), Var(v=0.0442, grad=0.0000), Var(v=0.0000, grad=0.0000), Var(v=-0.1157, grad=0.0000), Var(v=-0.0007, grad=0.0000), Var(v=-0.0039, grad=0.0000), Var(v=0.0134, grad=0.0000), Var(v=-0.0192, grad=0.0000), Var(v=0.0000, grad=0.0000), Var(v=0.0000, grad=0.0000), Var(v=-0.1009, grad=0.0000), Var(v=-0.1768, grad=0.0000), Var(v=-0.0015, grad=0.0000), Var(v=-0.0816, grad=0.0000), Var(v=0.1289, grad=0.0000), Var(v=-0.0021, grad=0.0000), Var(v=0.0020, grad=0.0000), Var(v=0.0010, grad=0.0000)]\n",
      "Layer 2 \n",
      " Weights: [[Var(v=0.0773, grad=0.0000)], [Var(v=0.0182, grad=0.0000)], [Var(v=0.0377, grad=0.0000)], [Var(v=-0.0747, grad=0.0000)], [Var(v=-0.0636, grad=0.0000)], [Var(v=-0.0554, grad=0.0000)], [Var(v=0.1583, grad=0.0000)], [Var(v=0.1064, grad=0.0000)], [Var(v=-0.1555, grad=0.0000)], [Var(v=-0.0128, grad=0.0000)], [Var(v=0.2071, grad=0.0000)], [Var(v=0.0504, grad=0.0000)], [Var(v=0.0611, grad=0.0000)], [Var(v=0.1052, grad=0.0000)], [Var(v=-0.1174, grad=0.0000)], [Var(v=-0.1306, grad=0.0000)], [Var(v=-0.1122, grad=0.0000)], [Var(v=-0.1025, grad=0.0000)], [Var(v=0.0602, grad=0.0000)], [Var(v=0.0203, grad=0.0000)], [Var(v=0.0859, grad=0.0000)], [Var(v=-0.2700, grad=0.0000)], [Var(v=-0.0483, grad=0.0000)], [Var(v=-0.1376, grad=0.0000)], [Var(v=0.0038, grad=0.0000)], [Var(v=-0.0949, grad=0.0000)], [Var(v=-0.0217, grad=0.0000)], [Var(v=0.0393, grad=0.0000)], [Var(v=0.0486, grad=0.0000)], [Var(v=0.0640, grad=0.0000)], [Var(v=-0.0509, grad=0.0000)], [Var(v=0.0744, grad=0.0000)], [Var(v=-0.0008, grad=0.0000)], [Var(v=0.0928, grad=0.0000)], [Var(v=0.1484, grad=0.0000)], [Var(v=0.1078, grad=0.0000)], [Var(v=-0.0425, grad=0.0000)], [Var(v=-0.2117, grad=0.0000)], [Var(v=-0.0393, grad=0.0000)], [Var(v=0.0212, grad=0.0000)], [Var(v=-0.0168, grad=0.0000)], [Var(v=-0.0554, grad=0.0000)], [Var(v=-0.0841, grad=0.0000)], [Var(v=0.1981, grad=0.0000)], [Var(v=-0.0923, grad=0.0000)], [Var(v=-0.0675, grad=0.0000)], [Var(v=-0.1575, grad=0.0000)], [Var(v=-0.0493, grad=0.0000)], [Var(v=0.1012, grad=0.0000)], [Var(v=0.0525, grad=0.0000)]] Biases: [Var(v=0.0181, grad=0.0000)]\n"
     ]
    },
    {
     "data": {
      "text/plain": "[None, None, None]"
     },
     "execution_count": 29,
     "metadata": {},
     "output_type": "execute_result"
    }
   ],
   "source": [
    "print('Network before update:')\n",
    "[print('Layer', i, '\\n', NN[i]) for i in range(len(NN))] \n",
    "\n",
    "def parameters(network):\n",
    "  params = []\n",
    "  for layer in range(len(network)):\n",
    "    params += network[layer].parameters()\n",
    "  return params\n",
    "\n",
    "def update_parameters(params, learning_rate=0.01):\n",
    "  for p in params:\n",
    "    p.v -= learning_rate*p.grad\n",
    "\n",
    "def zero_gradients(params):\n",
    "  for p in params:\n",
    "    p.grad = 0.0\n",
    "\n",
    "update_parameters(parameters(NN))\n",
    "\n",
    "print('\\nNetwork after update:')\n",
    "[print('Layer', i, '\\n', NN[i]) for i in range(len(NN))] \n",
    "\n",
    "zero_gradients(parameters(NN))\n",
    "\n",
    "print('\\nNetwork after zeroing gradients:')\n",
    "[print('Layer', i, '\\n', NN[i]) for i in range(len(NN))] "
   ]
  },
  {
   "cell_type": "code",
   "execution_count": 30,
   "metadata": {
    "id": "woWYpdw6FtIO"
   },
   "outputs": [],
   "source": [
    "# Initialize an arbitrary neural network\n",
    "# NN = [\n",
    "#     DenseLayer(1, 8, lambda x: x.relu()),\n",
    "#     DenseLayer(8, 1, lambda x: x.identity())\n",
    "# ]\n",
    "\n",
    "# Recommended hyper-parameters for 3-D:\n",
    "\n",
    "\n",
    "\n",
    "### Notice that, when we switch from tanh to relu activation, we decrease the learning rate. This is due the stability of the gradients \n",
    "## of the activation functions."
   ]
  },
  {
   "cell_type": "code",
   "execution_count": 31,
   "metadata": {
    "id": "mdqaqYBVFtIR"
   },
   "outputs": [],
   "source": [
    "# Initialize training hyperparameters\n",
    "EPOCHS = 200\n",
    "LEARN_R = 2e-3\n",
    "NN = [\n",
    "   DenseLayer(1, 16, lambda x: x.relu()),\n",
    "   DenseLayer(16, 1, lambda x: x.identity())\n",
    "]"
   ]
  },
  {
   "cell_type": "code",
   "execution_count": 32,
   "metadata": {
    "colab": {
     "base_uri": "https://localhost:8080/"
    },
    "id": "5kfg76GMFtIW",
    "outputId": "e30cf68a-31f2-42b4-cc5e-860c297c0f04",
    "scrolled": true
   },
   "outputs": [
    {
     "name": "stdout",
     "output_type": "stream",
     "text": [
      "   0 ( 0.00%) Train loss: 104.215 \t Validation loss: 99.742\n",
      "  10 ( 5.00%) Train loss: 15.131 \t Validation loss: 11.535\n",
      "  20 (10.00%) Train loss: 13.774 \t Validation loss: 10.416\n",
      "  30 (15.00%) Train loss: 13.341 \t Validation loss: 10.059\n",
      "  40 (20.00%) Train loss: 12.944 \t Validation loss: 9.717\n",
      "  50 (25.00%) Train loss: 12.660 \t Validation loss: 9.446\n",
      "  60 (30.00%) Train loss: 12.438 \t Validation loss: 9.249\n",
      "  70 (35.00%) Train loss: 12.264 \t Validation loss: 9.089\n",
      "  80 (40.00%) Train loss: 12.117 \t Validation loss: 8.991\n",
      "  90 (45.00%) Train loss: 12.020 \t Validation loss: 8.914\n",
      " 100 (50.00%) Train loss: 11.971 \t Validation loss: 8.883\n",
      " 110 (55.00%) Train loss: 11.939 \t Validation loss: 8.878\n",
      " 120 (60.00%) Train loss: 11.920 \t Validation loss: 8.890\n",
      " 130 (65.00%) Train loss: 11.910 \t Validation loss: 8.907\n",
      " 140 (70.00%) Train loss: 11.903 \t Validation loss: 8.925\n",
      " 150 (75.00%) Train loss: 11.899 \t Validation loss: 8.939\n",
      " 160 (80.00%) Train loss: 11.896 \t Validation loss: 8.953\n",
      " 170 (85.00%) Train loss: 11.894 \t Validation loss: 8.962\n",
      " 180 (90.00%) Train loss: 11.893 \t Validation loss: 8.969\n",
      " 190 (95.00%) Train loss: 11.891 \t Validation loss: 8.971\n"
     ]
    }
   ],
   "source": [
    "train_loss = []\n",
    "val_loss = []\n",
    "\n",
    "for e in range(EPOCHS):\n",
    "\n",
    "    # Forward pass and loss computation\n",
    "    Loss = squared_loss(y_train, forward(x_train, NN))\n",
    "\n",
    "    # Backward pass\n",
    "    Loss.backward()\n",
    "\n",
    "    # gradient descent update\n",
    "    update_parameters(parameters(NN), LEARN_R)\n",
    "    zero_gradients(parameters(NN))\n",
    "\n",
    "    # Training loss\n",
    "    train_loss.append(Loss.v)\n",
    "\n",
    "    # Validation\n",
    "    Loss_validation = squared_loss(y_validation, forward(x_validation, NN))\n",
    "    val_loss.append(Loss_validation.v)\n",
    "\n",
    "    if e%10==0:\n",
    "        print(\"{:4d}\".format(e),\n",
    "              \"({:5.2f}%)\".format(e/EPOCHS*100),\n",
    "              \"Train loss: {:4.3f} \\t Validation loss: {:4.3f}\".format(train_loss[-1], val_loss[-1]))\n",
    "        \n"
   ]
  },
  {
   "cell_type": "code",
   "execution_count": 33,
   "metadata": {
    "colab": {
     "base_uri": "https://localhost:8080/",
     "height": 265
    },
    "id": "VetyRWFwFtIY",
    "outputId": "344e490d-6d7d-455a-fa6f-88dd11eb957e"
   },
   "outputs": [
    {
     "data": {
      "text/plain": "<Figure size 640x480 with 1 Axes>",
      "image/png": "[encoded data removed]"
     },
     "metadata": {},
     "output_type": "display_data"
    }
   ],
   "source": [
    "plt.plot(range(len(train_loss)), train_loss)\n",
    "plt.plot(range(len(val_loss)), val_loss);"
   ]
  },
  {
   "cell_type": "markdown",
   "metadata": {
    "id": "8OgmIrM9FtIb"
   },
   "source": [
    "# Testing\n",
    "\n",
    "We have kept the calculation of the test error separate in order to emphasize that you should not use the test set in optimization."
   ]
  },
  {
   "cell_type": "code",
   "execution_count": 34,
   "metadata": {
    "id": "HmNi7S-vFtIc"
   },
   "outputs": [],
   "source": [
    "output_test = forward(x_test, NN)"
   ]
  },
  {
   "cell_type": "code",
   "execution_count": 35,
   "metadata": {
    "colab": {
     "base_uri": "https://localhost:8080/",
     "height": 316
    },
    "id": "7mmJOTSEFtIf",
    "outputId": "e3264095-cefe-4aee-893d-bf152438e332"
   },
   "outputs": [
    {
     "name": "stdout",
     "output_type": "stream",
     "text": [
      "Test loss:  9.796\n"
     ]
    },
    {
     "data": {
      "text/plain": "<Figure size 640x480 with 1 Axes>",
      "image/png": "[encoded data removed]"
     },
     "metadata": {},
     "output_type": "display_data"
    }
   ],
   "source": [
    "y_test_np = Var_to_nparray(y_test)\n",
    "plt.scatter(y_test_np, Var_to_nparray(output_test));\n",
    "plt.plot([np.min(y_test_np), np.max(y_test_np)], [np.min(y_test_np), np.max(y_test_np)], color='k');\n",
    "plt.xlabel(\"y\");\n",
    "plt.ylabel(\"$\\hat{y}$\");\n",
    "plt.title(\"Model prediction vs real in the test set, the close to the line the better\")\n",
    "plt.grid(True);\n",
    "plt.axis('equal');\n",
    "plt.tight_layout();\n",
    "\n",
    "Loss_test = squared_loss(y_test, forward(x_test, NN))\n",
    "\n",
    "print(\"Test loss:  {:4.3f}\".format(Loss_test.v))"
   ]
  },
  {
   "cell_type": "code",
   "execution_count": 36,
   "metadata": {
    "colab": {
     "base_uri": "https://localhost:8080/",
     "height": 279
    },
    "id": "ODi0WlmQFtIh",
    "outputId": "d1ab874f-0717-4987-87bf-1f0c7c8e7148"
   },
   "outputs": [
    {
     "data": {
      "text/plain": "<Figure size 640x480 with 1 Axes>",
      "image/png": "[encoded data removed]"
     },
     "metadata": {},
     "output_type": "display_data"
    }
   ],
   "source": [
    "x_test_np = Var_to_nparray(x_test)\n",
    "x_train_np = Var_to_nparray(x_train)\n",
    "y_train_np = Var_to_nparray(y_train)\n",
    "if D1:\n",
    "    plt.scatter(x_train_np, y_train_np, label=\"train data\");\n",
    "    plt.scatter(x_test_np, Var_to_nparray(output_test), label=\"test prediction\");\n",
    "    plt.scatter(x_test_np, y_test_np, label=\"test data\");\n",
    "    plt.legend();\n",
    "    plt.xlabel(\"x\");\n",
    "    plt.ylabel(\"y\");\n",
    "else:\n",
    "    plt.scatter(x_train_np[:,1], y_train, label=\"train data\");\n",
    "    plt.scatter(x_test_np[:,1], Var_to_nparray(output_test), label=\"test data prediction\");\n",
    "    plt.scatter(x_test_np[:,1], y_test_np, label=\"test data\");\n",
    "    plt.legend();\n",
    "    plt.xlabel(\"x\");\n",
    "    plt.ylabel(\"y\");"
   ]
  },
  {
   "cell_type": "markdown",
   "metadata": {
    "id": "zTBAmjsAFtIk"
   },
   "source": [
    "## Exercise l) Show overfitting, underfitting and just right fitting\n",
    "\n",
    "Vary the architecture and other things to show clear signs of overfitting (=training loss significantly lower than test loss) and underfitting (=not fitting enoung to training data so that test performance is also hurt).\n",
    "\n",
    "See also if you can get a good compromise which leads to a low validation loss. \n",
    "\n",
    "For this problem do you see any big difference between validation and test loss? The answer here will probably be no. Discuss cases where it is important to keep the two separate.\n",
    "\n",
    "In cases where we do not know the actual distribution from which the data is drawn we can only find out whether the network has learned to generalise by training it on unseen data.\n"
   ]
  },
  {
   "cell_type": "code",
   "execution_count": 57,
   "outputs": [],
   "source": [
    "def trainPlot(EPOCHS, LEARN_R, NN):\n",
    "\n",
    "    train_loss = []\n",
    "    val_loss = []\n",
    "\n",
    "    for e in range(EPOCHS):\n",
    "\n",
    "        # Forward pass and loss computation\n",
    "        Loss = squared_loss(y_train, forward(x_train, NN))\n",
    "\n",
    "        # Backward pass\n",
    "        Loss.backward()\n",
    "\n",
    "        # gradient descent update\n",
    "        update_parameters(parameters(NN), LEARN_R)\n",
    "        zero_gradients(parameters(NN))\n",
    "\n",
    "        # Training loss\n",
    "        train_loss.append(Loss.v)\n",
    "\n",
    "        # Validation\n",
    "        Loss_validation = squared_loss(y_validation, forward(x_validation, NN))\n",
    "        val_loss.append(Loss_validation.v)\n",
    "\n",
    "        if e % 10 == 0:\n",
    "            print(\"{:4d}\".format(e),\n",
    "                  \"({:5.2f}%)\".format(e / EPOCHS * 100),\n",
    "                  \"Train loss: {:4.3f} \\t Validation loss: {:4.3f}\".format(train_loss[-1], val_loss[-1]))\n",
    "\n",
    "    output_test = forward(x_test, NN)\n",
    "    x_test_np = Var_to_nparray(x_test)\n",
    "    x_train_np = Var_to_nparray(x_train)\n",
    "    y_train_np = Var_to_nparray(y_train)\n",
    "\n",
    "    plt.scatter(x_train_np, y_train_np, label=\"train data\");\n",
    "    plt.scatter(x_test_np, Var_to_nparray(output_test), label=\"test prediction\");\n",
    "    plt.scatter(x_test_np, y_test_np, label=\"test data\");\n",
    "    plt.legend();\n",
    "    plt.xlabel(\"x\");\n",
    "    plt.ylabel(\"y\");\n"
   ],
   "metadata": {
    "collapsed": false
   }
  },
  {
   "cell_type": "code",
   "execution_count": 58,
   "metadata": {
    "id": "tQZCn2dxFtIl"
   },
   "outputs": [
    {
     "name": "stdout",
     "output_type": "stream",
     "text": [
      "   0 ( 0.00%) Train loss: 104.399 \t Validation loss: 104.576\n",
      "  10 ( 2.00%) Train loss: 27.025 \t Validation loss: 18.502\n",
      "  20 ( 4.00%) Train loss: 14.235 \t Validation loss: 10.615\n",
      "  30 ( 6.00%) Train loss: 13.773 \t Validation loss: 10.274\n",
      "  40 ( 8.00%) Train loss: 13.417 \t Validation loss: 10.040\n",
      "  50 (10.00%) Train loss: 13.058 \t Validation loss: 9.801\n",
      "  60 (12.00%) Train loss: 12.712 \t Validation loss: 9.566\n",
      "  70 (14.00%) Train loss: 12.378 \t Validation loss: 9.352\n",
      "  80 (16.00%) Train loss: 12.186 \t Validation loss: 9.202\n",
      "  90 (18.00%) Train loss: 12.084 \t Validation loss: 9.132\n",
      " 100 (20.00%) Train loss: 12.007 \t Validation loss: 9.110\n",
      " 110 (22.00%) Train loss: 11.953 \t Validation loss: 9.100\n",
      " 120 (24.00%) Train loss: 11.926 \t Validation loss: 9.108\n",
      " 130 (26.00%) Train loss: 11.911 \t Validation loss: 9.105\n",
      " 140 (28.00%) Train loss: 11.902 \t Validation loss: 9.099\n",
      " 150 (30.00%) Train loss: 11.898 \t Validation loss: 9.095\n",
      " 160 (32.00%) Train loss: 11.895 \t Validation loss: 9.091\n",
      " 170 (34.00%) Train loss: 11.894 \t Validation loss: 9.088\n",
      " 180 (36.00%) Train loss: 11.893 \t Validation loss: 9.086\n",
      " 190 (38.00%) Train loss: 11.893 \t Validation loss: 9.084\n",
      " 200 (40.00%) Train loss: 11.893 \t Validation loss: 9.082\n",
      " 210 (42.00%) Train loss: 11.892 \t Validation loss: 9.081\n",
      " 220 (44.00%) Train loss: 11.892 \t Validation loss: 9.080\n",
      " 230 (46.00%) Train loss: 11.892 \t Validation loss: 9.079\n",
      " 240 (48.00%) Train loss: 11.892 \t Validation loss: 9.078\n",
      " 250 (50.00%) Train loss: 11.892 \t Validation loss: 9.078\n",
      " 260 (52.00%) Train loss: 11.892 \t Validation loss: 9.078\n",
      " 270 (54.00%) Train loss: 11.892 \t Validation loss: 9.078\n",
      " 280 (56.00%) Train loss: 11.892 \t Validation loss: 9.077\n",
      " 290 (58.00%) Train loss: 11.892 \t Validation loss: 9.077\n",
      " 300 (60.00%) Train loss: 11.892 \t Validation loss: 9.077\n",
      " 310 (62.00%) Train loss: 11.892 \t Validation loss: 9.077\n",
      " 320 (64.00%) Train loss: 11.892 \t Validation loss: 9.077\n",
      " 330 (66.00%) Train loss: 11.892 \t Validation loss: 9.077\n",
      " 340 (68.00%) Train loss: 11.892 \t Validation loss: 9.077\n",
      " 350 (70.00%) Train loss: 11.892 \t Validation loss: 9.077\n",
      " 360 (72.00%) Train loss: 11.892 \t Validation loss: 9.077\n",
      " 370 (74.00%) Train loss: 11.892 \t Validation loss: 9.077\n",
      " 380 (76.00%) Train loss: 11.892 \t Validation loss: 9.077\n",
      " 390 (78.00%) Train loss: 11.892 \t Validation loss: 9.077\n",
      " 400 (80.00%) Train loss: 11.892 \t Validation loss: 9.077\n",
      " 410 (82.00%) Train loss: 11.892 \t Validation loss: 9.077\n",
      " 420 (84.00%) Train loss: 11.892 \t Validation loss: 9.077\n",
      " 430 (86.00%) Train loss: 11.892 \t Validation loss: 9.077\n",
      " 440 (88.00%) Train loss: 11.892 \t Validation loss: 9.077\n",
      " 450 (90.00%) Train loss: 11.892 \t Validation loss: 9.077\n",
      " 460 (92.00%) Train loss: 11.892 \t Validation loss: 9.077\n",
      " 470 (94.00%) Train loss: 11.892 \t Validation loss: 9.077\n",
      " 480 (96.00%) Train loss: 11.892 \t Validation loss: 9.077\n",
      " 490 (98.00%) Train loss: 11.892 \t Validation loss: 9.077\n"
     ]
    },
    {
     "data": {
      "text/plain": "<Figure size 640x480 with 1 Axes>",
      "image/png": "[encoded data removed]"
     },
     "metadata": {},
     "output_type": "display_data"
    }
   ],
   "source": [
    "# Insert your code for getting overfitting, underfitting and just right fitting\n",
    "\n",
    "# Good-fitting:\n",
    "NNG = [\n",
    "    DenseLayer(1, 8, lambda x: x.relu()),\n",
    "    DenseLayer(8, 1, lambda x: x.identity())\n",
    "]\n",
    "\n",
    "EPOCHS = 500\n",
    "LEARN_R = 2e-3\n",
    "trainPlot(EPOCHS=EPOCHS, LEARN_R=LEARN_R, NN=NNG)"
   ]
  },
  {
   "cell_type": "code",
   "execution_count": 64,
   "outputs": [
    {
     "name": "stdout",
     "output_type": "stream",
     "text": [
      "   0 ( 0.00%) Train loss: 104.898 \t Validation loss: 105.092\n"
     ]
    },
    {
     "data": {
      "text/plain": "<Figure size 640x480 with 1 Axes>",
      "image/png": "[encoded data removed]"
     },
     "metadata": {},
     "output_type": "display_data"
    }
   ],
   "source": [
    "# Underfitting:\n",
    "NNU = [\n",
    "    DenseLayer(1, 8, lambda x: x.relu()),\n",
    "    DenseLayer(8, 1, lambda x: x.identity())\n",
    "]\n",
    "\n",
    "EPOCHS = 10\n",
    "LEARN_R = 2e-3\n",
    "\n",
    "trainPlot(EPOCHS=EPOCHS, LEARN_R=LEARN_R, NN=NNU)"
   ],
   "metadata": {
    "collapsed": false
   }
  },
  {
   "cell_type": "code",
   "execution_count": 65,
   "outputs": [
    {
     "name": "stdout",
     "output_type": "stream",
     "text": [
      "   0 ( 0.00%) Train loss: 101.637 \t Validation loss: 103.085\n",
      "  10 ( 0.10%) Train loss: 96.683 \t Validation loss: 97.261\n",
      "  20 ( 0.20%) Train loss: 90.464 \t Validation loss: 90.055\n",
      "  30 ( 0.30%) Train loss: 82.568 \t Validation loss: 80.998\n",
      "  40 ( 0.40%) Train loss: 73.040 \t Validation loss: 70.274\n",
      "  50 ( 0.50%) Train loss: 62.642 \t Validation loss: 58.910\n",
      "  60 ( 0.60%) Train loss: 52.565 \t Validation loss: 48.285\n",
      "  70 ( 0.70%) Train loss: 43.763 \t Validation loss: 39.354\n",
      "  80 ( 0.80%) Train loss: 36.632 \t Validation loss: 32.374\n",
      "  90 ( 0.90%) Train loss: 31.119 \t Validation loss: 27.122\n",
      " 100 ( 1.00%) Train loss: 26.994 \t Validation loss: 23.246\n",
      " 110 ( 1.10%) Train loss: 23.987 \t Validation loss: 20.415\n",
      " 120 ( 1.20%) Train loss: 21.841 \t Validation loss: 18.357\n",
      " 130 ( 1.30%) Train loss: 20.337 \t Validation loss: 16.865\n",
      " 140 ( 1.40%) Train loss: 19.281 \t Validation loss: 15.771\n",
      " 150 ( 1.50%) Train loss: 18.525 \t Validation loss: 14.949\n",
      " 160 ( 1.60%) Train loss: 17.978 \t Validation loss: 14.324\n",
      " 170 ( 1.70%) Train loss: 17.573 \t Validation loss: 13.838\n",
      " 180 ( 1.80%) Train loss: 17.265 \t Validation loss: 13.438\n",
      " 190 ( 1.90%) Train loss: 17.013 \t Validation loss: 13.092\n",
      " 200 ( 2.00%) Train loss: 16.775 \t Validation loss: 12.775\n",
      " 210 ( 2.10%) Train loss: 16.546 \t Validation loss: 12.484\n",
      " 220 ( 2.20%) Train loss: 16.341 \t Validation loss: 12.234\n",
      " 230 ( 2.30%) Train loss: 16.110 \t Validation loss: 11.993\n",
      " 240 ( 2.40%) Train loss: 15.833 \t Validation loss: 11.756\n",
      " 250 ( 2.50%) Train loss: 15.516 \t Validation loss: 11.513\n",
      " 260 ( 2.60%) Train loss: 15.179 \t Validation loss: 11.294\n",
      " 270 ( 2.70%) Train loss: 14.819 \t Validation loss: 11.078\n",
      " 280 ( 2.80%) Train loss: 14.509 \t Validation loss: 10.866\n",
      " 290 ( 2.90%) Train loss: 14.175 \t Validation loss: 10.668\n",
      " 300 ( 3.00%) Train loss: 13.869 \t Validation loss: 10.486\n",
      " 310 ( 3.10%) Train loss: 13.608 \t Validation loss: 10.319\n",
      " 320 ( 3.20%) Train loss: 13.337 \t Validation loss: 10.169\n",
      " 330 ( 3.30%) Train loss: 13.085 \t Validation loss: 10.032\n",
      " 340 ( 3.40%) Train loss: 12.872 \t Validation loss: 9.915\n",
      " 350 ( 3.50%) Train loss: 12.693 \t Validation loss: 9.794\n",
      " 360 ( 3.60%) Train loss: 12.598 \t Validation loss: 9.682\n",
      " 370 ( 3.70%) Train loss: 12.524 \t Validation loss: 9.610\n",
      " 380 ( 3.80%) Train loss: 12.458 \t Validation loss: 9.561\n",
      " 390 ( 3.90%) Train loss: 12.393 \t Validation loss: 9.522\n",
      " 400 ( 4.00%) Train loss: 12.346 \t Validation loss: 9.474\n",
      " 410 ( 4.10%) Train loss: 12.308 \t Validation loss: 9.433\n",
      " 420 ( 4.20%) Train loss: 12.279 \t Validation loss: 9.393\n",
      " 430 ( 4.30%) Train loss: 12.257 \t Validation loss: 9.359\n",
      " 440 ( 4.40%) Train loss: 12.236 \t Validation loss: 9.333\n",
      " 450 ( 4.50%) Train loss: 12.209 \t Validation loss: 9.315\n",
      " 460 ( 4.60%) Train loss: 12.195 \t Validation loss: 9.279\n",
      " 470 ( 4.70%) Train loss: 12.184 \t Validation loss: 9.253\n",
      " 480 ( 4.80%) Train loss: 12.175 \t Validation loss: 9.234\n",
      " 490 ( 4.90%) Train loss: 12.166 \t Validation loss: 9.218\n",
      " 500 ( 5.00%) Train loss: 12.159 \t Validation loss: 9.204\n",
      " 510 ( 5.10%) Train loss: 12.151 \t Validation loss: 9.192\n",
      " 520 ( 5.20%) Train loss: 12.144 \t Validation loss: 9.183\n",
      " 530 ( 5.30%) Train loss: 12.137 \t Validation loss: 9.177\n",
      " 540 ( 5.40%) Train loss: 12.131 \t Validation loss: 9.172\n",
      " 550 ( 5.50%) Train loss: 12.126 \t Validation loss: 9.155\n",
      " 560 ( 5.60%) Train loss: 12.122 \t Validation loss: 9.140\n",
      " 570 ( 5.70%) Train loss: 12.118 \t Validation loss: 9.127\n",
      " 580 ( 5.80%) Train loss: 12.115 \t Validation loss: 9.115\n",
      " 590 ( 5.90%) Train loss: 12.112 \t Validation loss: 9.106\n",
      " 600 ( 6.00%) Train loss: 12.109 \t Validation loss: 9.100\n",
      " 610 ( 6.10%) Train loss: 12.106 \t Validation loss: 9.091\n",
      " 620 ( 6.20%) Train loss: 12.103 \t Validation loss: 9.088\n",
      " 630 ( 6.30%) Train loss: 12.100 \t Validation loss: 9.081\n",
      " 640 ( 6.40%) Train loss: 12.096 \t Validation loss: 9.075\n",
      " 650 ( 6.50%) Train loss: 12.093 \t Validation loss: 9.069\n",
      " 660 ( 6.60%) Train loss: 12.090 \t Validation loss: 9.063\n",
      " 670 ( 6.70%) Train loss: 12.086 \t Validation loss: 9.058\n",
      " 680 ( 6.80%) Train loss: 12.083 \t Validation loss: 9.050\n",
      " 690 ( 6.90%) Train loss: 12.081 \t Validation loss: 9.046\n",
      " 700 ( 7.00%) Train loss: 12.079 \t Validation loss: 9.042\n",
      " 710 ( 7.10%) Train loss: 12.077 \t Validation loss: 9.040\n",
      " 720 ( 7.20%) Train loss: 12.075 \t Validation loss: 9.033\n",
      " 730 ( 7.30%) Train loss: 12.073 \t Validation loss: 9.031\n",
      " 740 ( 7.40%) Train loss: 12.071 \t Validation loss: 9.025\n",
      " 750 ( 7.50%) Train loss: 12.069 \t Validation loss: 9.023\n",
      " 760 ( 7.60%) Train loss: 12.067 \t Validation loss: 9.017\n",
      " 770 ( 7.70%) Train loss: 12.065 \t Validation loss: 9.016\n",
      " 780 ( 7.80%) Train loss: 12.063 \t Validation loss: 9.011\n",
      " 790 ( 7.90%) Train loss: 12.061 \t Validation loss: 9.006\n",
      " 800 ( 8.00%) Train loss: 12.059 \t Validation loss: 9.006\n",
      " 810 ( 8.10%) Train loss: 12.057 \t Validation loss: 9.000\n",
      " 820 ( 8.20%) Train loss: 12.056 \t Validation loss: 8.996\n",
      " 830 ( 8.30%) Train loss: 12.054 \t Validation loss: 8.992\n",
      " 840 ( 8.40%) Train loss: 12.052 \t Validation loss: 8.989\n",
      " 850 ( 8.50%) Train loss: 12.051 \t Validation loss: 8.986\n",
      " 860 ( 8.60%) Train loss: 12.049 \t Validation loss: 8.983\n",
      " 870 ( 8.70%) Train loss: 12.047 \t Validation loss: 8.981\n",
      " 880 ( 8.80%) Train loss: 12.046 \t Validation loss: 8.978\n",
      " 890 ( 8.90%) Train loss: 12.044 \t Validation loss: 8.974\n",
      " 900 ( 9.00%) Train loss: 12.043 \t Validation loss: 8.971\n",
      " 910 ( 9.10%) Train loss: 12.041 \t Validation loss: 8.968\n",
      " 920 ( 9.20%) Train loss: 12.040 \t Validation loss: 8.966\n",
      " 930 ( 9.30%) Train loss: 12.038 \t Validation loss: 8.963\n",
      " 940 ( 9.40%) Train loss: 12.037 \t Validation loss: 8.961\n",
      " 950 ( 9.50%) Train loss: 12.035 \t Validation loss: 8.959\n",
      " 960 ( 9.60%) Train loss: 12.034 \t Validation loss: 8.956\n",
      " 970 ( 9.70%) Train loss: 12.032 \t Validation loss: 8.954\n",
      " 980 ( 9.80%) Train loss: 12.031 \t Validation loss: 8.952\n",
      " 990 ( 9.90%) Train loss: 12.030 \t Validation loss: 8.949\n",
      "1000 (10.00%) Train loss: 12.028 \t Validation loss: 8.947\n",
      "1010 (10.10%) Train loss: 12.027 \t Validation loss: 8.945\n",
      "1020 (10.20%) Train loss: 12.026 \t Validation loss: 8.943\n",
      "1030 (10.30%) Train loss: 12.024 \t Validation loss: 8.941\n",
      "1040 (10.40%) Train loss: 12.023 \t Validation loss: 8.938\n",
      "1050 (10.50%) Train loss: 12.022 \t Validation loss: 8.936\n",
      "1060 (10.60%) Train loss: 12.020 \t Validation loss: 8.935\n",
      "1070 (10.70%) Train loss: 12.019 \t Validation loss: 8.933\n",
      "1080 (10.80%) Train loss: 12.018 \t Validation loss: 8.931\n",
      "1090 (10.90%) Train loss: 12.016 \t Validation loss: 8.929\n",
      "1100 (11.00%) Train loss: 12.015 \t Validation loss: 8.928\n",
      "1110 (11.10%) Train loss: 12.014 \t Validation loss: 8.927\n",
      "1120 (11.20%) Train loss: 12.013 \t Validation loss: 8.925\n",
      "1130 (11.30%) Train loss: 12.012 \t Validation loss: 8.924\n",
      "1140 (11.40%) Train loss: 12.010 \t Validation loss: 8.923\n",
      "1150 (11.50%) Train loss: 12.009 \t Validation loss: 8.921\n",
      "1160 (11.60%) Train loss: 12.008 \t Validation loss: 8.920\n",
      "1170 (11.70%) Train loss: 12.007 \t Validation loss: 8.919\n",
      "1180 (11.80%) Train loss: 12.006 \t Validation loss: 8.918\n",
      "1190 (11.90%) Train loss: 12.005 \t Validation loss: 8.917\n",
      "1200 (12.00%) Train loss: 12.004 \t Validation loss: 8.916\n",
      "1210 (12.10%) Train loss: 12.003 \t Validation loss: 8.916\n",
      "1220 (12.20%) Train loss: 12.002 \t Validation loss: 8.915\n",
      "1230 (12.30%) Train loss: 12.001 \t Validation loss: 8.915\n",
      "1240 (12.40%) Train loss: 12.000 \t Validation loss: 8.914\n",
      "1250 (12.50%) Train loss: 11.999 \t Validation loss: 8.914\n",
      "1260 (12.60%) Train loss: 11.998 \t Validation loss: 8.914\n",
      "1270 (12.70%) Train loss: 11.997 \t Validation loss: 8.914\n",
      "1280 (12.80%) Train loss: 11.996 \t Validation loss: 8.914\n",
      "1290 (12.90%) Train loss: 11.995 \t Validation loss: 8.914\n",
      "1300 (13.00%) Train loss: 11.994 \t Validation loss: 8.914\n",
      "1310 (13.10%) Train loss: 11.993 \t Validation loss: 8.915\n",
      "1320 (13.20%) Train loss: 11.992 \t Validation loss: 8.915\n",
      "1330 (13.30%) Train loss: 11.992 \t Validation loss: 8.915\n",
      "1340 (13.40%) Train loss: 11.991 \t Validation loss: 8.914\n",
      "1350 (13.50%) Train loss: 11.990 \t Validation loss: 8.914\n",
      "1360 (13.60%) Train loss: 11.989 \t Validation loss: 8.914\n",
      "1370 (13.70%) Train loss: 11.988 \t Validation loss: 8.915\n",
      "1380 (13.80%) Train loss: 11.987 \t Validation loss: 8.914\n",
      "1390 (13.90%) Train loss: 11.987 \t Validation loss: 8.915\n",
      "1400 (14.00%) Train loss: 11.986 \t Validation loss: 8.916\n",
      "1410 (14.10%) Train loss: 11.985 \t Validation loss: 8.917\n",
      "1420 (14.20%) Train loss: 11.984 \t Validation loss: 8.918\n",
      "1430 (14.30%) Train loss: 11.983 \t Validation loss: 8.919\n",
      "1440 (14.40%) Train loss: 11.982 \t Validation loss: 8.919\n",
      "1450 (14.50%) Train loss: 11.981 \t Validation loss: 8.919\n",
      "1460 (14.60%) Train loss: 11.980 \t Validation loss: 8.920\n",
      "1470 (14.70%) Train loss: 11.979 \t Validation loss: 8.921\n",
      "1480 (14.80%) Train loss: 11.979 \t Validation loss: 8.922\n",
      "1490 (14.90%) Train loss: 11.978 \t Validation loss: 8.922\n",
      "1500 (15.00%) Train loss: 11.977 \t Validation loss: 8.923\n",
      "1510 (15.10%) Train loss: 11.976 \t Validation loss: 8.924\n",
      "1520 (15.20%) Train loss: 11.974 \t Validation loss: 8.925\n",
      "1530 (15.30%) Train loss: 11.973 \t Validation loss: 8.927\n",
      "1540 (15.40%) Train loss: 11.972 \t Validation loss: 8.928\n",
      "1550 (15.50%) Train loss: 11.971 \t Validation loss: 8.929\n",
      "1560 (15.60%) Train loss: 11.970 \t Validation loss: 8.929\n",
      "1570 (15.70%) Train loss: 11.969 \t Validation loss: 8.930\n",
      "1580 (15.80%) Train loss: 11.968 \t Validation loss: 8.931\n",
      "1590 (15.90%) Train loss: 11.968 \t Validation loss: 8.931\n",
      "1600 (16.00%) Train loss: 11.967 \t Validation loss: 8.932\n",
      "1610 (16.10%) Train loss: 11.966 \t Validation loss: 8.932\n",
      "1620 (16.20%) Train loss: 11.965 \t Validation loss: 8.932\n",
      "1630 (16.30%) Train loss: 11.964 \t Validation loss: 8.933\n",
      "1640 (16.40%) Train loss: 11.964 \t Validation loss: 8.934\n",
      "1650 (16.50%) Train loss: 11.963 \t Validation loss: 8.934\n",
      "1660 (16.60%) Train loss: 11.962 \t Validation loss: 8.934\n",
      "1670 (16.70%) Train loss: 11.961 \t Validation loss: 8.935\n",
      "1680 (16.80%) Train loss: 11.961 \t Validation loss: 8.935\n",
      "1690 (16.90%) Train loss: 11.960 \t Validation loss: 8.937\n",
      "1700 (17.00%) Train loss: 11.959 \t Validation loss: 8.937\n",
      "1710 (17.10%) Train loss: 11.959 \t Validation loss: 8.937\n",
      "1720 (17.20%) Train loss: 11.958 \t Validation loss: 8.938\n",
      "1730 (17.30%) Train loss: 11.957 \t Validation loss: 8.938\n",
      "1740 (17.40%) Train loss: 11.957 \t Validation loss: 8.938\n",
      "1750 (17.50%) Train loss: 11.956 \t Validation loss: 8.939\n",
      "1760 (17.60%) Train loss: 11.956 \t Validation loss: 8.940\n",
      "1770 (17.70%) Train loss: 11.955 \t Validation loss: 8.940\n",
      "1780 (17.80%) Train loss: 11.954 \t Validation loss: 8.941\n",
      "1790 (17.90%) Train loss: 11.954 \t Validation loss: 8.941\n",
      "1800 (18.00%) Train loss: 11.953 \t Validation loss: 8.942\n",
      "1810 (18.10%) Train loss: 11.953 \t Validation loss: 8.943\n",
      "1820 (18.20%) Train loss: 11.952 \t Validation loss: 8.942\n",
      "1830 (18.30%) Train loss: 11.952 \t Validation loss: 8.943\n",
      "1840 (18.40%) Train loss: 11.951 \t Validation loss: 8.943\n",
      "1850 (18.50%) Train loss: 11.951 \t Validation loss: 8.944\n",
      "1860 (18.60%) Train loss: 11.950 \t Validation loss: 8.944\n",
      "1870 (18.70%) Train loss: 11.949 \t Validation loss: 8.945\n",
      "1880 (18.80%) Train loss: 11.949 \t Validation loss: 8.945\n",
      "1890 (18.90%) Train loss: 11.949 \t Validation loss: 8.945\n",
      "1900 (19.00%) Train loss: 11.948 \t Validation loss: 8.946\n",
      "1910 (19.10%) Train loss: 11.948 \t Validation loss: 8.946\n",
      "1920 (19.20%) Train loss: 11.947 \t Validation loss: 8.946\n",
      "1930 (19.30%) Train loss: 11.947 \t Validation loss: 8.946\n",
      "1940 (19.40%) Train loss: 11.946 \t Validation loss: 8.947\n",
      "1950 (19.50%) Train loss: 11.946 \t Validation loss: 8.948\n",
      "1960 (19.60%) Train loss: 11.945 \t Validation loss: 8.948\n",
      "1970 (19.70%) Train loss: 11.945 \t Validation loss: 8.949\n",
      "1980 (19.80%) Train loss: 11.944 \t Validation loss: 8.950\n",
      "1990 (19.90%) Train loss: 11.944 \t Validation loss: 8.950\n",
      "2000 (20.00%) Train loss: 11.943 \t Validation loss: 8.951\n",
      "2010 (20.10%) Train loss: 11.943 \t Validation loss: 8.952\n",
      "2020 (20.20%) Train loss: 11.942 \t Validation loss: 8.953\n",
      "2030 (20.30%) Train loss: 11.942 \t Validation loss: 8.954\n",
      "2040 (20.40%) Train loss: 11.941 \t Validation loss: 8.955\n",
      "2050 (20.50%) Train loss: 11.941 \t Validation loss: 8.956\n",
      "2060 (20.60%) Train loss: 11.940 \t Validation loss: 8.957\n",
      "2070 (20.70%) Train loss: 11.939 \t Validation loss: 8.957\n",
      "2080 (20.80%) Train loss: 11.939 \t Validation loss: 8.959\n",
      "2090 (20.90%) Train loss: 11.938 \t Validation loss: 8.962\n",
      "2100 (21.00%) Train loss: 11.937 \t Validation loss: 8.965\n",
      "2110 (21.10%) Train loss: 11.936 \t Validation loss: 8.967\n",
      "2120 (21.20%) Train loss: 11.935 \t Validation loss: 8.969\n",
      "2130 (21.30%) Train loss: 11.934 \t Validation loss: 8.971\n",
      "2140 (21.40%) Train loss: 11.933 \t Validation loss: 8.973\n",
      "2150 (21.50%) Train loss: 11.932 \t Validation loss: 8.975\n",
      "2160 (21.60%) Train loss: 11.931 \t Validation loss: 8.976\n",
      "2170 (21.70%) Train loss: 11.930 \t Validation loss: 8.977\n",
      "2180 (21.80%) Train loss: 11.929 \t Validation loss: 8.979\n",
      "2190 (21.90%) Train loss: 11.928 \t Validation loss: 8.980\n",
      "2200 (22.00%) Train loss: 11.927 \t Validation loss: 8.982\n",
      "2210 (22.10%) Train loss: 11.926 \t Validation loss: 8.983\n",
      "2220 (22.20%) Train loss: 11.925 \t Validation loss: 8.985\n",
      "2230 (22.30%) Train loss: 11.924 \t Validation loss: 8.987\n",
      "2240 (22.40%) Train loss: 11.923 \t Validation loss: 8.988\n",
      "2250 (22.50%) Train loss: 11.921 \t Validation loss: 8.990\n",
      "2260 (22.60%) Train loss: 11.920 \t Validation loss: 8.991\n",
      "2270 (22.70%) Train loss: 11.919 \t Validation loss: 8.993\n",
      "2280 (22.80%) Train loss: 11.918 \t Validation loss: 8.994\n",
      "2290 (22.90%) Train loss: 11.917 \t Validation loss: 8.994\n",
      "2300 (23.00%) Train loss: 11.916 \t Validation loss: 8.997\n",
      "2310 (23.10%) Train loss: 11.914 \t Validation loss: 9.000\n",
      "2320 (23.20%) Train loss: 11.912 \t Validation loss: 9.002\n",
      "2330 (23.30%) Train loss: 11.911 \t Validation loss: 9.005\n",
      "2340 (23.40%) Train loss: 11.909 \t Validation loss: 9.007\n",
      "2350 (23.50%) Train loss: 11.907 \t Validation loss: 9.008\n",
      "2360 (23.60%) Train loss: 11.906 \t Validation loss: 9.010\n",
      "2370 (23.70%) Train loss: 11.904 \t Validation loss: 9.012\n",
      "2380 (23.80%) Train loss: 11.903 \t Validation loss: 9.010\n",
      "2390 (23.90%) Train loss: 11.903 \t Validation loss: 9.008\n",
      "2400 (24.00%) Train loss: 11.903 \t Validation loss: 9.007\n",
      "2410 (24.10%) Train loss: 11.903 \t Validation loss: 9.007\n",
      "2420 (24.20%) Train loss: 11.902 \t Validation loss: 9.006\n",
      "2430 (24.30%) Train loss: 11.902 \t Validation loss: 9.007\n",
      "2440 (24.40%) Train loss: 11.902 \t Validation loss: 9.007\n",
      "2450 (24.50%) Train loss: 11.902 \t Validation loss: 9.006\n",
      "2460 (24.60%) Train loss: 11.902 \t Validation loss: 9.005\n",
      "2470 (24.70%) Train loss: 11.901 \t Validation loss: 9.004\n",
      "2480 (24.80%) Train loss: 11.901 \t Validation loss: 9.004\n",
      "2490 (24.90%) Train loss: 11.901 \t Validation loss: 9.004\n",
      "2500 (25.00%) Train loss: 11.901 \t Validation loss: 9.003\n",
      "2510 (25.10%) Train loss: 11.901 \t Validation loss: 9.003\n",
      "2520 (25.20%) Train loss: 11.901 \t Validation loss: 9.003\n",
      "2530 (25.30%) Train loss: 11.900 \t Validation loss: 9.004\n",
      "2540 (25.40%) Train loss: 11.900 \t Validation loss: 9.004\n",
      "2550 (25.50%) Train loss: 11.900 \t Validation loss: 9.004\n",
      "2560 (25.60%) Train loss: 11.900 \t Validation loss: 9.005\n",
      "2570 (25.70%) Train loss: 11.900 \t Validation loss: 9.005\n",
      "2580 (25.80%) Train loss: 11.899 \t Validation loss: 9.005\n",
      "2590 (25.90%) Train loss: 11.899 \t Validation loss: 9.005\n",
      "2600 (26.00%) Train loss: 11.899 \t Validation loss: 9.005\n",
      "2610 (26.10%) Train loss: 11.899 \t Validation loss: 9.006\n",
      "2620 (26.20%) Train loss: 11.899 \t Validation loss: 9.006\n",
      "2630 (26.30%) Train loss: 11.898 \t Validation loss: 9.007\n",
      "2640 (26.40%) Train loss: 11.898 \t Validation loss: 9.006\n",
      "2650 (26.50%) Train loss: 11.898 \t Validation loss: 9.006\n",
      "2660 (26.60%) Train loss: 11.898 \t Validation loss: 9.006\n",
      "2670 (26.70%) Train loss: 11.898 \t Validation loss: 9.007\n",
      "2680 (26.80%) Train loss: 11.898 \t Validation loss: 9.007\n",
      "2690 (26.90%) Train loss: 11.898 \t Validation loss: 9.007\n",
      "2700 (27.00%) Train loss: 11.898 \t Validation loss: 9.007\n",
      "2710 (27.10%) Train loss: 11.898 \t Validation loss: 9.008\n",
      "2720 (27.20%) Train loss: 11.897 \t Validation loss: 9.008\n",
      "2730 (27.30%) Train loss: 11.897 \t Validation loss: 9.008\n",
      "2740 (27.40%) Train loss: 11.897 \t Validation loss: 9.008\n",
      "2750 (27.50%) Train loss: 11.897 \t Validation loss: 9.008\n",
      "2760 (27.60%) Train loss: 11.897 \t Validation loss: 9.009\n",
      "2770 (27.70%) Train loss: 11.897 \t Validation loss: 9.009\n",
      "2780 (27.80%) Train loss: 11.897 \t Validation loss: 9.009\n",
      "2790 (27.90%) Train loss: 11.897 \t Validation loss: 9.009\n",
      "2800 (28.00%) Train loss: 11.897 \t Validation loss: 9.010\n",
      "2810 (28.10%) Train loss: 11.897 \t Validation loss: 9.010\n",
      "2820 (28.20%) Train loss: 11.897 \t Validation loss: 9.010\n",
      "2830 (28.30%) Train loss: 11.897 \t Validation loss: 9.010\n",
      "2840 (28.40%) Train loss: 11.896 \t Validation loss: 9.010\n",
      "2850 (28.50%) Train loss: 11.896 \t Validation loss: 9.010\n",
      "2860 (28.60%) Train loss: 11.896 \t Validation loss: 9.012\n",
      "2870 (28.70%) Train loss: 11.895 \t Validation loss: 9.014\n",
      "2880 (28.80%) Train loss: 11.894 \t Validation loss: 9.017\n",
      "2890 (28.90%) Train loss: 11.893 \t Validation loss: 9.019\n",
      "2900 (29.00%) Train loss: 11.892 \t Validation loss: 9.020\n",
      "2910 (29.10%) Train loss: 11.891 \t Validation loss: 9.022\n",
      "2920 (29.20%) Train loss: 11.891 \t Validation loss: 9.023\n",
      "2930 (29.30%) Train loss: 11.890 \t Validation loss: 9.024\n",
      "2940 (29.40%) Train loss: 11.889 \t Validation loss: 9.026\n",
      "2950 (29.50%) Train loss: 11.888 \t Validation loss: 9.027\n",
      "2960 (29.60%) Train loss: 11.888 \t Validation loss: 9.026\n",
      "2970 (29.70%) Train loss: 11.887 \t Validation loss: 9.026\n",
      "2980 (29.80%) Train loss: 11.887 \t Validation loss: 9.026\n",
      "2990 (29.90%) Train loss: 11.887 \t Validation loss: 9.026\n",
      "3000 (30.00%) Train loss: 11.887 \t Validation loss: 9.026\n",
      "3010 (30.10%) Train loss: 11.887 \t Validation loss: 9.027\n",
      "3020 (30.20%) Train loss: 11.886 \t Validation loss: 9.027\n",
      "3030 (30.30%) Train loss: 11.886 \t Validation loss: 9.028\n",
      "3040 (30.40%) Train loss: 11.886 \t Validation loss: 9.028\n",
      "3050 (30.50%) Train loss: 11.886 \t Validation loss: 9.028\n",
      "3060 (30.60%) Train loss: 11.886 \t Validation loss: 9.029\n",
      "3070 (30.70%) Train loss: 11.886 \t Validation loss: 9.029\n",
      "3080 (30.80%) Train loss: 11.885 \t Validation loss: 9.029\n",
      "3090 (30.90%) Train loss: 11.885 \t Validation loss: 9.030\n",
      "3100 (31.00%) Train loss: 11.885 \t Validation loss: 9.030\n",
      "3110 (31.10%) Train loss: 11.885 \t Validation loss: 9.030\n",
      "3120 (31.20%) Train loss: 11.885 \t Validation loss: 9.031\n",
      "3130 (31.30%) Train loss: 11.885 \t Validation loss: 9.031\n",
      "3140 (31.40%) Train loss: 11.884 \t Validation loss: 9.032\n",
      "3150 (31.50%) Train loss: 11.884 \t Validation loss: 9.032\n",
      "3160 (31.60%) Train loss: 11.884 \t Validation loss: 9.032\n",
      "3170 (31.70%) Train loss: 11.884 \t Validation loss: 9.033\n",
      "3180 (31.80%) Train loss: 11.884 \t Validation loss: 9.033\n",
      "3190 (31.90%) Train loss: 11.884 \t Validation loss: 9.034\n",
      "3200 (32.00%) Train loss: 11.883 \t Validation loss: 9.035\n",
      "3210 (32.10%) Train loss: 11.883 \t Validation loss: 9.034\n",
      "3220 (32.20%) Train loss: 11.883 \t Validation loss: 9.035\n",
      "3230 (32.30%) Train loss: 11.883 \t Validation loss: 9.036\n",
      "3240 (32.40%) Train loss: 11.883 \t Validation loss: 9.036\n",
      "3250 (32.50%) Train loss: 11.883 \t Validation loss: 9.036\n",
      "3260 (32.60%) Train loss: 11.883 \t Validation loss: 9.037\n",
      "3270 (32.70%) Train loss: 11.882 \t Validation loss: 9.037\n",
      "3280 (32.80%) Train loss: 11.882 \t Validation loss: 9.037\n",
      "3290 (32.90%) Train loss: 11.882 \t Validation loss: 9.038\n",
      "3300 (33.00%) Train loss: 11.882 \t Validation loss: 9.037\n",
      "3310 (33.10%) Train loss: 11.882 \t Validation loss: 9.036\n",
      "3320 (33.20%) Train loss: 11.882 \t Validation loss: 9.036\n",
      "3330 (33.30%) Train loss: 11.882 \t Validation loss: 9.035\n",
      "3340 (33.40%) Train loss: 11.882 \t Validation loss: 9.035\n",
      "3350 (33.50%) Train loss: 11.882 \t Validation loss: 9.035\n",
      "3360 (33.60%) Train loss: 11.882 \t Validation loss: 9.035\n",
      "3370 (33.70%) Train loss: 11.882 \t Validation loss: 9.035\n",
      "3380 (33.80%) Train loss: 11.882 \t Validation loss: 9.034\n",
      "3390 (33.90%) Train loss: 11.882 \t Validation loss: 9.035\n",
      "3400 (34.00%) Train loss: 11.882 \t Validation loss: 9.034\n",
      "3410 (34.10%) Train loss: 11.882 \t Validation loss: 9.035\n",
      "3420 (34.20%) Train loss: 11.882 \t Validation loss: 9.034\n",
      "3430 (34.30%) Train loss: 11.882 \t Validation loss: 9.034\n",
      "3440 (34.40%) Train loss: 11.882 \t Validation loss: 9.035\n",
      "3450 (34.50%) Train loss: 11.882 \t Validation loss: 9.034\n",
      "3460 (34.60%) Train loss: 11.882 \t Validation loss: 9.034\n",
      "3470 (34.70%) Train loss: 11.882 \t Validation loss: 9.034\n",
      "3480 (34.80%) Train loss: 11.882 \t Validation loss: 9.034\n",
      "3490 (34.90%) Train loss: 11.882 \t Validation loss: 9.034\n",
      "3500 (35.00%) Train loss: 11.882 \t Validation loss: 9.034\n",
      "3510 (35.10%) Train loss: 11.882 \t Validation loss: 9.034\n",
      "3520 (35.20%) Train loss: 11.882 \t Validation loss: 9.034\n",
      "3530 (35.30%) Train loss: 11.882 \t Validation loss: 9.034\n",
      "3540 (35.40%) Train loss: 11.882 \t Validation loss: 9.034\n",
      "3550 (35.50%) Train loss: 11.882 \t Validation loss: 9.034\n",
      "3560 (35.60%) Train loss: 11.882 \t Validation loss: 9.034\n",
      "3570 (35.70%) Train loss: 11.882 \t Validation loss: 9.033\n",
      "3580 (35.80%) Train loss: 11.882 \t Validation loss: 9.033\n",
      "3590 (35.90%) Train loss: 11.882 \t Validation loss: 9.033\n",
      "3600 (36.00%) Train loss: 11.882 \t Validation loss: 9.033\n",
      "3610 (36.10%) Train loss: 11.882 \t Validation loss: 9.034\n",
      "3620 (36.20%) Train loss: 11.882 \t Validation loss: 9.034\n",
      "3630 (36.30%) Train loss: 11.882 \t Validation loss: 9.034\n",
      "3640 (36.40%) Train loss: 11.882 \t Validation loss: 9.034\n",
      "3650 (36.50%) Train loss: 11.882 \t Validation loss: 9.034\n",
      "3660 (36.60%) Train loss: 11.882 \t Validation loss: 9.033\n",
      "3670 (36.70%) Train loss: 11.882 \t Validation loss: 9.033\n",
      "3680 (36.80%) Train loss: 11.882 \t Validation loss: 9.034\n",
      "3690 (36.90%) Train loss: 11.882 \t Validation loss: 9.034\n",
      "3700 (37.00%) Train loss: 11.882 \t Validation loss: 9.034\n",
      "3710 (37.10%) Train loss: 11.882 \t Validation loss: 9.033\n",
      "3720 (37.20%) Train loss: 11.882 \t Validation loss: 9.033\n",
      "3730 (37.30%) Train loss: 11.882 \t Validation loss: 9.034\n",
      "3740 (37.40%) Train loss: 11.882 \t Validation loss: 9.034\n",
      "3750 (37.50%) Train loss: 11.882 \t Validation loss: 9.033\n",
      "3760 (37.60%) Train loss: 11.882 \t Validation loss: 9.034\n",
      "3770 (37.70%) Train loss: 11.882 \t Validation loss: 9.034\n",
      "3780 (37.80%) Train loss: 11.882 \t Validation loss: 9.034\n",
      "3790 (37.90%) Train loss: 11.882 \t Validation loss: 9.034\n",
      "3800 (38.00%) Train loss: 11.882 \t Validation loss: 9.034\n",
      "3810 (38.10%) Train loss: 11.882 \t Validation loss: 9.034\n",
      "3820 (38.20%) Train loss: 11.882 \t Validation loss: 9.034\n",
      "3830 (38.30%) Train loss: 11.882 \t Validation loss: 9.034\n",
      "3840 (38.40%) Train loss: 11.882 \t Validation loss: 9.034\n",
      "3850 (38.50%) Train loss: 11.882 \t Validation loss: 9.034\n",
      "3860 (38.60%) Train loss: 11.882 \t Validation loss: 9.034\n",
      "3870 (38.70%) Train loss: 11.882 \t Validation loss: 9.034\n",
      "3880 (38.80%) Train loss: 11.882 \t Validation loss: 9.034\n",
      "3890 (38.90%) Train loss: 11.882 \t Validation loss: 9.034\n",
      "3900 (39.00%) Train loss: 11.882 \t Validation loss: 9.034\n",
      "3910 (39.10%) Train loss: 11.882 \t Validation loss: 9.034\n",
      "3920 (39.20%) Train loss: 11.882 \t Validation loss: 9.034\n",
      "3930 (39.30%) Train loss: 11.882 \t Validation loss: 9.034\n",
      "3940 (39.40%) Train loss: 11.882 \t Validation loss: 9.034\n",
      "3950 (39.50%) Train loss: 11.882 \t Validation loss: 9.034\n",
      "3960 (39.60%) Train loss: 11.882 \t Validation loss: 9.034\n",
      "3970 (39.70%) Train loss: 11.882 \t Validation loss: 9.034\n",
      "3980 (39.80%) Train loss: 11.882 \t Validation loss: 9.034\n",
      "3990 (39.90%) Train loss: 11.882 \t Validation loss: 9.034\n",
      "4000 (40.00%) Train loss: 11.882 \t Validation loss: 9.034\n",
      "4010 (40.10%) Train loss: 11.882 \t Validation loss: 9.034\n",
      "4020 (40.20%) Train loss: 11.882 \t Validation loss: 9.034\n",
      "4030 (40.30%) Train loss: 11.882 \t Validation loss: 9.034\n",
      "4040 (40.40%) Train loss: 11.882 \t Validation loss: 9.034\n",
      "4050 (40.50%) Train loss: 11.882 \t Validation loss: 9.035\n",
      "4060 (40.60%) Train loss: 11.882 \t Validation loss: 9.034\n",
      "4070 (40.70%) Train loss: 11.882 \t Validation loss: 9.035\n",
      "4080 (40.80%) Train loss: 11.882 \t Validation loss: 9.034\n",
      "4090 (40.90%) Train loss: 11.882 \t Validation loss: 9.035\n",
      "4100 (41.00%) Train loss: 11.882 \t Validation loss: 9.035\n",
      "4110 (41.10%) Train loss: 11.882 \t Validation loss: 9.034\n",
      "4120 (41.20%) Train loss: 11.882 \t Validation loss: 9.035\n",
      "4130 (41.30%) Train loss: 11.882 \t Validation loss: 9.035\n",
      "4140 (41.40%) Train loss: 11.882 \t Validation loss: 9.035\n",
      "4150 (41.50%) Train loss: 11.882 \t Validation loss: 9.035\n",
      "4160 (41.60%) Train loss: 11.882 \t Validation loss: 9.035\n",
      "4170 (41.70%) Train loss: 11.882 \t Validation loss: 9.035\n",
      "4180 (41.80%) Train loss: 11.882 \t Validation loss: 9.035\n",
      "4190 (41.90%) Train loss: 11.882 \t Validation loss: 9.035\n",
      "4200 (42.00%) Train loss: 11.882 \t Validation loss: 9.035\n",
      "4210 (42.10%) Train loss: 11.882 \t Validation loss: 9.035\n",
      "4220 (42.20%) Train loss: 11.882 \t Validation loss: 9.035\n",
      "4230 (42.30%) Train loss: 11.882 \t Validation loss: 9.035\n",
      "4240 (42.40%) Train loss: 11.882 \t Validation loss: 9.035\n",
      "4250 (42.50%) Train loss: 11.882 \t Validation loss: 9.035\n",
      "4260 (42.60%) Train loss: 11.882 \t Validation loss: 9.035\n",
      "4270 (42.70%) Train loss: 11.882 \t Validation loss: 9.035\n",
      "4280 (42.80%) Train loss: 11.882 \t Validation loss: 9.035\n",
      "4290 (42.90%) Train loss: 11.882 \t Validation loss: 9.035\n",
      "4300 (43.00%) Train loss: 11.882 \t Validation loss: 9.036\n",
      "4310 (43.10%) Train loss: 11.882 \t Validation loss: 9.035\n",
      "4320 (43.20%) Train loss: 11.882 \t Validation loss: 9.035\n",
      "4330 (43.30%) Train loss: 11.882 \t Validation loss: 9.036\n",
      "4340 (43.40%) Train loss: 11.882 \t Validation loss: 9.035\n",
      "4350 (43.50%) Train loss: 11.882 \t Validation loss: 9.035\n",
      "4360 (43.60%) Train loss: 11.882 \t Validation loss: 9.036\n",
      "4370 (43.70%) Train loss: 11.882 \t Validation loss: 9.035\n",
      "4380 (43.80%) Train loss: 11.882 \t Validation loss: 9.035\n",
      "4390 (43.90%) Train loss: 11.882 \t Validation loss: 9.036\n",
      "4400 (44.00%) Train loss: 11.882 \t Validation loss: 9.036\n",
      "4410 (44.10%) Train loss: 11.882 \t Validation loss: 9.035\n",
      "4420 (44.20%) Train loss: 11.882 \t Validation loss: 9.036\n",
      "4430 (44.30%) Train loss: 11.882 \t Validation loss: 9.036\n",
      "4440 (44.40%) Train loss: 11.882 \t Validation loss: 9.036\n",
      "4450 (44.50%) Train loss: 11.882 \t Validation loss: 9.035\n",
      "4460 (44.60%) Train loss: 11.882 \t Validation loss: 9.036\n",
      "4470 (44.70%) Train loss: 11.882 \t Validation loss: 9.036\n",
      "4480 (44.80%) Train loss: 11.882 \t Validation loss: 9.036\n",
      "4490 (44.90%) Train loss: 11.882 \t Validation loss: 9.036\n",
      "4500 (45.00%) Train loss: 11.882 \t Validation loss: 9.036\n",
      "4510 (45.10%) Train loss: 11.882 \t Validation loss: 9.036\n",
      "4520 (45.20%) Train loss: 11.882 \t Validation loss: 9.036\n",
      "4530 (45.30%) Train loss: 11.882 \t Validation loss: 9.036\n",
      "4540 (45.40%) Train loss: 11.882 \t Validation loss: 9.036\n",
      "4550 (45.50%) Train loss: 11.882 \t Validation loss: 9.036\n",
      "4560 (45.60%) Train loss: 11.882 \t Validation loss: 9.036\n",
      "4570 (45.70%) Train loss: 11.882 \t Validation loss: 9.036\n",
      "4580 (45.80%) Train loss: 11.882 \t Validation loss: 9.036\n",
      "4590 (45.90%) Train loss: 11.882 \t Validation loss: 9.036\n",
      "4600 (46.00%) Train loss: 11.882 \t Validation loss: 9.036\n",
      "4610 (46.10%) Train loss: 11.882 \t Validation loss: 9.036\n",
      "4620 (46.20%) Train loss: 11.882 \t Validation loss: 9.036\n",
      "4630 (46.30%) Train loss: 11.882 \t Validation loss: 9.036\n",
      "4640 (46.40%) Train loss: 11.882 \t Validation loss: 9.036\n",
      "4650 (46.50%) Train loss: 11.882 \t Validation loss: 9.037\n",
      "4660 (46.60%) Train loss: 11.882 \t Validation loss: 9.036\n",
      "4670 (46.70%) Train loss: 11.882 \t Validation loss: 9.036\n",
      "4680 (46.80%) Train loss: 11.882 \t Validation loss: 9.036\n",
      "4690 (46.90%) Train loss: 11.882 \t Validation loss: 9.037\n",
      "4700 (47.00%) Train loss: 11.882 \t Validation loss: 9.036\n",
      "4710 (47.10%) Train loss: 11.882 \t Validation loss: 9.036\n",
      "4720 (47.20%) Train loss: 11.882 \t Validation loss: 9.036\n",
      "4730 (47.30%) Train loss: 11.882 \t Validation loss: 9.037\n",
      "4740 (47.40%) Train loss: 11.882 \t Validation loss: 9.037\n",
      "4750 (47.50%) Train loss: 11.882 \t Validation loss: 9.037\n",
      "4760 (47.60%) Train loss: 11.882 \t Validation loss: 9.036\n",
      "4770 (47.70%) Train loss: 11.882 \t Validation loss: 9.036\n",
      "4780 (47.80%) Train loss: 11.882 \t Validation loss: 9.037\n",
      "4790 (47.90%) Train loss: 11.882 \t Validation loss: 9.037\n",
      "4800 (48.00%) Train loss: 11.882 \t Validation loss: 9.037\n",
      "4810 (48.10%) Train loss: 11.882 \t Validation loss: 9.036\n",
      "4820 (48.20%) Train loss: 11.882 \t Validation loss: 9.037\n",
      "4830 (48.30%) Train loss: 11.882 \t Validation loss: 9.037\n",
      "4840 (48.40%) Train loss: 11.882 \t Validation loss: 9.037\n",
      "4850 (48.50%) Train loss: 11.882 \t Validation loss: 9.037\n",
      "4860 (48.60%) Train loss: 11.882 \t Validation loss: 9.037\n",
      "4870 (48.70%) Train loss: 11.882 \t Validation loss: 9.037\n",
      "4880 (48.80%) Train loss: 11.882 \t Validation loss: 9.037\n",
      "4890 (48.90%) Train loss: 11.882 \t Validation loss: 9.037\n",
      "4900 (49.00%) Train loss: 11.882 \t Validation loss: 9.037\n",
      "4910 (49.10%) Train loss: 11.882 \t Validation loss: 9.037\n",
      "4920 (49.20%) Train loss: 11.882 \t Validation loss: 9.037\n",
      "4930 (49.30%) Train loss: 11.882 \t Validation loss: 9.037\n",
      "4940 (49.40%) Train loss: 11.882 \t Validation loss: 9.037\n",
      "4950 (49.50%) Train loss: 11.882 \t Validation loss: 9.037\n",
      "4960 (49.60%) Train loss: 11.882 \t Validation loss: 9.037\n",
      "4970 (49.70%) Train loss: 11.882 \t Validation loss: 9.037\n",
      "4980 (49.80%) Train loss: 11.882 \t Validation loss: 9.037\n",
      "4990 (49.90%) Train loss: 11.882 \t Validation loss: 9.037\n",
      "5000 (50.00%) Train loss: 11.882 \t Validation loss: 9.037\n",
      "5010 (50.10%) Train loss: 11.882 \t Validation loss: 9.037\n",
      "5020 (50.20%) Train loss: 11.882 \t Validation loss: 9.037\n",
      "5030 (50.30%) Train loss: 11.882 \t Validation loss: 9.038\n",
      "5040 (50.40%) Train loss: 11.882 \t Validation loss: 9.037\n",
      "5050 (50.50%) Train loss: 11.882 \t Validation loss: 9.037\n",
      "5060 (50.60%) Train loss: 11.882 \t Validation loss: 9.037\n",
      "5070 (50.70%) Train loss: 11.882 \t Validation loss: 9.037\n",
      "5080 (50.80%) Train loss: 11.882 \t Validation loss: 9.037\n",
      "5090 (50.90%) Train loss: 11.882 \t Validation loss: 9.038\n",
      "5100 (51.00%) Train loss: 11.882 \t Validation loss: 9.037\n",
      "5110 (51.10%) Train loss: 11.882 \t Validation loss: 9.037\n",
      "5120 (51.20%) Train loss: 11.882 \t Validation loss: 9.037\n",
      "5130 (51.30%) Train loss: 11.882 \t Validation loss: 9.037\n",
      "5140 (51.40%) Train loss: 11.882 \t Validation loss: 9.037\n",
      "5150 (51.50%) Train loss: 11.882 \t Validation loss: 9.038\n",
      "5160 (51.60%) Train loss: 11.882 \t Validation loss: 9.037\n",
      "5170 (51.70%) Train loss: 11.882 \t Validation loss: 9.037\n",
      "5180 (51.80%) Train loss: 11.882 \t Validation loss: 9.037\n",
      "5190 (51.90%) Train loss: 11.882 \t Validation loss: 9.037\n",
      "5200 (52.00%) Train loss: 11.882 \t Validation loss: 9.037\n",
      "5210 (52.10%) Train loss: 11.882 \t Validation loss: 9.038\n",
      "5220 (52.20%) Train loss: 11.882 \t Validation loss: 9.038\n",
      "5230 (52.30%) Train loss: 11.882 \t Validation loss: 9.037\n",
      "5240 (52.40%) Train loss: 11.882 \t Validation loss: 9.037\n",
      "5250 (52.50%) Train loss: 11.882 \t Validation loss: 9.037\n",
      "5260 (52.60%) Train loss: 11.882 \t Validation loss: 9.037\n",
      "5270 (52.70%) Train loss: 11.882 \t Validation loss: 9.038\n",
      "5280 (52.80%) Train loss: 11.882 \t Validation loss: 9.038\n",
      "5290 (52.90%) Train loss: 11.882 \t Validation loss: 9.038\n",
      "5300 (53.00%) Train loss: 11.882 \t Validation loss: 9.038\n",
      "5310 (53.10%) Train loss: 11.882 \t Validation loss: 9.037\n",
      "5320 (53.20%) Train loss: 11.882 \t Validation loss: 9.037\n",
      "5330 (53.30%) Train loss: 11.882 \t Validation loss: 9.037\n",
      "5340 (53.40%) Train loss: 11.882 \t Validation loss: 9.038\n",
      "5350 (53.50%) Train loss: 11.882 \t Validation loss: 9.038\n",
      "5360 (53.60%) Train loss: 11.882 \t Validation loss: 9.038\n",
      "5370 (53.70%) Train loss: 11.882 \t Validation loss: 9.038\n",
      "5380 (53.80%) Train loss: 11.882 \t Validation loss: 9.037\n",
      "5390 (53.90%) Train loss: 11.882 \t Validation loss: 9.037\n",
      "5400 (54.00%) Train loss: 11.882 \t Validation loss: 9.038\n",
      "5410 (54.10%) Train loss: 11.882 \t Validation loss: 9.038\n",
      "5420 (54.20%) Train loss: 11.882 \t Validation loss: 9.038\n",
      "5430 (54.30%) Train loss: 11.882 \t Validation loss: 9.038\n",
      "5440 (54.40%) Train loss: 11.882 \t Validation loss: 9.038\n",
      "5450 (54.50%) Train loss: 11.882 \t Validation loss: 9.038\n",
      "5460 (54.60%) Train loss: 11.882 \t Validation loss: 9.037\n",
      "5470 (54.70%) Train loss: 11.882 \t Validation loss: 9.038\n",
      "5480 (54.80%) Train loss: 11.882 \t Validation loss: 9.038\n",
      "5490 (54.90%) Train loss: 11.882 \t Validation loss: 9.038\n",
      "5500 (55.00%) Train loss: 11.882 \t Validation loss: 9.038\n",
      "5510 (55.10%) Train loss: 11.882 \t Validation loss: 9.038\n",
      "5520 (55.20%) Train loss: 11.882 \t Validation loss: 9.038\n",
      "5530 (55.30%) Train loss: 11.882 \t Validation loss: 9.038\n",
      "5540 (55.40%) Train loss: 11.882 \t Validation loss: 9.037\n",
      "5550 (55.50%) Train loss: 11.882 \t Validation loss: 9.038\n",
      "5560 (55.60%) Train loss: 11.882 \t Validation loss: 9.038\n",
      "5570 (55.70%) Train loss: 11.882 \t Validation loss: 9.038\n",
      "5580 (55.80%) Train loss: 11.882 \t Validation loss: 9.038\n",
      "5590 (55.90%) Train loss: 11.882 \t Validation loss: 9.038\n",
      "5600 (56.00%) Train loss: 11.882 \t Validation loss: 9.038\n",
      "5610 (56.10%) Train loss: 11.882 \t Validation loss: 9.038\n",
      "5620 (56.20%) Train loss: 11.882 \t Validation loss: 9.038\n",
      "5630 (56.30%) Train loss: 11.882 \t Validation loss: 9.038\n",
      "5640 (56.40%) Train loss: 11.882 \t Validation loss: 9.038\n",
      "5650 (56.50%) Train loss: 11.882 \t Validation loss: 9.038\n",
      "5660 (56.60%) Train loss: 11.882 \t Validation loss: 9.038\n",
      "5670 (56.70%) Train loss: 11.882 \t Validation loss: 9.038\n",
      "5680 (56.80%) Train loss: 11.882 \t Validation loss: 9.038\n",
      "5690 (56.90%) Train loss: 11.882 \t Validation loss: 9.038\n",
      "5700 (57.00%) Train loss: 11.882 \t Validation loss: 9.038\n",
      "5710 (57.10%) Train loss: 11.882 \t Validation loss: 9.038\n",
      "5720 (57.20%) Train loss: 11.882 \t Validation loss: 9.038\n",
      "5730 (57.30%) Train loss: 11.882 \t Validation loss: 9.038\n",
      "5740 (57.40%) Train loss: 11.882 \t Validation loss: 9.038\n",
      "5750 (57.50%) Train loss: 11.882 \t Validation loss: 9.038\n",
      "5760 (57.60%) Train loss: 11.882 \t Validation loss: 9.038\n",
      "5770 (57.70%) Train loss: 11.882 \t Validation loss: 9.038\n",
      "5780 (57.80%) Train loss: 11.882 \t Validation loss: 9.038\n",
      "5790 (57.90%) Train loss: 11.882 \t Validation loss: 9.038\n",
      "5800 (58.00%) Train loss: 11.882 \t Validation loss: 9.038\n",
      "5810 (58.10%) Train loss: 11.882 \t Validation loss: 9.038\n",
      "5820 (58.20%) Train loss: 11.882 \t Validation loss: 9.038\n",
      "5830 (58.30%) Train loss: 11.881 \t Validation loss: 9.038\n",
      "5840 (58.40%) Train loss: 11.881 \t Validation loss: 9.038\n",
      "5850 (58.50%) Train loss: 11.881 \t Validation loss: 9.038\n",
      "5860 (58.60%) Train loss: 11.881 \t Validation loss: 9.038\n",
      "5870 (58.70%) Train loss: 11.881 \t Validation loss: 9.038\n",
      "5880 (58.80%) Train loss: 11.881 \t Validation loss: 9.038\n",
      "5890 (58.90%) Train loss: 11.881 \t Validation loss: 9.038\n",
      "5900 (59.00%) Train loss: 11.881 \t Validation loss: 9.038\n",
      "5910 (59.10%) Train loss: 11.881 \t Validation loss: 9.038\n",
      "5920 (59.20%) Train loss: 11.881 \t Validation loss: 9.038\n",
      "5930 (59.30%) Train loss: 11.881 \t Validation loss: 9.038\n",
      "5940 (59.40%) Train loss: 11.881 \t Validation loss: 9.038\n",
      "5950 (59.50%) Train loss: 11.881 \t Validation loss: 9.039\n",
      "5960 (59.60%) Train loss: 11.881 \t Validation loss: 9.038\n",
      "5970 (59.70%) Train loss: 11.881 \t Validation loss: 9.038\n",
      "5980 (59.80%) Train loss: 11.881 \t Validation loss: 9.038\n",
      "5990 (59.90%) Train loss: 11.881 \t Validation loss: 9.038\n",
      "6000 (60.00%) Train loss: 11.881 \t Validation loss: 9.038\n",
      "6010 (60.10%) Train loss: 11.881 \t Validation loss: 9.038\n",
      "6020 (60.20%) Train loss: 11.881 \t Validation loss: 9.038\n",
      "6030 (60.30%) Train loss: 11.881 \t Validation loss: 9.039\n",
      "6040 (60.40%) Train loss: 11.881 \t Validation loss: 9.038\n",
      "6050 (60.50%) Train loss: 11.881 \t Validation loss: 9.038\n",
      "6060 (60.60%) Train loss: 11.881 \t Validation loss: 9.038\n",
      "6070 (60.70%) Train loss: 11.881 \t Validation loss: 9.038\n",
      "6080 (60.80%) Train loss: 11.881 \t Validation loss: 9.038\n",
      "6090 (60.90%) Train loss: 11.881 \t Validation loss: 9.038\n",
      "6100 (61.00%) Train loss: 11.881 \t Validation loss: 9.038\n",
      "6110 (61.10%) Train loss: 11.881 \t Validation loss: 9.038\n",
      "6120 (61.20%) Train loss: 11.881 \t Validation loss: 9.039\n",
      "6130 (61.30%) Train loss: 11.881 \t Validation loss: 9.039\n",
      "6140 (61.40%) Train loss: 11.881 \t Validation loss: 9.038\n",
      "6150 (61.50%) Train loss: 11.881 \t Validation loss: 9.038\n",
      "6160 (61.60%) Train loss: 11.881 \t Validation loss: 9.038\n",
      "6170 (61.70%) Train loss: 11.881 \t Validation loss: 9.038\n",
      "6180 (61.80%) Train loss: 11.881 \t Validation loss: 9.038\n",
      "6190 (61.90%) Train loss: 11.881 \t Validation loss: 9.038\n",
      "6200 (62.00%) Train loss: 11.881 \t Validation loss: 9.038\n",
      "6210 (62.10%) Train loss: 11.881 \t Validation loss: 9.039\n",
      "6220 (62.20%) Train loss: 11.881 \t Validation loss: 9.039\n",
      "6230 (62.30%) Train loss: 11.881 \t Validation loss: 9.038\n",
      "6240 (62.40%) Train loss: 11.881 \t Validation loss: 9.038\n",
      "6250 (62.50%) Train loss: 11.881 \t Validation loss: 9.038\n",
      "6260 (62.60%) Train loss: 11.881 \t Validation loss: 9.038\n",
      "6270 (62.70%) Train loss: 11.881 \t Validation loss: 9.038\n",
      "6280 (62.80%) Train loss: 11.881 \t Validation loss: 9.038\n",
      "6290 (62.90%) Train loss: 11.881 \t Validation loss: 9.038\n",
      "6300 (63.00%) Train loss: 11.881 \t Validation loss: 9.039\n",
      "6310 (63.10%) Train loss: 11.881 \t Validation loss: 9.039\n",
      "6320 (63.20%) Train loss: 11.881 \t Validation loss: 9.039\n",
      "6330 (63.30%) Train loss: 11.881 \t Validation loss: 9.038\n",
      "6340 (63.40%) Train loss: 11.881 \t Validation loss: 9.038\n",
      "6350 (63.50%) Train loss: 11.881 \t Validation loss: 9.038\n",
      "6360 (63.60%) Train loss: 11.881 \t Validation loss: 9.038\n",
      "6370 (63.70%) Train loss: 11.881 \t Validation loss: 9.038\n",
      "6380 (63.80%) Train loss: 11.881 \t Validation loss: 9.038\n",
      "6390 (63.90%) Train loss: 11.881 \t Validation loss: 9.039\n",
      "6400 (64.00%) Train loss: 11.881 \t Validation loss: 9.039\n",
      "6410 (64.10%) Train loss: 11.881 \t Validation loss: 9.039\n",
      "6420 (64.20%) Train loss: 11.881 \t Validation loss: 9.038\n",
      "6430 (64.30%) Train loss: 11.881 \t Validation loss: 9.038\n",
      "6440 (64.40%) Train loss: 11.881 \t Validation loss: 9.038\n",
      "6450 (64.50%) Train loss: 11.881 \t Validation loss: 9.038\n",
      "6460 (64.60%) Train loss: 11.881 \t Validation loss: 9.038\n",
      "6470 (64.70%) Train loss: 11.881 \t Validation loss: 9.038\n",
      "6480 (64.80%) Train loss: 11.881 \t Validation loss: 9.039\n",
      "6490 (64.90%) Train loss: 11.881 \t Validation loss: 9.039\n",
      "6500 (65.00%) Train loss: 11.881 \t Validation loss: 9.039\n",
      "6510 (65.10%) Train loss: 11.881 \t Validation loss: 9.038\n",
      "6520 (65.20%) Train loss: 11.881 \t Validation loss: 9.038\n",
      "6530 (65.30%) Train loss: 11.881 \t Validation loss: 9.038\n",
      "6540 (65.40%) Train loss: 11.881 \t Validation loss: 9.038\n",
      "6550 (65.50%) Train loss: 11.881 \t Validation loss: 9.038\n",
      "6560 (65.60%) Train loss: 11.881 \t Validation loss: 9.038\n",
      "6570 (65.70%) Train loss: 11.881 \t Validation loss: 9.039\n",
      "6580 (65.80%) Train loss: 11.881 \t Validation loss: 9.039\n",
      "6590 (65.90%) Train loss: 11.881 \t Validation loss: 9.039\n",
      "6600 (66.00%) Train loss: 11.881 \t Validation loss: 9.039\n",
      "6610 (66.10%) Train loss: 11.881 \t Validation loss: 9.038\n",
      "6620 (66.20%) Train loss: 11.881 \t Validation loss: 9.038\n",
      "6630 (66.30%) Train loss: 11.881 \t Validation loss: 9.038\n",
      "6640 (66.40%) Train loss: 11.881 \t Validation loss: 9.038\n",
      "6650 (66.50%) Train loss: 11.881 \t Validation loss: 9.038\n",
      "6660 (66.60%) Train loss: 11.881 \t Validation loss: 9.038\n",
      "6670 (66.70%) Train loss: 11.881 \t Validation loss: 9.039\n",
      "6680 (66.80%) Train loss: 11.881 \t Validation loss: 9.039\n",
      "6690 (66.90%) Train loss: 11.881 \t Validation loss: 9.039\n",
      "6700 (67.00%) Train loss: 11.881 \t Validation loss: 9.039\n",
      "6710 (67.10%) Train loss: 11.881 \t Validation loss: 9.038\n",
      "6720 (67.20%) Train loss: 11.881 \t Validation loss: 9.038\n",
      "6730 (67.30%) Train loss: 11.881 \t Validation loss: 9.038\n",
      "6740 (67.40%) Train loss: 11.881 \t Validation loss: 9.038\n",
      "6750 (67.50%) Train loss: 11.881 \t Validation loss: 9.038\n",
      "6760 (67.60%) Train loss: 11.881 \t Validation loss: 9.038\n",
      "6770 (67.70%) Train loss: 11.881 \t Validation loss: 9.039\n",
      "6780 (67.80%) Train loss: 11.881 \t Validation loss: 9.039\n",
      "6790 (67.90%) Train loss: 11.881 \t Validation loss: 9.039\n",
      "6800 (68.00%) Train loss: 11.881 \t Validation loss: 9.039\n",
      "6810 (68.10%) Train loss: 11.881 \t Validation loss: 9.038\n",
      "6820 (68.20%) Train loss: 11.881 \t Validation loss: 9.038\n",
      "6830 (68.30%) Train loss: 11.881 \t Validation loss: 9.038\n",
      "6840 (68.40%) Train loss: 11.881 \t Validation loss: 9.038\n",
      "6850 (68.50%) Train loss: 11.881 \t Validation loss: 9.038\n",
      "6860 (68.60%) Train loss: 11.881 \t Validation loss: 9.039\n",
      "6870 (68.70%) Train loss: 11.881 \t Validation loss: 9.039\n",
      "6880 (68.80%) Train loss: 11.881 \t Validation loss: 9.039\n",
      "6890 (68.90%) Train loss: 11.881 \t Validation loss: 9.039\n",
      "6900 (69.00%) Train loss: 11.881 \t Validation loss: 9.039\n",
      "6910 (69.10%) Train loss: 11.881 \t Validation loss: 9.038\n",
      "6920 (69.20%) Train loss: 11.881 \t Validation loss: 9.038\n",
      "6930 (69.30%) Train loss: 11.881 \t Validation loss: 9.038\n",
      "6940 (69.40%) Train loss: 11.881 \t Validation loss: 9.038\n",
      "6950 (69.50%) Train loss: 11.881 \t Validation loss: 9.038\n",
      "6960 (69.60%) Train loss: 11.881 \t Validation loss: 9.039\n",
      "6970 (69.70%) Train loss: 11.881 \t Validation loss: 9.039\n",
      "6980 (69.80%) Train loss: 11.881 \t Validation loss: 9.039\n",
      "6990 (69.90%) Train loss: 11.881 \t Validation loss: 9.039\n",
      "7000 (70.00%) Train loss: 11.881 \t Validation loss: 9.038\n",
      "7010 (70.10%) Train loss: 11.881 \t Validation loss: 9.038\n",
      "7020 (70.20%) Train loss: 11.881 \t Validation loss: 9.038\n",
      "7030 (70.30%) Train loss: 11.881 \t Validation loss: 9.038\n",
      "7040 (70.40%) Train loss: 11.881 \t Validation loss: 9.038\n",
      "7050 (70.50%) Train loss: 11.881 \t Validation loss: 9.038\n",
      "7060 (70.60%) Train loss: 11.881 \t Validation loss: 9.039\n",
      "7070 (70.70%) Train loss: 11.881 \t Validation loss: 9.039\n",
      "7080 (70.80%) Train loss: 11.881 \t Validation loss: 9.039\n",
      "7090 (70.90%) Train loss: 11.881 \t Validation loss: 9.039\n",
      "7100 (71.00%) Train loss: 11.881 \t Validation loss: 9.038\n",
      "7110 (71.10%) Train loss: 11.881 \t Validation loss: 9.038\n",
      "7120 (71.20%) Train loss: 11.881 \t Validation loss: 9.038\n",
      "7130 (71.30%) Train loss: 11.881 \t Validation loss: 9.038\n",
      "7140 (71.40%) Train loss: 11.881 \t Validation loss: 9.038\n",
      "7150 (71.50%) Train loss: 11.881 \t Validation loss: 9.038\n",
      "7160 (71.60%) Train loss: 11.881 \t Validation loss: 9.039\n",
      "7170 (71.70%) Train loss: 11.881 \t Validation loss: 9.039\n",
      "7180 (71.80%) Train loss: 11.881 \t Validation loss: 9.039\n",
      "7190 (71.90%) Train loss: 11.881 \t Validation loss: 9.039\n",
      "7200 (72.00%) Train loss: 11.881 \t Validation loss: 9.038\n",
      "7210 (72.10%) Train loss: 11.881 \t Validation loss: 9.038\n",
      "7220 (72.20%) Train loss: 11.881 \t Validation loss: 9.038\n",
      "7230 (72.30%) Train loss: 11.881 \t Validation loss: 9.038\n",
      "7240 (72.40%) Train loss: 11.881 \t Validation loss: 9.038\n",
      "7250 (72.50%) Train loss: 11.881 \t Validation loss: 9.038\n",
      "7260 (72.60%) Train loss: 11.881 \t Validation loss: 9.039\n",
      "7270 (72.70%) Train loss: 11.881 \t Validation loss: 9.039\n",
      "7280 (72.80%) Train loss: 11.881 \t Validation loss: 9.039\n",
      "7290 (72.90%) Train loss: 11.881 \t Validation loss: 9.039\n",
      "7300 (73.00%) Train loss: 11.881 \t Validation loss: 9.038\n",
      "7310 (73.10%) Train loss: 11.881 \t Validation loss: 9.038\n",
      "7320 (73.20%) Train loss: 11.881 \t Validation loss: 9.038\n",
      "7330 (73.30%) Train loss: 11.881 \t Validation loss: 9.038\n",
      "7340 (73.40%) Train loss: 11.881 \t Validation loss: 9.038\n",
      "7350 (73.50%) Train loss: 11.881 \t Validation loss: 9.038\n",
      "7360 (73.60%) Train loss: 11.881 \t Validation loss: 9.039\n",
      "7370 (73.70%) Train loss: 11.881 \t Validation loss: 9.039\n",
      "7380 (73.80%) Train loss: 11.881 \t Validation loss: 9.039\n",
      "7390 (73.90%) Train loss: 11.881 \t Validation loss: 9.039\n",
      "7400 (74.00%) Train loss: 11.881 \t Validation loss: 9.038\n",
      "7410 (74.10%) Train loss: 11.881 \t Validation loss: 9.038\n",
      "7420 (74.20%) Train loss: 11.881 \t Validation loss: 9.038\n",
      "7430 (74.30%) Train loss: 11.881 \t Validation loss: 9.038\n",
      "7440 (74.40%) Train loss: 11.881 \t Validation loss: 9.038\n",
      "7450 (74.50%) Train loss: 11.881 \t Validation loss: 9.038\n",
      "7460 (74.60%) Train loss: 11.881 \t Validation loss: 9.039\n",
      "7470 (74.70%) Train loss: 11.881 \t Validation loss: 9.039\n",
      "7480 (74.80%) Train loss: 11.881 \t Validation loss: 9.039\n",
      "7490 (74.90%) Train loss: 11.881 \t Validation loss: 9.039\n",
      "7500 (75.00%) Train loss: 11.881 \t Validation loss: 9.038\n",
      "7510 (75.10%) Train loss: 11.881 \t Validation loss: 9.038\n",
      "7520 (75.20%) Train loss: 11.881 \t Validation loss: 9.038\n",
      "7530 (75.30%) Train loss: 11.881 \t Validation loss: 9.038\n",
      "7540 (75.40%) Train loss: 11.881 \t Validation loss: 9.038\n",
      "7550 (75.50%) Train loss: 11.881 \t Validation loss: 9.038\n",
      "7560 (75.60%) Train loss: 11.881 \t Validation loss: 9.039\n",
      "7570 (75.70%) Train loss: 11.881 \t Validation loss: 9.039\n",
      "7580 (75.80%) Train loss: 11.881 \t Validation loss: 9.039\n",
      "7590 (75.90%) Train loss: 11.881 \t Validation loss: 9.039\n",
      "7600 (76.00%) Train loss: 11.881 \t Validation loss: 9.038\n",
      "7610 (76.10%) Train loss: 11.881 \t Validation loss: 9.038\n",
      "7620 (76.20%) Train loss: 11.881 \t Validation loss: 9.038\n",
      "7630 (76.30%) Train loss: 11.881 \t Validation loss: 9.038\n",
      "7640 (76.40%) Train loss: 11.881 \t Validation loss: 9.038\n",
      "7650 (76.50%) Train loss: 11.881 \t Validation loss: 9.038\n",
      "7660 (76.60%) Train loss: 11.881 \t Validation loss: 9.039\n",
      "7670 (76.70%) Train loss: 11.881 \t Validation loss: 9.039\n",
      "7680 (76.80%) Train loss: 11.881 \t Validation loss: 9.039\n",
      "7690 (76.90%) Train loss: 11.881 \t Validation loss: 9.039\n",
      "7700 (77.00%) Train loss: 11.881 \t Validation loss: 9.038\n",
      "7710 (77.10%) Train loss: 11.881 \t Validation loss: 9.038\n",
      "7720 (77.20%) Train loss: 11.881 \t Validation loss: 9.038\n",
      "7730 (77.30%) Train loss: 11.881 \t Validation loss: 9.038\n",
      "7740 (77.40%) Train loss: 11.881 \t Validation loss: 9.038\n",
      "7750 (77.50%) Train loss: 11.881 \t Validation loss: 9.039\n",
      "7760 (77.60%) Train loss: 11.881 \t Validation loss: 9.039\n",
      "7770 (77.70%) Train loss: 11.881 \t Validation loss: 9.039\n",
      "7780 (77.80%) Train loss: 11.881 \t Validation loss: 9.039\n",
      "7790 (77.90%) Train loss: 11.881 \t Validation loss: 9.039\n",
      "7800 (78.00%) Train loss: 11.881 \t Validation loss: 9.038\n",
      "7810 (78.10%) Train loss: 11.881 \t Validation loss: 9.038\n",
      "7820 (78.20%) Train loss: 11.881 \t Validation loss: 9.038\n",
      "7830 (78.30%) Train loss: 11.881 \t Validation loss: 9.038\n",
      "7840 (78.40%) Train loss: 11.881 \t Validation loss: 9.038\n",
      "7850 (78.50%) Train loss: 11.881 \t Validation loss: 9.039\n",
      "7860 (78.60%) Train loss: 11.881 \t Validation loss: 9.039\n",
      "7870 (78.70%) Train loss: 11.881 \t Validation loss: 9.039\n",
      "7880 (78.80%) Train loss: 11.881 \t Validation loss: 9.039\n",
      "7890 (78.90%) Train loss: 11.881 \t Validation loss: 9.038\n",
      "7900 (79.00%) Train loss: 11.881 \t Validation loss: 9.038\n",
      "7910 (79.10%) Train loss: 11.881 \t Validation loss: 9.038\n",
      "7920 (79.20%) Train loss: 11.881 \t Validation loss: 9.038\n",
      "7930 (79.30%) Train loss: 11.881 \t Validation loss: 9.038\n",
      "7940 (79.40%) Train loss: 11.881 \t Validation loss: 9.038\n",
      "7950 (79.50%) Train loss: 11.881 \t Validation loss: 9.039\n",
      "7960 (79.60%) Train loss: 11.881 \t Validation loss: 9.039\n",
      "7970 (79.70%) Train loss: 11.881 \t Validation loss: 9.039\n",
      "7980 (79.80%) Train loss: 11.881 \t Validation loss: 9.039\n",
      "7990 (79.90%) Train loss: 11.881 \t Validation loss: 9.038\n",
      "8000 (80.00%) Train loss: 11.881 \t Validation loss: 9.038\n",
      "8010 (80.10%) Train loss: 11.881 \t Validation loss: 9.038\n",
      "8020 (80.20%) Train loss: 11.881 \t Validation loss: 9.038\n",
      "8030 (80.30%) Train loss: 11.881 \t Validation loss: 9.038\n",
      "8040 (80.40%) Train loss: 11.881 \t Validation loss: 9.038\n",
      "8050 (80.50%) Train loss: 11.881 \t Validation loss: 9.039\n",
      "8060 (80.60%) Train loss: 11.881 \t Validation loss: 9.039\n",
      "8070 (80.70%) Train loss: 11.881 \t Validation loss: 9.039\n",
      "8080 (80.80%) Train loss: 11.881 \t Validation loss: 9.038\n",
      "8090 (80.90%) Train loss: 11.881 \t Validation loss: 9.038\n",
      "8100 (81.00%) Train loss: 11.881 \t Validation loss: 9.038\n",
      "8110 (81.10%) Train loss: 11.881 \t Validation loss: 9.038\n",
      "8120 (81.20%) Train loss: 11.881 \t Validation loss: 9.038\n",
      "8130 (81.30%) Train loss: 11.881 \t Validation loss: 9.038\n",
      "8140 (81.40%) Train loss: 11.881 \t Validation loss: 9.038\n",
      "8150 (81.50%) Train loss: 11.881 \t Validation loss: 9.039\n",
      "8160 (81.60%) Train loss: 11.881 \t Validation loss: 9.039\n",
      "8170 (81.70%) Train loss: 11.881 \t Validation loss: 9.039\n",
      "8180 (81.80%) Train loss: 11.881 \t Validation loss: 9.038\n",
      "8190 (81.90%) Train loss: 11.881 \t Validation loss: 9.038\n",
      "8200 (82.00%) Train loss: 11.881 \t Validation loss: 9.038\n",
      "8210 (82.10%) Train loss: 11.881 \t Validation loss: 9.038\n",
      "8220 (82.20%) Train loss: 11.881 \t Validation loss: 9.038\n",
      "8230 (82.30%) Train loss: 11.881 \t Validation loss: 9.038\n",
      "8240 (82.40%) Train loss: 11.881 \t Validation loss: 9.038\n",
      "8250 (82.50%) Train loss: 11.881 \t Validation loss: 9.039\n",
      "8260 (82.60%) Train loss: 11.881 \t Validation loss: 9.039\n",
      "8270 (82.70%) Train loss: 11.881 \t Validation loss: 9.039\n",
      "8280 (82.80%) Train loss: 11.881 \t Validation loss: 9.038\n",
      "8290 (82.90%) Train loss: 11.881 \t Validation loss: 9.038\n",
      "8300 (83.00%) Train loss: 11.881 \t Validation loss: 9.038\n",
      "8310 (83.10%) Train loss: 11.881 \t Validation loss: 9.038\n",
      "8320 (83.20%) Train loss: 11.881 \t Validation loss: 9.038\n",
      "8330 (83.30%) Train loss: 11.881 \t Validation loss: 9.038\n",
      "8340 (83.40%) Train loss: 11.881 \t Validation loss: 9.039\n",
      "8350 (83.50%) Train loss: 11.881 \t Validation loss: 9.039\n",
      "8360 (83.60%) Train loss: 11.881 \t Validation loss: 9.039\n",
      "8370 (83.70%) Train loss: 11.881 \t Validation loss: 9.039\n",
      "8380 (83.80%) Train loss: 11.881 \t Validation loss: 9.038\n",
      "8390 (83.90%) Train loss: 11.881 \t Validation loss: 9.038\n",
      "8400 (84.00%) Train loss: 11.881 \t Validation loss: 9.038\n",
      "8410 (84.10%) Train loss: 11.881 \t Validation loss: 9.038\n",
      "8420 (84.20%) Train loss: 11.881 \t Validation loss: 9.038\n",
      "8430 (84.30%) Train loss: 11.881 \t Validation loss: 9.038\n",
      "8440 (84.40%) Train loss: 11.881 \t Validation loss: 9.039\n",
      "8450 (84.50%) Train loss: 11.881 \t Validation loss: 9.039\n",
      "8460 (84.60%) Train loss: 11.881 \t Validation loss: 9.039\n",
      "8470 (84.70%) Train loss: 11.881 \t Validation loss: 9.038\n",
      "8480 (84.80%) Train loss: 11.881 \t Validation loss: 9.038\n",
      "8490 (84.90%) Train loss: 11.881 \t Validation loss: 9.038\n",
      "8500 (85.00%) Train loss: 11.881 \t Validation loss: 9.038\n",
      "8510 (85.10%) Train loss: 11.881 \t Validation loss: 9.038\n",
      "8520 (85.20%) Train loss: 11.881 \t Validation loss: 9.038\n",
      "8530 (85.30%) Train loss: 11.881 \t Validation loss: 9.038\n",
      "8540 (85.40%) Train loss: 11.881 \t Validation loss: 9.039\n",
      "8550 (85.50%) Train loss: 11.881 \t Validation loss: 9.039\n",
      "8560 (85.60%) Train loss: 11.881 \t Validation loss: 9.039\n",
      "8570 (85.70%) Train loss: 11.881 \t Validation loss: 9.038\n",
      "8580 (85.80%) Train loss: 11.881 \t Validation loss: 9.038\n",
      "8590 (85.90%) Train loss: 11.881 \t Validation loss: 9.038\n",
      "8600 (86.00%) Train loss: 11.881 \t Validation loss: 9.038\n",
      "8610 (86.10%) Train loss: 11.881 \t Validation loss: 9.038\n",
      "8620 (86.20%) Train loss: 11.881 \t Validation loss: 9.038\n",
      "8630 (86.30%) Train loss: 11.881 \t Validation loss: 9.039\n",
      "8640 (86.40%) Train loss: 11.881 \t Validation loss: 9.039\n",
      "8650 (86.50%) Train loss: 11.881 \t Validation loss: 9.039\n",
      "8660 (86.60%) Train loss: 11.881 \t Validation loss: 9.038\n",
      "8670 (86.70%) Train loss: 11.881 \t Validation loss: 9.038\n",
      "8680 (86.80%) Train loss: 11.881 \t Validation loss: 9.038\n",
      "8690 (86.90%) Train loss: 11.881 \t Validation loss: 9.038\n",
      "8700 (87.00%) Train loss: 11.881 \t Validation loss: 9.038\n",
      "8710 (87.10%) Train loss: 11.881 \t Validation loss: 9.038\n",
      "8720 (87.20%) Train loss: 11.881 \t Validation loss: 9.038\n",
      "8730 (87.30%) Train loss: 11.881 \t Validation loss: 9.039\n",
      "8740 (87.40%) Train loss: 11.881 \t Validation loss: 9.039\n",
      "8750 (87.50%) Train loss: 11.881 \t Validation loss: 9.039\n",
      "8760 (87.60%) Train loss: 11.881 \t Validation loss: 9.038\n",
      "8770 (87.70%) Train loss: 11.881 \t Validation loss: 9.038\n",
      "8780 (87.80%) Train loss: 11.881 \t Validation loss: 9.038\n",
      "8790 (87.90%) Train loss: 11.881 \t Validation loss: 9.038\n",
      "8800 (88.00%) Train loss: 11.881 \t Validation loss: 9.038\n",
      "8810 (88.10%) Train loss: 11.881 \t Validation loss: 9.038\n",
      "8820 (88.20%) Train loss: 11.881 \t Validation loss: 9.039\n",
      "8830 (88.30%) Train loss: 11.881 \t Validation loss: 9.039\n",
      "8840 (88.40%) Train loss: 11.881 \t Validation loss: 9.039\n",
      "8850 (88.50%) Train loss: 11.881 \t Validation loss: 9.038\n",
      "8860 (88.60%) Train loss: 11.881 \t Validation loss: 9.038\n",
      "8870 (88.70%) Train loss: 11.881 \t Validation loss: 9.038\n",
      "8880 (88.80%) Train loss: 11.881 \t Validation loss: 9.038\n",
      "8890 (88.90%) Train loss: 11.881 \t Validation loss: 9.038\n",
      "8900 (89.00%) Train loss: 11.881 \t Validation loss: 9.038\n",
      "8910 (89.10%) Train loss: 11.881 \t Validation loss: 9.038\n",
      "8920 (89.20%) Train loss: 11.881 \t Validation loss: 9.039\n",
      "8930 (89.30%) Train loss: 11.881 \t Validation loss: 9.039\n",
      "8940 (89.40%) Train loss: 11.881 \t Validation loss: 9.039\n",
      "8950 (89.50%) Train loss: 11.881 \t Validation loss: 9.038\n",
      "8960 (89.60%) Train loss: 11.881 \t Validation loss: 9.038\n",
      "8970 (89.70%) Train loss: 11.881 \t Validation loss: 9.038\n",
      "8980 (89.80%) Train loss: 11.881 \t Validation loss: 9.038\n",
      "8990 (89.90%) Train loss: 11.881 \t Validation loss: 9.038\n",
      "9000 (90.00%) Train loss: 11.881 \t Validation loss: 9.038\n",
      "9010 (90.10%) Train loss: 11.881 \t Validation loss: 9.039\n",
      "9020 (90.20%) Train loss: 11.881 \t Validation loss: 9.039\n",
      "9030 (90.30%) Train loss: 11.881 \t Validation loss: 9.038\n",
      "9040 (90.40%) Train loss: 11.881 \t Validation loss: 9.038\n",
      "9050 (90.50%) Train loss: 11.881 \t Validation loss: 9.038\n",
      "9060 (90.60%) Train loss: 11.881 \t Validation loss: 9.038\n",
      "9070 (90.70%) Train loss: 11.881 \t Validation loss: 9.038\n",
      "9080 (90.80%) Train loss: 11.881 \t Validation loss: 9.038\n",
      "9090 (90.90%) Train loss: 11.881 \t Validation loss: 9.038\n",
      "9100 (91.00%) Train loss: 11.881 \t Validation loss: 9.039\n",
      "9110 (91.10%) Train loss: 11.881 \t Validation loss: 9.039\n",
      "9120 (91.20%) Train loss: 11.881 \t Validation loss: 9.038\n",
      "9130 (91.30%) Train loss: 11.881 \t Validation loss: 9.038\n",
      "9140 (91.40%) Train loss: 11.881 \t Validation loss: 9.038\n",
      "9150 (91.50%) Train loss: 11.881 \t Validation loss: 9.038\n",
      "9160 (91.60%) Train loss: 11.881 \t Validation loss: 9.038\n",
      "9170 (91.70%) Train loss: 11.881 \t Validation loss: 9.038\n",
      "9180 (91.80%) Train loss: 11.881 \t Validation loss: 9.038\n",
      "9190 (91.90%) Train loss: 11.881 \t Validation loss: 9.038\n",
      "9200 (92.00%) Train loss: 11.881 \t Validation loss: 9.039\n",
      "9210 (92.10%) Train loss: 11.881 \t Validation loss: 9.039\n",
      "9220 (92.20%) Train loss: 11.881 \t Validation loss: 9.038\n",
      "9230 (92.30%) Train loss: 11.881 \t Validation loss: 9.038\n",
      "9240 (92.40%) Train loss: 11.881 \t Validation loss: 9.038\n",
      "9250 (92.50%) Train loss: 11.881 \t Validation loss: 9.038\n",
      "9260 (92.60%) Train loss: 11.881 \t Validation loss: 9.038\n",
      "9270 (92.70%) Train loss: 11.881 \t Validation loss: 9.038\n",
      "9280 (92.80%) Train loss: 11.881 \t Validation loss: 9.038\n",
      "9290 (92.90%) Train loss: 11.881 \t Validation loss: 9.039\n",
      "9300 (93.00%) Train loss: 11.881 \t Validation loss: 9.039\n",
      "9310 (93.10%) Train loss: 11.881 \t Validation loss: 9.038\n",
      "9320 (93.20%) Train loss: 11.881 \t Validation loss: 9.038\n",
      "9330 (93.30%) Train loss: 11.881 \t Validation loss: 9.038\n",
      "9340 (93.40%) Train loss: 11.881 \t Validation loss: 9.038\n",
      "9350 (93.50%) Train loss: 11.881 \t Validation loss: 9.038\n",
      "9360 (93.60%) Train loss: 11.881 \t Validation loss: 9.038\n",
      "9370 (93.70%) Train loss: 11.881 \t Validation loss: 9.038\n",
      "9380 (93.80%) Train loss: 11.881 \t Validation loss: 9.039\n",
      "9390 (93.90%) Train loss: 11.881 \t Validation loss: 9.039\n",
      "9400 (94.00%) Train loss: 11.881 \t Validation loss: 9.038\n",
      "9410 (94.10%) Train loss: 11.881 \t Validation loss: 9.038\n",
      "9420 (94.20%) Train loss: 11.881 \t Validation loss: 9.038\n",
      "9430 (94.30%) Train loss: 11.881 \t Validation loss: 9.038\n",
      "9440 (94.40%) Train loss: 11.881 \t Validation loss: 9.038\n",
      "9450 (94.50%) Train loss: 11.881 \t Validation loss: 9.038\n",
      "9460 (94.60%) Train loss: 11.881 \t Validation loss: 9.038\n",
      "9470 (94.70%) Train loss: 11.881 \t Validation loss: 9.039\n",
      "9480 (94.80%) Train loss: 11.881 \t Validation loss: 9.039\n",
      "9490 (94.90%) Train loss: 11.881 \t Validation loss: 9.038\n",
      "9500 (95.00%) Train loss: 11.881 \t Validation loss: 9.038\n",
      "9510 (95.10%) Train loss: 11.881 \t Validation loss: 9.038\n",
      "9520 (95.20%) Train loss: 11.881 \t Validation loss: 9.038\n",
      "9530 (95.30%) Train loss: 11.881 \t Validation loss: 9.038\n",
      "9540 (95.40%) Train loss: 11.881 \t Validation loss: 9.038\n",
      "9550 (95.50%) Train loss: 11.881 \t Validation loss: 9.038\n",
      "9560 (95.60%) Train loss: 11.881 \t Validation loss: 9.039\n",
      "9570 (95.70%) Train loss: 11.881 \t Validation loss: 9.039\n",
      "9580 (95.80%) Train loss: 11.881 \t Validation loss: 9.038\n",
      "9590 (95.90%) Train loss: 11.881 \t Validation loss: 9.038\n",
      "9600 (96.00%) Train loss: 11.881 \t Validation loss: 9.038\n",
      "9610 (96.10%) Train loss: 11.881 \t Validation loss: 9.038\n",
      "9620 (96.20%) Train loss: 11.881 \t Validation loss: 9.038\n",
      "9630 (96.30%) Train loss: 11.881 \t Validation loss: 9.038\n",
      "9640 (96.40%) Train loss: 11.881 \t Validation loss: 9.038\n",
      "9650 (96.50%) Train loss: 11.881 \t Validation loss: 9.039\n",
      "9660 (96.60%) Train loss: 11.881 \t Validation loss: 9.039\n",
      "9670 (96.70%) Train loss: 11.881 \t Validation loss: 9.038\n",
      "9680 (96.80%) Train loss: 11.881 \t Validation loss: 9.038\n",
      "9690 (96.90%) Train loss: 11.881 \t Validation loss: 9.038\n",
      "9700 (97.00%) Train loss: 11.881 \t Validation loss: 9.038\n",
      "9710 (97.10%) Train loss: 11.881 \t Validation loss: 9.038\n",
      "9720 (97.20%) Train loss: 11.881 \t Validation loss: 9.038\n",
      "9730 (97.30%) Train loss: 11.881 \t Validation loss: 9.038\n",
      "9740 (97.40%) Train loss: 11.881 \t Validation loss: 9.039\n",
      "9750 (97.50%) Train loss: 11.881 \t Validation loss: 9.039\n",
      "9760 (97.60%) Train loss: 11.881 \t Validation loss: 9.038\n",
      "9770 (97.70%) Train loss: 11.881 \t Validation loss: 9.038\n",
      "9780 (97.80%) Train loss: 11.881 \t Validation loss: 9.038\n",
      "9790 (97.90%) Train loss: 11.881 \t Validation loss: 9.038\n",
      "9800 (98.00%) Train loss: 11.881 \t Validation loss: 9.038\n",
      "9810 (98.10%) Train loss: 11.881 \t Validation loss: 9.038\n",
      "9820 (98.20%) Train loss: 11.881 \t Validation loss: 9.038\n",
      "9830 (98.30%) Train loss: 11.881 \t Validation loss: 9.039\n",
      "9840 (98.40%) Train loss: 11.881 \t Validation loss: 9.039\n",
      "9850 (98.50%) Train loss: 11.881 \t Validation loss: 9.038\n",
      "9860 (98.60%) Train loss: 11.881 \t Validation loss: 9.038\n",
      "9870 (98.70%) Train loss: 11.881 \t Validation loss: 9.038\n",
      "9880 (98.80%) Train loss: 11.881 \t Validation loss: 9.038\n",
      "9890 (98.90%) Train loss: 11.881 \t Validation loss: 9.038\n",
      "9900 (99.00%) Train loss: 11.881 \t Validation loss: 9.038\n",
      "9910 (99.10%) Train loss: 11.881 \t Validation loss: 9.038\n",
      "9920 (99.20%) Train loss: 11.881 \t Validation loss: 9.039\n",
      "9930 (99.30%) Train loss: 11.881 \t Validation loss: 9.038\n",
      "9940 (99.40%) Train loss: 11.881 \t Validation loss: 9.038\n",
      "9950 (99.50%) Train loss: 11.881 \t Validation loss: 9.038\n",
      "9960 (99.60%) Train loss: 11.881 \t Validation loss: 9.038\n",
      "9970 (99.70%) Train loss: 11.881 \t Validation loss: 9.038\n",
      "9980 (99.80%) Train loss: 11.881 \t Validation loss: 9.038\n",
      "9990 (99.90%) Train loss: 11.881 \t Validation loss: 9.038\n"
     ]
    },
    {
     "data": {
      "text/plain": "<Figure size 640x480 with 1 Axes>",
      "image/png": "[encoded data removed]"
     },
     "metadata": {},
     "output_type": "display_data"
    }
   ],
   "source": [
    "# Over-fitting: (Kinda failed on this one??)\n",
    "NNO = [\n",
    "    DenseLayer(1, 8, lambda x: x.relu()),\n",
    "    DenseLayer(8, 1, lambda x: x.identity())\n",
    "]\n",
    "\n",
    "EPOCHS = 10000 # Converged after 3000ish\n",
    "LEARN_R = 2e-4\n",
    "trainPlot(EPOCHS=EPOCHS, LEARN_R=LEARN_R, NN=NNO)"
   ],
   "metadata": {
    "collapsed": false
   }
  },
  {
   "cell_type": "markdown",
   "metadata": {
    "id": "fYPZP-eTFtIo"
   },
   "source": [
    "# Next steps - classification\n",
    "\n",
    "It is straight forward to extend what we have done to classification. \n",
    "\n",
    "For numerical stability it is better to make softmax and cross-entropy as one function so we write the cross entropy loss as a function of the logits we talked about last week. \n",
    "\n",
    "Next week we will see how to perform classification in PyTorch."
   ]
  },
  {
   "cell_type": "markdown",
   "metadata": {
    "id": "qsVPul3QFtIo"
   },
   "source": [
    "## Exercise m) optional - Implement backpropagation for classification\n",
    "\n",
    "Should be possible with very few lines of code. :-)"
   ]
  },
  {
   "cell_type": "code",
   "execution_count": null,
   "metadata": {
    "id": "oC8QrI2tFtIp"
   },
   "outputs": [],
   "source": [
    "# Just add code."
   ]
  },
  {
   "cell_type": "markdown",
   "metadata": {
    "id": "APqhJv3tta1O"
   },
   "source": [
    "## Exercise n) optional - Introduce a NeuralNetwork class\n",
    "\n",
    "The functions we applied on the neural network (parameters, update_parameters and zero_gradients) can more naturally be included as methods in a NeuralNetwork class. Make such a class and modify the code to use it. "
   ]
  },
  {
   "cell_type": "code",
   "execution_count": null,
   "metadata": {
    "id": "Dqfnor1ouMLq"
   },
   "outputs": [],
   "source": [
    "# just add some code"
   ]
  }
 ],
 "metadata": {
  "anaconda-cloud": {},
  "colab": {
   "collapsed_sections": [
    "U4057_ljNvWB",
    "p_8n_SKnIW2F",
    "oLrGJytZFtGm",
    "jpIZPBpNI0pO",
    "_79HOAXrFtHK",
    "mqeyab9qFtGs",
    "-XyXBD37FtHk",
    "SrwSJ2UWFtHu",
    "zTBAmjsAFtIk",
    "qsVPul3QFtIo",
    "APqhJv3tta1O"
   ],
   "name": "2.1-EXE-FNN-AutoDif-Nanograd.ipynb",
   "provenance": []
  },
  "kernelspec": {
   "display_name": "Python 3",
   "language": "python",
   "name": "python3"
  },
  "language_info": {
   "codemirror_mode": {
    "name": "ipython",
    "version": 3
   },
   "file_extension": ".py",
   "mimetype": "text/x-python",
   "name": "python",
   "nbconvert_exporter": "python",
   "pygments_lexer": "ipython3",
   "version": "3.9.12"
  }
 },
 "nbformat": 4,
 "nbformat_minor": 1
}
