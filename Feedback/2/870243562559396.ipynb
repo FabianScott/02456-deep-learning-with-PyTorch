{
 "cells": [
  {
   "cell_type": "markdown",
   "metadata": {
    "id": "HAva8TnYFtFu"
   },
   "source": [
    "# Contents and why we need this lab\n",
    "\n",
    "This lab is about implementing neural networks yourself before we start using other frameworks that hide some of the computation from you. It builds on the first lab, where you derived the equations for neural network forward and backward propagation and gradient descent parameter updates.\n",
    "\n",
    "All the frameworks for deep learning you will meet from now on use automatic differentiation (autodiff), so you do not have to code the backward step yourself. In this version of this lab, you will develop your own autodif implementation. We also have an optional [version](https://github.com/DeepLearningDTU/02456-deep-learning-with-PyTorch/blob/master/2_Feedforward_Python/2.2-FNN-NumPy.ipynb) of this lab where you have to code the backward pass explicitly in Numpy."
   ]
  },
  {
   "cell_type": "markdown",
   "metadata": {
    "id": "sCa7HzwpFtFy"
   },
   "source": [
    "# External sources of information\n",
    "\n",
    "1. Jupyter notebook. You can find more information about Jupyter notebooks [here](https://jupyter.org/). It will come as part of the [Anaconda](https://www.anaconda.com/) Python installation.\n",
    "2. [NumPy](https://numpy.org/). Part of Anaconda distribution.  If you already know how to program, most things about Python and NumPy can be found with Google searches.\n",
    "3. [Nanograd](https://github.com/rasmusbergpalm/nanograd) is a minimalistic version of autodiff developed by Rasmus Berg Palm that we use for our framework.\n"
   ]
  },
  {
   "cell_type": "markdown",
   "metadata": {
    "id": "1SjiIp-TFtF0"
   },
   "source": [
    "# This notebook will follow the next steps:\n",
    "\n",
    "1. Nanograd automatic differentiation framework\n",
    "2. Finite difference method\n",
    "3. Data generation\n",
    "4. Defining and initializing the network\n",
    "5. Forward pass\n",
    "6. Training loop\n",
    "7. Testing your model\n",
    "8. Further extensions"
   ]
  },
  {
   "cell_type": "markdown",
   "metadata": {
    "id": "OyXeAA-HuT7s"
   },
   "source": [
    "# Nanograd automatic differention framework"
   ]
  },
  {
   "cell_type": "markdown",
   "metadata": {
    "id": "k6UWKCLKubgA"
   },
   "source": [
    "The [Nanograd](https://github.com/rasmusbergpalm/nanograd) framework defines a class Var which both holds a value and gradient value that we can use to store the intermediate values when we apply the chain rule of differentiation."
   ]
  },
  {
   "cell_type": "code",
   "execution_count": 15,
   "metadata": {
    "id": "Jd4CoEBNzNWS"
   },
   "outputs": [],
   "source": [
    "# Copy and pasted from https://github.com/rasmusbergpalm/nanograd/blob/3a1bf9e9e724da813bfccf91a6f309abdade9f39/nanograd.py\n",
    "\n",
    "from math import exp, log, tanh\n",
    "\n",
    "class Var:\n",
    "    \"\"\"\n",
    "    A variable which holds a float and enables gradient computations.\n",
    "    \"\"\"\n",
    "\n",
    "    def __init__(self, val: float, grad_fn=lambda: []):\n",
    "        assert type(val) == float\n",
    "        self.v = val\n",
    "        self.grad_fn = grad_fn\n",
    "        self.grad = 0.0\n",
    "\n",
    "    def backprop(self, bp):\n",
    "        self.grad += bp\n",
    "        for input, grad in self.grad_fn():\n",
    "            input.backprop(grad * bp)\n",
    "\n",
    "    def backward(self):\n",
    "        self.backprop(1.0)\n",
    "\n",
    "    def __add__(self: 'Var', other: 'Var') -> 'Var':\n",
    "        return Var(self.v + other.v, lambda: [(self, 1.0), (other, 1.0)])\n",
    "\n",
    "    def __mul__(self: 'Var', other: 'Var') -> 'Var':\n",
    "        return Var(self.v * other.v, lambda: [(self, other.v), (other, self.v)])\n",
    "\n",
    "    def __pow__(self, power):\n",
    "        assert type(power) in {float, int}, \"power must be float or int\"\n",
    "        return Var(self.v ** power, lambda: [(self, power * self.v ** (power - 1))])\n",
    "\n",
    "    def __neg__(self: 'Var') -> 'Var':\n",
    "        return Var(-1.0) * self\n",
    "\n",
    "    def __sub__(self: 'Var', other: 'Var') -> 'Var':\n",
    "        return self + (-other)\n",
    "\n",
    "    def __truediv__(self: 'Var', other: 'Var') -> 'Var':\n",
    "        return self * other ** -1\n",
    "\n",
    "    def __repr__(self):\n",
    "        return \"Var(v=%.4f, grad=%.4f)\" % (self.v, self.grad)\n",
    "\n",
    "    def relu(self):\n",
    "        return Var(self.v if self.v > 0.0 else 0.0, lambda: [(self, 1.0 if self.v > 0.0 else 0.0)])\n",
    "\n",
    "    def identity(self):\n",
    "      return Var(self.v, lambda: [(self, self.v)])\n",
    "\n",
    "    def tanh(self):\n",
    "      return Var(tanh(self.v), lambda: [(self, tanh(self.v))])\n",
    "\n",
    "    def sigmoid(self):\n",
    "      return Var(1/(1.0+exp(-self.v)), lambda: [self, 1/(1.0+exp(-self.v))])\n",
    "\n",
    "    def exp(self):\n",
    "      return Var(exp(self.v), lambda: [(self, exp(self.v))])\n",
    "\n",
    "    def log(self):\n",
    "      return Var(log(self.v), lambda: [(self, self.v ** -1)])\n"
   ]
  },
  {
   "cell_type": "markdown",
   "metadata": {
    "id": "yDX67D6jzcte"
   },
   "source": [
    "A few examples illustrate how we can use this:"
   ]
  },
  {
   "cell_type": "code",
   "execution_count": 16,
   "metadata": {
    "id": "xk6PeLc3zwPT",
    "colab": {
     "base_uri": "https://localhost:8080/"
    },
    "outputId": "42dfe03a-b264-427e-a954-477ec25bc9a4"
   },
   "outputs": [
    {
     "output_type": "stream",
     "name": "stdout",
     "text": [
      "Var(v=3.0000, grad=5.0000)\n",
      "Var(v=5.0000, grad=3.0000)\n",
      "Var(v=15.0000, grad=1.0000)\n"
     ]
    }
   ],
   "source": [
    "a = Var(3.0)\n",
    "b = Var(5.0)\n",
    "f = a * b\n",
    "\n",
    "f.backward()\n",
    "\n",
    "for v in [a, b, f]:\n",
    "    print(v)"
   ]
  },
  {
   "cell_type": "code",
   "execution_count": 17,
   "metadata": {
    "id": "JmKhYgsY0g_o",
    "colab": {
     "base_uri": "https://localhost:8080/"
    },
    "outputId": "8cff3709-3fb8-4893-ef1f-9447e120194e"
   },
   "outputs": [
    {
     "output_type": "stream",
     "name": "stdout",
     "text": [
      "Var(v=3.0000, grad=14.0000)\n",
      "Var(v=5.0000, grad=3.0000)\n",
      "Var(v=15.0000, grad=1.0000)\n",
      "Var(v=9.0000, grad=3.0000)\n",
      "Var(v=27.0000, grad=1.0000)\n",
      "Var(v=42.0000, grad=1.0000)\n"
     ]
    }
   ],
   "source": [
    "a = Var(3.0)\n",
    "b = Var(5.0)\n",
    "c = a * b\n",
    "d = Var(9.0)\n",
    "e = a * d\n",
    "f = c + e\n",
    "\n",
    "f.backward()\n",
    "\n",
    "for v in [a, b, c, d, e, f]:\n",
    "    print(v)"
   ]
  },
  {
   "cell_type": "markdown",
   "metadata": {
    "id": "Fe3B6uEH140p"
   },
   "source": [
    "## Exercise a) What is being calculated?\n",
    "\n",
    "Explain briefly the output of the code? What is the expression we differentiate and with respect to what variables?"
   ]
  },
  {
   "cell_type": "markdown",
   "source": [
    "**Answer**\n",
    "\n",
    "The output of the code is the values and gradients of the different nodes after applying chain differentiation. The function being differentiated is $f$ and it is being differentiated with respect to the different nodes - e.g., the gradient of the node $a$ is equal to $\\frac{\\delta f}{\\delta a}$.\n",
    "\n",
    "The gradients for the nodes can be defined as follows:\n",
    "\n",
    "$$ a_{grad} = \\frac{\\delta f}{\\delta a}=\\frac{\\delta (c + e)}{\\delta a}= \\frac{\\delta (a+b + a+d)}{\\delta a}=\\frac{\\delta a\\cdot(b +d)}{\\delta a} = b+d$$\n",
    "$$ b_{grad} = \\frac{\\delta f}{\\delta b}=\\frac{\\delta c}{\\delta b}= \\frac{\\delta (a+b)}{\\delta b}=\\frac{\\delta b\\cdot a}{\\delta b} = a$$\n",
    "$$ c_{grad} = \\frac{\\delta f}{\\delta c}=\\frac{\\delta(c + e)}{\\delta c}=\\frac{\\delta c\\cdot e}{\\delta c} = e$$\n",
    "$$ d_{grad} = \\frac{\\delta f}{\\delta d}=\\frac{\\delta(e)}{\\delta d}=\\frac{\\delta (a+d)}{\\delta d} = \\frac{\\delta d\\cdot a}{\\delta d} = a$$\n",
    "$$ e_{grad} = \\frac{\\delta f}{\\delta e}=\\frac{\\delta(c + e)}{\\delta e}=\\frac{\\delta e\\cdot c}{\\delta e} = c$$\n",
    "$$ f_{grad} = \\frac{\\delta f}{\\delta f}$$\n",
    "\n",
    "Looking at the values printed from the function above, it is seen that they correspond to the gradients given here. E.g., looking at the gradient for $a$ which we've defined as $b+d$ above, we get the value 14 in the code which corresponds to 5+9 which is indeed the values of $b$ and $d$."
   ],
   "metadata": {
    "id": "PU3jX94jMblj"
   }
  },
  {
   "cell_type": "markdown",
   "metadata": {
    "id": "q8_Q0t2I3Ruj"
   },
   "source": [
    "## Exercise b) How does the backward function work?\n",
    "\n",
    "You need to understand how the backward function calculates the gradients. We can use the two examples above to help with that.\n",
    "\n",
    "Go through the following four steps and answer the questions on the way:\n",
    "\n",
    "1. We represent the two expressions as graphs as shown below. Fill in the missing expressions for the different derivatives.\n",
    "\n",
    "2. In the remainder consider the first expression. Make a schematic of the data structure which is generated when we define the expression for f.\n",
    "\n",
    "3. Then execute the backward function by hand to convince yourself that it indeed calculates the gradients with respect to the variables.\n",
    "\n",
    "4. Write down the sequence of calls to backprop."
   ]
  },
  {
   "cell_type": "code",
   "execution_count": 18,
   "metadata": {
    "id": "idGr71jYXl26"
   },
   "outputs": [],
   "source": [
    "# import logging\n",
    "import graphviz\n",
    "\n",
    "#logging.basicConfig(format='[%(levelname)s@%(name)s] %(message)s', level=logging.DEBUG)\n",
    "\n",
    "#graphviz.__version__, graphviz.version()"
   ]
  },
  {
   "cell_type": "code",
   "execution_count": 19,
   "metadata": {
    "id": "KPe30Q2QXzeG",
    "colab": {
     "base_uri": "https://localhost:8080/",
     "height": 152
    },
    "outputId": "1456fe61-4725-4845-c5d2-c42f2b1ec2a7"
   },
   "outputs": [
    {
     "output_type": "execute_result",
     "data": {
      "image/svg+xml": "<?xml version=\"1.0\" encoding=\"UTF-8\" standalone=\"no\"?>\n<!DOCTYPE svg PUBLIC \"-//W3C//DTD SVG 1.1//EN\"\n \"http://www.w3.org/Graphics/SVG/1.1/DTD/svg11.dtd\">\n<!-- Generated by graphviz version 2.43.0 (0)\n -->\n<!-- Title: first expression Pages: 1 -->\n<svg width=\"159pt\" height=\"98pt\"\n viewBox=\"0.00 0.00 159.00 98.00\" xmlns=\"http://www.w3.org/2000/svg\" xmlns:xlink=\"http://www.w3.org/1999/xlink\">\n<g id=\"graph0\" class=\"graph\" transform=\"scale(1 1) rotate(0) translate(4 94)\">\n<title>first expression</title>\n<polygon fill=\"white\" stroke=\"transparent\" points=\"-4,4 -4,-94 155,-94 155,4 -4,4\"/>\n<!-- a -->\n<g id=\"node1\" class=\"node\">\n<title>a</title>\n<ellipse fill=\"none\" stroke=\"black\" cx=\"18\" cy=\"-72\" rx=\"18\" ry=\"18\"/>\n<text text-anchor=\"middle\" x=\"18\" y=\"-68.3\" font-family=\"Times,serif\" font-size=\"14.00\">a</text>\n</g>\n<!-- f -->\n<g id=\"node2\" class=\"node\">\n<title>f</title>\n<ellipse fill=\"none\" stroke=\"black\" cx=\"133\" cy=\"-45\" rx=\"18\" ry=\"18\"/>\n<text text-anchor=\"middle\" x=\"133\" y=\"-41.3\" font-family=\"Times,serif\" font-size=\"14.00\">f</text>\n</g>\n<!-- a&#45;&gt;f -->\n<g id=\"edge1\" class=\"edge\">\n<title>a&#45;&gt;f</title>\n<path fill=\"none\" stroke=\"black\" d=\"M35.67,-68.02C54.03,-63.63 83.81,-56.51 105.4,-51.36\"/>\n<polygon fill=\"black\" stroke=\"black\" points=\"106.35,-54.73 115.26,-49 104.72,-47.92 106.35,-54.73\"/>\n<text text-anchor=\"middle\" x=\"75.5\" y=\"-66.8\" font-family=\"Times,serif\" font-size=\"14.00\">df/da=b</text>\n</g>\n<!-- b -->\n<g id=\"node3\" class=\"node\">\n<title>b</title>\n<ellipse fill=\"none\" stroke=\"black\" cx=\"18\" cy=\"-18\" rx=\"18\" ry=\"18\"/>\n<text text-anchor=\"middle\" x=\"18\" y=\"-14.3\" font-family=\"Times,serif\" font-size=\"14.00\">b</text>\n</g>\n<!-- b&#45;&gt;f -->\n<g id=\"edge2\" class=\"edge\">\n<title>b&#45;&gt;f</title>\n<path fill=\"none\" stroke=\"black\" d=\"M35.85,-20.94C51.73,-23.83 76.12,-28.59 97,-34 99.89,-34.75 102.9,-35.59 105.88,-36.47\"/>\n<polygon fill=\"black\" stroke=\"black\" points=\"105.13,-39.9 115.72,-39.5 107.19,-33.21 105.13,-39.9\"/>\n<text text-anchor=\"middle\" x=\"75.5\" y=\"-37.8\" font-family=\"Times,serif\" font-size=\"14.00\">df/db=a</text>\n</g>\n</g>\n</svg>\n",
      "text/plain": [
       "<graphviz.graphs.Digraph at 0x7e4fa1fd8700>"
      ]
     },
     "metadata": {},
     "execution_count": 19
    }
   ],
   "source": [
    "e1 = graphviz.Digraph('first expression', filename='fsm.gv')\n",
    "\n",
    "e1.attr(rankdir='LR', size='8,5')\n",
    "\n",
    "e1.attr('node', shape='circle')\n",
    "e1.edge('a', 'f', label='df/da=b')\n",
    "e1.edge('b', 'f', label='df/db=a')\n",
    "\n",
    "e1"
   ]
  },
  {
   "cell_type": "code",
   "execution_count": 20,
   "metadata": {
    "id": "0nittR-mZFeX",
    "colab": {
     "base_uri": "https://localhost:8080/",
     "height": 232
    },
    "outputId": "421f2014-467e-48a4-fac7-7d7a3bae6bf0"
   },
   "outputs": [
    {
     "output_type": "execute_result",
     "data": {
      "image/svg+xml": "<?xml version=\"1.0\" encoding=\"UTF-8\" standalone=\"no\"?>\n<!DOCTYPE svg PUBLIC \"-//W3C//DTD SVG 1.1//EN\"\n \"http://www.w3.org/Graphics/SVG/1.1/DTD/svg11.dtd\">\n<!-- Generated by graphviz version 2.43.0 (0)\n -->\n<!-- Title: second expression Pages: 1 -->\n<svg width=\"276pt\" height=\"158pt\"\n viewBox=\"0.00 0.00 276.00 158.00\" xmlns=\"http://www.w3.org/2000/svg\" xmlns:xlink=\"http://www.w3.org/1999/xlink\">\n<g id=\"graph0\" class=\"graph\" transform=\"scale(1 1) rotate(0) translate(4 154)\">\n<title>second expression</title>\n<polygon fill=\"white\" stroke=\"transparent\" points=\"-4,4 -4,-154 272,-154 272,4 -4,4\"/>\n<!-- a -->\n<g id=\"node1\" class=\"node\">\n<title>a</title>\n<ellipse fill=\"none\" stroke=\"black\" cx=\"18\" cy=\"-75\" rx=\"18\" ry=\"18\"/>\n<text text-anchor=\"middle\" x=\"18\" y=\"-71.3\" font-family=\"Times,serif\" font-size=\"14.00\">a</text>\n</g>\n<!-- c -->\n<g id=\"node2\" class=\"node\">\n<title>c</title>\n<ellipse fill=\"none\" stroke=\"black\" cx=\"135\" cy=\"-102\" rx=\"18\" ry=\"18\"/>\n<text text-anchor=\"middle\" x=\"135\" y=\"-98.3\" font-family=\"Times,serif\" font-size=\"14.00\">c</text>\n</g>\n<!-- a&#45;&gt;c -->\n<g id=\"edge1\" class=\"edge\">\n<title>a&#45;&gt;c</title>\n<path fill=\"none\" stroke=\"black\" d=\"M35.97,-78.98C54.76,-83.4 85.31,-90.57 107.31,-95.73\"/>\n<polygon fill=\"black\" stroke=\"black\" points=\"106.8,-99.21 117.34,-98.09 108.4,-92.39 106.8,-99.21\"/>\n<text text-anchor=\"middle\" x=\"76.5\" y=\"-96.8\" font-family=\"Times,serif\" font-size=\"14.00\">dc/da=b</text>\n</g>\n<!-- e -->\n<g id=\"node4\" class=\"node\">\n<title>e</title>\n<ellipse fill=\"none\" stroke=\"black\" cx=\"135\" cy=\"-48\" rx=\"18\" ry=\"18\"/>\n<text text-anchor=\"middle\" x=\"135\" y=\"-44.3\" font-family=\"Times,serif\" font-size=\"14.00\">e</text>\n</g>\n<!-- a&#45;&gt;e -->\n<g id=\"edge3\" class=\"edge\">\n<title>a&#45;&gt;e</title>\n<path fill=\"none\" stroke=\"black\" d=\"M35.28,-69.49C41.14,-67.61 47.83,-65.58 54,-64 71.5,-59.51 91.43,-55.53 107.01,-52.65\"/>\n<polygon fill=\"black\" stroke=\"black\" points=\"107.8,-56.07 117.03,-50.85 106.56,-49.18 107.8,-56.07\"/>\n<text text-anchor=\"middle\" x=\"76.5\" y=\"-67.8\" font-family=\"Times,serif\" font-size=\"14.00\">de/da=d</text>\n</g>\n<!-- f -->\n<g id=\"node6\" class=\"node\">\n<title>f</title>\n<ellipse fill=\"none\" stroke=\"black\" cx=\"250\" cy=\"-75\" rx=\"18\" ry=\"18\"/>\n<text text-anchor=\"middle\" x=\"250\" y=\"-71.3\" font-family=\"Times,serif\" font-size=\"14.00\">f</text>\n</g>\n<!-- c&#45;&gt;f -->\n<g id=\"edge5\" class=\"edge\">\n<title>c&#45;&gt;f</title>\n<path fill=\"none\" stroke=\"black\" d=\"M152.67,-98.02C171.03,-93.63 200.81,-86.51 222.4,-81.36\"/>\n<polygon fill=\"black\" stroke=\"black\" points=\"223.35,-84.73 232.26,-79 221.72,-77.92 223.35,-84.73\"/>\n<text text-anchor=\"middle\" x=\"192.5\" y=\"-96.8\" font-family=\"Times,serif\" font-size=\"14.00\">df/dc=e</text>\n</g>\n<!-- b -->\n<g id=\"node3\" class=\"node\">\n<title>b</title>\n<ellipse fill=\"none\" stroke=\"black\" cx=\"18\" cy=\"-132\" rx=\"18\" ry=\"18\"/>\n<text text-anchor=\"middle\" x=\"18\" y=\"-128.3\" font-family=\"Times,serif\" font-size=\"14.00\">b</text>\n</g>\n<!-- b&#45;&gt;c -->\n<g id=\"edge2\" class=\"edge\">\n<title>b&#45;&gt;c</title>\n<path fill=\"none\" stroke=\"black\" d=\"M35.97,-127.57C54.85,-122.65 85.58,-114.63 107.61,-108.88\"/>\n<polygon fill=\"black\" stroke=\"black\" points=\"108.54,-112.26 117.34,-106.35 106.78,-105.48 108.54,-112.26\"/>\n<text text-anchor=\"middle\" x=\"76.5\" y=\"-125.8\" font-family=\"Times,serif\" font-size=\"14.00\">dc/db=a</text>\n</g>\n<!-- e&#45;&gt;f -->\n<g id=\"edge6\" class=\"edge\">\n<title>e&#45;&gt;f</title>\n<path fill=\"none\" stroke=\"black\" d=\"M152.85,-50.94C168.73,-53.83 193.12,-58.59 214,-64 216.89,-64.75 219.9,-65.59 222.88,-66.47\"/>\n<polygon fill=\"black\" stroke=\"black\" points=\"222.13,-69.9 232.72,-69.5 224.19,-63.21 222.13,-69.9\"/>\n<text text-anchor=\"middle\" x=\"192.5\" y=\"-67.8\" font-family=\"Times,serif\" font-size=\"14.00\">df/de=c</text>\n</g>\n<!-- d -->\n<g id=\"node5\" class=\"node\">\n<title>d</title>\n<ellipse fill=\"none\" stroke=\"black\" cx=\"18\" cy=\"-18\" rx=\"18\" ry=\"18\"/>\n<text text-anchor=\"middle\" x=\"18\" y=\"-14.3\" font-family=\"Times,serif\" font-size=\"14.00\">d</text>\n</g>\n<!-- d&#45;&gt;e -->\n<g id=\"edge4\" class=\"edge\">\n<title>d&#45;&gt;e</title>\n<path fill=\"none\" stroke=\"black\" d=\"M36.03,-20.87C52.35,-23.8 77.59,-28.79 99,-35 102.17,-35.92 105.47,-36.99 108.72,-38.12\"/>\n<polygon fill=\"black\" stroke=\"black\" points=\"107.54,-41.41 118.13,-41.55 109.94,-34.83 107.54,-41.41\"/>\n<text text-anchor=\"middle\" x=\"76.5\" y=\"-38.8\" font-family=\"Times,serif\" font-size=\"14.00\">de/dd=a</text>\n</g>\n</g>\n</svg>\n",
      "text/plain": [
       "<graphviz.graphs.Digraph at 0x7e4fa1fd9300>"
      ]
     },
     "metadata": {},
     "execution_count": 20
    }
   ],
   "source": [
    "e2 = graphviz.Digraph('second expression', filename='fsm.gv')\n",
    "\n",
    "e2.attr(rankdir='LR', size='8,5')\n",
    "\n",
    "e2.attr('node', shape='circle')\n",
    "e2.edge('a', 'c', label='dc/da=b')\n",
    "e2.edge('b', 'c', label='dc/db=a')\n",
    "e2.edge('a', 'e', label='de/da=d')\n",
    "e2.edge('d', 'e', label='de/dd=a')\n",
    "e2.edge('c', 'f', label='df/dc=e')\n",
    "e2.edge('e', 'f', label='df/de=c')\n",
    "\n",
    "e2"
   ]
  },
  {
   "cell_type": "markdown",
   "source": [
    "**Answer to b.1** \\\\\n",
    "The missing expressions have been filled in the graphs above.\n",
    "\n",
    "**Answer to b.2** \\\\\n",
    "A schematic (or function) way to express the data structure could be as in the answer given to exercise a.\n",
    "\n",
    "Another way is to write is as given from the code:\n",
    "\n",
    "$$f = (a.v \\cdot b.v, lambda: [(a, b.v), (b, a.v)]) = (15.0, [(3, 5), (5,3)])$$\n",
    "\n",
    "**Answer to b.3** \\\\\n",
    "Executing the backprop by hand, we can again write the equations as we did in exercise a:\n",
    "\n",
    "$$ f_{grad} = \\frac{\\delta f}{\\delta f}$$\n",
    "$$ a_{grad} = \\frac{\\delta f}{\\delta a}=\\frac{\\delta (a + b)}{\\delta a}= \\frac{\\delta a \\cdot b}{\\delta a}= b$$\n",
    "$$ b_{grad} = \\frac{\\delta f}{\\delta b}=\\frac{\\delta (a + b)}{\\delta b}= \\frac{\\delta b \\cdot a}{\\delta b}= a$$\n",
    "\n",
    "For the values $a=3$ and $b=5$ as in the example above, this will indeed give ud the graients for $a$ and $b$ equal to 5 and 3, respectively, and the gradient of $f$ equal to 1.\n",
    "\n",
    "**Answer to b.4** \\\\\n",
    "The sequence of call to backprop are as follows:\n",
    "1. f.backward()\n",
    "2. f.backprop()\n",
    "3. f.grad = 1\n",
    "4. a.backprop()\n",
    "5. a.grad = b.v\n",
    "6. b.backprop()\n",
    "7. b.grad = a.v\n"
   ],
   "metadata": {
    "id": "dSeMAP6U5CXG"
   }
  },
  {
   "cell_type": "markdown",
   "metadata": {
    "id": "A5oi21W4gpeM"
   },
   "source": [
    "## Exercise c) What happens if we run backward again?\n",
    "\n",
    "Try to execute the code below. Explain what happens."
   ]
  },
  {
   "cell_type": "code",
   "execution_count": 21,
   "metadata": {
    "id": "DCtpJyr-gyX1",
    "colab": {
     "base_uri": "https://localhost:8080/"
    },
    "outputId": "78505e43-6287-4367-c986-feb78d5ce894"
   },
   "outputs": [
    {
     "output_type": "stream",
     "name": "stdout",
     "text": [
      "Var(v=3.0000, grad=28.0000)\n",
      "Var(v=5.0000, grad=6.0000)\n",
      "Var(v=15.0000, grad=2.0000)\n",
      "Var(v=9.0000, grad=6.0000)\n",
      "Var(v=27.0000, grad=2.0000)\n",
      "Var(v=42.0000, grad=2.0000)\n"
     ]
    }
   ],
   "source": [
    "f.backward()\n",
    "\n",
    "for v in [a, b, c, d, e, f]:\n",
    "    print(v)"
   ]
  },
  {
   "cell_type": "markdown",
   "source": [
    "**Answer**\n",
    "\n",
    "What happens is that the nodes (a, b, c, etc.) gradients' are updated in increments of the same value every time. This value corresponds to the value of the gradient after the first backpropagation.\n",
    "This makes sense if we see in the definition of the backprop-function, we have 'grad += bp'."
   ],
   "metadata": {
    "id": "tYOTyqL9-Vj-"
   }
  },
  {
   "cell_type": "markdown",
   "metadata": {
    "id": "e8bPVq2VhsP-"
   },
   "source": [
    "## Exercise d) Zero gradient\n",
    "\n",
    "We can zero the gradient by backpropagating a -1.0 as is shown in the example below. (If you have run backward multiple time then you also have to run the cell below an equal amount of times.) Explain what is going on."
   ]
  },
  {
   "cell_type": "code",
   "execution_count": 22,
   "metadata": {
    "id": "OnyPDQx9lJe0",
    "colab": {
     "base_uri": "https://localhost:8080/"
    },
    "outputId": "bdb90b28-5ca9-432a-ac48-8f2c84cdaebb"
   },
   "outputs": [
    {
     "output_type": "stream",
     "name": "stdout",
     "text": [
      "Var(v=2.0000, grad=0.0000)\n",
      "Var(v=5.0000, grad=6.0000)\n",
      "Var(v=15.0000, grad=2.0000)\n",
      "Var(v=9.0000, grad=6.0000)\n",
      "Var(v=27.0000, grad=2.0000)\n",
      "Var(v=42.0000, grad=2.0000)\n",
      "Call backprop(-1.0)\n",
      "Var(v=2.0000, grad=0.0000)\n",
      "Var(v=5.0000, grad=3.0000)\n",
      "Var(v=15.0000, grad=1.0000)\n",
      "Var(v=9.0000, grad=3.0000)\n",
      "Var(v=27.0000, grad=1.0000)\n",
      "Var(v=42.0000, grad=1.0000)\n"
     ]
    }
   ],
   "source": [
    "a = Var(2.0)\n",
    "\n",
    "for v in [a, b, c, d, e, f]:\n",
    "    print(v)\n",
    "\n",
    "print('Call backprop(-1.0)')\n",
    "f.backprop(-1.0)\n",
    "\n",
    "for v in [a, b, c, d, e, f]:\n",
    "    print(v)"
   ]
  },
  {
   "cell_type": "markdown",
   "source": [
    "**Answer**\n",
    "\n",
    "This is due to the fact, that the gradient is simply summed up by the same value every time (the bp, which will always be the same for a given node). If we call backprop with -1, it is the same as multiplying bp with -1, which essentially mean that we subtract the increment. Therefore, you need to call backprop(-1.0) the same amount of times that you've called backprop(1.0) to zero the gradient."
   ],
   "metadata": {
    "id": "wGs-YzPL_mii"
   }
  },
  {
   "cell_type": "markdown",
   "metadata": {
    "id": "U4057_ljNvWB"
   },
   "source": [
    "## Exercise e) Test correctness of derivatives with the finite difference method\n",
    "\n",
    "Write a small function that uses [the finite difference method](https://en.wikipedia.org/wiki/Finite_difference_method) to numerically test that backpropation implementation is working. In short we will use\n",
    "$$\n",
    "\\frac{\\partial f(a)}{\\partial a} \\approx \\frac{f(a+da)-f(a)}{da}\n",
    "$$\n",
    "for $da \\ll 1$.\n",
    "\n",
    "As an example, we could approximate the derivative of the function $f(a)=a^2$ in e.g. the value $a=4$ using the finite difference method. This amounts to inserting the relevant values and approximating the gradient $f'(4)$ with the fraction above.\n"
   ]
  },
  {
   "cell_type": "code",
   "execution_count": 23,
   "metadata": {
    "id": "9TGil92lSXDN",
    "colab": {
     "base_uri": "https://localhost:8080/"
    },
    "outputId": "5d4e612e-9ec5-46e0-ba0c-2456822a8b74"
   },
   "outputs": [
    {
     "output_type": "stream",
     "name": "stdout",
     "text": [
      "Var(v=3.0000, grad=5.0000)\n",
      "Var(v=5.0000, grad=3.0000)\n",
      "Var(v=15.0000, grad=1.0000)\n",
      "5.000018177270249\n"
     ]
    }
   ],
   "source": [
    "# f function - try to change the code to test other types of functions as well (such as different polynomials etc.)\n",
    "def f_function(a):\n",
    "  a = Var(a)\n",
    "  b = Var(5.0)\n",
    "  f = a * b\n",
    "  f.backward()\n",
    "  return a,b,f\n",
    "\n",
    "for v in f_function(3.0):\n",
    "  print(v)\n",
    "\n",
    "# Insert your finite difference code here\n",
    "def finite_difference(da=1e-10):\n",
    "    \"\"\"\n",
    "    This function compute the finite difference between\n",
    "\n",
    "    Input:\n",
    "    da:          The finite difference                           (float)\n",
    "\n",
    "    Output:\n",
    "    finite_difference: numerical approximation to the derivative (float)\n",
    "    \"\"\"\n",
    "    a = 4.0\n",
    "    _,_,f = f_function(a+da)\n",
    "    _,_,fa = f_function(a)\n",
    "\n",
    "    fa_da = f.v          # <- Insert correct expression\n",
    "    fa = fa.v              # <- Insert correct expression\n",
    "\n",
    "    finite_difference = (fa_da - fa) / da\n",
    "\n",
    "    return finite_difference\n",
    "\n",
    "print(finite_difference())"
   ]
  },
  {
   "cell_type": "markdown",
   "source": [
    "**Answer**\n",
    "\n",
    "It is seen that we get the value 5 when using the finite difference method. This value is the same as we have in the gradient for a in our own function. We can therefore conclude that it works."
   ],
   "metadata": {
    "id": "OaJlmKKtHooK"
   }
  },
  {
   "cell_type": "markdown",
   "metadata": {
    "id": "6pZar5RKaUkg"
   },
   "source": [
    "# Create an artificial dataset to play with\n",
    "\n",
    "We create a non-linear 1d regression task. The generator supports various noise levels and it creates train, validation and test sets. You can modify it yourself if you want more or less challenging tasks."
   ]
  },
  {
   "cell_type": "code",
   "execution_count": 24,
   "metadata": {
    "id": "Y6yfMAQ8aduj"
   },
   "outputs": [],
   "source": [
    "import numpy as np\n",
    "import matplotlib.pyplot as plt\n",
    "\n",
    "np.random.seed(42)"
   ]
  },
  {
   "cell_type": "code",
   "execution_count": 25,
   "metadata": {
    "id": "4YabfD43ajNh"
   },
   "outputs": [],
   "source": [
    "def data_generator(noise=0.1, n_samples=300, D1=True):\n",
    "    # Create covariates and response variable\n",
    "    if D1:\n",
    "        X = np.linspace(-3, 3, num=n_samples).reshape(-1,1) # 1-D\n",
    "        np.random.shuffle(X)\n",
    "        y = np.random.normal((0.5*np.sin(X[:,0]*3) + X[:,0]), noise) # 1-D with trend\n",
    "    else:\n",
    "        X = np.random.multivariate_normal(np.zeros(3), noise*np.eye(3), size = n_samples) # 3-D\n",
    "        np.random.shuffle(X)\n",
    "        y = np.sin(X[:,0]) - 5*(X[:,1]**2) + 0.5*X[:,2] # 3-D\n",
    "\n",
    "    # Stack them together vertically to split data set\n",
    "    data_set = np.vstack((X.T,y)).T\n",
    "\n",
    "    train, validation, test = np.split(data_set, [int(0.35*n_samples), int(0.7*n_samples)], axis=0)\n",
    "\n",
    "    # Standardization of the data, remember we do the standardization with the training set mean and standard deviation\n",
    "    train_mu = np.mean(train, axis=0)\n",
    "    train_sigma = np.std(train, axis=0)\n",
    "\n",
    "    train = (train-train_mu)/train_sigma\n",
    "    validation = (validation-train_mu)/train_sigma\n",
    "    test = (test-train_mu)/train_sigma\n",
    "\n",
    "    x_train, x_validation, x_test = train[:,:-1], validation[:,:-1], test[:,:-1]\n",
    "    y_train, y_validation, y_test = train[:,-1], validation[:,-1], test[:,-1]\n",
    "\n",
    "    return x_train, y_train,  x_validation, y_validation, x_test, y_test"
   ]
  },
  {
   "cell_type": "code",
   "execution_count": 26,
   "metadata": {
    "id": "u1oDngHLapIz"
   },
   "outputs": [],
   "source": [
    "D1 = True\n",
    "x_train, y_train,  x_validation, y_validation, x_test, y_test = data_generator(noise=0.5, D1=D1)"
   ]
  },
  {
   "cell_type": "code",
   "execution_count": 27,
   "metadata": {
    "id": "Ysfa3FsBavlm",
    "colab": {
     "base_uri": "https://localhost:8080/",
     "height": 430
    },
    "outputId": "67014b84-b27c-4595-9c63-7301b9e3e52d"
   },
   "outputs": [
    {
     "output_type": "display_data",
     "data": {
      "text/plain": [
       "<Figure size 640x480 with 1 Axes>"
      ],
      "image/png": "[encoded data removed]"
     },
     "metadata": {}
    }
   ],
   "source": [
    "if D1:\n",
    "    plt.scatter(x_train[:,0], y_train);\n",
    "    plt.scatter(x_validation[:,0], y_validation);\n",
    "    plt.scatter(x_test[:,0], y_test);\n",
    "else:\n",
    "    plt.scatter(x_train[:,1], y_train);\n",
    "    plt.scatter(x_validation[:,1], y_validation);\n",
    "    plt.scatter(x_test[:,1], y_test);\n",
    "plt.show()"
   ]
  },
  {
   "cell_type": "code",
   "execution_count": 28,
   "metadata": {
    "id": "zac2HHNlgbpm"
   },
   "outputs": [],
   "source": [
    "# convert from nparray to Var\n",
    "def nparray_to_Var(x):\n",
    "  if x.ndim==1:\n",
    "    y = [[Var(float(x[i]))] for i in range(x.shape[0])] # always work with list of list\n",
    "  else:\n",
    "    y = [[Var(float(x[i,j])) for j in range(x.shape[1])] for i in range(x.shape[0])]\n",
    "  return y\n",
    "\n",
    "x_train = nparray_to_Var(x_train)\n",
    "y_train = nparray_to_Var(y_train)\n",
    "x_validation = nparray_to_Var(x_validation)\n",
    "y_validation = nparray_to_Var(y_validation)\n",
    "x_test = nparray_to_Var(x_test)\n",
    "y_test = nparray_to_Var(y_test)\n"
   ]
  },
  {
   "cell_type": "markdown",
   "metadata": {
    "id": "VbjrqcpVFtGe"
   },
   "source": [
    "# Defining and initializing the network\n",
    "\n",
    "The steps to create a feed forward neural network are the following:\n",
    "\n",
    "1. **Number of hidden layer and hidden units**. We have to define the number of hidden units in each layer. The number of features in X and the output dimensionality (the size of Y) are given but the numbers in between are set by the researcher. Remember that for each unit in each layer beside in the input has a bias term.\n",
    "2. **Activation functions** for each hidden layer. Each hidden layer in your list must have an activation function (it can also be the linear activation which is equivalent to identity function). The power of neural networks comes from non-linear activation functions that learn representations (features) from the data allowing us to learn from it.\n",
    "3. **Parameter initialization**. We will initialize the weights to have random values. This is done in practice by drawing pseudo random numbers from a Gaussian or uniform distribution. It turns out that for deeper models we have to be careful about how we scale the random numbers. This will be the topic of the exercise below. For now we will just use unit variance Gaussians.  \n",
    "\n",
    "In order to make life easier for ourselves we define a DenseLayer class that takes care of initialization and the forward pass. We can also extend it later with print and advanced initialization capabilities. For the latter we have introduced a Initializer class.\n",
    "\n",
    "Note that we use Sequence in the code below. A Sequence is an ordered list. This means the order we insert and access items are the same."
   ]
  },
  {
   "cell_type": "code",
   "execution_count": 29,
   "metadata": {
    "id": "ij_ieRsAt7Xt"
   },
   "outputs": [],
   "source": [
    "class Initializer:\n",
    "\n",
    "  def init_weights(self, n_in, n_out):\n",
    "    raise NotImplementedError\n",
    "\n",
    "  def init_bias(self, n_out):\n",
    "    raise NotImplementedError"
   ]
  },
  {
   "cell_type": "code",
   "execution_count": 30,
   "metadata": {
    "id": "eb18N5phuIha"
   },
   "outputs": [],
   "source": [
    "import random\n",
    "\n",
    "class NormalInitializer(Initializer):\n",
    "\n",
    "  def __init__(self, mean=0, std=0.1):\n",
    "    self.mean = mean\n",
    "    self.std = std\n",
    "\n",
    "  def init_weights(self, n_in, n_out):\n",
    "    return [[Var(random.gauss(self.mean, self.std)) for _ in range(n_out)] for _ in range(n_in)]\n",
    "\n",
    "  def init_bias(self, n_out):\n",
    "    return [Var(0.0) for _ in range(n_out)]\n",
    "\n",
    "class ConstantInitializer(Initializer):\n",
    "\n",
    "  def __init__(self, weight=1.0, bias=0.0):\n",
    "    self.weight = weight\n",
    "    self.bias = bias\n",
    "\n",
    "  def init_weights(self, n_in, n_out):\n",
    "    return [[Var(self.weight) for _ in range(n_out)] for _ in range(n_in)]\n",
    "\n",
    "  def init_bias(self, n_out):\n",
    "    return [Var(self.bias) for _ in range(n_out)]"
   ]
  },
  {
   "cell_type": "code",
   "execution_count": 31,
   "metadata": {
    "id": "jOLYGnZKuM6W"
   },
   "outputs": [],
   "source": [
    "from typing import Sequence\n",
    "\n",
    "class DenseLayer:\n",
    "    def __init__(self, n_in: int, n_out: int, act_fn, initializer = NormalInitializer()):\n",
    "        self.weights = initializer.init_weights(n_in, n_out)\n",
    "        self.bias = initializer.init_bias(n_out)\n",
    "        self.act_fn = act_fn\n",
    "\n",
    "    def __repr__(self):\n",
    "        return 'Weights: ' + repr(self.weights) + ' Biases: ' + repr(self.bias)\n",
    "\n",
    "    def parameters(self) -> Sequence[Var]:\n",
    "      params = []\n",
    "      for r in self.weights:\n",
    "        params += r\n",
    "\n",
    "      return params + self.bias\n",
    "\n",
    "    def forward(self, single_input: Sequence[Var]) -> Sequence[Var]:\n",
    "        # self.weights is a matrix with dimension n_in x n_out. We check that the dimensionality of the input\n",
    "        # to the current layer matches the number of nodes in the current layer\n",
    "        assert len(self.weights) == len(single_input), \"weights and single_input must match in first dimension\"\n",
    "        weights = self.weights\n",
    "        out = []\n",
    "        # For some given data point single_input, we now want to calculate the resulting value in each node in the current layer\n",
    "        # We therefore loop over the (number of) nodes in the current layer:\n",
    "        for j in range(len(weights[0])):\n",
    "            # Initialize the node value depending on its corresponding parameters.\n",
    "            node = self.bias[j] # <- Code inserted\n",
    "            # We now finish the linear transformation corresponding to the parameters of the currently considered node.\n",
    "            for i in range(len(single_input)):\n",
    "                node += self.weights[i][j]*single_input[i]  # <- Code inserted\n",
    "            node = self.act_fn(node)\n",
    "            out.append(node)\n",
    "\n",
    "        return out"
   ]
  },
  {
   "cell_type": "markdown",
   "metadata": {
    "id": "jpIZPBpNI0pO"
   },
   "source": [
    "## Exercise f) Add more activation functions\n",
    "\n",
    "To have a full definition of the neural network, we must define an activation function for every layer. Several activation functions have been proposed and have different characteristics. In the Var class we have already defined the rectified linear init (relu).\n",
    "\n",
    "Implement the following activation functions in the Var class:\n",
    "\n",
    "* Identity: $$\\mathrm{identity}(x) = x$$\n",
    "* Hyperbolic tangent: $$\\tanh(x)$$\n",
    "* Sigmoid (or logistic function): $$\\mathrm{sigmoid}(x) = \\frac{1}{1.0 + \\exp(-x ) }$$  Hint: $\\mathrm{sigmoid}'(x)= \\mathrm{sigmoid}(x)(1-\\mathrm{sigmoid}(x))$.  \n",
    "\n",
    "Hint: You can seek inspiration in the relu method in the Var class."
   ]
  },
  {
   "cell_type": "markdown",
   "source": [
    "**Answer**\n",
    "\n",
    "See the Var class in the top of the document for the implementations.\n",
    "\n",
    "The implemented code can also be seen below:\n",
    "\n",
    "    def identity(self):\n",
    "      return Var(self.v, lambda: [(self, self.v)])\n",
    "\n",
    "    def tanh(self):\n",
    "      return Var(tanh(self.v), lambda: [(self, tanh(self.v))])\n",
    "\n",
    "    def sigmoid(self):\n",
    "      return Var(1/(1.0+exp(-self.v)), lambda: [self, 1/(1.0+exp(-self.v))])"
   ],
   "metadata": {
    "id": "7v4igWyuUWP-"
   }
  },
  {
   "cell_type": "code",
   "source": [
    "test = Var(5.0)\n",
    "print('Identity: ',test.identity())\n",
    "print('tanh:     ', test.tanh())\n",
    "print('Sigmoid:  ',test.sigmoid())"
   ],
   "metadata": {
    "colab": {
     "base_uri": "https://localhost:8080/"
    },
    "id": "Y2aVAQbTUrsp",
    "outputId": "f8c3d7ce-3efe-47bf-e2b3-661d6ff40169"
   },
   "execution_count": 32,
   "outputs": [
    {
     "output_type": "stream",
     "name": "stdout",
     "text": [
      "Identity:  Var(v=5.0000, grad=0.0000)\n",
      "tanh:      Var(v=0.9999, grad=0.0000)\n",
      "Sigmoid:   Var(v=0.9933, grad=0.0000)\n"
     ]
    }
   ]
  },
  {
   "cell_type": "markdown",
   "metadata": {
    "id": "p_8n_SKnIW2F"
   },
   "source": [
    "## Exercise g) Complete the forward pass\n",
    "\n",
    "In the code below we initialize a 1-5-1 network and pass the training set through it. *The forward method in DenseLayer is **not** complete*. It just outputs zeros right now. The method forward should perform an [affine transformation](https://en.wikipedia.org/wiki/Affine_transformation) on the input followed by an application of the activation function."
   ]
  },
  {
   "cell_type": "code",
   "execution_count": 33,
   "metadata": {
    "id": "xDEjtePxE7Mv",
    "colab": {
     "base_uri": "https://localhost:8080/"
    },
    "outputId": "ed019848-3a0f-4029-84e8-fac313744a69"
   },
   "outputs": [
    {
     "output_type": "stream",
     "name": "stdout",
     "text": [
      "[[Var(v=0.0035, grad=0.0000)], [Var(v=0.0071, grad=0.0000)], [Var(v=0.0006, grad=0.0000)], [Var(v=-0.0059, grad=0.0000)], [Var(v=0.0052, grad=0.0000)], [Var(v=0.0048, grad=0.0000)], [Var(v=0.0031, grad=0.0000)], [Var(v=-0.0014, grad=0.0000)], [Var(v=-0.0061, grad=0.0000)], [Var(v=0.0019, grad=0.0000)], [Var(v=0.0054, grad=0.0000)], [Var(v=-0.0038, grad=0.0000)], [Var(v=0.0044, grad=0.0000)], [Var(v=-0.0043, grad=0.0000)], [Var(v=0.0023, grad=0.0000)], [Var(v=0.0045, grad=0.0000)], [Var(v=0.0084, grad=0.0000)], [Var(v=0.0040, grad=0.0000)], [Var(v=0.0004, grad=0.0000)], [Var(v=0.0014, grad=0.0000)], [Var(v=-0.0028, grad=0.0000)], [Var(v=-0.0012, grad=0.0000)], [Var(v=0.0061, grad=0.0000)], [Var(v=0.0062, grad=0.0000)], [Var(v=-0.0017, grad=0.0000)], [Var(v=-0.0045, grad=0.0000)], [Var(v=0.0079, grad=0.0000)], [Var(v=0.0087, grad=0.0000)], [Var(v=0.0009, grad=0.0000)], [Var(v=0.0055, grad=0.0000)], [Var(v=-0.0056, grad=0.0000)], [Var(v=0.0013, grad=0.0000)], [Var(v=-0.0049, grad=0.0000)], [Var(v=-0.0053, grad=0.0000)], [Var(v=0.0042, grad=0.0000)], [Var(v=-0.0010, grad=0.0000)], [Var(v=-0.0060, grad=0.0000)], [Var(v=-0.0023, grad=0.0000)], [Var(v=-0.0043, grad=0.0000)], [Var(v=-0.0031, grad=0.0000)], [Var(v=-0.0022, grad=0.0000)], [Var(v=-0.0029, grad=0.0000)], [Var(v=0.0082, grad=0.0000)], [Var(v=-0.0036, grad=0.0000)], [Var(v=-0.0029, grad=0.0000)], [Var(v=-0.0035, grad=0.0000)], [Var(v=0.0053, grad=0.0000)], [Var(v=0.0050, grad=0.0000)], [Var(v=-0.0013, grad=0.0000)], [Var(v=0.0051, grad=0.0000)], [Var(v=0.0022, grad=0.0000)], [Var(v=0.0002, grad=0.0000)], [Var(v=0.0056, grad=0.0000)], [Var(v=-0.0030, grad=0.0000)], [Var(v=0.0088, grad=0.0000)], [Var(v=0.0078, grad=0.0000)], [Var(v=-0.0020, grad=0.0000)], [Var(v=-0.0022, grad=0.0000)], [Var(v=0.0029, grad=0.0000)], [Var(v=-0.0052, grad=0.0000)], [Var(v=0.0052, grad=0.0000)], [Var(v=-0.0037, grad=0.0000)], [Var(v=-0.0061, grad=0.0000)], [Var(v=0.0025, grad=0.0000)], [Var(v=0.0018, grad=0.0000)], [Var(v=-0.0050, grad=0.0000)], [Var(v=-0.0054, grad=0.0000)], [Var(v=0.0065, grad=0.0000)], [Var(v=-0.0038, grad=0.0000)], [Var(v=0.0026, grad=0.0000)], [Var(v=-0.0015, grad=0.0000)], [Var(v=-0.0007, grad=0.0000)], [Var(v=0.0050, grad=0.0000)], [Var(v=0.0030, grad=0.0000)], [Var(v=-0.0005, grad=0.0000)], [Var(v=0.0080, grad=0.0000)], [Var(v=-0.0026, grad=0.0000)], [Var(v=-0.0026, grad=0.0000)], [Var(v=-0.0034, grad=0.0000)], [Var(v=0.0083, grad=0.0000)], [Var(v=0.0013, grad=0.0000)], [Var(v=0.0008, grad=0.0000)], [Var(v=-0.0055, grad=0.0000)], [Var(v=-0.0008, grad=0.0000)], [Var(v=-0.0028, grad=0.0000)], [Var(v=-0.0012, grad=0.0000)], [Var(v=-0.0010, grad=0.0000)], [Var(v=-0.0031, grad=0.0000)], [Var(v=-0.0057, grad=0.0000)], [Var(v=-0.0059, grad=0.0000)], [Var(v=0.0030, grad=0.0000)], [Var(v=-0.0018, grad=0.0000)], [Var(v=-0.0033, grad=0.0000)], [Var(v=0.0047, grad=0.0000)], [Var(v=-0.0047, grad=0.0000)], [Var(v=-0.0056, grad=0.0000)], [Var(v=0.0022, grad=0.0000)], [Var(v=0.0004, grad=0.0000)], [Var(v=0.0075, grad=0.0000)], [Var(v=-0.0033, grad=0.0000)], [Var(v=0.0049, grad=0.0000)], [Var(v=-0.0032, grad=0.0000)], [Var(v=-0.0049, grad=0.0000)], [Var(v=0.0024, grad=0.0000)], [Var(v=0.0070, grad=0.0000)]]\n"
     ]
    }
   ],
   "source": [
    "NN = [\n",
    "    DenseLayer(1, 5, lambda x: x.relu()),\n",
    "    DenseLayer(5, 1, lambda x: x.identity())\n",
    "]\n",
    "\n",
    "def forward(input, network):\n",
    "\n",
    "  def forward_single(x, network):\n",
    "    for layer in network:\n",
    "        x = layer.forward(x)\n",
    "    return x\n",
    "\n",
    "  output = [ forward_single(input[n], network) for n in range(len(input))]\n",
    "  return output\n",
    "\n",
    "print(forward(x_train, NN))\n"
   ]
  },
  {
   "cell_type": "markdown",
   "source": [
    "**Answer**\n",
    "\n",
    "The implemented code is seen below:\n",
    "\n",
    "    for j in range(len(weights[0])):\n",
    "      # Initialize the node value depending on its corresponding parameters.\n",
    "      node = self.bias[j] # <- Code inserted\n",
    "      # We now finish the linear transformation corresponding to the  parameters of the currently considered node.\n",
    "      for i in range(len(single_input)):\n",
    "          node += self.weights[i][j]*single_input[i]  # <- Code inserted\n",
    "      node = self.act_fn(node)\n",
    "      out.append(node)\n"
   ],
   "metadata": {
    "id": "-jUKkF-OgQF0"
   }
  },
  {
   "cell_type": "markdown",
   "metadata": {
    "id": "oLrGJytZFtGm"
   },
   "source": [
    "## Exercise h) Print all network parameters\n",
    "\n",
    "Make a function that prints all the parameters of the network (weights and biases) with information about in which layer the appear. In the object oriented spirit you should introduce a method in the DenseLayer class to print the parameters of a layer. Hint: You can take inspiration from the corresponding method in Var."
   ]
  },
  {
   "cell_type": "markdown",
   "source": [
    "**Answer**\n",
    "\n",
    "The print funciton implemented in the Denselayer class is seen below:\n",
    "\n",
    "    def __repr__(self):\n",
    "          return 'Weights: ' + repr(self.weights) + ' Biases: ' + repr(self.bias)\n",
    "\n",
    "Below, a loop is implemented to also print which layer it is:"
   ],
   "metadata": {
    "id": "FxqISUsQp_of"
   }
  },
  {
   "cell_type": "code",
   "execution_count": 34,
   "metadata": {
    "id": "iac-VwYGFtGm",
    "colab": {
     "base_uri": "https://localhost:8080/"
    },
    "outputId": "082bd351-4187-4d30-c1c9-e4d3b7ae71cd"
   },
   "outputs": [
    {
     "output_type": "stream",
     "name": "stdout",
     "text": [
      "Layer 0: Weights: [[Var(v=-0.1707, grad=0.0000), Var(v=0.0365, grad=0.0000), Var(v=-0.0741, grad=0.0000), Var(v=0.0404, grad=0.0000), Var(v=-0.1222, grad=0.0000)]] Biases: [Var(v=0.0000, grad=0.0000), Var(v=0.0000, grad=0.0000), Var(v=0.0000, grad=0.0000), Var(v=0.0000, grad=0.0000), Var(v=0.0000, grad=0.0000)]\n",
      "Layer 1: Weights: [[Var(v=0.0394, grad=0.0000)], [Var(v=0.0333, grad=0.0000)], [Var(v=-0.1149, grad=0.0000)], [Var(v=0.0907, grad=0.0000)], [Var(v=-0.0174, grad=0.0000)]] Biases: [Var(v=0.0000, grad=0.0000)]\n"
     ]
    }
   ],
   "source": [
    "# Insert code here and in the DenseLayer class\n",
    "for i, layer in enumerate(NN):\n",
    "  print('Layer {}:'.format(i), layer)"
   ]
  },
  {
   "cell_type": "markdown",
   "metadata": {
    "id": "_79HOAXrFtHK"
   },
   "source": [
    "## Visualization\n",
    "\n",
    "Now that we have defined our activation functions we can visualize them to see what they look like:"
   ]
  },
  {
   "cell_type": "code",
   "execution_count": 35,
   "metadata": {
    "id": "1FcylHqLTl-Z",
    "colab": {
     "base_uri": "https://localhost:8080/",
     "height": 447
    },
    "outputId": "e42b2ad3-8e64-46b3-d52e-16bc86e7d4b6"
   },
   "outputs": [
    {
     "output_type": "execute_result",
     "data": {
      "text/plain": [
       "[<matplotlib.lines.Line2D at 0x7e4fbcb46d10>]"
      ]
     },
     "metadata": {},
     "execution_count": 35
    },
    {
     "output_type": "display_data",
     "data": {
      "text/plain": [
       "<Figure size 640x480 with 1 Axes>"
      ],
      "image/png": "[encoded data removed]"
     },
     "metadata": {}
    }
   ],
   "source": [
    "x = np.linspace(-6, 6, 100)\n",
    "\n",
    "# convert from Var to ndarray\n",
    "def Var_to_nparray(x):\n",
    "  y = np.zeros((len(x),len(x[0])))\n",
    "  for i in range(len(x)):\n",
    "    for j in range(len(x[0])):\n",
    "      y[i,j] = x[i][j].v\n",
    "  return y\n",
    "\n",
    "# define 1-1 network with weight = 1 and relu activation\n",
    "NN = [ DenseLayer(1, 1, lambda x: x.relu(), initializer = ConstantInitializer(1.0)) ]\n",
    "y = Var_to_nparray(forward(nparray_to_Var(x), NN))\n",
    "\n",
    "#y = Var_to_nparray(relu(nparray_to_Var(x)))\n",
    "plt.plot(x,y)"
   ]
  },
  {
   "cell_type": "code",
   "execution_count": 36,
   "metadata": {
    "id": "oOL2UolJFtHL",
    "colab": {
     "base_uri": "https://localhost:8080/",
     "height": 476
    },
    "outputId": "155cca57-40bf-444f-c183-cd13a8229a52"
   },
   "outputs": [
    {
     "output_type": "display_data",
     "data": {
      "text/plain": [
       "<Figure size 500x500 with 1 Axes>"
      ],
      "image/png": "[encoded data removed]"
     },
     "metadata": {}
    }
   ],
   "source": [
    "# Testing all activation layers\n",
    "\n",
    "x = np.linspace(-6, 6, 100)\n",
    "units = {\n",
    "    \"identity\": lambda x: x.identity(),\n",
    "    \"sigmoid\": lambda x: x.sigmoid(),\n",
    "    \"relu\": lambda x: x.relu(),\n",
    "    \"tanh\": lambda x: x.tanh()\n",
    "}\n",
    "\n",
    "plt.figure(figsize=(5, 5))\n",
    "[plt.plot(x, Var_to_nparray(forward(nparray_to_Var(x), [DenseLayer(1, 1, unit, initializer = ConstantInitializer(1.0))]) ), label=unit_name, lw=2) for unit_name, unit in units.items()] # unit(nparray_to_Var(x))), label=unit_name, lw=2) for unit_name, unit in units.items()]\n",
    "plt.legend(loc=2, fontsize=16)\n",
    "plt.title('Our activation functions', fontsize=20)\n",
    "plt.ylim([-2, 5])\n",
    "plt.xlim([-6, 6])\n",
    "plt.show()"
   ]
  },
  {
   "cell_type": "markdown",
   "metadata": {
    "id": "b-jdEl-7FtGs"
   },
   "source": [
    "# Advanced initialization schemes\n",
    "\n",
    "If we are not careful with initialization, the signals we propagate forward ($a^{(l)}$, $l=1,\\ldots,L$) and backward ($\\delta^l$, $l=L,L-1,\\ldots,1$) can blow up or shrink to zero. A statistical analysis of the variance of the signals for different activation functions can be found in these two papers: [Glorot initialization](http://proceedings.mlr.press/v9/glorot10a/glorot10a.pdf) and [He initialization](https://arxiv.org/pdf/1502.01852v1.pdf).\n",
    "\n",
    "The result of the analyses are proposals for how to make the initialization such that the variance of the signals (forward and backward) are kept approxmimatly constant when propagating from layer to layer. The exact expressions depend upon the non-linear activation function used. In Glorot initialization, the aim is to keep both the forward and backward variances constant whereas He only aims at keeping the variance in the forward pass constant.\n",
    "\n",
    "We define $n_{in}$ and $n_{out}$ as the number of input units and output units of a particular layer.\n",
    "\n",
    "The Glorot initialization has the form:\n",
    "\n",
    "$$w_{ij} \\sim N \\bigg( 0, \\, \\frac{2 \\alpha }{n_{in} + n_{out}} \\bigg) \\ . $$\n",
    "\n",
    "where $N(\\mu,\\sigma^2)$ is a Gaussian distribution with mean $\\mu$ and variance $\\sigma^2$ and $\\alpha$ is a parameter that depends upon the activation function used. For $\\tanh$, $\\alpha=1$ and for Rectified Linear Unit (ReLU) activations, $\\alpha=2$. (It is also possible to use a uniform distribution for initialization, see [this blog post](https://mmuratarat.github.io/2019-02-25/xavier-glorot-he-weight-init).)\n",
    "\n",
    "The He initialization is very similar\n",
    "\n",
    "$$w_{ij} \\sim N \\bigg( 0, \\, \\frac{\\alpha}{n_{in}} \\bigg) \\ . $$"
   ]
  },
  {
   "cell_type": "markdown",
   "metadata": {
    "id": "mqeyab9qFtGs"
   },
   "source": [
    "## Exercise i) Glorot and He initialization\n",
    "\n",
    "Using the Initializer class, implement functions that implement Glorot and He\n",
    "\n",
    "Explain briefly how you would test numerically that these initializations have the sought after property. Hint: See plots in Glorot paper.\n",
    "\n",
    "Comment: If you want to be more advanced then try to make a universal initializer taking both the activation function and type (Glorot or He) as argument."
   ]
  },
  {
   "cell_type": "code",
   "execution_count": 76,
   "metadata": {
    "id": "Qyk01CgaFtGt"
   },
   "outputs": [],
   "source": [
    "## Glorot\n",
    "def DenseLayer_Glorot_tanh(n_in: int, n_out: int):\n",
    "  std = (2*1.0/(n_in + n_out))**0.5 # <- replace with proper initialization\n",
    "  return DenseLayer(n_in, n_out, lambda x: x.tanh(), initializer = NormalInitializer(std))\n",
    "\n",
    "## He\n",
    "def DenseLayer_He_relu(n_in: int, n_out: int):\n",
    "  std = (2.0/n_in)**0.5 # <- replace with proper initialization\n",
    "  return DenseLayer(n_in, n_out, lambda x: x.relu(), initializer = NormalInitializer(std))"
   ]
  },
  {
   "cell_type": "markdown",
   "source": [
    "**Answer** \\\\\n",
    "The functions that implement Glorot and He have been inserted above based on the formulas given for $w_{ij}$ for the two functions as well as the values of $\\alpha$ given for tanh and relu, respectively. Note that the standard deviation is the square root of the variance.\n",
    "\n",
    "To test if the initializations have the sought after properties, as mentioned in the Glorot paper, you can look at the distributions of the activation values of the different layers and see if they follow the sought after properties of the given activation function - e.g. check, if they indeed has a Gaussian distribution."
   ],
   "metadata": {
    "id": "WJseWQBKjaDF"
   }
  },
  {
   "cell_type": "markdown",
   "metadata": {
    "id": "-XyXBD37FtHk"
   },
   "source": [
    "## Exercise j) Forward pass unit test\n",
    "\n",
    "Write a bit of code to make a unit test that the forward pass works. This can be done by defining a simple network with for example all weights equal to one (using the ConstantInitializer method) and identity activation functions.\n",
    "\n",
    "Hints: Use the [assert](https://www.w3schools.com/python/ref_keyword_assert.asp), the nparray_to_Var and the Var_to_nparray commands."
   ]
  },
  {
   "cell_type": "markdown",
   "source": [
    "**Answer** \\\\\n",
    "The implemented code is seen below. It is seen for the test example with a single weight with two inputs and one output that the forward pass works."
   ],
   "metadata": {
    "id": "IPeahckpz8zR"
   }
  },
  {
   "cell_type": "code",
   "execution_count": 38,
   "metadata": {
    "id": "k0miqRUAFtHl",
    "colab": {
     "base_uri": "https://localhost:8080/"
    },
    "outputId": "dc4c3a63-3d2a-4d2d-c61f-d0b721408119"
   },
   "outputs": [
    {
     "output_type": "stream",
     "name": "stdout",
     "text": [
      "Forward pass test passed\n"
     ]
    }
   ],
   "source": [
    "# Insert code here\n",
    "\n",
    "# Defining a simple network\n",
    "NN_test = [\n",
    "    DenseLayer(2, 1, lambda x: x.identity(), ConstantInitializer())\n",
    "]\n",
    "\n",
    "# Define input data\n",
    "input_data = np.array([[Var(1.0), Var(2.0)]])\n",
    "\n",
    "# Do the forward pass\n",
    "output = forward(input_data, NN_test)\n",
    "\n",
    "# Define the expected output for the given input\n",
    "# S(hould just be )the sum since we use constant initializer and identity activation function)\n",
    "expected_output = np.array([[3.0]])\n",
    "\n",
    "# Convert the Var output to a NumPy array\n",
    "output_np = Var_to_nparray(output)\n",
    "\n",
    "# Do the assert to test if it failed or passed\n",
    "assert (output_np == expected_output).all(), \"Forward pass test failed\"\n",
    "\n",
    "# If the assert statement passes, it means the forward pass works as expected\n",
    "print(\"Forward pass test passed\")\n",
    "\n"
   ]
  },
  {
   "cell_type": "markdown",
   "metadata": {
    "id": "faCxhfFnFtHp"
   },
   "source": [
    "# Loss functions\n",
    "\n",
    "We are only missing a loss function to we need to define a loss function and its derivative with respect to the output of the neural network $y$"
   ]
  },
  {
   "cell_type": "code",
   "execution_count": 39,
   "metadata": {
    "id": "I2eDYKvAFtHq"
   },
   "outputs": [],
   "source": [
    "def squared_loss(t, y):\n",
    "\n",
    "  # add check that sizes agree\n",
    "\n",
    "  def squared_loss_single(t, y):\n",
    "    Loss = Var(0.0)\n",
    "    for i in range(len(t)): # sum over outputs\n",
    "      Loss += (t[i]-y[i]) ** 2\n",
    "    return Loss\n",
    "\n",
    "  Loss = Var(0.0)\n",
    "  for n in range(len(t)): # sum over training data\n",
    "    Loss += squared_loss_single(t[n],y[n])\n",
    "  return Loss"
   ]
  },
  {
   "cell_type": "markdown",
   "metadata": {
    "id": "SrwSJ2UWFtHu"
   },
   "source": [
    "## Exercise k) Implement cross entropy loss\n",
    "\n",
    "Insert code below to implement cross-entropy loss for general dimensionality of $t$. Use a logits formulation:\n",
    "$$\n",
    "\\rm{Loss} = - \\sum_i t_i \\, log \\, p_i\n",
    "$$\n",
    "with $p$ given by the the softmax function in terms of the logits $h$:\n",
    "$$\n",
    "p_i = \\frac{\\exp(h_i)}{\\sum_{i'} \\exp(h_{i'})} .\n",
    "$$\n",
    "Inserting $p$ in the expression for the loss gives\n",
    "$$\n",
    "\\rm{Loss} = - \\sum_i t_i h_i + \\rm{LogSumExp}(h) \\ ,\n",
    "$$\n",
    "where\n",
    "$$\n",
    "\\rm{LogSumExp}(h) = \\log \\sum_i \\exp h_i \\ .\n",
    "$$\n",
    "This is true for $t$ being a one-hot vector.\n",
    "\n",
    "Call the function to convince yourself it works.\n",
    "\n",
    "In practice you want to implement a [numerically stable](https://leimao.github.io/blog/LogSumExp/) version of LogSumExp. But we will not bother about that here.\n",
    "\n",
    "Help: You can add these methods in the Var class:\n",
    "\n",
    "    def exp(self):\n",
    "        return Var(exp(self.v), lambda: [(self, exp(self.v))])\n",
    "    \n",
    "    def log(self):\n",
    "        return Var(log(self.v), lambda: [(self, self.v ** -1)])"
   ]
  },
  {
   "cell_type": "code",
   "execution_count": 40,
   "metadata": {
    "id": "6nMuxyfzFtHv"
   },
   "outputs": [],
   "source": [
    "def cross_entropy_loss(t, h):\n",
    "    Loss = Var(0.0)\n",
    "    SumExp = Var(0.0)\n",
    "    # Insert code here\n",
    "    for i in range(len(t)):\n",
    "      Loss += -t[i]*h[i]\n",
    "      SumExp += h[i].exp()\n",
    "    Loss += SumExp.log()\n",
    "    return Loss"
   ]
  },
  {
   "cell_type": "markdown",
   "source": [
    "**Answer** \\\\\n",
    "The code has been implemented above. A test call is made below and it can be seen that the function outputs the expected result:"
   ],
   "metadata": {
    "id": "jwJHnRkSoLIG"
   }
  },
  {
   "cell_type": "code",
   "source": [
    "# Test of cross_entropy_loss function\n",
    "print('Result from function:')\n",
    "t = np.array([Var(0.0), Var(1.0), Var(0.0)])\n",
    "h = np.array([Var(-2.0), Var(0.0), Var(-2.0)])\n",
    "print(cross_entropy_loss(t,h))\n",
    "\n",
    "print('\\nResult as should be:')\n",
    "print(-0 + log(exp(-2) + exp(0) + exp(-2)))"
   ],
   "metadata": {
    "colab": {
     "base_uri": "https://localhost:8080/"
    },
    "id": "oHH8zpfgpX8w",
    "outputId": "6a8f23b6-4c9a-4d50-c83f-33887c9d6382"
   },
   "execution_count": 41,
   "outputs": [
    {
     "output_type": "stream",
     "name": "stdout",
     "text": [
      "Result from function:\n",
      "Var(v=0.2395, grad=0.0000)\n",
      "\n",
      "Result as should be:\n",
      "0.2395447662218847\n"
     ]
    }
   ]
  },
  {
   "cell_type": "markdown",
   "metadata": {
    "id": "8fAF5ew4FtHy"
   },
   "source": [
    "# Backward pass\n",
    "\n",
    "Now the magic happens! We get the calculation of the gradients for free. Just do:"
   ]
  },
  {
   "cell_type": "code",
   "execution_count": 78,
   "metadata": {
    "id": "iHyfPPI9Qqwu"
   },
   "outputs": [],
   "source": [
    "NN = [\n",
    "    DenseLayer(1, 5, lambda x: x.relu()),\n",
    "    DenseLayer(5, 1, lambda x: x.identity())\n",
    "]\n",
    "\n",
    "output = forward(x_train, NN)\n",
    "\n",
    "Loss = squared_loss(y_train,output) # Could also have used the implemented cross_entropy_loss here\n",
    "Loss.backward()"
   ]
  },
  {
   "cell_type": "markdown",
   "metadata": {
    "id": "49biIAYKQ1oG"
   },
   "source": [
    "and the gradients will be calculated:"
   ]
  },
  {
   "cell_type": "code",
   "execution_count": 43,
   "metadata": {
    "id": "_rGt1bq_Q7uk",
    "colab": {
     "base_uri": "https://localhost:8080/"
    },
    "outputId": "9f75c59f-4949-41fb-ca41-5e67b7ef86ec"
   },
   "outputs": [
    {
     "output_type": "stream",
     "name": "stdout",
     "text": [
      "Layer 0 \n",
      " Weights: [[Var(v=-0.1843, grad=-0.2774), Var(v=-0.1142, grad=-0.0295), Var(v=0.0607, grad=-0.1029), Var(v=-0.1046, grad=0.1279), Var(v=-0.0470, grad=-0.1007)]] Biases: [Var(v=0.0000, grad=0.2219), Var(v=0.0000, grad=0.0236), Var(v=0.0000, grad=-0.0746), Var(v=0.0000, grad=-0.1024), Var(v=0.0000, grad=0.0806)]\n",
      "Layer 1 \n",
      " Weights: [[Var(v=-0.1195, grad=-0.4278)], [Var(v=-0.0127, grad=-0.2652)], [Var(v=0.1104, grad=-0.0565)], [Var(v=0.0551, grad=-0.2427)], [Var(v=-0.0434, grad=-0.1090)]] Biases: [Var(v=0.0000, grad=-2.5326)]\n"
     ]
    },
    {
     "output_type": "execute_result",
     "data": {
      "text/plain": [
       "[None, None]"
      ]
     },
     "metadata": {},
     "execution_count": 43
    }
   ],
   "source": [
    "[print('Layer', i, '\\n', NN[i]) for i in range(len(NN))]"
   ]
  },
  {
   "cell_type": "markdown",
   "metadata": {
    "id": "D7d7qK0uFtH9"
   },
   "source": [
    "# Backward pass unit test\n",
    "\n",
    "Above we used finite differences to test that Nanograd is actually doing what it is supposed to do. We can in principle try the same for the neural network. But we will trust that the test above is enough."
   ]
  },
  {
   "cell_type": "markdown",
   "metadata": {
    "id": "WgBi8GOSFtIN"
   },
   "source": [
    "# Training and validation\n",
    "\n",
    "We are ready to train some neural networks!\n",
    "\n",
    "We initialize again:"
   ]
  },
  {
   "cell_type": "code",
   "execution_count": 44,
   "metadata": {
    "id": "01ePmzBzRtdh"
   },
   "outputs": [],
   "source": [
    "NN = [\n",
    "    DenseLayer(1, 15, lambda x: x.relu()),\n",
    "    DenseLayer(15, 50, lambda x: x.relu()),\n",
    "    DenseLayer(50, 1, lambda x: x.identity())\n",
    "]\n",
    "\n",
    "output = forward(x_train, NN)\n",
    "\n",
    "Loss = squared_loss(y_train,output)\n",
    "Loss.backward()"
   ]
  },
  {
   "cell_type": "markdown",
   "metadata": {
    "id": "10iRPiQ1ISHw"
   },
   "source": [
    "and make an update:\n",
    "\n",
    "We introduce a help function parameters to have a handle in all parameters in the network."
   ]
  },
  {
   "cell_type": "code",
   "execution_count": 45,
   "metadata": {
    "id": "dhAI7eyeznia",
    "colab": {
     "base_uri": "https://localhost:8080/"
    },
    "outputId": "29fcd308-42d1-4cdb-9098-46735b125bb5"
   },
   "outputs": [
    {
     "output_type": "stream",
     "name": "stdout",
     "text": [
      "Network before update:\n",
      "Layer 0 \n",
      " Weights: [[Var(v=0.0348, grad=-0.0439), Var(v=0.2081, grad=-0.0105), Var(v=0.0233, grad=-0.0591), Var(v=0.0915, grad=-0.0662), Var(v=-0.0233, grad=-0.1573), Var(v=-0.2478, grad=-0.0606), Var(v=-0.1442, grad=0.0186), Var(v=-0.1189, grad=0.0094), Var(v=-0.0427, grad=-0.1038), Var(v=0.0423, grad=-0.0297), Var(v=-0.0300, grad=-0.0853), Var(v=0.0271, grad=0.0572), Var(v=-0.0474, grad=-0.0165), Var(v=-0.2091, grad=-0.1201), Var(v=-0.1457, grad=-0.2468)]] Biases: [Var(v=0.0000, grad=-0.0319), Var(v=0.0000, grad=-0.0076), Var(v=0.0000, grad=-0.0428), Var(v=0.0000, grad=-0.0480), Var(v=0.0000, grad=0.1260), Var(v=0.0000, grad=0.0486), Var(v=0.0000, grad=-0.0149), Var(v=0.0000, grad=-0.0075), Var(v=0.0000, grad=0.0832), Var(v=0.0000, grad=-0.0216), Var(v=0.0000, grad=0.0684), Var(v=0.0000, grad=0.0415), Var(v=0.0000, grad=0.0132), Var(v=0.0000, grad=0.0962), Var(v=0.0000, grad=0.1977)]\n",
      "Layer 1 \n",
      " Weights: [[Var(v=-0.1179, grad=-0.0049), Var(v=0.0086, grad=0.0000), Var(v=-0.1572, grad=-0.0025), Var(v=-0.0471, grad=0.0018), Var(v=-0.0991, grad=0.0044), Var(v=-0.2248, grad=0.0000), Var(v=-0.0762, grad=0.0000), Var(v=0.0779, grad=0.0000), Var(v=-0.0235, grad=-0.0004), Var(v=0.0090, grad=0.0041), Var(v=0.0442, grad=0.0000), Var(v=0.1581, grad=-0.0034), Var(v=0.1322, grad=-0.0032), Var(v=-0.0886, grad=0.0000), Var(v=-0.0978, grad=0.0015), Var(v=-0.0290, grad=-0.0050), Var(v=-0.0240, grad=-0.0004), Var(v=-0.0275, grad=-0.0011), Var(v=0.0177, grad=0.0041), Var(v=-0.1358, grad=-0.0076), Var(v=-0.1591, grad=0.0000), Var(v=-0.1081, grad=0.0040), Var(v=-0.1306, grad=0.0000), Var(v=-0.0256, grad=0.0041), Var(v=0.0591, grad=0.0000), Var(v=0.1116, grad=-0.0017), Var(v=0.0399, grad=-0.0021), Var(v=-0.0534, grad=-0.0048), Var(v=-0.1821, grad=0.0017), Var(v=0.0235, grad=-0.0005), Var(v=0.0945, grad=0.0000), Var(v=0.0685, grad=0.0077), Var(v=-0.0656, grad=0.0000), Var(v=0.2085, grad=0.0000), Var(v=-0.0953, grad=0.0000), Var(v=0.0075, grad=0.0000), Var(v=-0.0398, grad=-0.0024), Var(v=-0.1440, grad=0.0000), Var(v=0.0074, grad=0.0026), Var(v=-0.1757, grad=0.0000), Var(v=-0.0299, grad=0.0000), Var(v=-0.2047, grad=0.0061), Var(v=0.0134, grad=0.0000), Var(v=-0.1127, grad=0.0000), Var(v=-0.1340, grad=0.0023), Var(v=-0.1008, grad=0.0000), Var(v=-0.0982, grad=0.0000), Var(v=-0.2122, grad=0.0000), Var(v=0.0007, grad=0.0043), Var(v=0.1206, grad=-0.0036)], [Var(v=0.0366, grad=-0.0295), Var(v=-0.1091, grad=0.0000), Var(v=0.2352, grad=-0.0149), Var(v=0.0489, grad=0.0108), Var(v=0.0557, grad=0.0265), Var(v=-0.0680, grad=0.0000), Var(v=-0.1365, grad=0.0000), Var(v=-0.1553, grad=0.0000), Var(v=0.0984, grad=-0.0021), Var(v=0.0196, grad=0.0246), Var(v=0.0027, grad=0.0000), Var(v=0.0186, grad=-0.0205), Var(v=0.1650, grad=-0.0191), Var(v=-0.0952, grad=0.0000), Var(v=0.0526, grad=0.0087), Var(v=0.0585, grad=-0.0302), Var(v=0.0857, grad=-0.0026), Var(v=0.1247, grad=-0.0065), Var(v=0.0114, grad=0.0246), Var(v=0.1145, grad=-0.0457), Var(v=-0.0256, grad=0.0000), Var(v=-0.0406, grad=0.0241), Var(v=-0.0666, grad=0.0000), Var(v=0.1395, grad=0.0246), Var(v=-0.0524, grad=0.0000), Var(v=0.0349, grad=-0.0105), Var(v=0.0955, grad=-0.0126), Var(v=0.1156, grad=-0.0290), Var(v=0.0406, grad=0.0101), Var(v=-0.0037, grad=-0.0027), Var(v=-0.0931, grad=0.0000), Var(v=0.2000, grad=0.0462), Var(v=-0.0337, grad=0.0000), Var(v=-0.1516, grad=0.0000), Var(v=-0.0301, grad=0.0000), Var(v=-0.1184, grad=0.0000), Var(v=0.0840, grad=-0.0144), Var(v=-0.0736, grad=0.0000), Var(v=0.0602, grad=0.0158), Var(v=0.0335, grad=0.0000), Var(v=-0.1991, grad=0.0000), Var(v=0.1126, grad=0.0363), Var(v=-0.0144, grad=0.0000), Var(v=-0.0303, grad=0.0000), Var(v=0.0150, grad=0.0136), Var(v=-0.1274, grad=0.0000), Var(v=0.0167, grad=0.0000), Var(v=-0.0800, grad=0.0000), Var(v=-0.0437, grad=0.0257), Var(v=-0.0390, grad=-0.0217)], [Var(v=0.0377, grad=-0.0033), Var(v=0.0948, grad=0.0000), Var(v=0.0787, grad=-0.0017), Var(v=-0.0971, grad=0.0012), Var(v=-0.0532, grad=0.0030), Var(v=0.0478, grad=0.0000), Var(v=0.1464, grad=0.0000), Var(v=-0.0369, grad=0.0000), Var(v=-0.1710, grad=-0.0002), Var(v=-0.0438, grad=0.0028), Var(v=-0.0934, grad=0.0000), Var(v=0.1673, grad=-0.0023), Var(v=0.0509, grad=-0.0021), Var(v=0.0678, grad=0.0000), Var(v=0.1680, grad=0.0010), Var(v=-0.0612, grad=-0.0034), Var(v=-0.0110, grad=-0.0003), Var(v=0.0569, grad=-0.0007), Var(v=-0.0606, grad=0.0028), Var(v=0.0902, grad=-0.0051), Var(v=-0.0725, grad=0.0000), Var(v=-0.0285, grad=0.0027), Var(v=0.0208, grad=0.0000), Var(v=0.0276, grad=0.0028), Var(v=0.1425, grad=0.0000), Var(v=0.0166, grad=-0.0012), Var(v=0.0883, grad=-0.0014), Var(v=-0.0991, grad=-0.0033), Var(v=-0.0285, grad=0.0011), Var(v=0.1673, grad=-0.0003), Var(v=-0.0318, grad=0.0000), Var(v=0.0768, grad=0.0052), Var(v=-0.0651, grad=0.0000), Var(v=-0.0281, grad=0.0000), Var(v=-0.0773, grad=0.0000), Var(v=-0.0330, grad=0.0000), Var(v=0.0652, grad=-0.0016), Var(v=0.0029, grad=0.0000), Var(v=0.0537, grad=0.0018), Var(v=-0.0143, grad=0.0000), Var(v=-0.0382, grad=0.0000), Var(v=-0.0982, grad=0.0041), Var(v=0.0669, grad=0.0000), Var(v=-0.0283, grad=0.0000), Var(v=0.0782, grad=0.0015), Var(v=0.1719, grad=0.0000), Var(v=0.0295, grad=0.0000), Var(v=0.0545, grad=0.0000), Var(v=-0.0221, grad=0.0029), Var(v=0.0466, grad=-0.0024)], [Var(v=0.0221, grad=-0.0130), Var(v=-0.1758, grad=0.0000), Var(v=-0.0255, grad=-0.0066), Var(v=-0.0973, grad=0.0047), Var(v=-0.0341, grad=0.0116), Var(v=-0.0735, grad=0.0000), Var(v=0.0289, grad=0.0000), Var(v=-0.0587, grad=0.0000), Var(v=0.0190, grad=-0.0009), Var(v=-0.0137, grad=0.0108), Var(v=-0.0203, grad=0.0000), Var(v=0.1472, grad=-0.0090), Var(v=0.0992, grad=-0.0084), Var(v=-0.0770, grad=0.0000), Var(v=-0.0524, grad=0.0038), Var(v=0.0537, grad=-0.0133), Var(v=0.1841, grad=-0.0011), Var(v=-0.0539, grad=-0.0029), Var(v=0.0329, grad=0.0108), Var(v=-0.0504, grad=-0.0201), Var(v=0.1325, grad=0.0000), Var(v=0.1198, grad=0.0106), Var(v=-0.0793, grad=0.0000), Var(v=-0.0548, grad=0.0108), Var(v=0.0173, grad=0.0000), Var(v=0.1532, grad=-0.0046), Var(v=0.0295, grad=-0.0055), Var(v=0.2319, grad=-0.0127), Var(v=0.1128, grad=0.0044), Var(v=0.0644, grad=-0.0012), Var(v=0.0868, grad=0.0000), Var(v=-0.0944, grad=0.0203), Var(v=-0.1061, grad=0.0000), Var(v=0.1799, grad=0.0000), Var(v=0.0791, grad=0.0000), Var(v=0.0791, grad=0.0000), Var(v=-0.0323, grad=-0.0063), Var(v=-0.1874, grad=0.0000), Var(v=-0.0355, grad=0.0070), Var(v=-0.0815, grad=0.0000), Var(v=-0.0313, grad=0.0000), Var(v=0.1118, grad=0.0160), Var(v=-0.1888, grad=0.0000), Var(v=-0.0576, grad=0.0000), Var(v=-0.0084, grad=0.0060), Var(v=-0.1065, grad=0.0000), Var(v=-0.0350, grad=0.0000), Var(v=-0.1798, grad=0.0000), Var(v=0.0527, grad=0.0113), Var(v=0.0843, grad=-0.0095)], [Var(v=0.0533, grad=-0.0086), Var(v=0.1119, grad=0.0000), Var(v=0.0125, grad=0.0000), Var(v=-0.0817, grad=0.0000), Var(v=0.1541, grad=0.0077), Var(v=-0.0585, grad=0.0046), Var(v=0.0246, grad=0.0000), Var(v=0.0144, grad=0.0000), Var(v=0.1237, grad=-0.0006), Var(v=-0.0295, grad=0.0000), Var(v=0.1041, grad=0.0000), Var(v=-0.0404, grad=0.0000), Var(v=-0.1314, grad=0.0000), Var(v=0.0174, grad=0.0000), Var(v=0.0576, grad=0.0000), Var(v=-0.1554, grad=0.0000), Var(v=-0.0525, grad=0.0000), Var(v=-0.1060, grad=0.0000), Var(v=-0.1782, grad=0.0000), Var(v=-0.0647, grad=0.0000), Var(v=-0.0659, grad=0.0000), Var(v=0.0578, grad=0.0070), Var(v=0.1221, grad=0.0000), Var(v=0.0348, grad=0.0071), Var(v=0.0137, grad=0.0009), Var(v=-0.1051, grad=0.0000), Var(v=-0.0604, grad=-0.0037), Var(v=0.1064, grad=0.0000), Var(v=0.0611, grad=0.0029), Var(v=0.2091, grad=0.0000), Var(v=-0.0608, grad=0.0000), Var(v=0.0458, grad=0.0000), Var(v=0.0030, grad=0.0000), Var(v=0.0266, grad=0.0047), Var(v=-0.1076, grad=0.0000), Var(v=-0.0442, grad=0.0000), Var(v=0.0168, grad=-0.0042), Var(v=-0.0447, grad=0.0000), Var(v=0.0988, grad=0.0046), Var(v=0.0851, grad=0.0000), Var(v=0.0581, grad=-0.0034), Var(v=0.0432, grad=0.0105), Var(v=-0.0475, grad=0.0000), Var(v=-0.1024, grad=0.0000), Var(v=0.1391, grad=0.0039), Var(v=-0.0533, grad=0.0000), Var(v=0.0585, grad=0.0007), Var(v=0.0335, grad=0.0038), Var(v=-0.0915, grad=0.0000), Var(v=-0.1162, grad=-0.0063)], [Var(v=0.0495, grad=-0.0910), Var(v=-0.0162, grad=0.0000), Var(v=0.0647, grad=0.0000), Var(v=-0.0006, grad=0.0000), Var(v=-0.0826, grad=0.0817), Var(v=0.0578, grad=0.0487), Var(v=0.0163, grad=0.0000), Var(v=0.0342, grad=0.0000), Var(v=0.0767, grad=-0.0066), Var(v=-0.1309, grad=0.0000), Var(v=-0.0319, grad=0.0000), Var(v=-0.1590, grad=0.0000), Var(v=-0.2321, grad=0.0000), Var(v=-0.0122, grad=0.0000), Var(v=-0.1129, grad=0.0000), Var(v=-0.2060, grad=0.0000), Var(v=0.0965, grad=0.0000), Var(v=-0.0353, grad=0.0000), Var(v=0.0981, grad=0.0000), Var(v=0.0333, grad=0.0000), Var(v=-0.0455, grad=0.0000), Var(v=-0.0970, grad=0.0743), Var(v=-0.0287, grad=0.0000), Var(v=0.0875, grad=0.0759), Var(v=0.0869, grad=0.0097), Var(v=-0.0932, grad=0.0000), Var(v=-0.0185, grad=-0.0389), Var(v=-0.0159, grad=0.0000), Var(v=-0.0729, grad=0.0311), Var(v=-0.1344, grad=0.0000), Var(v=-0.0801, grad=0.0000), Var(v=0.0694, grad=0.0000), Var(v=-0.0479, grad=0.0000), Var(v=0.1770, grad=0.0501), Var(v=-0.1024, grad=0.0000), Var(v=0.0247, grad=0.0000), Var(v=-0.0115, grad=-0.0444), Var(v=-0.0935, grad=0.0000), Var(v=0.0053, grad=0.0489), Var(v=0.0246, grad=0.0000), Var(v=0.1022, grad=-0.0358), Var(v=0.0257, grad=0.1121), Var(v=-0.1824, grad=0.0000), Var(v=-0.0597, grad=0.0000), Var(v=0.0933, grad=0.0419), Var(v=-0.0687, grad=0.0000), Var(v=0.0704, grad=0.0078), Var(v=0.1733, grad=0.0401), Var(v=-0.0422, grad=0.0000), Var(v=-0.0741, grad=-0.0668)], [Var(v=0.0919, grad=-0.0529), Var(v=0.0944, grad=0.0000), Var(v=0.0552, grad=0.0000), Var(v=-0.1638, grad=0.0000), Var(v=0.0414, grad=0.0475), Var(v=0.1384, grad=0.0283), Var(v=-0.0799, grad=0.0000), Var(v=0.1809, grad=0.0000), Var(v=0.1100, grad=-0.0038), Var(v=-0.2074, grad=0.0000), Var(v=-0.0256, grad=0.0000), Var(v=-0.1084, grad=0.0000), Var(v=-0.1326, grad=0.0000), Var(v=0.0086, grad=0.0000), Var(v=-0.1030, grad=0.0000), Var(v=-0.0190, grad=0.0000), Var(v=-0.1649, grad=0.0000), Var(v=-0.1333, grad=0.0000), Var(v=-0.2109, grad=0.0000), Var(v=-0.0207, grad=0.0000), Var(v=-0.0207, grad=0.0000), Var(v=0.1125, grad=0.0432), Var(v=-0.1211, grad=0.0000), Var(v=-0.0744, grad=0.0442), Var(v=0.1550, grad=0.0056), Var(v=0.1574, grad=0.0000), Var(v=-0.0479, grad=-0.0226), Var(v=0.0620, grad=0.0000), Var(v=-0.0802, grad=0.0181), Var(v=-0.1124, grad=0.0000), Var(v=-0.2155, grad=0.0000), Var(v=-0.0508, grad=0.0000), Var(v=-0.1013, grad=0.0000), Var(v=-0.0179, grad=0.0292), Var(v=-0.0908, grad=0.0000), Var(v=-0.1499, grad=0.0000), Var(v=0.0215, grad=-0.0258), Var(v=0.0715, grad=0.0000), Var(v=0.1724, grad=0.0284), Var(v=-0.1886, grad=0.0000), Var(v=0.1855, grad=-0.0208), Var(v=0.0192, grad=0.0652), Var(v=-0.1613, grad=0.0000), Var(v=-0.0269, grad=0.0000), Var(v=-0.0842, grad=0.0244), Var(v=0.0779, grad=0.0000), Var(v=-0.0670, grad=0.0046), Var(v=0.0875, grad=0.0233), Var(v=-0.1313, grad=0.0000), Var(v=0.1615, grad=-0.0389)], [Var(v=-0.0542, grad=-0.0437), Var(v=-0.0130, grad=0.0000), Var(v=-0.0259, grad=0.0000), Var(v=-0.0026, grad=0.0000), Var(v=-0.0466, grad=0.0392), Var(v=-0.0000, grad=0.0234), Var(v=0.0017, grad=0.0000), Var(v=-0.0028, grad=0.0000), Var(v=-0.0095, grad=-0.0032), Var(v=-0.0874, grad=0.0000), Var(v=0.0820, grad=0.0000), Var(v=-0.0610, grad=0.0000), Var(v=0.0360, grad=0.0000), Var(v=0.1547, grad=0.0000), Var(v=0.0930, grad=0.0000), Var(v=-0.0717, grad=0.0000), Var(v=0.0925, grad=0.0000), Var(v=-0.1056, grad=0.0000), Var(v=-0.0304, grad=0.0000), Var(v=0.1349, grad=0.0000), Var(v=0.0250, grad=0.0000), Var(v=-0.0551, grad=0.0357), Var(v=-0.0325, grad=0.0000), Var(v=-0.0196, grad=0.0364), Var(v=-0.0540, grad=0.0046), Var(v=0.0882, grad=0.0000), Var(v=0.0803, grad=-0.0186), Var(v=0.1218, grad=0.0000), Var(v=0.1837, grad=0.0149), Var(v=0.0125, grad=0.0000), Var(v=-0.1331, grad=0.0000), Var(v=-0.0576, grad=0.0000), Var(v=0.0708, grad=0.0000), Var(v=0.1102, grad=0.0241), Var(v=0.0272, grad=0.0000), Var(v=-0.0810, grad=0.0000), Var(v=-0.0300, grad=-0.0213), Var(v=0.1124, grad=0.0000), Var(v=-0.0042, grad=0.0235), Var(v=-0.0093, grad=0.0000), Var(v=0.0827, grad=-0.0172), Var(v=-0.0231, grad=0.0538), Var(v=-0.0165, grad=0.0000), Var(v=0.0507, grad=0.0000), Var(v=-0.0316, grad=0.0201), Var(v=-0.1506, grad=0.0000), Var(v=-0.1421, grad=0.0038), Var(v=0.1271, grad=0.0192), Var(v=-0.0581, grad=0.0000), Var(v=0.0560, grad=-0.0321)], [Var(v=-0.1047, grad=-0.0157), Var(v=-0.0605, grad=0.0000), Var(v=0.0829, grad=0.0000), Var(v=-0.0129, grad=0.0000), Var(v=0.1591, grad=0.0141), Var(v=0.1914, grad=0.0084), Var(v=0.0215, grad=0.0000), Var(v=-0.0071, grad=0.0000), Var(v=0.2287, grad=-0.0011), Var(v=0.2296, grad=0.0000), Var(v=-0.2686, grad=0.0000), Var(v=-0.0492, grad=0.0000), Var(v=-0.0834, grad=0.0000), Var(v=0.0661, grad=0.0000), Var(v=0.0954, grad=0.0000), Var(v=0.1081, grad=0.0000), Var(v=0.0940, grad=0.0000), Var(v=-0.0155, grad=0.0000), Var(v=-0.0909, grad=0.0000), Var(v=0.0667, grad=0.0000), Var(v=0.0047, grad=0.0000), Var(v=-0.0111, grad=0.0128), Var(v=0.1206, grad=0.0000), Var(v=0.0910, grad=0.0131), Var(v=-0.0178, grad=0.0017), Var(v=-0.0402, grad=0.0000), Var(v=0.1175, grad=-0.0067), Var(v=0.1310, grad=0.0000), Var(v=-0.0164, grad=0.0054), Var(v=0.1179, grad=0.0000), Var(v=0.0194, grad=0.0000), Var(v=0.0441, grad=0.0000), Var(v=0.0528, grad=0.0000), Var(v=-0.1138, grad=0.0086), Var(v=0.0120, grad=0.0000), Var(v=-0.0513, grad=0.0000), Var(v=0.0280, grad=-0.0076), Var(v=-0.0088, grad=0.0000), Var(v=-0.0419, grad=0.0084), Var(v=-0.0092, grad=0.0000), Var(v=0.0088, grad=-0.0062), Var(v=-0.0074, grad=0.0193), Var(v=-0.0113, grad=0.0000), Var(v=-0.0798, grad=0.0000), Var(v=0.0866, grad=0.0072), Var(v=-0.0101, grad=0.0000), Var(v=0.1223, grad=0.0014), Var(v=-0.0306, grad=0.0069), Var(v=-0.0023, grad=0.0000), Var(v=-0.0200, grad=-0.0115)], [Var(v=-0.1355, grad=-0.0060), Var(v=-0.0506, grad=0.0000), Var(v=0.1004, grad=-0.0030), Var(v=0.1830, grad=0.0022), Var(v=-0.0046, grad=0.0054), Var(v=-0.0314, grad=0.0000), Var(v=-0.1469, grad=0.0000), Var(v=0.0031, grad=0.0000), Var(v=0.0377, grad=-0.0004), Var(v=-0.0329, grad=0.0050), Var(v=-0.0156, grad=0.0000), Var(v=-0.0754, grad=-0.0042), Var(v=0.2262, grad=-0.0039), Var(v=-0.0255, grad=0.0000), Var(v=0.1777, grad=0.0018), Var(v=0.0985, grad=-0.0061), Var(v=0.0319, grad=-0.0005), Var(v=-0.0630, grad=-0.0013), Var(v=0.0849, grad=0.0050), Var(v=0.1307, grad=-0.0093), Var(v=-0.0755, grad=0.0000), Var(v=0.1630, grad=0.0049), Var(v=-0.0455, grad=0.0000), Var(v=-0.0030, grad=0.0050), Var(v=-0.1489, grad=0.0000), Var(v=0.0361, grad=-0.0021), Var(v=-0.0356, grad=-0.0026), Var(v=0.0297, grad=-0.0059), Var(v=-0.0768, grad=0.0020), Var(v=-0.0662, grad=-0.0006), Var(v=0.1962, grad=0.0000), Var(v=-0.0936, grad=0.0094), Var(v=-0.0479, grad=0.0000), Var(v=0.0569, grad=0.0000), Var(v=0.0279, grad=0.0000), Var(v=-0.1024, grad=0.0000), Var(v=0.0184, grad=-0.0029), Var(v=-0.1293, grad=0.0000), Var(v=0.0607, grad=0.0032), Var(v=-0.2246, grad=0.0000), Var(v=0.0280, grad=0.0000), Var(v=-0.0366, grad=0.0074), Var(v=-0.0763, grad=0.0000), Var(v=-0.1594, grad=0.0000), Var(v=0.0030, grad=0.0028), Var(v=-0.0426, grad=0.0000), Var(v=0.1250, grad=0.0000), Var(v=0.0611, grad=0.0000), Var(v=0.0527, grad=0.0052), Var(v=0.0361, grad=-0.0044)], [Var(v=-0.1369, grad=-0.0110), Var(v=0.0973, grad=0.0000), Var(v=0.1102, grad=0.0000), Var(v=-0.1009, grad=0.0000), Var(v=0.1751, grad=0.0099), Var(v=0.0738, grad=0.0059), Var(v=0.0418, grad=0.0000), Var(v=-0.0274, grad=0.0000), Var(v=0.0214, grad=-0.0008), Var(v=-0.0002, grad=0.0000), Var(v=-0.0119, grad=0.0000), Var(v=0.0013, grad=0.0000), Var(v=0.0407, grad=0.0000), Var(v=-0.1685, grad=0.0000), Var(v=0.1192, grad=0.0000), Var(v=-0.0883, grad=0.0000), Var(v=-0.1168, grad=0.0000), Var(v=-0.0326, grad=0.0000), Var(v=0.1465, grad=0.0000), Var(v=-0.0182, grad=0.0000), Var(v=-0.0796, grad=0.0000), Var(v=-0.1031, grad=0.0090), Var(v=-0.0717, grad=0.0000), Var(v=-0.0592, grad=0.0092), Var(v=0.0858, grad=0.0012), Var(v=0.0366, grad=0.0000), Var(v=0.1299, grad=-0.0047), Var(v=0.0155, grad=0.0000), Var(v=0.0414, grad=0.0038), Var(v=0.0682, grad=0.0000), Var(v=0.0199, grad=0.0000), Var(v=0.0562, grad=0.0000), Var(v=-0.0565, grad=0.0000), Var(v=0.0131, grad=0.0061), Var(v=-0.1551, grad=0.0000), Var(v=0.0921, grad=0.0000), Var(v=0.0091, grad=-0.0054), Var(v=0.0414, grad=0.0000), Var(v=-0.0741, grad=0.0059), Var(v=-0.0802, grad=0.0000), Var(v=-0.1744, grad=-0.0043), Var(v=0.0592, grad=0.0136), Var(v=-0.0352, grad=0.0000), Var(v=0.0954, grad=0.0000), Var(v=0.1639, grad=0.0051), Var(v=-0.0105, grad=0.0000), Var(v=-0.1016, grad=0.0009), Var(v=0.0790, grad=0.0049), Var(v=0.1114, grad=0.0000), Var(v=0.1904, grad=-0.0081)], [Var(v=0.0487, grad=-0.0038), Var(v=-0.1031, grad=0.0000), Var(v=0.1338, grad=-0.0019), Var(v=-0.0647, grad=0.0014), Var(v=0.0730, grad=0.0035), Var(v=-0.1305, grad=0.0000), Var(v=0.2051, grad=0.0000), Var(v=-0.1125, grad=0.0000), Var(v=-0.0931, grad=-0.0003), Var(v=0.0047, grad=0.0032), Var(v=0.0867, grad=0.0000), Var(v=-0.0116, grad=-0.0027), Var(v=-0.0055, grad=-0.0025), Var(v=-0.0008, grad=0.0000), Var(v=0.0776, grad=0.0011), Var(v=0.0097, grad=-0.0039), Var(v=-0.0106, grad=-0.0003), Var(v=0.0533, grad=-0.0009), Var(v=0.0109, grad=0.0032), Var(v=-0.0144, grad=-0.0060), Var(v=-0.0368, grad=0.0000), Var(v=0.0025, grad=0.0031), Var(v=-0.0308, grad=0.0000), Var(v=0.0879, grad=0.0032), Var(v=-0.0642, grad=0.0000), Var(v=0.1090, grad=-0.0014), Var(v=0.1930, grad=-0.0016), Var(v=-0.0900, grad=-0.0038), Var(v=-0.0175, grad=0.0013), Var(v=-0.0280, grad=-0.0004), Var(v=-0.0253, grad=0.0000), Var(v=0.1230, grad=0.0060), Var(v=-0.0961, grad=0.0000), Var(v=-0.0896, grad=0.0000), Var(v=0.0458, grad=0.0000), Var(v=0.0183, grad=0.0000), Var(v=0.0189, grad=-0.0019), Var(v=0.2632, grad=0.0000), Var(v=0.0750, grad=0.0021), Var(v=-0.1868, grad=0.0000), Var(v=-0.0361, grad=0.0000), Var(v=0.0098, grad=0.0047), Var(v=-0.1202, grad=0.0000), Var(v=-0.0251, grad=0.0000), Var(v=0.0156, grad=0.0018), Var(v=0.0451, grad=0.0000), Var(v=-0.1094, grad=0.0000), Var(v=-0.0140, grad=0.0000), Var(v=0.2078, grad=0.0034), Var(v=0.0564, grad=-0.0028)], [Var(v=0.0389, grad=-0.0174), Var(v=-0.0470, grad=0.0000), Var(v=0.0387, grad=0.0000), Var(v=-0.0389, grad=0.0000), Var(v=0.1783, grad=0.0156), Var(v=-0.1112, grad=0.0093), Var(v=-0.0589, grad=0.0000), Var(v=-0.1651, grad=0.0000), Var(v=-0.1210, grad=-0.0013), Var(v=-0.0678, grad=0.0000), Var(v=0.0733, grad=0.0000), Var(v=-0.0497, grad=0.0000), Var(v=-0.0178, grad=0.0000), Var(v=0.0076, grad=0.0000), Var(v=0.0879, grad=0.0000), Var(v=0.0842, grad=0.0000), Var(v=-0.0182, grad=0.0000), Var(v=-0.1638, grad=0.0000), Var(v=-0.0602, grad=0.0000), Var(v=-0.0484, grad=0.0000), Var(v=0.0222, grad=0.0000), Var(v=0.0007, grad=0.0142), Var(v=-0.1231, grad=0.0000), Var(v=-0.0613, grad=0.0145), Var(v=0.1061, grad=0.0018), Var(v=-0.1161, grad=0.0000), Var(v=-0.1445, grad=-0.0074), Var(v=-0.1282, grad=0.0000), Var(v=0.2429, grad=0.0059), Var(v=0.0331, grad=0.0000), Var(v=-0.0010, grad=0.0000), Var(v=-0.1125, grad=0.0000), Var(v=0.0316, grad=0.0000), Var(v=-0.2658, grad=0.0096), Var(v=0.0411, grad=0.0000), Var(v=0.0159, grad=0.0000), Var(v=-0.0546, grad=-0.0085), Var(v=0.1176, grad=0.0000), Var(v=-0.1212, grad=0.0093), Var(v=-0.0285, grad=0.0000), Var(v=0.0367, grad=-0.0068), Var(v=0.0454, grad=0.0214), Var(v=0.0631, grad=0.0000), Var(v=0.0756, grad=0.0000), Var(v=0.0585, grad=0.0080), Var(v=-0.0118, grad=0.0000), Var(v=-0.0220, grad=0.0015), Var(v=0.1313, grad=0.0077), Var(v=0.0864, grad=0.0000), Var(v=0.0954, grad=-0.0128)], [Var(v=-0.0061, grad=-0.0768), Var(v=0.0036, grad=0.0000), Var(v=-0.1129, grad=0.0000), Var(v=-0.0197, grad=0.0000), Var(v=0.0871, grad=0.0689), Var(v=-0.0436, grad=0.0411), Var(v=0.0168, grad=0.0000), Var(v=-0.0583, grad=0.0000), Var(v=-0.1460, grad=-0.0056), Var(v=0.2068, grad=0.0000), Var(v=-0.1460, grad=0.0000), Var(v=0.1260, grad=0.0000), Var(v=-0.0763, grad=0.0000), Var(v=0.0543, grad=0.0000), Var(v=-0.0567, grad=0.0000), Var(v=0.1741, grad=0.0000), Var(v=-0.0999, grad=0.0000), Var(v=-0.2590, grad=0.0000), Var(v=-0.0421, grad=0.0000), Var(v=-0.1045, grad=0.0000), Var(v=-0.0551, grad=0.0000), Var(v=-0.0077, grad=0.0627), Var(v=-0.1943, grad=0.0000), Var(v=0.1880, grad=0.0641), Var(v=-0.0809, grad=0.0082), Var(v=-0.1754, grad=0.0000), Var(v=0.1331, grad=-0.0328), Var(v=-0.1382, grad=0.0000), Var(v=0.0995, grad=0.0262), Var(v=0.0095, grad=0.0000), Var(v=0.1418, grad=0.0000), Var(v=-0.0335, grad=0.0000), Var(v=-0.0129, grad=0.0000), Var(v=0.0485, grad=0.0423), Var(v=0.1324, grad=0.0000), Var(v=-0.0982, grad=0.0000), Var(v=0.0528, grad=-0.0374), Var(v=-0.1025, grad=0.0000), Var(v=0.0979, grad=0.0413), Var(v=-0.1172, grad=0.0000), Var(v=0.1542, grad=-0.0302), Var(v=-0.0593, grad=0.0946), Var(v=-0.0396, grad=0.0000), Var(v=0.0115, grad=0.0000), Var(v=0.2417, grad=0.0353), Var(v=0.2962, grad=0.0000), Var(v=0.0507, grad=0.0066), Var(v=0.1439, grad=0.0338), Var(v=-0.0442, grad=0.0000), Var(v=-0.0512, grad=-0.0564)], [Var(v=-0.0716, grad=-0.0535), Var(v=-0.0912, grad=0.0000), Var(v=-0.1024, grad=0.0000), Var(v=-0.1842, grad=0.0000), Var(v=0.1263, grad=0.0480), Var(v=-0.0416, grad=0.0286), Var(v=-0.1622, grad=0.0000), Var(v=-0.2270, grad=0.0000), Var(v=-0.0032, grad=-0.0039), Var(v=-0.1097, grad=0.0000), Var(v=-0.1705, grad=0.0000), Var(v=0.0901, grad=0.0000), Var(v=-0.0759, grad=0.0000), Var(v=-0.2541, grad=0.0000), Var(v=0.0046, grad=0.0000), Var(v=-0.0890, grad=0.0000), Var(v=-0.0891, grad=0.0000), Var(v=-0.0862, grad=0.0000), Var(v=0.1509, grad=0.0000), Var(v=-0.1341, grad=0.0000), Var(v=0.0394, grad=0.0000), Var(v=0.1318, grad=0.0437), Var(v=0.1819, grad=0.0000), Var(v=0.1076, grad=0.0446), Var(v=0.1128, grad=0.0057), Var(v=0.0746, grad=0.0000), Var(v=-0.0065, grad=-0.0228), Var(v=-0.0172, grad=0.0000), Var(v=-0.0029, grad=0.0183), Var(v=-0.1436, grad=0.0000), Var(v=-0.0659, grad=0.0000), Var(v=-0.0386, grad=0.0000), Var(v=0.0534, grad=0.0000), Var(v=0.1640, grad=0.0295), Var(v=-0.1390, grad=0.0000), Var(v=0.1374, grad=0.0000), Var(v=0.1113, grad=-0.0261), Var(v=0.0868, grad=0.0000), Var(v=0.1540, grad=0.0287), Var(v=-0.0200, grad=0.0000), Var(v=0.0742, grad=-0.0210), Var(v=0.1451, grad=0.0659), Var(v=-0.1114, grad=0.0000), Var(v=0.0638, grad=0.0000), Var(v=0.2140, grad=0.0246), Var(v=-0.2749, grad=0.0000), Var(v=0.1258, grad=0.0046), Var(v=0.0379, grad=0.0236), Var(v=-0.1980, grad=0.0000), Var(v=0.1315, grad=-0.0393)]] Biases: [Var(v=0.0000, grad=-0.3969), Var(v=0.0000, grad=0.0000), Var(v=0.0000, grad=-0.0520), Var(v=0.0000, grad=0.0375), Var(v=0.0000, grad=0.3564), Var(v=0.0000, grad=0.1575), Var(v=0.0000, grad=0.0000), Var(v=0.0000, grad=0.0000), Var(v=0.0000, grad=-0.0287), Var(v=0.0000, grad=0.0858), Var(v=0.0000, grad=0.0000), Var(v=0.0000, grad=-0.0716), Var(v=0.0000, grad=-0.0666), Var(v=0.0000, grad=0.0000), Var(v=0.0000, grad=0.0302), Var(v=0.0000, grad=-0.1051), Var(v=0.0000, grad=-0.0091), Var(v=0.0000, grad=-0.0227), Var(v=0.0000, grad=0.0859), Var(v=0.0000, grad=-0.1594), Var(v=0.0000, grad=0.0000), Var(v=0.0000, grad=0.3243), Var(v=0.0000, grad=0.0000), Var(v=0.0000, grad=0.3313), Var(v=0.0000, grad=0.0313), Var(v=0.0000, grad=-0.0364), Var(v=0.0000, grad=-0.1695), Var(v=0.0000, grad=-0.1010), Var(v=0.0000, grad=0.1355), Var(v=0.0000, grad=-0.0094), Var(v=0.0000, grad=0.0000), Var(v=0.0000, grad=0.1611), Var(v=0.0000, grad=0.0000), Var(v=0.0000, grad=0.1621), Var(v=0.0000, grad=0.0000), Var(v=0.0000, grad=0.0000), Var(v=0.0000, grad=-0.1935), Var(v=0.0000, grad=0.0000), Var(v=0.0000, grad=0.2133), Var(v=0.0000, grad=0.0000), Var(v=0.0000, grad=-0.1157), Var(v=0.0000, grad=0.4891), Var(v=0.0000, grad=0.0000), Var(v=0.0000, grad=0.0000), Var(v=0.0000, grad=0.1827), Var(v=0.0000, grad=0.0000), Var(v=0.0000, grad=0.0253), Var(v=0.0000, grad=0.1296), Var(v=0.0000, grad=0.0897), Var(v=0.0000, grad=-0.2916)]\n",
      "Layer 2 \n",
      " Weights: [[Var(v=-0.1144, grad=0.0084)], [Var(v=0.1007, grad=0.0000)], [Var(v=-0.0579, grad=0.0630)], [Var(v=0.0417, grad=0.0042)], [Var(v=0.1027, grad=0.1374)], [Var(v=0.0612, grad=0.0734)], [Var(v=0.1324, grad=0.0000)], [Var(v=-0.0371, grad=0.0000)], [Var(v=-0.0083, grad=0.0535)], [Var(v=0.0954, grad=0.0011)], [Var(v=0.1913, grad=0.0000)], [Var(v=-0.0796, grad=0.0288)], [Var(v=-0.0741, grad=0.0727)], [Var(v=-0.1334, grad=0.0000)], [Var(v=0.0336, grad=0.0202)], [Var(v=-0.1170, grad=0.0236)], [Var(v=-0.0101, grad=0.0429)], [Var(v=-0.0253, grad=0.0250)], [Var(v=0.0956, grad=0.0105)], [Var(v=-0.1774, grad=0.0270)], [Var(v=0.0111, grad=0.0000)], [Var(v=0.0934, grad=0.0095)], [Var(v=0.0219, grad=0.0000)], [Var(v=0.0954, grad=0.2365)], [Var(v=0.0122, grad=0.1417)], [Var(v=-0.0406, grad=0.0372)], [Var(v=-0.0488, grad=0.1191)], [Var(v=-0.1124, grad=0.0495)], [Var(v=0.0390, grad=0.0937)], [Var(v=-0.0105, grad=0.0078)], [Var(v=-0.0720, grad=0.0000)], [Var(v=0.1792, grad=0.0453)], [Var(v=-0.0068, grad=0.0000)], [Var(v=0.0630, grad=0.2310)], [Var(v=0.0494, grad=0.0000)], [Var(v=-0.1366, grad=0.0000)], [Var(v=-0.0558, grad=0.0943)], [Var(v=-0.0746, grad=0.0000)], [Var(v=0.0614, grad=0.2154)], [Var(v=-0.1413, grad=0.0000)], [Var(v=-0.0450, grad=0.3312)], [Var(v=0.1409, grad=0.0919)], [Var(v=0.0420, grad=0.0000)], [Var(v=-0.1021, grad=0.0000)], [Var(v=0.0526, grad=0.3326)], [Var(v=0.0667, grad=0.0000)], [Var(v=0.0099, grad=0.0716)], [Var(v=0.0504, grad=0.3671)], [Var(v=0.0998, grad=0.0038)], [Var(v=-0.0840, grad=0.0955)]] Biases: [Var(v=0.0000, grad=3.4709)]\n",
      "\n",
      "Network after update:\n",
      "Layer 0 \n",
      " Weights: [[Var(v=0.0352, grad=-0.0439), Var(v=0.2082, grad=-0.0105), Var(v=0.0239, grad=-0.0591), Var(v=0.0921, grad=-0.0662), Var(v=-0.0217, grad=-0.1573), Var(v=-0.2472, grad=-0.0606), Var(v=-0.1443, grad=0.0186), Var(v=-0.1190, grad=0.0094), Var(v=-0.0417, grad=-0.1038), Var(v=0.0426, grad=-0.0297), Var(v=-0.0292, grad=-0.0853), Var(v=0.0266, grad=0.0572), Var(v=-0.0472, grad=-0.0165), Var(v=-0.2079, grad=-0.1201), Var(v=-0.1432, grad=-0.2468)]] Biases: [Var(v=0.0003, grad=-0.0319), Var(v=0.0001, grad=-0.0076), Var(v=0.0004, grad=-0.0428), Var(v=0.0005, grad=-0.0480), Var(v=-0.0013, grad=0.1260), Var(v=-0.0005, grad=0.0486), Var(v=0.0001, grad=-0.0149), Var(v=0.0001, grad=-0.0075), Var(v=-0.0008, grad=0.0832), Var(v=0.0002, grad=-0.0216), Var(v=-0.0007, grad=0.0684), Var(v=-0.0004, grad=0.0415), Var(v=-0.0001, grad=0.0132), Var(v=-0.0010, grad=0.0962), Var(v=-0.0020, grad=0.1977)]\n",
      "Layer 1 \n",
      " Weights: [[Var(v=-0.1179, grad=-0.0049), Var(v=0.0086, grad=0.0000), Var(v=-0.1571, grad=-0.0025), Var(v=-0.0471, grad=0.0018), Var(v=-0.0992, grad=0.0044), Var(v=-0.2248, grad=0.0000), Var(v=-0.0762, grad=0.0000), Var(v=0.0779, grad=0.0000), Var(v=-0.0235, grad=-0.0004), Var(v=0.0090, grad=0.0041), Var(v=0.0442, grad=0.0000), Var(v=0.1581, grad=-0.0034), Var(v=0.1323, grad=-0.0032), Var(v=-0.0886, grad=0.0000), Var(v=-0.0979, grad=0.0015), Var(v=-0.0289, grad=-0.0050), Var(v=-0.0240, grad=-0.0004), Var(v=-0.0274, grad=-0.0011), Var(v=0.0176, grad=0.0041), Var(v=-0.1357, grad=-0.0076), Var(v=-0.1591, grad=0.0000), Var(v=-0.1081, grad=0.0040), Var(v=-0.1306, grad=0.0000), Var(v=-0.0257, grad=0.0041), Var(v=0.0591, grad=0.0000), Var(v=0.1116, grad=-0.0017), Var(v=0.0399, grad=-0.0021), Var(v=-0.0533, grad=-0.0048), Var(v=-0.1821, grad=0.0017), Var(v=0.0235, grad=-0.0005), Var(v=0.0945, grad=0.0000), Var(v=0.0684, grad=0.0077), Var(v=-0.0656, grad=0.0000), Var(v=0.2085, grad=0.0000), Var(v=-0.0953, grad=0.0000), Var(v=0.0075, grad=0.0000), Var(v=-0.0398, grad=-0.0024), Var(v=-0.1440, grad=0.0000), Var(v=0.0074, grad=0.0026), Var(v=-0.1757, grad=0.0000), Var(v=-0.0299, grad=0.0000), Var(v=-0.2047, grad=0.0061), Var(v=0.0134, grad=0.0000), Var(v=-0.1127, grad=0.0000), Var(v=-0.1340, grad=0.0023), Var(v=-0.1008, grad=0.0000), Var(v=-0.0982, grad=0.0000), Var(v=-0.2122, grad=0.0000), Var(v=0.0006, grad=0.0043), Var(v=0.1207, grad=-0.0036)], [Var(v=0.0369, grad=-0.0295), Var(v=-0.1091, grad=0.0000), Var(v=0.2353, grad=-0.0149), Var(v=0.0488, grad=0.0108), Var(v=0.0554, grad=0.0265), Var(v=-0.0680, grad=0.0000), Var(v=-0.1365, grad=0.0000), Var(v=-0.1553, grad=0.0000), Var(v=0.0984, grad=-0.0021), Var(v=0.0194, grad=0.0246), Var(v=0.0027, grad=0.0000), Var(v=0.0188, grad=-0.0205), Var(v=0.1652, grad=-0.0191), Var(v=-0.0952, grad=0.0000), Var(v=0.0526, grad=0.0087), Var(v=0.0588, grad=-0.0302), Var(v=0.0858, grad=-0.0026), Var(v=0.1248, grad=-0.0065), Var(v=0.0111, grad=0.0246), Var(v=0.1150, grad=-0.0457), Var(v=-0.0256, grad=0.0000), Var(v=-0.0409, grad=0.0241), Var(v=-0.0666, grad=0.0000), Var(v=0.1393, grad=0.0246), Var(v=-0.0524, grad=0.0000), Var(v=0.0350, grad=-0.0105), Var(v=0.0956, grad=-0.0126), Var(v=0.1159, grad=-0.0290), Var(v=0.0405, grad=0.0101), Var(v=-0.0037, grad=-0.0027), Var(v=-0.0931, grad=0.0000), Var(v=0.1996, grad=0.0462), Var(v=-0.0337, grad=0.0000), Var(v=-0.1516, grad=0.0000), Var(v=-0.0301, grad=0.0000), Var(v=-0.1184, grad=0.0000), Var(v=0.0841, grad=-0.0144), Var(v=-0.0736, grad=0.0000), Var(v=0.0600, grad=0.0158), Var(v=0.0335, grad=0.0000), Var(v=-0.1991, grad=0.0000), Var(v=0.1122, grad=0.0363), Var(v=-0.0144, grad=0.0000), Var(v=-0.0303, grad=0.0000), Var(v=0.0149, grad=0.0136), Var(v=-0.1274, grad=0.0000), Var(v=0.0167, grad=0.0000), Var(v=-0.0800, grad=0.0000), Var(v=-0.0439, grad=0.0257), Var(v=-0.0388, grad=-0.0217)], [Var(v=0.0377, grad=-0.0033), Var(v=0.0948, grad=0.0000), Var(v=0.0788, grad=-0.0017), Var(v=-0.0971, grad=0.0012), Var(v=-0.0532, grad=0.0030), Var(v=0.0478, grad=0.0000), Var(v=0.1464, grad=0.0000), Var(v=-0.0369, grad=0.0000), Var(v=-0.1710, grad=-0.0002), Var(v=-0.0439, grad=0.0028), Var(v=-0.0934, grad=0.0000), Var(v=0.1673, grad=-0.0023), Var(v=0.0509, grad=-0.0021), Var(v=0.0678, grad=0.0000), Var(v=0.1680, grad=0.0010), Var(v=-0.0612, grad=-0.0034), Var(v=-0.0110, grad=-0.0003), Var(v=0.0569, grad=-0.0007), Var(v=-0.0606, grad=0.0028), Var(v=0.0902, grad=-0.0051), Var(v=-0.0725, grad=0.0000), Var(v=-0.0285, grad=0.0027), Var(v=0.0208, grad=0.0000), Var(v=0.0276, grad=0.0028), Var(v=0.1425, grad=0.0000), Var(v=0.0166, grad=-0.0012), Var(v=0.0883, grad=-0.0014), Var(v=-0.0991, grad=-0.0033), Var(v=-0.0285, grad=0.0011), Var(v=0.1673, grad=-0.0003), Var(v=-0.0318, grad=0.0000), Var(v=0.0768, grad=0.0052), Var(v=-0.0651, grad=0.0000), Var(v=-0.0281, grad=0.0000), Var(v=-0.0773, grad=0.0000), Var(v=-0.0330, grad=0.0000), Var(v=0.0652, grad=-0.0016), Var(v=0.0029, grad=0.0000), Var(v=0.0537, grad=0.0018), Var(v=-0.0143, grad=0.0000), Var(v=-0.0382, grad=0.0000), Var(v=-0.0982, grad=0.0041), Var(v=0.0669, grad=0.0000), Var(v=-0.0283, grad=0.0000), Var(v=0.0782, grad=0.0015), Var(v=0.1719, grad=0.0000), Var(v=0.0295, grad=0.0000), Var(v=0.0545, grad=0.0000), Var(v=-0.0221, grad=0.0029), Var(v=0.0467, grad=-0.0024)], [Var(v=0.0222, grad=-0.0130), Var(v=-0.1758, grad=0.0000), Var(v=-0.0254, grad=-0.0066), Var(v=-0.0974, grad=0.0047), Var(v=-0.0343, grad=0.0116), Var(v=-0.0735, grad=0.0000), Var(v=0.0289, grad=0.0000), Var(v=-0.0587, grad=0.0000), Var(v=0.0190, grad=-0.0009), Var(v=-0.0138, grad=0.0108), Var(v=-0.0203, grad=0.0000), Var(v=0.1472, grad=-0.0090), Var(v=0.0993, grad=-0.0084), Var(v=-0.0770, grad=0.0000), Var(v=-0.0524, grad=0.0038), Var(v=0.0538, grad=-0.0133), Var(v=0.1841, grad=-0.0011), Var(v=-0.0539, grad=-0.0029), Var(v=0.0328, grad=0.0108), Var(v=-0.0502, grad=-0.0201), Var(v=0.1325, grad=0.0000), Var(v=0.1197, grad=0.0106), Var(v=-0.0793, grad=0.0000), Var(v=-0.0550, grad=0.0108), Var(v=0.0173, grad=0.0000), Var(v=0.1533, grad=-0.0046), Var(v=0.0295, grad=-0.0055), Var(v=0.2320, grad=-0.0127), Var(v=0.1127, grad=0.0044), Var(v=0.0644, grad=-0.0012), Var(v=0.0868, grad=0.0000), Var(v=-0.0946, grad=0.0203), Var(v=-0.1061, grad=0.0000), Var(v=0.1799, grad=0.0000), Var(v=0.0791, grad=0.0000), Var(v=0.0791, grad=0.0000), Var(v=-0.0323, grad=-0.0063), Var(v=-0.1874, grad=0.0000), Var(v=-0.0356, grad=0.0070), Var(v=-0.0815, grad=0.0000), Var(v=-0.0313, grad=0.0000), Var(v=0.1117, grad=0.0160), Var(v=-0.1888, grad=0.0000), Var(v=-0.0576, grad=0.0000), Var(v=-0.0084, grad=0.0060), Var(v=-0.1065, grad=0.0000), Var(v=-0.0350, grad=0.0000), Var(v=-0.1798, grad=0.0000), Var(v=0.0526, grad=0.0113), Var(v=0.0844, grad=-0.0095)], [Var(v=0.0534, grad=-0.0086), Var(v=0.1119, grad=0.0000), Var(v=0.0125, grad=0.0000), Var(v=-0.0817, grad=0.0000), Var(v=0.1541, grad=0.0077), Var(v=-0.0585, grad=0.0046), Var(v=0.0246, grad=0.0000), Var(v=0.0144, grad=0.0000), Var(v=0.1237, grad=-0.0006), Var(v=-0.0295, grad=0.0000), Var(v=0.1041, grad=0.0000), Var(v=-0.0404, grad=0.0000), Var(v=-0.1314, grad=0.0000), Var(v=0.0174, grad=0.0000), Var(v=0.0576, grad=0.0000), Var(v=-0.1554, grad=0.0000), Var(v=-0.0525, grad=0.0000), Var(v=-0.1060, grad=0.0000), Var(v=-0.1782, grad=0.0000), Var(v=-0.0647, grad=0.0000), Var(v=-0.0659, grad=0.0000), Var(v=0.0577, grad=0.0070), Var(v=0.1221, grad=0.0000), Var(v=0.0348, grad=0.0071), Var(v=0.0137, grad=0.0009), Var(v=-0.1051, grad=0.0000), Var(v=-0.0604, grad=-0.0037), Var(v=0.1064, grad=0.0000), Var(v=0.0611, grad=0.0029), Var(v=0.2091, grad=0.0000), Var(v=-0.0608, grad=0.0000), Var(v=0.0458, grad=0.0000), Var(v=0.0030, grad=0.0000), Var(v=0.0265, grad=0.0047), Var(v=-0.1076, grad=0.0000), Var(v=-0.0442, grad=0.0000), Var(v=0.0168, grad=-0.0042), Var(v=-0.0447, grad=0.0000), Var(v=0.0988, grad=0.0046), Var(v=0.0851, grad=0.0000), Var(v=0.0581, grad=-0.0034), Var(v=0.0431, grad=0.0105), Var(v=-0.0475, grad=0.0000), Var(v=-0.1024, grad=0.0000), Var(v=0.1391, grad=0.0039), Var(v=-0.0533, grad=0.0000), Var(v=0.0585, grad=0.0007), Var(v=0.0335, grad=0.0038), Var(v=-0.0915, grad=0.0000), Var(v=-0.1162, grad=-0.0063)], [Var(v=0.0504, grad=-0.0910), Var(v=-0.0162, grad=0.0000), Var(v=0.0647, grad=0.0000), Var(v=-0.0006, grad=0.0000), Var(v=-0.0834, grad=0.0817), Var(v=0.0573, grad=0.0487), Var(v=0.0163, grad=0.0000), Var(v=0.0342, grad=0.0000), Var(v=0.0767, grad=-0.0066), Var(v=-0.1309, grad=0.0000), Var(v=-0.0319, grad=0.0000), Var(v=-0.1590, grad=0.0000), Var(v=-0.2321, grad=0.0000), Var(v=-0.0122, grad=0.0000), Var(v=-0.1129, grad=0.0000), Var(v=-0.2060, grad=0.0000), Var(v=0.0965, grad=0.0000), Var(v=-0.0353, grad=0.0000), Var(v=0.0981, grad=0.0000), Var(v=0.0333, grad=0.0000), Var(v=-0.0455, grad=0.0000), Var(v=-0.0978, grad=0.0743), Var(v=-0.0287, grad=0.0000), Var(v=0.0868, grad=0.0759), Var(v=0.0868, grad=0.0097), Var(v=-0.0932, grad=0.0000), Var(v=-0.0181, grad=-0.0389), Var(v=-0.0159, grad=0.0000), Var(v=-0.0732, grad=0.0311), Var(v=-0.1344, grad=0.0000), Var(v=-0.0801, grad=0.0000), Var(v=0.0694, grad=0.0000), Var(v=-0.0479, grad=0.0000), Var(v=0.1764, grad=0.0501), Var(v=-0.1024, grad=0.0000), Var(v=0.0247, grad=0.0000), Var(v=-0.0110, grad=-0.0444), Var(v=-0.0935, grad=0.0000), Var(v=0.0048, grad=0.0489), Var(v=0.0246, grad=0.0000), Var(v=0.1025, grad=-0.0358), Var(v=0.0246, grad=0.1121), Var(v=-0.1824, grad=0.0000), Var(v=-0.0597, grad=0.0000), Var(v=0.0928, grad=0.0419), Var(v=-0.0687, grad=0.0000), Var(v=0.0703, grad=0.0078), Var(v=0.1729, grad=0.0401), Var(v=-0.0422, grad=0.0000), Var(v=-0.0734, grad=-0.0668)], [Var(v=0.0924, grad=-0.0529), Var(v=0.0944, grad=0.0000), Var(v=0.0552, grad=0.0000), Var(v=-0.1638, grad=0.0000), Var(v=0.0409, grad=0.0475), Var(v=0.1382, grad=0.0283), Var(v=-0.0799, grad=0.0000), Var(v=0.1809, grad=0.0000), Var(v=0.1100, grad=-0.0038), Var(v=-0.2074, grad=0.0000), Var(v=-0.0256, grad=0.0000), Var(v=-0.1084, grad=0.0000), Var(v=-0.1326, grad=0.0000), Var(v=0.0086, grad=0.0000), Var(v=-0.1030, grad=0.0000), Var(v=-0.0190, grad=0.0000), Var(v=-0.1649, grad=0.0000), Var(v=-0.1333, grad=0.0000), Var(v=-0.2109, grad=0.0000), Var(v=-0.0207, grad=0.0000), Var(v=-0.0207, grad=0.0000), Var(v=0.1120, grad=0.0432), Var(v=-0.1211, grad=0.0000), Var(v=-0.0748, grad=0.0442), Var(v=0.1549, grad=0.0056), Var(v=0.1574, grad=0.0000), Var(v=-0.0476, grad=-0.0226), Var(v=0.0620, grad=0.0000), Var(v=-0.0804, grad=0.0181), Var(v=-0.1124, grad=0.0000), Var(v=-0.2155, grad=0.0000), Var(v=-0.0508, grad=0.0000), Var(v=-0.1013, grad=0.0000), Var(v=-0.0182, grad=0.0292), Var(v=-0.0908, grad=0.0000), Var(v=-0.1499, grad=0.0000), Var(v=0.0217, grad=-0.0258), Var(v=0.0715, grad=0.0000), Var(v=0.1722, grad=0.0284), Var(v=-0.1886, grad=0.0000), Var(v=0.1857, grad=-0.0208), Var(v=0.0185, grad=0.0652), Var(v=-0.1613, grad=0.0000), Var(v=-0.0269, grad=0.0000), Var(v=-0.0844, grad=0.0244), Var(v=0.0779, grad=0.0000), Var(v=-0.0670, grad=0.0046), Var(v=0.0873, grad=0.0233), Var(v=-0.1313, grad=0.0000), Var(v=0.1619, grad=-0.0389)], [Var(v=-0.0538, grad=-0.0437), Var(v=-0.0130, grad=0.0000), Var(v=-0.0259, grad=0.0000), Var(v=-0.0026, grad=0.0000), Var(v=-0.0470, grad=0.0392), Var(v=-0.0003, grad=0.0234), Var(v=0.0017, grad=0.0000), Var(v=-0.0028, grad=0.0000), Var(v=-0.0095, grad=-0.0032), Var(v=-0.0874, grad=0.0000), Var(v=0.0820, grad=0.0000), Var(v=-0.0610, grad=0.0000), Var(v=0.0360, grad=0.0000), Var(v=0.1547, grad=0.0000), Var(v=0.0930, grad=0.0000), Var(v=-0.0717, grad=0.0000), Var(v=0.0925, grad=0.0000), Var(v=-0.1056, grad=0.0000), Var(v=-0.0304, grad=0.0000), Var(v=0.1349, grad=0.0000), Var(v=0.0250, grad=0.0000), Var(v=-0.0555, grad=0.0357), Var(v=-0.0325, grad=0.0000), Var(v=-0.0199, grad=0.0364), Var(v=-0.0540, grad=0.0046), Var(v=0.0882, grad=0.0000), Var(v=0.0805, grad=-0.0186), Var(v=0.1218, grad=0.0000), Var(v=0.1836, grad=0.0149), Var(v=0.0125, grad=0.0000), Var(v=-0.1331, grad=0.0000), Var(v=-0.0576, grad=0.0000), Var(v=0.0708, grad=0.0000), Var(v=0.1099, grad=0.0241), Var(v=0.0272, grad=0.0000), Var(v=-0.0810, grad=0.0000), Var(v=-0.0297, grad=-0.0213), Var(v=0.1124, grad=0.0000), Var(v=-0.0045, grad=0.0235), Var(v=-0.0093, grad=0.0000), Var(v=0.0828, grad=-0.0172), Var(v=-0.0236, grad=0.0538), Var(v=-0.0165, grad=0.0000), Var(v=0.0507, grad=0.0000), Var(v=-0.0318, grad=0.0201), Var(v=-0.1506, grad=0.0000), Var(v=-0.1421, grad=0.0038), Var(v=0.1269, grad=0.0192), Var(v=-0.0581, grad=0.0000), Var(v=0.0563, grad=-0.0321)], [Var(v=-0.1045, grad=-0.0157), Var(v=-0.0605, grad=0.0000), Var(v=0.0829, grad=0.0000), Var(v=-0.0129, grad=0.0000), Var(v=0.1589, grad=0.0141), Var(v=0.1913, grad=0.0084), Var(v=0.0215, grad=0.0000), Var(v=-0.0071, grad=0.0000), Var(v=0.2287, grad=-0.0011), Var(v=0.2296, grad=0.0000), Var(v=-0.2686, grad=0.0000), Var(v=-0.0492, grad=0.0000), Var(v=-0.0834, grad=0.0000), Var(v=0.0661, grad=0.0000), Var(v=0.0954, grad=0.0000), Var(v=0.1081, grad=0.0000), Var(v=0.0940, grad=0.0000), Var(v=-0.0155, grad=0.0000), Var(v=-0.0909, grad=0.0000), Var(v=0.0667, grad=0.0000), Var(v=0.0047, grad=0.0000), Var(v=-0.0113, grad=0.0128), Var(v=0.1206, grad=0.0000), Var(v=0.0909, grad=0.0131), Var(v=-0.0179, grad=0.0017), Var(v=-0.0402, grad=0.0000), Var(v=0.1176, grad=-0.0067), Var(v=0.1310, grad=0.0000), Var(v=-0.0164, grad=0.0054), Var(v=0.1179, grad=0.0000), Var(v=0.0194, grad=0.0000), Var(v=0.0441, grad=0.0000), Var(v=0.0528, grad=0.0000), Var(v=-0.1139, grad=0.0086), Var(v=0.0120, grad=0.0000), Var(v=-0.0513, grad=0.0000), Var(v=0.0281, grad=-0.0076), Var(v=-0.0088, grad=0.0000), Var(v=-0.0420, grad=0.0084), Var(v=-0.0092, grad=0.0000), Var(v=0.0089, grad=-0.0062), Var(v=-0.0076, grad=0.0193), Var(v=-0.0113, grad=0.0000), Var(v=-0.0798, grad=0.0000), Var(v=0.0865, grad=0.0072), Var(v=-0.0101, grad=0.0000), Var(v=0.1223, grad=0.0014), Var(v=-0.0307, grad=0.0069), Var(v=-0.0023, grad=0.0000), Var(v=-0.0199, grad=-0.0115)], [Var(v=-0.1354, grad=-0.0060), Var(v=-0.0506, grad=0.0000), Var(v=0.1004, grad=-0.0030), Var(v=0.1829, grad=0.0022), Var(v=-0.0047, grad=0.0054), Var(v=-0.0314, grad=0.0000), Var(v=-0.1469, grad=0.0000), Var(v=0.0031, grad=0.0000), Var(v=0.0377, grad=-0.0004), Var(v=-0.0330, grad=0.0050), Var(v=-0.0156, grad=0.0000), Var(v=-0.0754, grad=-0.0042), Var(v=0.2263, grad=-0.0039), Var(v=-0.0255, grad=0.0000), Var(v=0.1777, grad=0.0018), Var(v=0.0986, grad=-0.0061), Var(v=0.0319, grad=-0.0005), Var(v=-0.0630, grad=-0.0013), Var(v=0.0848, grad=0.0050), Var(v=0.1308, grad=-0.0093), Var(v=-0.0755, grad=0.0000), Var(v=0.1630, grad=0.0049), Var(v=-0.0455, grad=0.0000), Var(v=-0.0031, grad=0.0050), Var(v=-0.1489, grad=0.0000), Var(v=0.0361, grad=-0.0021), Var(v=-0.0355, grad=-0.0026), Var(v=0.0297, grad=-0.0059), Var(v=-0.0768, grad=0.0020), Var(v=-0.0662, grad=-0.0006), Var(v=0.1962, grad=0.0000), Var(v=-0.0937, grad=0.0094), Var(v=-0.0479, grad=0.0000), Var(v=0.0569, grad=0.0000), Var(v=0.0279, grad=0.0000), Var(v=-0.1024, grad=0.0000), Var(v=0.0185, grad=-0.0029), Var(v=-0.1293, grad=0.0000), Var(v=0.0607, grad=0.0032), Var(v=-0.2246, grad=0.0000), Var(v=0.0280, grad=0.0000), Var(v=-0.0367, grad=0.0074), Var(v=-0.0763, grad=0.0000), Var(v=-0.1594, grad=0.0000), Var(v=0.0029, grad=0.0028), Var(v=-0.0426, grad=0.0000), Var(v=0.1250, grad=0.0000), Var(v=0.0611, grad=0.0000), Var(v=0.0527, grad=0.0052), Var(v=0.0362, grad=-0.0044)], [Var(v=-0.1368, grad=-0.0110), Var(v=0.0973, grad=0.0000), Var(v=0.1102, grad=0.0000), Var(v=-0.1009, grad=0.0000), Var(v=0.1750, grad=0.0099), Var(v=0.0738, grad=0.0059), Var(v=0.0418, grad=0.0000), Var(v=-0.0274, grad=0.0000), Var(v=0.0214, grad=-0.0008), Var(v=-0.0002, grad=0.0000), Var(v=-0.0119, grad=0.0000), Var(v=0.0013, grad=0.0000), Var(v=0.0407, grad=0.0000), Var(v=-0.1685, grad=0.0000), Var(v=0.1192, grad=0.0000), Var(v=-0.0883, grad=0.0000), Var(v=-0.1168, grad=0.0000), Var(v=-0.0326, grad=0.0000), Var(v=0.1465, grad=0.0000), Var(v=-0.0182, grad=0.0000), Var(v=-0.0796, grad=0.0000), Var(v=-0.1031, grad=0.0090), Var(v=-0.0717, grad=0.0000), Var(v=-0.0593, grad=0.0092), Var(v=0.0858, grad=0.0012), Var(v=0.0366, grad=0.0000), Var(v=0.1299, grad=-0.0047), Var(v=0.0155, grad=0.0000), Var(v=0.0414, grad=0.0038), Var(v=0.0682, grad=0.0000), Var(v=0.0199, grad=0.0000), Var(v=0.0562, grad=0.0000), Var(v=-0.0565, grad=0.0000), Var(v=0.0131, grad=0.0061), Var(v=-0.1551, grad=0.0000), Var(v=0.0921, grad=0.0000), Var(v=0.0091, grad=-0.0054), Var(v=0.0414, grad=0.0000), Var(v=-0.0742, grad=0.0059), Var(v=-0.0802, grad=0.0000), Var(v=-0.1744, grad=-0.0043), Var(v=0.0591, grad=0.0136), Var(v=-0.0352, grad=0.0000), Var(v=0.0954, grad=0.0000), Var(v=0.1639, grad=0.0051), Var(v=-0.0105, grad=0.0000), Var(v=-0.1017, grad=0.0009), Var(v=0.0789, grad=0.0049), Var(v=0.1114, grad=0.0000), Var(v=0.1905, grad=-0.0081)], [Var(v=0.0487, grad=-0.0038), Var(v=-0.1031, grad=0.0000), Var(v=0.1339, grad=-0.0019), Var(v=-0.0647, grad=0.0014), Var(v=0.0730, grad=0.0035), Var(v=-0.1305, grad=0.0000), Var(v=0.2051, grad=0.0000), Var(v=-0.1125, grad=0.0000), Var(v=-0.0931, grad=-0.0003), Var(v=0.0047, grad=0.0032), Var(v=0.0867, grad=0.0000), Var(v=-0.0116, grad=-0.0027), Var(v=-0.0055, grad=-0.0025), Var(v=-0.0008, grad=0.0000), Var(v=0.0776, grad=0.0011), Var(v=0.0097, grad=-0.0039), Var(v=-0.0105, grad=-0.0003), Var(v=0.0533, grad=-0.0009), Var(v=0.0109, grad=0.0032), Var(v=-0.0143, grad=-0.0060), Var(v=-0.0368, grad=0.0000), Var(v=0.0024, grad=0.0031), Var(v=-0.0308, grad=0.0000), Var(v=0.0879, grad=0.0032), Var(v=-0.0642, grad=0.0000), Var(v=0.1090, grad=-0.0014), Var(v=0.1930, grad=-0.0016), Var(v=-0.0900, grad=-0.0038), Var(v=-0.0176, grad=0.0013), Var(v=-0.0280, grad=-0.0004), Var(v=-0.0253, grad=0.0000), Var(v=0.1229, grad=0.0060), Var(v=-0.0961, grad=0.0000), Var(v=-0.0896, grad=0.0000), Var(v=0.0458, grad=0.0000), Var(v=0.0183, grad=0.0000), Var(v=0.0189, grad=-0.0019), Var(v=0.2632, grad=0.0000), Var(v=0.0750, grad=0.0021), Var(v=-0.1868, grad=0.0000), Var(v=-0.0361, grad=0.0000), Var(v=0.0097, grad=0.0047), Var(v=-0.1202, grad=0.0000), Var(v=-0.0251, grad=0.0000), Var(v=0.0156, grad=0.0018), Var(v=0.0451, grad=0.0000), Var(v=-0.1094, grad=0.0000), Var(v=-0.0140, grad=0.0000), Var(v=0.2078, grad=0.0034), Var(v=0.0565, grad=-0.0028)], [Var(v=0.0391, grad=-0.0174), Var(v=-0.0470, grad=0.0000), Var(v=0.0387, grad=0.0000), Var(v=-0.0389, grad=0.0000), Var(v=0.1781, grad=0.0156), Var(v=-0.1113, grad=0.0093), Var(v=-0.0589, grad=0.0000), Var(v=-0.1651, grad=0.0000), Var(v=-0.1210, grad=-0.0013), Var(v=-0.0678, grad=0.0000), Var(v=0.0733, grad=0.0000), Var(v=-0.0497, grad=0.0000), Var(v=-0.0178, grad=0.0000), Var(v=0.0076, grad=0.0000), Var(v=0.0879, grad=0.0000), Var(v=0.0842, grad=0.0000), Var(v=-0.0182, grad=0.0000), Var(v=-0.1638, grad=0.0000), Var(v=-0.0602, grad=0.0000), Var(v=-0.0484, grad=0.0000), Var(v=0.0222, grad=0.0000), Var(v=0.0005, grad=0.0142), Var(v=-0.1231, grad=0.0000), Var(v=-0.0614, grad=0.0145), Var(v=0.1061, grad=0.0018), Var(v=-0.1161, grad=0.0000), Var(v=-0.1444, grad=-0.0074), Var(v=-0.1282, grad=0.0000), Var(v=0.2428, grad=0.0059), Var(v=0.0331, grad=0.0000), Var(v=-0.0010, grad=0.0000), Var(v=-0.1125, grad=0.0000), Var(v=0.0316, grad=0.0000), Var(v=-0.2659, grad=0.0096), Var(v=0.0411, grad=0.0000), Var(v=0.0159, grad=0.0000), Var(v=-0.0545, grad=-0.0085), Var(v=0.1176, grad=0.0000), Var(v=-0.1213, grad=0.0093), Var(v=-0.0285, grad=0.0000), Var(v=0.0368, grad=-0.0068), Var(v=0.0452, grad=0.0214), Var(v=0.0631, grad=0.0000), Var(v=0.0756, grad=0.0000), Var(v=0.0585, grad=0.0080), Var(v=-0.0118, grad=0.0000), Var(v=-0.0220, grad=0.0015), Var(v=0.1312, grad=0.0077), Var(v=0.0864, grad=0.0000), Var(v=0.0955, grad=-0.0128)], [Var(v=-0.0054, grad=-0.0768), Var(v=0.0036, grad=0.0000), Var(v=-0.1129, grad=0.0000), Var(v=-0.0197, grad=0.0000), Var(v=0.0864, grad=0.0689), Var(v=-0.0440, grad=0.0411), Var(v=0.0168, grad=0.0000), Var(v=-0.0583, grad=0.0000), Var(v=-0.1459, grad=-0.0056), Var(v=0.2068, grad=0.0000), Var(v=-0.1460, grad=0.0000), Var(v=0.1260, grad=0.0000), Var(v=-0.0763, grad=0.0000), Var(v=0.0543, grad=0.0000), Var(v=-0.0567, grad=0.0000), Var(v=0.1741, grad=0.0000), Var(v=-0.0999, grad=0.0000), Var(v=-0.2590, grad=0.0000), Var(v=-0.0421, grad=0.0000), Var(v=-0.1045, grad=0.0000), Var(v=-0.0551, grad=0.0000), Var(v=-0.0083, grad=0.0627), Var(v=-0.1943, grad=0.0000), Var(v=0.1873, grad=0.0641), Var(v=-0.0810, grad=0.0082), Var(v=-0.1754, grad=0.0000), Var(v=0.1334, grad=-0.0328), Var(v=-0.1382, grad=0.0000), Var(v=0.0993, grad=0.0262), Var(v=0.0095, grad=0.0000), Var(v=0.1418, grad=0.0000), Var(v=-0.0335, grad=0.0000), Var(v=-0.0129, grad=0.0000), Var(v=0.0480, grad=0.0423), Var(v=0.1324, grad=0.0000), Var(v=-0.0982, grad=0.0000), Var(v=0.0532, grad=-0.0374), Var(v=-0.1025, grad=0.0000), Var(v=0.0975, grad=0.0413), Var(v=-0.1172, grad=0.0000), Var(v=0.1545, grad=-0.0302), Var(v=-0.0602, grad=0.0946), Var(v=-0.0396, grad=0.0000), Var(v=0.0115, grad=0.0000), Var(v=0.2413, grad=0.0353), Var(v=0.2962, grad=0.0000), Var(v=0.0506, grad=0.0066), Var(v=0.1435, grad=0.0338), Var(v=-0.0442, grad=0.0000), Var(v=-0.0506, grad=-0.0564)], [Var(v=-0.0711, grad=-0.0535), Var(v=-0.0912, grad=0.0000), Var(v=-0.1024, grad=0.0000), Var(v=-0.1842, grad=0.0000), Var(v=0.1258, grad=0.0480), Var(v=-0.0419, grad=0.0286), Var(v=-0.1622, grad=0.0000), Var(v=-0.2270, grad=0.0000), Var(v=-0.0031, grad=-0.0039), Var(v=-0.1097, grad=0.0000), Var(v=-0.1705, grad=0.0000), Var(v=0.0901, grad=0.0000), Var(v=-0.0759, grad=0.0000), Var(v=-0.2541, grad=0.0000), Var(v=0.0046, grad=0.0000), Var(v=-0.0890, grad=0.0000), Var(v=-0.0891, grad=0.0000), Var(v=-0.0862, grad=0.0000), Var(v=0.1509, grad=0.0000), Var(v=-0.1341, grad=0.0000), Var(v=0.0394, grad=0.0000), Var(v=0.1314, grad=0.0437), Var(v=0.1819, grad=0.0000), Var(v=0.1071, grad=0.0446), Var(v=0.1127, grad=0.0057), Var(v=0.0746, grad=0.0000), Var(v=-0.0063, grad=-0.0228), Var(v=-0.0172, grad=0.0000), Var(v=-0.0031, grad=0.0183), Var(v=-0.1436, grad=0.0000), Var(v=-0.0659, grad=0.0000), Var(v=-0.0386, grad=0.0000), Var(v=0.0534, grad=0.0000), Var(v=0.1637, grad=0.0295), Var(v=-0.1390, grad=0.0000), Var(v=0.1374, grad=0.0000), Var(v=0.1115, grad=-0.0261), Var(v=0.0868, grad=0.0000), Var(v=0.1537, grad=0.0287), Var(v=-0.0200, grad=0.0000), Var(v=0.0745, grad=-0.0210), Var(v=0.1445, grad=0.0659), Var(v=-0.1114, grad=0.0000), Var(v=0.0638, grad=0.0000), Var(v=0.2137, grad=0.0246), Var(v=-0.2749, grad=0.0000), Var(v=0.1258, grad=0.0046), Var(v=0.0376, grad=0.0236), Var(v=-0.1980, grad=0.0000), Var(v=0.1318, grad=-0.0393)]] Biases: [Var(v=0.0040, grad=-0.3969), Var(v=0.0000, grad=0.0000), Var(v=0.0005, grad=-0.0520), Var(v=-0.0004, grad=0.0375), Var(v=-0.0036, grad=0.3564), Var(v=-0.0016, grad=0.1575), Var(v=0.0000, grad=0.0000), Var(v=0.0000, grad=0.0000), Var(v=0.0003, grad=-0.0287), Var(v=-0.0009, grad=0.0858), Var(v=0.0000, grad=0.0000), Var(v=0.0007, grad=-0.0716), Var(v=0.0007, grad=-0.0666), Var(v=0.0000, grad=0.0000), Var(v=-0.0003, grad=0.0302), Var(v=0.0011, grad=-0.1051), Var(v=0.0001, grad=-0.0091), Var(v=0.0002, grad=-0.0227), Var(v=-0.0009, grad=0.0859), Var(v=0.0016, grad=-0.1594), Var(v=0.0000, grad=0.0000), Var(v=-0.0032, grad=0.3243), Var(v=0.0000, grad=0.0000), Var(v=-0.0033, grad=0.3313), Var(v=-0.0003, grad=0.0313), Var(v=0.0004, grad=-0.0364), Var(v=0.0017, grad=-0.1695), Var(v=0.0010, grad=-0.1010), Var(v=-0.0014, grad=0.1355), Var(v=0.0001, grad=-0.0094), Var(v=0.0000, grad=0.0000), Var(v=-0.0016, grad=0.1611), Var(v=0.0000, grad=0.0000), Var(v=-0.0016, grad=0.1621), Var(v=0.0000, grad=0.0000), Var(v=0.0000, grad=0.0000), Var(v=0.0019, grad=-0.1935), Var(v=0.0000, grad=0.0000), Var(v=-0.0021, grad=0.2133), Var(v=0.0000, grad=0.0000), Var(v=0.0012, grad=-0.1157), Var(v=-0.0049, grad=0.4891), Var(v=0.0000, grad=0.0000), Var(v=0.0000, grad=0.0000), Var(v=-0.0018, grad=0.1827), Var(v=0.0000, grad=0.0000), Var(v=-0.0003, grad=0.0253), Var(v=-0.0013, grad=0.1296), Var(v=-0.0009, grad=0.0897), Var(v=0.0029, grad=-0.2916)]\n",
      "Layer 2 \n",
      " Weights: [[Var(v=-0.1144, grad=0.0084)], [Var(v=0.1007, grad=0.0000)], [Var(v=-0.0585, grad=0.0630)], [Var(v=0.0417, grad=0.0042)], [Var(v=0.1013, grad=0.1374)], [Var(v=0.0605, grad=0.0734)], [Var(v=0.1324, grad=0.0000)], [Var(v=-0.0371, grad=0.0000)], [Var(v=-0.0088, grad=0.0535)], [Var(v=0.0954, grad=0.0011)], [Var(v=0.1913, grad=0.0000)], [Var(v=-0.0799, grad=0.0288)], [Var(v=-0.0748, grad=0.0727)], [Var(v=-0.1334, grad=0.0000)], [Var(v=0.0334, grad=0.0202)], [Var(v=-0.1172, grad=0.0236)], [Var(v=-0.0106, grad=0.0429)], [Var(v=-0.0255, grad=0.0250)], [Var(v=0.0955, grad=0.0105)], [Var(v=-0.1776, grad=0.0270)], [Var(v=0.0111, grad=0.0000)], [Var(v=0.0933, grad=0.0095)], [Var(v=0.0219, grad=0.0000)], [Var(v=0.0931, grad=0.2365)], [Var(v=0.0107, grad=0.1417)], [Var(v=-0.0409, grad=0.0372)], [Var(v=-0.0500, grad=0.1191)], [Var(v=-0.1129, grad=0.0495)], [Var(v=0.0381, grad=0.0937)], [Var(v=-0.0106, grad=0.0078)], [Var(v=-0.0720, grad=0.0000)], [Var(v=0.1787, grad=0.0453)], [Var(v=-0.0068, grad=0.0000)], [Var(v=0.0607, grad=0.2310)], [Var(v=0.0494, grad=0.0000)], [Var(v=-0.1366, grad=0.0000)], [Var(v=-0.0567, grad=0.0943)], [Var(v=-0.0746, grad=0.0000)], [Var(v=0.0593, grad=0.2154)], [Var(v=-0.1413, grad=0.0000)], [Var(v=-0.0483, grad=0.3312)], [Var(v=0.1400, grad=0.0919)], [Var(v=0.0420, grad=0.0000)], [Var(v=-0.1021, grad=0.0000)], [Var(v=0.0493, grad=0.3326)], [Var(v=0.0667, grad=0.0000)], [Var(v=0.0091, grad=0.0716)], [Var(v=0.0467, grad=0.3671)], [Var(v=0.0997, grad=0.0038)], [Var(v=-0.0850, grad=0.0955)]] Biases: [Var(v=-0.0347, grad=3.4709)]\n",
      "\n",
      "Network after zeroing gradients:\n",
      "Layer 0 \n",
      " Weights: [[Var(v=0.0352, grad=0.0000), Var(v=0.2082, grad=0.0000), Var(v=0.0239, grad=0.0000), Var(v=0.0921, grad=0.0000), Var(v=-0.0217, grad=0.0000), Var(v=-0.2472, grad=0.0000), Var(v=-0.1443, grad=0.0000), Var(v=-0.1190, grad=0.0000), Var(v=-0.0417, grad=0.0000), Var(v=0.0426, grad=0.0000), Var(v=-0.0292, grad=0.0000), Var(v=0.0266, grad=0.0000), Var(v=-0.0472, grad=0.0000), Var(v=-0.2079, grad=0.0000), Var(v=-0.1432, grad=0.0000)]] Biases: [Var(v=0.0003, grad=0.0000), Var(v=0.0001, grad=0.0000), Var(v=0.0004, grad=0.0000), Var(v=0.0005, grad=0.0000), Var(v=-0.0013, grad=0.0000), Var(v=-0.0005, grad=0.0000), Var(v=0.0001, grad=0.0000), Var(v=0.0001, grad=0.0000), Var(v=-0.0008, grad=0.0000), Var(v=0.0002, grad=0.0000), Var(v=-0.0007, grad=0.0000), Var(v=-0.0004, grad=0.0000), Var(v=-0.0001, grad=0.0000), Var(v=-0.0010, grad=0.0000), Var(v=-0.0020, grad=0.0000)]\n",
      "Layer 1 \n",
      " Weights: [[Var(v=-0.1179, grad=0.0000), Var(v=0.0086, grad=0.0000), Var(v=-0.1571, grad=0.0000), Var(v=-0.0471, grad=0.0000), Var(v=-0.0992, grad=0.0000), Var(v=-0.2248, grad=0.0000), Var(v=-0.0762, grad=0.0000), Var(v=0.0779, grad=0.0000), Var(v=-0.0235, grad=0.0000), Var(v=0.0090, grad=0.0000), Var(v=0.0442, grad=0.0000), Var(v=0.1581, grad=0.0000), Var(v=0.1323, grad=0.0000), Var(v=-0.0886, grad=0.0000), Var(v=-0.0979, grad=0.0000), Var(v=-0.0289, grad=0.0000), Var(v=-0.0240, grad=0.0000), Var(v=-0.0274, grad=0.0000), Var(v=0.0176, grad=0.0000), Var(v=-0.1357, grad=0.0000), Var(v=-0.1591, grad=0.0000), Var(v=-0.1081, grad=0.0000), Var(v=-0.1306, grad=0.0000), Var(v=-0.0257, grad=0.0000), Var(v=0.0591, grad=0.0000), Var(v=0.1116, grad=0.0000), Var(v=0.0399, grad=0.0000), Var(v=-0.0533, grad=0.0000), Var(v=-0.1821, grad=0.0000), Var(v=0.0235, grad=0.0000), Var(v=0.0945, grad=0.0000), Var(v=0.0684, grad=0.0000), Var(v=-0.0656, grad=0.0000), Var(v=0.2085, grad=0.0000), Var(v=-0.0953, grad=0.0000), Var(v=0.0075, grad=0.0000), Var(v=-0.0398, grad=0.0000), Var(v=-0.1440, grad=0.0000), Var(v=0.0074, grad=0.0000), Var(v=-0.1757, grad=0.0000), Var(v=-0.0299, grad=0.0000), Var(v=-0.2047, grad=0.0000), Var(v=0.0134, grad=0.0000), Var(v=-0.1127, grad=0.0000), Var(v=-0.1340, grad=0.0000), Var(v=-0.1008, grad=0.0000), Var(v=-0.0982, grad=0.0000), Var(v=-0.2122, grad=0.0000), Var(v=0.0006, grad=0.0000), Var(v=0.1207, grad=0.0000)], [Var(v=0.0369, grad=0.0000), Var(v=-0.1091, grad=0.0000), Var(v=0.2353, grad=0.0000), Var(v=0.0488, grad=0.0000), Var(v=0.0554, grad=0.0000), Var(v=-0.0680, grad=0.0000), Var(v=-0.1365, grad=0.0000), Var(v=-0.1553, grad=0.0000), Var(v=0.0984, grad=0.0000), Var(v=0.0194, grad=0.0000), Var(v=0.0027, grad=0.0000), Var(v=0.0188, grad=0.0000), Var(v=0.1652, grad=0.0000), Var(v=-0.0952, grad=0.0000), Var(v=0.0526, grad=0.0000), Var(v=0.0588, grad=0.0000), Var(v=0.0858, grad=0.0000), Var(v=0.1248, grad=0.0000), Var(v=0.0111, grad=0.0000), Var(v=0.1150, grad=0.0000), Var(v=-0.0256, grad=0.0000), Var(v=-0.0409, grad=0.0000), Var(v=-0.0666, grad=0.0000), Var(v=0.1393, grad=0.0000), Var(v=-0.0524, grad=0.0000), Var(v=0.0350, grad=0.0000), Var(v=0.0956, grad=0.0000), Var(v=0.1159, grad=0.0000), Var(v=0.0405, grad=0.0000), Var(v=-0.0037, grad=0.0000), Var(v=-0.0931, grad=0.0000), Var(v=0.1996, grad=0.0000), Var(v=-0.0337, grad=0.0000), Var(v=-0.1516, grad=0.0000), Var(v=-0.0301, grad=0.0000), Var(v=-0.1184, grad=0.0000), Var(v=0.0841, grad=0.0000), Var(v=-0.0736, grad=0.0000), Var(v=0.0600, grad=0.0000), Var(v=0.0335, grad=0.0000), Var(v=-0.1991, grad=0.0000), Var(v=0.1122, grad=0.0000), Var(v=-0.0144, grad=0.0000), Var(v=-0.0303, grad=0.0000), Var(v=0.0149, grad=0.0000), Var(v=-0.1274, grad=0.0000), Var(v=0.0167, grad=0.0000), Var(v=-0.0800, grad=0.0000), Var(v=-0.0439, grad=0.0000), Var(v=-0.0388, grad=0.0000)], [Var(v=0.0377, grad=0.0000), Var(v=0.0948, grad=0.0000), Var(v=0.0788, grad=0.0000), Var(v=-0.0971, grad=0.0000), Var(v=-0.0532, grad=0.0000), Var(v=0.0478, grad=0.0000), Var(v=0.1464, grad=0.0000), Var(v=-0.0369, grad=0.0000), Var(v=-0.1710, grad=0.0000), Var(v=-0.0439, grad=0.0000), Var(v=-0.0934, grad=0.0000), Var(v=0.1673, grad=0.0000), Var(v=0.0509, grad=0.0000), Var(v=0.0678, grad=0.0000), Var(v=0.1680, grad=0.0000), Var(v=-0.0612, grad=0.0000), Var(v=-0.0110, grad=0.0000), Var(v=0.0569, grad=0.0000), Var(v=-0.0606, grad=0.0000), Var(v=0.0902, grad=0.0000), Var(v=-0.0725, grad=0.0000), Var(v=-0.0285, grad=0.0000), Var(v=0.0208, grad=0.0000), Var(v=0.0276, grad=0.0000), Var(v=0.1425, grad=0.0000), Var(v=0.0166, grad=0.0000), Var(v=0.0883, grad=0.0000), Var(v=-0.0991, grad=0.0000), Var(v=-0.0285, grad=0.0000), Var(v=0.1673, grad=0.0000), Var(v=-0.0318, grad=0.0000), Var(v=0.0768, grad=0.0000), Var(v=-0.0651, grad=0.0000), Var(v=-0.0281, grad=0.0000), Var(v=-0.0773, grad=0.0000), Var(v=-0.0330, grad=0.0000), Var(v=0.0652, grad=0.0000), Var(v=0.0029, grad=0.0000), Var(v=0.0537, grad=0.0000), Var(v=-0.0143, grad=0.0000), Var(v=-0.0382, grad=0.0000), Var(v=-0.0982, grad=0.0000), Var(v=0.0669, grad=0.0000), Var(v=-0.0283, grad=0.0000), Var(v=0.0782, grad=0.0000), Var(v=0.1719, grad=0.0000), Var(v=0.0295, grad=0.0000), Var(v=0.0545, grad=0.0000), Var(v=-0.0221, grad=0.0000), Var(v=0.0467, grad=0.0000)], [Var(v=0.0222, grad=0.0000), Var(v=-0.1758, grad=0.0000), Var(v=-0.0254, grad=0.0000), Var(v=-0.0974, grad=0.0000), Var(v=-0.0343, grad=0.0000), Var(v=-0.0735, grad=0.0000), Var(v=0.0289, grad=0.0000), Var(v=-0.0587, grad=0.0000), Var(v=0.0190, grad=0.0000), Var(v=-0.0138, grad=0.0000), Var(v=-0.0203, grad=0.0000), Var(v=0.1472, grad=0.0000), Var(v=0.0993, grad=0.0000), Var(v=-0.0770, grad=0.0000), Var(v=-0.0524, grad=0.0000), Var(v=0.0538, grad=0.0000), Var(v=0.1841, grad=0.0000), Var(v=-0.0539, grad=0.0000), Var(v=0.0328, grad=0.0000), Var(v=-0.0502, grad=0.0000), Var(v=0.1325, grad=0.0000), Var(v=0.1197, grad=0.0000), Var(v=-0.0793, grad=0.0000), Var(v=-0.0550, grad=0.0000), Var(v=0.0173, grad=0.0000), Var(v=0.1533, grad=0.0000), Var(v=0.0295, grad=0.0000), Var(v=0.2320, grad=0.0000), Var(v=0.1127, grad=0.0000), Var(v=0.0644, grad=0.0000), Var(v=0.0868, grad=0.0000), Var(v=-0.0946, grad=0.0000), Var(v=-0.1061, grad=0.0000), Var(v=0.1799, grad=0.0000), Var(v=0.0791, grad=0.0000), Var(v=0.0791, grad=0.0000), Var(v=-0.0323, grad=0.0000), Var(v=-0.1874, grad=0.0000), Var(v=-0.0356, grad=0.0000), Var(v=-0.0815, grad=0.0000), Var(v=-0.0313, grad=0.0000), Var(v=0.1117, grad=0.0000), Var(v=-0.1888, grad=0.0000), Var(v=-0.0576, grad=0.0000), Var(v=-0.0084, grad=0.0000), Var(v=-0.1065, grad=0.0000), Var(v=-0.0350, grad=0.0000), Var(v=-0.1798, grad=0.0000), Var(v=0.0526, grad=0.0000), Var(v=0.0844, grad=0.0000)], [Var(v=0.0534, grad=0.0000), Var(v=0.1119, grad=0.0000), Var(v=0.0125, grad=0.0000), Var(v=-0.0817, grad=0.0000), Var(v=0.1541, grad=0.0000), Var(v=-0.0585, grad=0.0000), Var(v=0.0246, grad=0.0000), Var(v=0.0144, grad=0.0000), Var(v=0.1237, grad=0.0000), Var(v=-0.0295, grad=0.0000), Var(v=0.1041, grad=0.0000), Var(v=-0.0404, grad=0.0000), Var(v=-0.1314, grad=0.0000), Var(v=0.0174, grad=0.0000), Var(v=0.0576, grad=0.0000), Var(v=-0.1554, grad=0.0000), Var(v=-0.0525, grad=0.0000), Var(v=-0.1060, grad=0.0000), Var(v=-0.1782, grad=0.0000), Var(v=-0.0647, grad=0.0000), Var(v=-0.0659, grad=0.0000), Var(v=0.0577, grad=0.0000), Var(v=0.1221, grad=0.0000), Var(v=0.0348, grad=0.0000), Var(v=0.0137, grad=0.0000), Var(v=-0.1051, grad=0.0000), Var(v=-0.0604, grad=0.0000), Var(v=0.1064, grad=0.0000), Var(v=0.0611, grad=0.0000), Var(v=0.2091, grad=0.0000), Var(v=-0.0608, grad=0.0000), Var(v=0.0458, grad=0.0000), Var(v=0.0030, grad=0.0000), Var(v=0.0265, grad=0.0000), Var(v=-0.1076, grad=0.0000), Var(v=-0.0442, grad=0.0000), Var(v=0.0168, grad=0.0000), Var(v=-0.0447, grad=0.0000), Var(v=0.0988, grad=0.0000), Var(v=0.0851, grad=0.0000), Var(v=0.0581, grad=0.0000), Var(v=0.0431, grad=0.0000), Var(v=-0.0475, grad=0.0000), Var(v=-0.1024, grad=0.0000), Var(v=0.1391, grad=0.0000), Var(v=-0.0533, grad=0.0000), Var(v=0.0585, grad=0.0000), Var(v=0.0335, grad=0.0000), Var(v=-0.0915, grad=0.0000), Var(v=-0.1162, grad=0.0000)], [Var(v=0.0504, grad=0.0000), Var(v=-0.0162, grad=0.0000), Var(v=0.0647, grad=0.0000), Var(v=-0.0006, grad=0.0000), Var(v=-0.0834, grad=0.0000), Var(v=0.0573, grad=0.0000), Var(v=0.0163, grad=0.0000), Var(v=0.0342, grad=0.0000), Var(v=0.0767, grad=0.0000), Var(v=-0.1309, grad=0.0000), Var(v=-0.0319, grad=0.0000), Var(v=-0.1590, grad=0.0000), Var(v=-0.2321, grad=0.0000), Var(v=-0.0122, grad=0.0000), Var(v=-0.1129, grad=0.0000), Var(v=-0.2060, grad=0.0000), Var(v=0.0965, grad=0.0000), Var(v=-0.0353, grad=0.0000), Var(v=0.0981, grad=0.0000), Var(v=0.0333, grad=0.0000), Var(v=-0.0455, grad=0.0000), Var(v=-0.0978, grad=0.0000), Var(v=-0.0287, grad=0.0000), Var(v=0.0868, grad=0.0000), Var(v=0.0868, grad=0.0000), Var(v=-0.0932, grad=0.0000), Var(v=-0.0181, grad=0.0000), Var(v=-0.0159, grad=0.0000), Var(v=-0.0732, grad=0.0000), Var(v=-0.1344, grad=0.0000), Var(v=-0.0801, grad=0.0000), Var(v=0.0694, grad=0.0000), Var(v=-0.0479, grad=0.0000), Var(v=0.1764, grad=0.0000), Var(v=-0.1024, grad=0.0000), Var(v=0.0247, grad=0.0000), Var(v=-0.0110, grad=0.0000), Var(v=-0.0935, grad=0.0000), Var(v=0.0048, grad=0.0000), Var(v=0.0246, grad=0.0000), Var(v=0.1025, grad=0.0000), Var(v=0.0246, grad=0.0000), Var(v=-0.1824, grad=0.0000), Var(v=-0.0597, grad=0.0000), Var(v=0.0928, grad=0.0000), Var(v=-0.0687, grad=0.0000), Var(v=0.0703, grad=0.0000), Var(v=0.1729, grad=0.0000), Var(v=-0.0422, grad=0.0000), Var(v=-0.0734, grad=0.0000)], [Var(v=0.0924, grad=0.0000), Var(v=0.0944, grad=0.0000), Var(v=0.0552, grad=0.0000), Var(v=-0.1638, grad=0.0000), Var(v=0.0409, grad=0.0000), Var(v=0.1382, grad=0.0000), Var(v=-0.0799, grad=0.0000), Var(v=0.1809, grad=0.0000), Var(v=0.1100, grad=0.0000), Var(v=-0.2074, grad=0.0000), Var(v=-0.0256, grad=0.0000), Var(v=-0.1084, grad=0.0000), Var(v=-0.1326, grad=0.0000), Var(v=0.0086, grad=0.0000), Var(v=-0.1030, grad=0.0000), Var(v=-0.0190, grad=0.0000), Var(v=-0.1649, grad=0.0000), Var(v=-0.1333, grad=0.0000), Var(v=-0.2109, grad=0.0000), Var(v=-0.0207, grad=0.0000), Var(v=-0.0207, grad=0.0000), Var(v=0.1120, grad=0.0000), Var(v=-0.1211, grad=0.0000), Var(v=-0.0748, grad=0.0000), Var(v=0.1549, grad=0.0000), Var(v=0.1574, grad=0.0000), Var(v=-0.0476, grad=0.0000), Var(v=0.0620, grad=0.0000), Var(v=-0.0804, grad=0.0000), Var(v=-0.1124, grad=0.0000), Var(v=-0.2155, grad=0.0000), Var(v=-0.0508, grad=0.0000), Var(v=-0.1013, grad=0.0000), Var(v=-0.0182, grad=0.0000), Var(v=-0.0908, grad=0.0000), Var(v=-0.1499, grad=0.0000), Var(v=0.0217, grad=0.0000), Var(v=0.0715, grad=0.0000), Var(v=0.1722, grad=0.0000), Var(v=-0.1886, grad=0.0000), Var(v=0.1857, grad=0.0000), Var(v=0.0185, grad=0.0000), Var(v=-0.1613, grad=0.0000), Var(v=-0.0269, grad=0.0000), Var(v=-0.0844, grad=0.0000), Var(v=0.0779, grad=0.0000), Var(v=-0.0670, grad=0.0000), Var(v=0.0873, grad=0.0000), Var(v=-0.1313, grad=0.0000), Var(v=0.1619, grad=0.0000)], [Var(v=-0.0538, grad=0.0000), Var(v=-0.0130, grad=0.0000), Var(v=-0.0259, grad=0.0000), Var(v=-0.0026, grad=0.0000), Var(v=-0.0470, grad=0.0000), Var(v=-0.0003, grad=0.0000), Var(v=0.0017, grad=0.0000), Var(v=-0.0028, grad=0.0000), Var(v=-0.0095, grad=0.0000), Var(v=-0.0874, grad=0.0000), Var(v=0.0820, grad=0.0000), Var(v=-0.0610, grad=0.0000), Var(v=0.0360, grad=0.0000), Var(v=0.1547, grad=0.0000), Var(v=0.0930, grad=0.0000), Var(v=-0.0717, grad=0.0000), Var(v=0.0925, grad=0.0000), Var(v=-0.1056, grad=0.0000), Var(v=-0.0304, grad=0.0000), Var(v=0.1349, grad=0.0000), Var(v=0.0250, grad=0.0000), Var(v=-0.0555, grad=0.0000), Var(v=-0.0325, grad=0.0000), Var(v=-0.0199, grad=0.0000), Var(v=-0.0540, grad=0.0000), Var(v=0.0882, grad=0.0000), Var(v=0.0805, grad=0.0000), Var(v=0.1218, grad=0.0000), Var(v=0.1836, grad=0.0000), Var(v=0.0125, grad=0.0000), Var(v=-0.1331, grad=0.0000), Var(v=-0.0576, grad=0.0000), Var(v=0.0708, grad=0.0000), Var(v=0.1099, grad=0.0000), Var(v=0.0272, grad=0.0000), Var(v=-0.0810, grad=0.0000), Var(v=-0.0297, grad=0.0000), Var(v=0.1124, grad=0.0000), Var(v=-0.0045, grad=0.0000), Var(v=-0.0093, grad=0.0000), Var(v=0.0828, grad=0.0000), Var(v=-0.0236, grad=0.0000), Var(v=-0.0165, grad=0.0000), Var(v=0.0507, grad=0.0000), Var(v=-0.0318, grad=0.0000), Var(v=-0.1506, grad=0.0000), Var(v=-0.1421, grad=0.0000), Var(v=0.1269, grad=0.0000), Var(v=-0.0581, grad=0.0000), Var(v=0.0563, grad=0.0000)], [Var(v=-0.1045, grad=0.0000), Var(v=-0.0605, grad=0.0000), Var(v=0.0829, grad=0.0000), Var(v=-0.0129, grad=0.0000), Var(v=0.1589, grad=0.0000), Var(v=0.1913, grad=0.0000), Var(v=0.0215, grad=0.0000), Var(v=-0.0071, grad=0.0000), Var(v=0.2287, grad=0.0000), Var(v=0.2296, grad=0.0000), Var(v=-0.2686, grad=0.0000), Var(v=-0.0492, grad=0.0000), Var(v=-0.0834, grad=0.0000), Var(v=0.0661, grad=0.0000), Var(v=0.0954, grad=0.0000), Var(v=0.1081, grad=0.0000), Var(v=0.0940, grad=0.0000), Var(v=-0.0155, grad=0.0000), Var(v=-0.0909, grad=0.0000), Var(v=0.0667, grad=0.0000), Var(v=0.0047, grad=0.0000), Var(v=-0.0113, grad=0.0000), Var(v=0.1206, grad=0.0000), Var(v=0.0909, grad=0.0000), Var(v=-0.0179, grad=0.0000), Var(v=-0.0402, grad=0.0000), Var(v=0.1176, grad=0.0000), Var(v=0.1310, grad=0.0000), Var(v=-0.0164, grad=0.0000), Var(v=0.1179, grad=0.0000), Var(v=0.0194, grad=0.0000), Var(v=0.0441, grad=0.0000), Var(v=0.0528, grad=0.0000), Var(v=-0.1139, grad=0.0000), Var(v=0.0120, grad=0.0000), Var(v=-0.0513, grad=0.0000), Var(v=0.0281, grad=0.0000), Var(v=-0.0088, grad=0.0000), Var(v=-0.0420, grad=0.0000), Var(v=-0.0092, grad=0.0000), Var(v=0.0089, grad=0.0000), Var(v=-0.0076, grad=0.0000), Var(v=-0.0113, grad=0.0000), Var(v=-0.0798, grad=0.0000), Var(v=0.0865, grad=0.0000), Var(v=-0.0101, grad=0.0000), Var(v=0.1223, grad=0.0000), Var(v=-0.0307, grad=0.0000), Var(v=-0.0023, grad=0.0000), Var(v=-0.0199, grad=0.0000)], [Var(v=-0.1354, grad=0.0000), Var(v=-0.0506, grad=0.0000), Var(v=0.1004, grad=0.0000), Var(v=0.1829, grad=0.0000), Var(v=-0.0047, grad=0.0000), Var(v=-0.0314, grad=0.0000), Var(v=-0.1469, grad=0.0000), Var(v=0.0031, grad=0.0000), Var(v=0.0377, grad=0.0000), Var(v=-0.0330, grad=0.0000), Var(v=-0.0156, grad=0.0000), Var(v=-0.0754, grad=0.0000), Var(v=0.2263, grad=0.0000), Var(v=-0.0255, grad=0.0000), Var(v=0.1777, grad=0.0000), Var(v=0.0986, grad=0.0000), Var(v=0.0319, grad=0.0000), Var(v=-0.0630, grad=0.0000), Var(v=0.0848, grad=0.0000), Var(v=0.1308, grad=0.0000), Var(v=-0.0755, grad=0.0000), Var(v=0.1630, grad=0.0000), Var(v=-0.0455, grad=0.0000), Var(v=-0.0031, grad=0.0000), Var(v=-0.1489, grad=0.0000), Var(v=0.0361, grad=0.0000), Var(v=-0.0355, grad=0.0000), Var(v=0.0297, grad=0.0000), Var(v=-0.0768, grad=0.0000), Var(v=-0.0662, grad=0.0000), Var(v=0.1962, grad=0.0000), Var(v=-0.0937, grad=0.0000), Var(v=-0.0479, grad=0.0000), Var(v=0.0569, grad=0.0000), Var(v=0.0279, grad=0.0000), Var(v=-0.1024, grad=0.0000), Var(v=0.0185, grad=0.0000), Var(v=-0.1293, grad=0.0000), Var(v=0.0607, grad=0.0000), Var(v=-0.2246, grad=0.0000), Var(v=0.0280, grad=0.0000), Var(v=-0.0367, grad=0.0000), Var(v=-0.0763, grad=0.0000), Var(v=-0.1594, grad=0.0000), Var(v=0.0029, grad=0.0000), Var(v=-0.0426, grad=0.0000), Var(v=0.1250, grad=0.0000), Var(v=0.0611, grad=0.0000), Var(v=0.0527, grad=0.0000), Var(v=0.0362, grad=0.0000)], [Var(v=-0.1368, grad=0.0000), Var(v=0.0973, grad=0.0000), Var(v=0.1102, grad=0.0000), Var(v=-0.1009, grad=0.0000), Var(v=0.1750, grad=0.0000), Var(v=0.0738, grad=0.0000), Var(v=0.0418, grad=0.0000), Var(v=-0.0274, grad=0.0000), Var(v=0.0214, grad=0.0000), Var(v=-0.0002, grad=0.0000), Var(v=-0.0119, grad=0.0000), Var(v=0.0013, grad=0.0000), Var(v=0.0407, grad=0.0000), Var(v=-0.1685, grad=0.0000), Var(v=0.1192, grad=0.0000), Var(v=-0.0883, grad=0.0000), Var(v=-0.1168, grad=0.0000), Var(v=-0.0326, grad=0.0000), Var(v=0.1465, grad=0.0000), Var(v=-0.0182, grad=0.0000), Var(v=-0.0796, grad=0.0000), Var(v=-0.1031, grad=0.0000), Var(v=-0.0717, grad=0.0000), Var(v=-0.0593, grad=0.0000), Var(v=0.0858, grad=0.0000), Var(v=0.0366, grad=0.0000), Var(v=0.1299, grad=0.0000), Var(v=0.0155, grad=0.0000), Var(v=0.0414, grad=0.0000), Var(v=0.0682, grad=0.0000), Var(v=0.0199, grad=0.0000), Var(v=0.0562, grad=0.0000), Var(v=-0.0565, grad=0.0000), Var(v=0.0131, grad=0.0000), Var(v=-0.1551, grad=0.0000), Var(v=0.0921, grad=0.0000), Var(v=0.0091, grad=0.0000), Var(v=0.0414, grad=0.0000), Var(v=-0.0742, grad=0.0000), Var(v=-0.0802, grad=0.0000), Var(v=-0.1744, grad=0.0000), Var(v=0.0591, grad=0.0000), Var(v=-0.0352, grad=0.0000), Var(v=0.0954, grad=0.0000), Var(v=0.1639, grad=0.0000), Var(v=-0.0105, grad=0.0000), Var(v=-0.1017, grad=0.0000), Var(v=0.0789, grad=0.0000), Var(v=0.1114, grad=0.0000), Var(v=0.1905, grad=0.0000)], [Var(v=0.0487, grad=0.0000), Var(v=-0.1031, grad=0.0000), Var(v=0.1339, grad=0.0000), Var(v=-0.0647, grad=0.0000), Var(v=0.0730, grad=0.0000), Var(v=-0.1305, grad=0.0000), Var(v=0.2051, grad=0.0000), Var(v=-0.1125, grad=0.0000), Var(v=-0.0931, grad=0.0000), Var(v=0.0047, grad=0.0000), Var(v=0.0867, grad=0.0000), Var(v=-0.0116, grad=0.0000), Var(v=-0.0055, grad=0.0000), Var(v=-0.0008, grad=0.0000), Var(v=0.0776, grad=0.0000), Var(v=0.0097, grad=0.0000), Var(v=-0.0105, grad=0.0000), Var(v=0.0533, grad=0.0000), Var(v=0.0109, grad=0.0000), Var(v=-0.0143, grad=0.0000), Var(v=-0.0368, grad=0.0000), Var(v=0.0024, grad=0.0000), Var(v=-0.0308, grad=0.0000), Var(v=0.0879, grad=0.0000), Var(v=-0.0642, grad=0.0000), Var(v=0.1090, grad=0.0000), Var(v=0.1930, grad=0.0000), Var(v=-0.0900, grad=0.0000), Var(v=-0.0176, grad=0.0000), Var(v=-0.0280, grad=0.0000), Var(v=-0.0253, grad=0.0000), Var(v=0.1229, grad=0.0000), Var(v=-0.0961, grad=0.0000), Var(v=-0.0896, grad=0.0000), Var(v=0.0458, grad=0.0000), Var(v=0.0183, grad=0.0000), Var(v=0.0189, grad=0.0000), Var(v=0.2632, grad=0.0000), Var(v=0.0750, grad=0.0000), Var(v=-0.1868, grad=0.0000), Var(v=-0.0361, grad=0.0000), Var(v=0.0097, grad=0.0000), Var(v=-0.1202, grad=0.0000), Var(v=-0.0251, grad=0.0000), Var(v=0.0156, grad=0.0000), Var(v=0.0451, grad=0.0000), Var(v=-0.1094, grad=0.0000), Var(v=-0.0140, grad=0.0000), Var(v=0.2078, grad=0.0000), Var(v=0.0565, grad=0.0000)], [Var(v=0.0391, grad=0.0000), Var(v=-0.0470, grad=0.0000), Var(v=0.0387, grad=0.0000), Var(v=-0.0389, grad=0.0000), Var(v=0.1781, grad=0.0000), Var(v=-0.1113, grad=0.0000), Var(v=-0.0589, grad=0.0000), Var(v=-0.1651, grad=0.0000), Var(v=-0.1210, grad=0.0000), Var(v=-0.0678, grad=0.0000), Var(v=0.0733, grad=0.0000), Var(v=-0.0497, grad=0.0000), Var(v=-0.0178, grad=0.0000), Var(v=0.0076, grad=0.0000), Var(v=0.0879, grad=0.0000), Var(v=0.0842, grad=0.0000), Var(v=-0.0182, grad=0.0000), Var(v=-0.1638, grad=0.0000), Var(v=-0.0602, grad=0.0000), Var(v=-0.0484, grad=0.0000), Var(v=0.0222, grad=0.0000), Var(v=0.0005, grad=0.0000), Var(v=-0.1231, grad=0.0000), Var(v=-0.0614, grad=0.0000), Var(v=0.1061, grad=0.0000), Var(v=-0.1161, grad=0.0000), Var(v=-0.1444, grad=0.0000), Var(v=-0.1282, grad=0.0000), Var(v=0.2428, grad=0.0000), Var(v=0.0331, grad=0.0000), Var(v=-0.0010, grad=0.0000), Var(v=-0.1125, grad=0.0000), Var(v=0.0316, grad=0.0000), Var(v=-0.2659, grad=0.0000), Var(v=0.0411, grad=0.0000), Var(v=0.0159, grad=0.0000), Var(v=-0.0545, grad=0.0000), Var(v=0.1176, grad=0.0000), Var(v=-0.1213, grad=0.0000), Var(v=-0.0285, grad=0.0000), Var(v=0.0368, grad=0.0000), Var(v=0.0452, grad=0.0000), Var(v=0.0631, grad=0.0000), Var(v=0.0756, grad=0.0000), Var(v=0.0585, grad=0.0000), Var(v=-0.0118, grad=0.0000), Var(v=-0.0220, grad=0.0000), Var(v=0.1312, grad=0.0000), Var(v=0.0864, grad=0.0000), Var(v=0.0955, grad=0.0000)], [Var(v=-0.0054, grad=0.0000), Var(v=0.0036, grad=0.0000), Var(v=-0.1129, grad=0.0000), Var(v=-0.0197, grad=0.0000), Var(v=0.0864, grad=0.0000), Var(v=-0.0440, grad=0.0000), Var(v=0.0168, grad=0.0000), Var(v=-0.0583, grad=0.0000), Var(v=-0.1459, grad=0.0000), Var(v=0.2068, grad=0.0000), Var(v=-0.1460, grad=0.0000), Var(v=0.1260, grad=0.0000), Var(v=-0.0763, grad=0.0000), Var(v=0.0543, grad=0.0000), Var(v=-0.0567, grad=0.0000), Var(v=0.1741, grad=0.0000), Var(v=-0.0999, grad=0.0000), Var(v=-0.2590, grad=0.0000), Var(v=-0.0421, grad=0.0000), Var(v=-0.1045, grad=0.0000), Var(v=-0.0551, grad=0.0000), Var(v=-0.0083, grad=0.0000), Var(v=-0.1943, grad=0.0000), Var(v=0.1873, grad=0.0000), Var(v=-0.0810, grad=0.0000), Var(v=-0.1754, grad=0.0000), Var(v=0.1334, grad=0.0000), Var(v=-0.1382, grad=0.0000), Var(v=0.0993, grad=0.0000), Var(v=0.0095, grad=0.0000), Var(v=0.1418, grad=0.0000), Var(v=-0.0335, grad=0.0000), Var(v=-0.0129, grad=0.0000), Var(v=0.0480, grad=0.0000), Var(v=0.1324, grad=0.0000), Var(v=-0.0982, grad=0.0000), Var(v=0.0532, grad=0.0000), Var(v=-0.1025, grad=0.0000), Var(v=0.0975, grad=0.0000), Var(v=-0.1172, grad=0.0000), Var(v=0.1545, grad=0.0000), Var(v=-0.0602, grad=0.0000), Var(v=-0.0396, grad=0.0000), Var(v=0.0115, grad=0.0000), Var(v=0.2413, grad=0.0000), Var(v=0.2962, grad=0.0000), Var(v=0.0506, grad=0.0000), Var(v=0.1435, grad=0.0000), Var(v=-0.0442, grad=0.0000), Var(v=-0.0506, grad=0.0000)], [Var(v=-0.0711, grad=0.0000), Var(v=-0.0912, grad=0.0000), Var(v=-0.1024, grad=0.0000), Var(v=-0.1842, grad=0.0000), Var(v=0.1258, grad=0.0000), Var(v=-0.0419, grad=0.0000), Var(v=-0.1622, grad=0.0000), Var(v=-0.2270, grad=0.0000), Var(v=-0.0031, grad=0.0000), Var(v=-0.1097, grad=0.0000), Var(v=-0.1705, grad=0.0000), Var(v=0.0901, grad=0.0000), Var(v=-0.0759, grad=0.0000), Var(v=-0.2541, grad=0.0000), Var(v=0.0046, grad=0.0000), Var(v=-0.0890, grad=0.0000), Var(v=-0.0891, grad=0.0000), Var(v=-0.0862, grad=0.0000), Var(v=0.1509, grad=0.0000), Var(v=-0.1341, grad=0.0000), Var(v=0.0394, grad=0.0000), Var(v=0.1314, grad=0.0000), Var(v=0.1819, grad=0.0000), Var(v=0.1071, grad=0.0000), Var(v=0.1127, grad=0.0000), Var(v=0.0746, grad=0.0000), Var(v=-0.0063, grad=0.0000), Var(v=-0.0172, grad=0.0000), Var(v=-0.0031, grad=0.0000), Var(v=-0.1436, grad=0.0000), Var(v=-0.0659, grad=0.0000), Var(v=-0.0386, grad=0.0000), Var(v=0.0534, grad=0.0000), Var(v=0.1637, grad=0.0000), Var(v=-0.1390, grad=0.0000), Var(v=0.1374, grad=0.0000), Var(v=0.1115, grad=0.0000), Var(v=0.0868, grad=0.0000), Var(v=0.1537, grad=0.0000), Var(v=-0.0200, grad=0.0000), Var(v=0.0745, grad=0.0000), Var(v=0.1445, grad=0.0000), Var(v=-0.1114, grad=0.0000), Var(v=0.0638, grad=0.0000), Var(v=0.2137, grad=0.0000), Var(v=-0.2749, grad=0.0000), Var(v=0.1258, grad=0.0000), Var(v=0.0376, grad=0.0000), Var(v=-0.1980, grad=0.0000), Var(v=0.1318, grad=0.0000)]] Biases: [Var(v=0.0040, grad=0.0000), Var(v=0.0000, grad=0.0000), Var(v=0.0005, grad=0.0000), Var(v=-0.0004, grad=0.0000), Var(v=-0.0036, grad=0.0000), Var(v=-0.0016, grad=0.0000), Var(v=0.0000, grad=0.0000), Var(v=0.0000, grad=0.0000), Var(v=0.0003, grad=0.0000), Var(v=-0.0009, grad=0.0000), Var(v=0.0000, grad=0.0000), Var(v=0.0007, grad=0.0000), Var(v=0.0007, grad=0.0000), Var(v=0.0000, grad=0.0000), Var(v=-0.0003, grad=0.0000), Var(v=0.0011, grad=0.0000), Var(v=0.0001, grad=0.0000), Var(v=0.0002, grad=0.0000), Var(v=-0.0009, grad=0.0000), Var(v=0.0016, grad=0.0000), Var(v=0.0000, grad=0.0000), Var(v=-0.0032, grad=0.0000), Var(v=0.0000, grad=0.0000), Var(v=-0.0033, grad=0.0000), Var(v=-0.0003, grad=0.0000), Var(v=0.0004, grad=0.0000), Var(v=0.0017, grad=0.0000), Var(v=0.0010, grad=0.0000), Var(v=-0.0014, grad=0.0000), Var(v=0.0001, grad=0.0000), Var(v=0.0000, grad=0.0000), Var(v=-0.0016, grad=0.0000), Var(v=0.0000, grad=0.0000), Var(v=-0.0016, grad=0.0000), Var(v=0.0000, grad=0.0000), Var(v=0.0000, grad=0.0000), Var(v=0.0019, grad=0.0000), Var(v=0.0000, grad=0.0000), Var(v=-0.0021, grad=0.0000), Var(v=0.0000, grad=0.0000), Var(v=0.0012, grad=0.0000), Var(v=-0.0049, grad=0.0000), Var(v=0.0000, grad=0.0000), Var(v=0.0000, grad=0.0000), Var(v=-0.0018, grad=0.0000), Var(v=0.0000, grad=0.0000), Var(v=-0.0003, grad=0.0000), Var(v=-0.0013, grad=0.0000), Var(v=-0.0009, grad=0.0000), Var(v=0.0029, grad=0.0000)]\n",
      "Layer 2 \n",
      " Weights: [[Var(v=-0.1144, grad=0.0000)], [Var(v=0.1007, grad=0.0000)], [Var(v=-0.0585, grad=0.0000)], [Var(v=0.0417, grad=0.0000)], [Var(v=0.1013, grad=0.0000)], [Var(v=0.0605, grad=0.0000)], [Var(v=0.1324, grad=0.0000)], [Var(v=-0.0371, grad=0.0000)], [Var(v=-0.0088, grad=0.0000)], [Var(v=0.0954, grad=0.0000)], [Var(v=0.1913, grad=0.0000)], [Var(v=-0.0799, grad=0.0000)], [Var(v=-0.0748, grad=0.0000)], [Var(v=-0.1334, grad=0.0000)], [Var(v=0.0334, grad=0.0000)], [Var(v=-0.1172, grad=0.0000)], [Var(v=-0.0106, grad=0.0000)], [Var(v=-0.0255, grad=0.0000)], [Var(v=0.0955, grad=0.0000)], [Var(v=-0.1776, grad=0.0000)], [Var(v=0.0111, grad=0.0000)], [Var(v=0.0933, grad=0.0000)], [Var(v=0.0219, grad=0.0000)], [Var(v=0.0931, grad=0.0000)], [Var(v=0.0107, grad=0.0000)], [Var(v=-0.0409, grad=0.0000)], [Var(v=-0.0500, grad=0.0000)], [Var(v=-0.1129, grad=0.0000)], [Var(v=0.0381, grad=0.0000)], [Var(v=-0.0106, grad=0.0000)], [Var(v=-0.0720, grad=0.0000)], [Var(v=0.1787, grad=0.0000)], [Var(v=-0.0068, grad=0.0000)], [Var(v=0.0607, grad=0.0000)], [Var(v=0.0494, grad=0.0000)], [Var(v=-0.1366, grad=0.0000)], [Var(v=-0.0567, grad=0.0000)], [Var(v=-0.0746, grad=0.0000)], [Var(v=0.0593, grad=0.0000)], [Var(v=-0.1413, grad=0.0000)], [Var(v=-0.0483, grad=0.0000)], [Var(v=0.1400, grad=0.0000)], [Var(v=0.0420, grad=0.0000)], [Var(v=-0.1021, grad=0.0000)], [Var(v=0.0493, grad=0.0000)], [Var(v=0.0667, grad=0.0000)], [Var(v=0.0091, grad=0.0000)], [Var(v=0.0467, grad=0.0000)], [Var(v=0.0997, grad=0.0000)], [Var(v=-0.0850, grad=0.0000)]] Biases: [Var(v=-0.0347, grad=0.0000)]\n"
     ]
    },
    {
     "output_type": "execute_result",
     "data": {
      "text/plain": [
       "[None, None, None]"
      ]
     },
     "metadata": {},
     "execution_count": 45
    }
   ],
   "source": [
    "print('Network before update:')\n",
    "[print('Layer', i, '\\n', NN[i]) for i in range(len(NN))]\n",
    "\n",
    "def parameters(network):\n",
    "  params = []\n",
    "  for layer in range(len(network)):\n",
    "    params += network[layer].parameters()\n",
    "  return params\n",
    "\n",
    "def update_parameters(params, learning_rate=0.01):\n",
    "  for p in params:\n",
    "    p.v -= learning_rate*p.grad\n",
    "\n",
    "def zero_gradients(params):\n",
    "  for p in params:\n",
    "    p.grad = 0.0\n",
    "\n",
    "update_parameters(parameters(NN))\n",
    "\n",
    "print('\\nNetwork after update:')\n",
    "[print('Layer', i, '\\n', NN[i]) for i in range(len(NN))]\n",
    "\n",
    "zero_gradients(parameters(NN))\n",
    "\n",
    "print('\\nNetwork after zeroing gradients:')\n",
    "[print('Layer', i, '\\n', NN[i]) for i in range(len(NN))]"
   ]
  },
  {
   "cell_type": "code",
   "execution_count": 46,
   "metadata": {
    "id": "woWYpdw6FtIO"
   },
   "outputs": [],
   "source": [
    "# Initialize an arbitrary neural network\n",
    "NN = [\n",
    "    DenseLayer(1, 8, lambda x: x.relu()),\n",
    "    DenseLayer(8, 1, lambda x: x.identity())\n",
    "]\n",
    "\n",
    "# Recommended hyper-parameters for 3-D:\n",
    "#NN = [\n",
    "#    DenseLayer(3, 16, lambda x: x.relu()),\n",
    "#    DenseLayer(16, 1, lambda x: x.identity())\n",
    "#]\n",
    "\n",
    "\n",
    "### Notice that, when we switch from tanh to relu activation, we decrease the learning rate. This is due the stability of the gradients\n",
    "## of the activation functions."
   ]
  },
  {
   "cell_type": "code",
   "execution_count": 47,
   "metadata": {
    "id": "mdqaqYBVFtIR"
   },
   "outputs": [],
   "source": [
    "# Initialize training hyperparameters\n",
    "EPOCHS = 200\n",
    "LEARN_R = 2e-3"
   ]
  },
  {
   "cell_type": "code",
   "execution_count": 48,
   "metadata": {
    "id": "5kfg76GMFtIW",
    "scrolled": true,
    "colab": {
     "base_uri": "https://localhost:8080/"
    },
    "outputId": "be5f0961-6f34-4af6-cddb-74df08f134ac"
   },
   "outputs": [
    {
     "output_type": "stream",
     "name": "stdout",
     "text": [
      "   0 ( 0.00%) Train loss: 102.596 \t Validation loss: 104.803\n",
      "  10 ( 5.00%) Train loss: 100.873 \t Validation loss: 100.208\n",
      "  20 (10.00%) Train loss: 96.461 \t Validation loss: 91.010\n",
      "  30 (15.00%) Train loss: 81.995 \t Validation loss: 69.053\n",
      "  40 (20.00%) Train loss: 61.469 \t Validation loss: 50.687\n",
      "  50 (25.00%) Train loss: 56.422 \t Validation loss: 46.689\n",
      "  60 (30.00%) Train loss: 55.811 \t Validation loss: 45.904\n",
      "  70 (35.00%) Train loss: 55.834 \t Validation loss: 45.672\n",
      "  80 (40.00%) Train loss: 55.980 \t Validation loss: 45.598\n",
      "  90 (45.00%) Train loss: 56.157 \t Validation loss: 45.644\n",
      " 100 (50.00%) Train loss: 56.351 \t Validation loss: 45.817\n",
      " 110 (55.00%) Train loss: 56.550 \t Validation loss: 46.047\n",
      " 120 (60.00%) Train loss: 56.747 \t Validation loss: 46.261\n",
      " 130 (65.00%) Train loss: 56.941 \t Validation loss: 46.469\n",
      " 140 (70.00%) Train loss: 57.124 \t Validation loss: 46.682\n",
      " 150 (75.00%) Train loss: 57.302 \t Validation loss: 46.887\n",
      " 160 (80.00%) Train loss: 57.461 \t Validation loss: 47.103\n",
      " 170 (85.00%) Train loss: 57.625 \t Validation loss: 47.315\n",
      " 180 (90.00%) Train loss: 57.786 \t Validation loss: 47.523\n",
      " 190 (95.00%) Train loss: 57.945 \t Validation loss: 47.719\n"
     ]
    }
   ],
   "source": [
    "train_loss = []\n",
    "val_loss = []\n",
    "\n",
    "for e in range(EPOCHS):\n",
    "\n",
    "    # Forward pass and loss computation\n",
    "    Loss = squared_loss(y_train, forward(x_train, NN))\n",
    "\n",
    "    # Backward pass\n",
    "    Loss.backward()\n",
    "\n",
    "    # gradient descent update\n",
    "    update_parameters(parameters(NN), LEARN_R)\n",
    "    zero_gradients(parameters(NN))\n",
    "\n",
    "    # Training loss\n",
    "    train_loss.append(Loss.v)\n",
    "\n",
    "    # Validation\n",
    "    Loss_validation = squared_loss(y_validation, forward(x_validation, NN))\n",
    "    val_loss.append(Loss_validation.v)\n",
    "\n",
    "    if e%10==0:\n",
    "        print(\"{:4d}\".format(e),\n",
    "              \"({:5.2f}%)\".format(e/EPOCHS*100),\n",
    "              \"Train loss: {:4.3f} \\t Validation loss: {:4.3f}\".format(train_loss[-1], val_loss[-1]))\n",
    "\n"
   ]
  },
  {
   "cell_type": "code",
   "execution_count": 49,
   "metadata": {
    "id": "VetyRWFwFtIY",
    "colab": {
     "base_uri": "https://localhost:8080/",
     "height": 447
    },
    "outputId": "6d5801b0-fd19-441a-ff79-9119ee3a5db9"
   },
   "outputs": [
    {
     "output_type": "execute_result",
     "data": {
      "text/plain": [
       "<matplotlib.legend.Legend at 0x7e4f9721f4f0>"
      ]
     },
     "metadata": {},
     "execution_count": 49
    },
    {
     "output_type": "display_data",
     "data": {
      "text/plain": [
       "<Figure size 640x480 with 1 Axes>"
      ],
      "image/png": "[encoded data removed]"
     },
     "metadata": {}
    }
   ],
   "source": [
    "plt.plot(range(len(train_loss)), train_loss, label='training loss');\n",
    "plt.plot(range(len(val_loss)), val_loss, label='validation loss');\n",
    "plt.legend()"
   ]
  },
  {
   "cell_type": "markdown",
   "metadata": {
    "id": "8OgmIrM9FtIb"
   },
   "source": [
    "# Testing\n",
    "\n",
    "We have kept the calculation of the test error separate in order to emphasize that you should not use the test set in optimization."
   ]
  },
  {
   "cell_type": "code",
   "execution_count": 50,
   "metadata": {
    "id": "HmNi7S-vFtIc"
   },
   "outputs": [],
   "source": [
    "output_test = forward(x_test, NN)"
   ]
  },
  {
   "cell_type": "code",
   "execution_count": 51,
   "metadata": {
    "id": "7mmJOTSEFtIf",
    "colab": {
     "base_uri": "https://localhost:8080/",
     "height": 504
    },
    "outputId": "86b5caf4-3d7a-41b5-edf5-dcd20b9942c8"
   },
   "outputs": [
    {
     "output_type": "stream",
     "name": "stdout",
     "text": [
      "Test loss:  47.146\n"
     ]
    },
    {
     "output_type": "display_data",
     "data": {
      "text/plain": [
       "<Figure size 640x480 with 1 Axes>"
      ],
      "image/png": "[encoded data removed]"
     },
     "metadata": {}
    }
   ],
   "source": [
    "y_test_np = Var_to_nparray(y_test)\n",
    "plt.scatter(y_test_np, Var_to_nparray(output_test));\n",
    "plt.plot([np.min(y_test_np), np.max(y_test_np)], [np.min(y_test_np), np.max(y_test_np)], color='k');\n",
    "plt.xlabel(\"y\");\n",
    "plt.ylabel(\"$\\hat{y}$\");\n",
    "plt.title(\"Model prediction vs real in the test set, the close to the line the better\")\n",
    "plt.grid(True);\n",
    "plt.axis('equal');\n",
    "plt.tight_layout();\n",
    "\n",
    "Loss_test = squared_loss(y_test, forward(x_test, NN))\n",
    "\n",
    "print(\"Test loss:  {:4.3f}\".format(Loss_test.v))"
   ]
  },
  {
   "cell_type": "code",
   "execution_count": 52,
   "metadata": {
    "id": "ODi0WlmQFtIh",
    "colab": {
     "base_uri": "https://localhost:8080/",
     "height": 449
    },
    "outputId": "a46cdc5c-e736-428e-9a8e-70cd60644c7d"
   },
   "outputs": [
    {
     "output_type": "display_data",
     "data": {
      "text/plain": [
       "<Figure size 640x480 with 1 Axes>"
      ],
      "image/png": "[encoded data removed]"
     },
     "metadata": {}
    }
   ],
   "source": [
    "x_test_np = Var_to_nparray(x_test)\n",
    "x_train_np = Var_to_nparray(x_train)\n",
    "y_train_np = Var_to_nparray(y_train)\n",
    "if D1:\n",
    "    plt.scatter(x_train_np, y_train_np, label=\"train data\");\n",
    "    plt.scatter(x_test_np, Var_to_nparray(output_test), label=\"test prediction\");\n",
    "    plt.scatter(x_test_np, y_test_np, label=\"test data\");\n",
    "    plt.legend();\n",
    "    plt.xlabel(\"x\");\n",
    "    plt.ylabel(\"y\");\n",
    "else:\n",
    "    plt.scatter(x_train_np[:,1], y_train, label=\"train data\");\n",
    "    plt.scatter(x_test_np[:,1], Var_to_nparray(output_test), label=\"test data prediction\");\n",
    "    plt.scatter(x_test_np[:,1], y_test_np, label=\"test data\");\n",
    "    plt.legend();\n",
    "    plt.xlabel(\"x\");\n",
    "    plt.ylabel(\"y\");"
   ]
  },
  {
   "cell_type": "markdown",
   "metadata": {
    "id": "zTBAmjsAFtIk"
   },
   "source": [
    "## Exercise l) Show overfitting, underfitting and just right fitting\n",
    "\n",
    "Vary the architecture and other things to show clear signs of overfitting (=training loss significantly lower than test loss) and underfitting (=not fitting enoung to training data so that test performance is also hurt).\n",
    "\n",
    "See also if you can get a good compromise which leads to a low validation loss.\n",
    "\n",
    "For this problem do you see any big difference between validation and test loss? The answer here will probably be no. Discuss cases where it is important to keep the two separate.\n",
    "\n",
    "_Insert written answer here._\n"
   ]
  },
  {
   "cell_type": "code",
   "execution_count": 53,
   "metadata": {
    "id": "tQZCn2dxFtIl"
   },
   "outputs": [],
   "source": [
    "# Insert your code for getting overfitting, underfitting and just right fitting"
   ]
  },
  {
   "cell_type": "markdown",
   "source": [
    "**Answer** \\\\\n",
    "The code for getting overfitting is seen below. Here, the validation loss is much higher than the training loss.\n",
    "\n",
    "The parameters used were:\n",
    "\n",
    "    NN = [\n",
    "        DenseLayer(1, 8, lambda x: x.relu()),\n",
    "        DenseLayer(8, 1, lambda x: x.identity())\n",
    "    ]\n",
    "\n",
    "    # Initialize training hyperparameters\n",
    "    EPOCHS = 200\n",
    "    LEARN_R = 0.0001\n"
   ],
   "metadata": {
    "id": "3We8Ilj41kup"
   }
  },
  {
   "cell_type": "markdown",
   "source": [
    "The code for getting underfitting is seen below. Here, both the training and validation loss remain relatively high (they actually get worse) meanwhile not showing significant improvement during training. This indicates that the model is too simple to capture the underlying patterns in the data, resulting in underfitting.\n",
    "\n",
    "The parameters used were the following:\n",
    "\n",
    "    NN = [\n",
    "        DenseLayer(1, 8, lambda x: x.relu()),\n",
    "        DenseLayer(8, 1, lambda x: x.identity())\n",
    "    ]\n",
    "    Loss = 0\n",
    "    # Initialize training hyperparameters\n",
    "    EPOCHS = 100\n",
    "    LEARN_R = 2e-4"
   ],
   "metadata": {
    "id": "Gubodb4x6NNH"
   }
  },
  {
   "cell_type": "markdown",
   "source": [
    "The code for achieving just right fitting is seen below. Here, both losses stabilize at relatively low values without significant overfitting (large gap between the training and validation losses) or underfitting (both losses remain high). Ideally, they may have saturated on a smaller value... I've been fiddling with the model and the activation functions (as relu usually don't give the best results) - more of this would probably be necessary to get it even more 'just right' ;).\n",
    "\n",
    "The parameters used were the following:\n",
    "\n",
    "    NN = [\n",
    "        DenseLayer(1, 8, lambda x: x.tanh()),\n",
    "        DenseLayer(8, 1, lambda x: x.identity())\n",
    "    ]\n",
    "    Loss = 0\n",
    "\n",
    "    # Initialize training hyperparameters\n",
    "    EPOCHS = 100\n",
    "    LEARN_R = 2.5e-3"
   ],
   "metadata": {
    "id": "27cZ2cTs6wDL"
   }
  },
  {
   "cell_type": "markdown",
   "metadata": {
    "id": "fYPZP-eTFtIo"
   },
   "source": [
    "# Next steps - classification\n",
    "\n",
    "It is straight forward to extend what we have done to classification.\n",
    "\n",
    "For numerical stability it is better to make softmax and cross-entropy as one function so we write the cross entropy loss as a function of the logits we talked about last week.\n",
    "\n",
    "Next week we will see how to perform classification in PyTorch."
   ]
  },
  {
   "cell_type": "markdown",
   "metadata": {
    "id": "qsVPul3QFtIo"
   },
   "source": [
    "## Exercise m) optional - Implement backpropagation for classification\n",
    "\n",
    "Should be possible with very few lines of code. :-)"
   ]
  },
  {
   "cell_type": "code",
   "execution_count": null,
   "metadata": {
    "id": "oC8QrI2tFtIp"
   },
   "outputs": [],
   "source": [
    "# Just add code."
   ]
  },
  {
   "cell_type": "markdown",
   "metadata": {
    "id": "APqhJv3tta1O"
   },
   "source": [
    "## Exercise n) optional - Introduce a NeuralNetwork class\n",
    "\n",
    "The functions we applied on the neural network (parameters, update_parameters and zero_gradients) can more naturally be included as methods in a NeuralNetwork class. Make such a class and modify the code to use it."
   ]
  },
  {
   "cell_type": "code",
   "execution_count": null,
   "metadata": {
    "id": "Dqfnor1ouMLq"
   },
   "outputs": [],
   "source": [
    "# just add some code"
   ]
  }
 ],
 "metadata": {
  "anaconda-cloud": {},
  "colab": {
   "collapsed_sections": [
    "APqhJv3tta1O"
   ],
   "provenance": []
  },
  "kernelspec": {
   "display_name": "Python 3",
   "language": "python",
   "name": "python3"
  },
  "language_info": {
   "codemirror_mode": {
    "name": "ipython",
    "version": 3
   },
   "file_extension": ".py",
   "mimetype": "text/x-python",
   "name": "python",
   "nbconvert_exporter": "python",
   "pygments_lexer": "ipython3",
   "version": "3.9.12"
  }
 },
 "nbformat": 4,
 "nbformat_minor": 0
}
